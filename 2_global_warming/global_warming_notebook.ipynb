{
 "cells": [
  {
   "cell_type": "code",
   "execution_count": 1,
   "metadata": {},
   "outputs": [],
   "source": [
    "# Import modules, warnings and OS\n",
    "\n",
    "import numpy as np\n",
    "import pandas as pd\n",
    "import matplotlib.pyplot as plt\n",
    "import plotly\n",
    "import plotly.graph_objs as go\n",
    "import plotly.tools as tls\n",
    "import seaborn as sns\n",
    "import time\n",
    "import warnings\n",
    "warnings.filterwarnings('ignore')\n",
    "\n",
    "pwd = os.getcwd()"
   ]
  },
  {
   "attachments": {},
   "cell_type": "markdown",
   "metadata": {},
   "source": [
    "### Data cleaning of climate data"
   ]
  },
  {
   "cell_type": "code",
   "execution_count": 2,
   "metadata": {},
   "outputs": [
    {
     "data": {
      "text/html": [
       "<div>\n",
       "<style scoped>\n",
       "    .dataframe tbody tr th:only-of-type {\n",
       "        vertical-align: middle;\n",
       "    }\n",
       "\n",
       "    .dataframe tbody tr th {\n",
       "        vertical-align: top;\n",
       "    }\n",
       "\n",
       "    .dataframe thead th {\n",
       "        text-align: right;\n",
       "    }\n",
       "</style>\n",
       "<table border=\"1\" class=\"dataframe\">\n",
       "  <thead>\n",
       "    <tr style=\"text-align: right;\">\n",
       "      <th></th>\n",
       "      <th>dt</th>\n",
       "      <th>AverageTemperature</th>\n",
       "      <th>AverageTemperatureUncertainty</th>\n",
       "      <th>Country</th>\n",
       "    </tr>\n",
       "  </thead>\n",
       "  <tbody>\n",
       "    <tr>\n",
       "      <th>0</th>\n",
       "      <td>1743-11-01</td>\n",
       "      <td>4.384</td>\n",
       "      <td>2.294</td>\n",
       "      <td>Åland</td>\n",
       "    </tr>\n",
       "    <tr>\n",
       "      <th>1</th>\n",
       "      <td>1743-12-01</td>\n",
       "      <td>NaN</td>\n",
       "      <td>NaN</td>\n",
       "      <td>Åland</td>\n",
       "    </tr>\n",
       "    <tr>\n",
       "      <th>2</th>\n",
       "      <td>1744-01-01</td>\n",
       "      <td>NaN</td>\n",
       "      <td>NaN</td>\n",
       "      <td>Åland</td>\n",
       "    </tr>\n",
       "    <tr>\n",
       "      <th>3</th>\n",
       "      <td>1744-02-01</td>\n",
       "      <td>NaN</td>\n",
       "      <td>NaN</td>\n",
       "      <td>Åland</td>\n",
       "    </tr>\n",
       "    <tr>\n",
       "      <th>4</th>\n",
       "      <td>1744-03-01</td>\n",
       "      <td>NaN</td>\n",
       "      <td>NaN</td>\n",
       "      <td>Åland</td>\n",
       "    </tr>\n",
       "    <tr>\n",
       "      <th>...</th>\n",
       "      <td>...</td>\n",
       "      <td>...</td>\n",
       "      <td>...</td>\n",
       "      <td>...</td>\n",
       "    </tr>\n",
       "    <tr>\n",
       "      <th>577457</th>\n",
       "      <td>2013-05-01</td>\n",
       "      <td>19.059</td>\n",
       "      <td>1.022</td>\n",
       "      <td>Zimbabwe</td>\n",
       "    </tr>\n",
       "    <tr>\n",
       "      <th>577458</th>\n",
       "      <td>2013-06-01</td>\n",
       "      <td>17.613</td>\n",
       "      <td>0.473</td>\n",
       "      <td>Zimbabwe</td>\n",
       "    </tr>\n",
       "    <tr>\n",
       "      <th>577459</th>\n",
       "      <td>2013-07-01</td>\n",
       "      <td>17.000</td>\n",
       "      <td>0.453</td>\n",
       "      <td>Zimbabwe</td>\n",
       "    </tr>\n",
       "    <tr>\n",
       "      <th>577460</th>\n",
       "      <td>2013-08-01</td>\n",
       "      <td>19.759</td>\n",
       "      <td>0.717</td>\n",
       "      <td>Zimbabwe</td>\n",
       "    </tr>\n",
       "    <tr>\n",
       "      <th>577461</th>\n",
       "      <td>2013-09-01</td>\n",
       "      <td>NaN</td>\n",
       "      <td>NaN</td>\n",
       "      <td>Zimbabwe</td>\n",
       "    </tr>\n",
       "  </tbody>\n",
       "</table>\n",
       "<p>577462 rows × 4 columns</p>\n",
       "</div>"
      ],
      "text/plain": [
       "                dt  AverageTemperature  AverageTemperatureUncertainty  \\\n",
       "0       1743-11-01               4.384                          2.294   \n",
       "1       1743-12-01                 NaN                            NaN   \n",
       "2       1744-01-01                 NaN                            NaN   \n",
       "3       1744-02-01                 NaN                            NaN   \n",
       "4       1744-03-01                 NaN                            NaN   \n",
       "...            ...                 ...                            ...   \n",
       "577457  2013-05-01              19.059                          1.022   \n",
       "577458  2013-06-01              17.613                          0.473   \n",
       "577459  2013-07-01              17.000                          0.453   \n",
       "577460  2013-08-01              19.759                          0.717   \n",
       "577461  2013-09-01                 NaN                            NaN   \n",
       "\n",
       "         Country  \n",
       "0          Åland  \n",
       "1          Åland  \n",
       "2          Åland  \n",
       "3          Åland  \n",
       "4          Åland  \n",
       "...          ...  \n",
       "577457  Zimbabwe  \n",
       "577458  Zimbabwe  \n",
       "577459  Zimbabwe  \n",
       "577460  Zimbabwe  \n",
       "577461  Zimbabwe  \n",
       "\n",
       "[577462 rows x 4 columns]"
      ]
     },
     "execution_count": 2,
     "metadata": {},
     "output_type": "execute_result"
    }
   ],
   "source": [
    "# Reading the data\n",
    "\n",
    "global_temp_country = pd.read_csv(pwd + \"\\\\GlobalLandTemperaturesByCountry.csv\")\n",
    "global_temp_country"
   ]
  },
  {
   "cell_type": "code",
   "execution_count": 3,
   "metadata": {},
   "outputs": [
    {
     "data": {
      "text/html": [
       "<div>\n",
       "<style scoped>\n",
       "    .dataframe tbody tr th:only-of-type {\n",
       "        vertical-align: middle;\n",
       "    }\n",
       "\n",
       "    .dataframe tbody tr th {\n",
       "        vertical-align: top;\n",
       "    }\n",
       "\n",
       "    .dataframe thead th {\n",
       "        text-align: right;\n",
       "    }\n",
       "</style>\n",
       "<table border=\"1\" class=\"dataframe\">\n",
       "  <thead>\n",
       "    <tr style=\"text-align: right;\">\n",
       "      <th></th>\n",
       "      <th>dt</th>\n",
       "      <th>AverageTemperature</th>\n",
       "      <th>AverageTemperatureUncertainty</th>\n",
       "      <th>Country</th>\n",
       "    </tr>\n",
       "  </thead>\n",
       "  <tbody>\n",
       "    <tr>\n",
       "      <th>125541</th>\n",
       "      <td>1743-11-01</td>\n",
       "      <td>7.225</td>\n",
       "      <td>2.300</td>\n",
       "      <td>Croatia</td>\n",
       "    </tr>\n",
       "    <tr>\n",
       "      <th>125542</th>\n",
       "      <td>1743-12-01</td>\n",
       "      <td>NaN</td>\n",
       "      <td>NaN</td>\n",
       "      <td>Croatia</td>\n",
       "    </tr>\n",
       "    <tr>\n",
       "      <th>125543</th>\n",
       "      <td>1744-01-01</td>\n",
       "      <td>NaN</td>\n",
       "      <td>NaN</td>\n",
       "      <td>Croatia</td>\n",
       "    </tr>\n",
       "    <tr>\n",
       "      <th>125544</th>\n",
       "      <td>1744-02-01</td>\n",
       "      <td>NaN</td>\n",
       "      <td>NaN</td>\n",
       "      <td>Croatia</td>\n",
       "    </tr>\n",
       "    <tr>\n",
       "      <th>125545</th>\n",
       "      <td>1744-03-01</td>\n",
       "      <td>NaN</td>\n",
       "      <td>NaN</td>\n",
       "      <td>Croatia</td>\n",
       "    </tr>\n",
       "    <tr>\n",
       "      <th>...</th>\n",
       "      <td>...</td>\n",
       "      <td>...</td>\n",
       "      <td>...</td>\n",
       "      <td>...</td>\n",
       "    </tr>\n",
       "    <tr>\n",
       "      <th>128775</th>\n",
       "      <td>2013-05-01</td>\n",
       "      <td>16.502</td>\n",
       "      <td>0.311</td>\n",
       "      <td>Croatia</td>\n",
       "    </tr>\n",
       "    <tr>\n",
       "      <th>128776</th>\n",
       "      <td>2013-06-01</td>\n",
       "      <td>20.418</td>\n",
       "      <td>0.290</td>\n",
       "      <td>Croatia</td>\n",
       "    </tr>\n",
       "    <tr>\n",
       "      <th>128777</th>\n",
       "      <td>2013-07-01</td>\n",
       "      <td>23.809</td>\n",
       "      <td>0.416</td>\n",
       "      <td>Croatia</td>\n",
       "    </tr>\n",
       "    <tr>\n",
       "      <th>128778</th>\n",
       "      <td>2013-08-01</td>\n",
       "      <td>23.560</td>\n",
       "      <td>0.426</td>\n",
       "      <td>Croatia</td>\n",
       "    </tr>\n",
       "    <tr>\n",
       "      <th>128779</th>\n",
       "      <td>2013-09-01</td>\n",
       "      <td>NaN</td>\n",
       "      <td>NaN</td>\n",
       "      <td>Croatia</td>\n",
       "    </tr>\n",
       "  </tbody>\n",
       "</table>\n",
       "<p>3239 rows × 4 columns</p>\n",
       "</div>"
      ],
      "text/plain": [
       "                dt  AverageTemperature  AverageTemperatureUncertainty  Country\n",
       "125541  1743-11-01               7.225                          2.300  Croatia\n",
       "125542  1743-12-01                 NaN                            NaN  Croatia\n",
       "125543  1744-01-01                 NaN                            NaN  Croatia\n",
       "125544  1744-02-01                 NaN                            NaN  Croatia\n",
       "125545  1744-03-01                 NaN                            NaN  Croatia\n",
       "...            ...                 ...                            ...      ...\n",
       "128775  2013-05-01              16.502                          0.311  Croatia\n",
       "128776  2013-06-01              20.418                          0.290  Croatia\n",
       "128777  2013-07-01              23.809                          0.416  Croatia\n",
       "128778  2013-08-01              23.560                          0.426  Croatia\n",
       "128779  2013-09-01                 NaN                            NaN  Croatia\n",
       "\n",
       "[3239 rows x 4 columns]"
      ]
     },
     "execution_count": 3,
     "metadata": {},
     "output_type": "execute_result"
    }
   ],
   "source": [
    "# Testing for Croatia\n",
    "\n",
    "global_temp_country.loc[global_temp_country[\"Country\"] == \"Croatia\"]"
   ]
  },
  {
   "cell_type": "code",
   "execution_count": 4,
   "metadata": {},
   "outputs": [
    {
     "data": {
      "text/plain": [
       "(577462, 4)"
      ]
     },
     "execution_count": 4,
     "metadata": {},
     "output_type": "execute_result"
    }
   ],
   "source": [
    "global_temp_country.shape"
   ]
  },
  {
   "cell_type": "code",
   "execution_count": 5,
   "metadata": {},
   "outputs": [
    {
     "data": {
      "text/plain": [
       "dt                                   0\n",
       "AverageTemperature               32651\n",
       "AverageTemperatureUncertainty    31912\n",
       "Country                              0\n",
       "dtype: int64"
      ]
     },
     "execution_count": 5,
     "metadata": {},
     "output_type": "execute_result"
    }
   ],
   "source": [
    "global_temp_country.isna().sum()"
   ]
  },
  {
   "cell_type": "code",
   "execution_count": 6,
   "metadata": {},
   "outputs": [
    {
     "data": {
      "text/plain": [
       "dt                               0\n",
       "AverageTemperature               0\n",
       "AverageTemperatureUncertainty    0\n",
       "Country                          0\n",
       "dtype: int64"
      ]
     },
     "execution_count": 6,
     "metadata": {},
     "output_type": "execute_result"
    }
   ],
   "source": [
    "# Deletint Nan Values for Average Temperature\n",
    "\n",
    "global_temp_country.dropna(axis = \"index\", how = \"any\", subset = [\"AverageTemperature\"], inplace = True)\n",
    "global_temp_country.isna().sum()"
   ]
  },
  {
   "cell_type": "code",
   "execution_count": 7,
   "metadata": {},
   "outputs": [
    {
     "data": {
      "text/plain": [
       "242"
      ]
     },
     "execution_count": 7,
     "metadata": {},
     "output_type": "execute_result"
    }
   ],
   "source": [
    "global_temp_country[\"Country\"].nunique()"
   ]
  },
  {
   "cell_type": "code",
   "execution_count": 8,
   "metadata": {},
   "outputs": [
    {
     "data": {
      "text/plain": [
       "array(['Åland', 'Afghanistan', 'Africa', 'Albania', 'Algeria',\n",
       "       'American Samoa', 'Andorra', 'Angola', 'Anguilla',\n",
       "       'Antigua And Barbuda', 'Argentina', 'Armenia', 'Aruba', 'Asia',\n",
       "       'Australia', 'Austria', 'Azerbaijan', 'Bahamas', 'Bahrain',\n",
       "       'Baker Island', 'Bangladesh', 'Barbados', 'Belarus', 'Belgium',\n",
       "       'Belize', 'Benin', 'Bhutan', 'Bolivia',\n",
       "       'Bonaire, Saint Eustatius And Saba', 'Bosnia And Herzegovina',\n",
       "       'Botswana', 'Brazil', 'British Virgin Islands', 'Bulgaria',\n",
       "       'Burkina Faso', 'Burma', 'Burundi', \"Côte D'Ivoire\", 'Cambodia',\n",
       "       'Cameroon', 'Canada', 'Cape Verde', 'Cayman Islands',\n",
       "       'Central African Republic', 'Chad', 'Chile', 'China',\n",
       "       'Christmas Island', 'Colombia', 'Comoros',\n",
       "       'Congo (Democratic Republic Of The)', 'Congo', 'Costa Rica',\n",
       "       'Croatia', 'Cuba', 'Curaçao', 'Cyprus', 'Czech Republic',\n",
       "       'Denmark (Europe)', 'Denmark', 'Djibouti', 'Dominica',\n",
       "       'Dominican Republic', 'Ecuador', 'Egypt', 'El Salvador',\n",
       "       'Equatorial Guinea', 'Eritrea', 'Estonia', 'Ethiopia', 'Europe',\n",
       "       'Falkland Islands (Islas Malvinas)', 'Faroe Islands',\n",
       "       'Federated States Of Micronesia', 'Fiji', 'Finland',\n",
       "       'France (Europe)', 'France', 'French Guiana', 'French Polynesia',\n",
       "       'French Southern And Antarctic Lands', 'Gabon', 'Gambia',\n",
       "       'Gaza Strip', 'Georgia', 'Germany', 'Ghana', 'Greece', 'Greenland',\n",
       "       'Grenada', 'Guadeloupe', 'Guam', 'Guatemala', 'Guernsey',\n",
       "       'Guinea Bissau', 'Guinea', 'Guyana', 'Haiti',\n",
       "       'Heard Island And Mcdonald Islands', 'Honduras', 'Hong Kong',\n",
       "       'Hungary', 'Iceland', 'India', 'Indonesia', 'Iran', 'Iraq',\n",
       "       'Ireland', 'Isle Of Man', 'Israel', 'Italy', 'Jamaica', 'Japan',\n",
       "       'Jersey', 'Jordan', 'Kazakhstan', 'Kenya', 'Kingman Reef',\n",
       "       'Kiribati', 'Kuwait', 'Kyrgyzstan', 'Laos', 'Latvia', 'Lebanon',\n",
       "       'Lesotho', 'Liberia', 'Libya', 'Liechtenstein', 'Lithuania',\n",
       "       'Luxembourg', 'Macau', 'Macedonia', 'Madagascar', 'Malawi',\n",
       "       'Malaysia', 'Mali', 'Malta', 'Martinique', 'Mauritania',\n",
       "       'Mauritius', 'Mayotte', 'Mexico', 'Moldova', 'Monaco', 'Mongolia',\n",
       "       'Montenegro', 'Montserrat', 'Morocco', 'Mozambique', 'Namibia',\n",
       "       'Nepal', 'Netherlands (Europe)', 'Netherlands', 'New Caledonia',\n",
       "       'New Zealand', 'Nicaragua', 'Niger', 'Nigeria', 'Niue',\n",
       "       'North America', 'North Korea', 'Northern Mariana Islands',\n",
       "       'Norway', 'Oceania', 'Oman', 'Pakistan', 'Palau', 'Palestina',\n",
       "       'Palmyra Atoll', 'Panama', 'Papua New Guinea', 'Paraguay', 'Peru',\n",
       "       'Philippines', 'Poland', 'Portugal', 'Puerto Rico', 'Qatar',\n",
       "       'Reunion', 'Romania', 'Russia', 'Rwanda', 'Saint Barthélemy',\n",
       "       'Saint Kitts And Nevis', 'Saint Lucia', 'Saint Martin',\n",
       "       'Saint Pierre And Miquelon', 'Saint Vincent And The Grenadines',\n",
       "       'Samoa', 'San Marino', 'Sao Tome And Principe', 'Saudi Arabia',\n",
       "       'Senegal', 'Serbia', 'Seychelles', 'Sierra Leone', 'Singapore',\n",
       "       'Sint Maarten', 'Slovakia', 'Slovenia', 'Solomon Islands',\n",
       "       'Somalia', 'South Africa', 'South America',\n",
       "       'South Georgia And The South Sandwich Isla', 'South Korea',\n",
       "       'Spain', 'Sri Lanka', 'Sudan', 'Suriname',\n",
       "       'Svalbard And Jan Mayen', 'Swaziland', 'Sweden', 'Switzerland',\n",
       "       'Syria', 'Taiwan', 'Tajikistan', 'Tanzania', 'Thailand',\n",
       "       'Timor Leste', 'Togo', 'Tonga', 'Trinidad And Tobago', 'Tunisia',\n",
       "       'Turkey', 'Turkmenistan', 'Turks And Caicas Islands', 'Uganda',\n",
       "       'Ukraine', 'United Arab Emirates', 'United Kingdom (Europe)',\n",
       "       'United Kingdom', 'United States', 'Uruguay', 'Uzbekistan',\n",
       "       'Venezuela', 'Vietnam', 'Virgin Islands', 'Western Sahara',\n",
       "       'Yemen', 'Zambia', 'Zimbabwe'], dtype=object)"
      ]
     },
     "execution_count": 8,
     "metadata": {},
     "output_type": "execute_result"
    }
   ],
   "source": [
    "global_temp_country[\"Country\"].unique()"
   ]
  },
  {
   "attachments": {},
   "cell_type": "markdown",
   "metadata": {},
   "source": [
    "### Changing some country names"
   ]
  },
  {
   "cell_type": "code",
   "execution_count": 9,
   "metadata": {},
   "outputs": [],
   "source": [
    "dict_replace = {\n",
    "    'Denmark (Europe)': \"Denmark\",\n",
    "    'France (Europe)': \"France\",\n",
    "    'Netherlands (Europe)': \"Netherlands\",\n",
    "    'United Kingdom (Europe)': \"United Kingdom\",\n",
    "    'Congo (Democratic Republic of The)': \"Congo\"\n",
    "}"
   ]
  },
  {
   "cell_type": "code",
   "execution_count": 10,
   "metadata": {},
   "outputs": [],
   "source": [
    "global_temp_country[\"Country\"].replace(dict_replace, inplace = True)"
   ]
  },
  {
   "attachments": {},
   "cell_type": "markdown",
   "metadata": {},
   "source": [
    "### Mean temperature of average temperatures from years 1743 - 2013 for every country"
   ]
  },
  {
   "cell_type": "code",
   "execution_count": 11,
   "metadata": {},
   "outputs": [
    {
     "data": {
      "text/html": [
       "<div>\n",
       "<style scoped>\n",
       "    .dataframe tbody tr th:only-of-type {\n",
       "        vertical-align: middle;\n",
       "    }\n",
       "\n",
       "    .dataframe tbody tr th {\n",
       "        vertical-align: top;\n",
       "    }\n",
       "\n",
       "    .dataframe thead th {\n",
       "        text-align: right;\n",
       "    }\n",
       "</style>\n",
       "<table border=\"1\" class=\"dataframe\">\n",
       "  <thead>\n",
       "    <tr style=\"text-align: right;\">\n",
       "      <th></th>\n",
       "      <th>Country</th>\n",
       "      <th>AverageTemperature</th>\n",
       "    </tr>\n",
       "  </thead>\n",
       "  <tbody>\n",
       "    <tr>\n",
       "      <th>0</th>\n",
       "      <td>Afghanistan</td>\n",
       "      <td>14.045007</td>\n",
       "    </tr>\n",
       "    <tr>\n",
       "      <th>1</th>\n",
       "      <td>Africa</td>\n",
       "      <td>24.074203</td>\n",
       "    </tr>\n",
       "    <tr>\n",
       "      <th>2</th>\n",
       "      <td>Albania</td>\n",
       "      <td>12.610646</td>\n",
       "    </tr>\n",
       "    <tr>\n",
       "      <th>3</th>\n",
       "      <td>Algeria</td>\n",
       "      <td>22.985112</td>\n",
       "    </tr>\n",
       "    <tr>\n",
       "      <th>4</th>\n",
       "      <td>American Samoa</td>\n",
       "      <td>26.611965</td>\n",
       "    </tr>\n",
       "  </tbody>\n",
       "</table>\n",
       "</div>"
      ],
      "text/plain": [
       "          Country  AverageTemperature\n",
       "0     Afghanistan           14.045007\n",
       "1          Africa           24.074203\n",
       "2         Albania           12.610646\n",
       "3         Algeria           22.985112\n",
       "4  American Samoa           26.611965"
      ]
     },
     "execution_count": 11,
     "metadata": {},
     "output_type": "execute_result"
    }
   ],
   "source": [
    "pd.set_option('display.max_rows',243)\n",
    "avg_temp = global_temp_country.groupby(['Country'])['AverageTemperature'].mean().to_frame().reset_index()\n",
    "avg_temp.head()"
   ]
  },
  {
   "cell_type": "code",
   "execution_count": 12,
   "metadata": {},
   "outputs": [
    {
     "data": {
      "text/html": [
       "        <script type=\"text/javascript\">\n",
       "        window.PlotlyConfig = {MathJaxConfig: 'local'};\n",
       "        if (window.MathJax && window.MathJax.Hub && window.MathJax.Hub.Config) {window.MathJax.Hub.Config({SVG: {font: \"STIX-Web\"}});}\n",
       "        if (typeof require !== 'undefined') {\n",
       "        require.undef(\"plotly\");\n",
       "        requirejs.config({\n",
       "            paths: {\n",
       "                'plotly': ['https://cdn.plot.ly/plotly-2.12.1.min']\n",
       "            }\n",
       "        });\n",
       "        require(['plotly'], function(Plotly) {\n",
       "            window._Plotly = Plotly;\n",
       "        });\n",
       "        }\n",
       "        </script>\n",
       "        "
      ]
     },
     "metadata": {},
     "output_type": "display_data"
    }
   ],
   "source": [
    "from plotly.offline import init_notebook_mode\n",
    "init_notebook_mode(connected = True)"
   ]
  },
  {
   "cell_type": "code",
   "execution_count": 13,
   "metadata": {},
   "outputs": [
    {
     "data": {
      "text/html": [
       "        <script type=\"text/javascript\">\n",
       "        window.PlotlyConfig = {MathJaxConfig: 'local'};\n",
       "        if (window.MathJax && window.MathJax.Hub && window.MathJax.Hub.Config) {window.MathJax.Hub.Config({SVG: {font: \"STIX-Web\"}});}\n",
       "        if (typeof require !== 'undefined') {\n",
       "        require.undef(\"plotly\");\n",
       "        requirejs.config({\n",
       "            paths: {\n",
       "                'plotly': ['https://cdn.plot.ly/plotly-2.12.1.min']\n",
       "            }\n",
       "        });\n",
       "        require(['plotly'], function(Plotly) {\n",
       "            window._Plotly = Plotly;\n",
       "        });\n",
       "        }\n",
       "        </script>\n",
       "        "
      ]
     },
     "metadata": {},
     "output_type": "display_data"
    }
   ],
   "source": [
    "import plotly.express as px\n",
    "import chart_studio.plotly as py\n",
    "import plotly.graph_objs as go\n",
    "import pandas as pd\n",
    "\n",
    "from plotly.offline import download_plotlyjs, init_notebook_mode, iplot, plot\n",
    "init_notebook_mode(connected = True)"
   ]
  },
  {
   "cell_type": "code",
   "execution_count": 14,
   "metadata": {},
   "outputs": [
    {
     "data": {
      "application/vnd.plotly.v1+json": {
       "config": {
        "plotlyServerURL": "https://plot.ly"
       },
       "data": [
        {
         "coloraxis": "coloraxis",
         "geo": "geo",
         "hovertemplate": "Country=%{location}<br>AverageTemperature=%{z}<extra></extra>",
         "locationmode": "country names",
         "locations": [
          "Afghanistan",
          "Africa",
          "Albania",
          "Algeria",
          "American Samoa",
          "Andorra",
          "Angola",
          "Anguilla",
          "Antigua And Barbuda",
          "Argentina",
          "Armenia",
          "Aruba",
          "Asia",
          "Australia",
          "Austria",
          "Azerbaijan",
          "Bahamas",
          "Bahrain",
          "Baker Island",
          "Bangladesh",
          "Barbados",
          "Belarus",
          "Belgium",
          "Belize",
          "Benin",
          "Bhutan",
          "Bolivia",
          "Bonaire, Saint Eustatius And Saba",
          "Bosnia And Herzegovina",
          "Botswana",
          "Brazil",
          "British Virgin Islands",
          "Bulgaria",
          "Burkina Faso",
          "Burma",
          "Burundi",
          "Cambodia",
          "Cameroon",
          "Canada",
          "Cape Verde",
          "Cayman Islands",
          "Central African Republic",
          "Chad",
          "Chile",
          "China",
          "Christmas Island",
          "Colombia",
          "Comoros",
          "Congo",
          "Congo (Democratic Republic Of The)",
          "Costa Rica",
          "Croatia",
          "Cuba",
          "Curaçao",
          "Cyprus",
          "Czech Republic",
          "Côte D'Ivoire",
          "Denmark",
          "Djibouti",
          "Dominica",
          "Dominican Republic",
          "Ecuador",
          "Egypt",
          "El Salvador",
          "Equatorial Guinea",
          "Eritrea",
          "Estonia",
          "Ethiopia",
          "Europe",
          "Falkland Islands (Islas Malvinas)",
          "Faroe Islands",
          "Federated States Of Micronesia",
          "Fiji",
          "Finland",
          "France",
          "French Guiana",
          "French Polynesia",
          "French Southern And Antarctic Lands",
          "Gabon",
          "Gambia",
          "Gaza Strip",
          "Georgia",
          "Germany",
          "Ghana",
          "Greece",
          "Greenland",
          "Grenada",
          "Guadeloupe",
          "Guam",
          "Guatemala",
          "Guernsey",
          "Guinea",
          "Guinea Bissau",
          "Guyana",
          "Haiti",
          "Heard Island And Mcdonald Islands",
          "Honduras",
          "Hong Kong",
          "Hungary",
          "Iceland",
          "India",
          "Indonesia",
          "Iran",
          "Iraq",
          "Ireland",
          "Isle Of Man",
          "Israel",
          "Italy",
          "Jamaica",
          "Japan",
          "Jersey",
          "Jordan",
          "Kazakhstan",
          "Kenya",
          "Kingman Reef",
          "Kiribati",
          "Kuwait",
          "Kyrgyzstan",
          "Laos",
          "Latvia",
          "Lebanon",
          "Lesotho",
          "Liberia",
          "Libya",
          "Liechtenstein",
          "Lithuania",
          "Luxembourg",
          "Macau",
          "Macedonia",
          "Madagascar",
          "Malawi",
          "Malaysia",
          "Mali",
          "Malta",
          "Martinique",
          "Mauritania",
          "Mauritius",
          "Mayotte",
          "Mexico",
          "Moldova",
          "Monaco",
          "Mongolia",
          "Montenegro",
          "Montserrat",
          "Morocco",
          "Mozambique",
          "Namibia",
          "Nepal",
          "Netherlands",
          "New Caledonia",
          "New Zealand",
          "Nicaragua",
          "Niger",
          "Nigeria",
          "Niue",
          "North America",
          "North Korea",
          "Northern Mariana Islands",
          "Norway",
          "Oceania",
          "Oman",
          "Pakistan",
          "Palau",
          "Palestina",
          "Palmyra Atoll",
          "Panama",
          "Papua New Guinea",
          "Paraguay",
          "Peru",
          "Philippines",
          "Poland",
          "Portugal",
          "Puerto Rico",
          "Qatar",
          "Reunion",
          "Romania",
          "Russia",
          "Rwanda",
          "Saint Barthélemy",
          "Saint Kitts And Nevis",
          "Saint Lucia",
          "Saint Martin",
          "Saint Pierre And Miquelon",
          "Saint Vincent And The Grenadines",
          "Samoa",
          "San Marino",
          "Sao Tome And Principe",
          "Saudi Arabia",
          "Senegal",
          "Serbia",
          "Seychelles",
          "Sierra Leone",
          "Singapore",
          "Sint Maarten",
          "Slovakia",
          "Slovenia",
          "Solomon Islands",
          "Somalia",
          "South Africa",
          "South America",
          "South Georgia And The South Sandwich Isla",
          "South Korea",
          "Spain",
          "Sri Lanka",
          "Sudan",
          "Suriname",
          "Svalbard And Jan Mayen",
          "Swaziland",
          "Sweden",
          "Switzerland",
          "Syria",
          "Taiwan",
          "Tajikistan",
          "Tanzania",
          "Thailand",
          "Timor Leste",
          "Togo",
          "Tonga",
          "Trinidad And Tobago",
          "Tunisia",
          "Turkey",
          "Turkmenistan",
          "Turks And Caicas Islands",
          "Uganda",
          "Ukraine",
          "United Arab Emirates",
          "United Kingdom",
          "United States",
          "Uruguay",
          "Uzbekistan",
          "Venezuela",
          "Vietnam",
          "Virgin Islands",
          "Western Sahara",
          "Yemen",
          "Zambia",
          "Zimbabwe",
          "Åland"
         ],
         "name": "",
         "type": "choropleth",
         "z": [
          14.045007194244604,
          24.074202745512142,
          12.610645925457991,
          22.98511176905996,
          26.611965009208106,
          11.201553063802905,
          21.824549189814817,
          26.61049185043145,
          26.437924256951103,
          14.621194210526316,
          8.551647926634768,
          27.92039022051774,
          7.3478922231614545,
          21.62469689119171,
          6.210731838281744,
          11.175936074918567,
          25.12822004008016,
          25.9308093346574,
          25.37235023279876,
          24.820242783708977,
          26.458547938638542,
          5.819288060644346,
          9.483378395451673,
          25.052099776286354,
          27.17199943181818,
          11.811878969957082,
          20.87723052631579,
          27.17329482262704,
          10.421283954516742,
          21.87929669156884,
          24.699255545286505,
          26.336523239099186,
          10.482968414403032,
          28.083506760411034,
          23.706197239536955,
          20.07099012775842,
          26.65685403576607,
          24.352585590778098,
          -5.216658945686901,
          24.185563568376068,
          26.722504150283967,
          25.280406916426514,
          27.120466282420747,
          9.383473684210525,
          6.612731031349386,
          25.784654071314527,
          24.716870967741936,
          25.70220930232558,
          24.462931988472622,
          23.77366493955095,
          25.61578443420379,
          11.342399873657612,
          25.40742638706859,
          27.353414669223397,
          18.787745686421605,
          7.62601926721415,
          25.94853606027987,
          -3.0265029336266958,
          28.8166025331725,
          26.110151486097795,
          25.547511210762334,
          21.869970347003154,
          22.620693031209917,
          24.906704545454545,
          24.921677809798272,
          26.802653110047846,
          4.819805748578648,
          23.01235675997618,
          7.830063802905875,
          6.076773492667029,
          6.619001579279849,
          26.944357771260997,
          25.038671779141108,
          1.244742261528743,
          11.594245735944408,
          25.718151106833492,
          26.10709611829945,
          4.9831111111111115,
          24.254725648414986,
          27.538551816239316,
          19.192636960985627,
          8.106881895881896,
          8.152496209728364,
          26.711013551665726,
          14.773012002526848,
          -18.58745804195804,
          26.741952061361456,
          26.32956088207095,
          26.996834337349398,
          23.111650494159928,
          10.928408717624762,
          25.452353098290597,
          26.76136664885088,
          25.930920115495667,
          26.295837740923353,
          2.5621149425287357,
          24.69554799459216,
          22.65989491362764,
          9.722423246999368,
          1.4050650663297535,
          23.873789473684212,
          25.684483767961684,
          17.607076451156207,
          21.775628879310347,
          9.419558433354391,
          9.365805432722679,
          19.62657730263158,
          12.737121920404297,
          26.096339563862927,
          11.951907335907336,
          10.928408717624762,
          19.346512587701195,
          5.202144758735441,
          24.102428231089934,
          27.13303443877551,
          26.73686534779834,
          25.098140232108317,
          3.2204981651376143,
          23.574696349065007,
          5.320545167403664,
          17.63161773078487,
          13.726681793913508,
          25.37773793103448,
          22.268253938484623,
          4.642939039797852,
          5.9079917877447885,
          9.165196462413139,
          22.418374760076777,
          10.375550852811118,
          22.74904594441293,
          21.431086144578316,
          25.80544200779727,
          28.44197657082002,
          18.494875319693094,
          26.110151486097795,
          27.62025550435228,
          23.522653983353152,
          26.340961429381736,
          20.567558041958044,
          8.9317166771952,
          9.024701831964624,
          -0.8206709844559585,
          10.214629500947568,
          26.383128475551292,
          17.627497409326423,
          23.59619475878499,
          20.484495197438637,
          14.8073906122449,
          9.308701831964624,
          22.700108194965186,
          10.371239107883817,
          25.957508780036967,
          27.458972540045767,
          26.744708309122604,
          25.094878453038675,
          2.0283738920225622,
          6.748336832061068,
          26.996834337349398,
          0.09580385344283004,
          21.452989119170983,
          26.91686266589729,
          20.615513304305757,
          27.216379332477533,
          23.125663223140496,
          27.16345599489796,
          26.291620638085742,
          24.450801898734177,
          23.237967557251906,
          19.935974230044,
          26.44047248677249,
          7.46020593809223,
          14.688179987212276,
          25.45196166746526,
          26.784996015936255,
          23.30140309155767,
          8.76090176879343,
          -5.521881912681913,
          19.244422183507552,
          26.61049185043145,
          25.85218600191755,
          26.646838446788113,
          26.61049185043145,
          4.223059955113818,
          26.78944870565676,
          26.33186249232658,
          13.83142229943146,
          25.794386167146975,
          25.546407835258666,
          27.967375,
          9.986563171193936,
          26.738423142370962,
          26.022571277159514,
          26.52310282651072,
          26.61049185043145,
          7.527216993051168,
          9.659700568540746,
          26.62503698979592,
          26.877085169743896,
          17.27098291510945,
          21.823920081967213,
          1.4010251017639077,
          11.849048745173745,
          13.61283417561592,
          26.947687001594897,
          27.09335942857143,
          26.17166313763234,
          -7.448027925531916,
          18.839807261078484,
          2.3863319646241314,
          6.992051484523057,
          17.917548596990645,
          21.937427536231883,
          4.016035217794253,
          22.34791097178683,
          25.986800979519145,
          25.96633271832718,
          26.87178275666478,
          23.236247852760737,
          26.118751198465965,
          19.97059047314578,
          11.631567300916139,
          14.781998181818182,
          26.662733508082134,
          23.03296871378911,
          7.653507264687303,
          27.693994700582934,
          8.572556696146558,
          8.60357252215955,
          17.149306774809162,
          12.278015938069217,
          25.025685522531163,
          23.688365504061156,
          26.336523239099186,
          22.319817823343847,
          26.253596725288055,
          21.282955621301774,
          21.117547246376812,
          5.291383449147189
         ]
        }
       ],
       "layout": {
        "coloraxis": {
         "colorbar": {
          "title": {
           "text": "AverageTemperature"
          }
         },
         "colorscale": [
          [
           0,
           "#0d0887"
          ],
          [
           0.1111111111111111,
           "#46039f"
          ],
          [
           0.2222222222222222,
           "#7201a8"
          ],
          [
           0.3333333333333333,
           "#9c179e"
          ],
          [
           0.4444444444444444,
           "#bd3786"
          ],
          [
           0.5555555555555556,
           "#d8576b"
          ],
          [
           0.6666666666666666,
           "#ed7953"
          ],
          [
           0.7777777777777778,
           "#fb9f3a"
          ],
          [
           0.8888888888888888,
           "#fdca26"
          ],
          [
           1,
           "#f0f921"
          ]
         ]
        },
        "geo": {
         "center": {},
         "domain": {
          "x": [
           0,
           1
          ],
          "y": [
           0,
           1
          ]
         }
        },
        "legend": {
         "tracegroupgap": 0
        },
        "margin": {
         "t": 60
        },
        "template": {
         "data": {
          "bar": [
           {
            "error_x": {
             "color": "#f2f5fa"
            },
            "error_y": {
             "color": "#f2f5fa"
            },
            "marker": {
             "line": {
              "color": "rgb(17,17,17)",
              "width": 0.5
             },
             "pattern": {
              "fillmode": "overlay",
              "size": 10,
              "solidity": 0.2
             }
            },
            "type": "bar"
           }
          ],
          "barpolar": [
           {
            "marker": {
             "line": {
              "color": "rgb(17,17,17)",
              "width": 0.5
             },
             "pattern": {
              "fillmode": "overlay",
              "size": 10,
              "solidity": 0.2
             }
            },
            "type": "barpolar"
           }
          ],
          "carpet": [
           {
            "aaxis": {
             "endlinecolor": "#A2B1C6",
             "gridcolor": "#506784",
             "linecolor": "#506784",
             "minorgridcolor": "#506784",
             "startlinecolor": "#A2B1C6"
            },
            "baxis": {
             "endlinecolor": "#A2B1C6",
             "gridcolor": "#506784",
             "linecolor": "#506784",
             "minorgridcolor": "#506784",
             "startlinecolor": "#A2B1C6"
            },
            "type": "carpet"
           }
          ],
          "choropleth": [
           {
            "colorbar": {
             "outlinewidth": 0,
             "ticks": ""
            },
            "type": "choropleth"
           }
          ],
          "contour": [
           {
            "colorbar": {
             "outlinewidth": 0,
             "ticks": ""
            },
            "colorscale": [
             [
              0,
              "#0d0887"
             ],
             [
              0.1111111111111111,
              "#46039f"
             ],
             [
              0.2222222222222222,
              "#7201a8"
             ],
             [
              0.3333333333333333,
              "#9c179e"
             ],
             [
              0.4444444444444444,
              "#bd3786"
             ],
             [
              0.5555555555555556,
              "#d8576b"
             ],
             [
              0.6666666666666666,
              "#ed7953"
             ],
             [
              0.7777777777777778,
              "#fb9f3a"
             ],
             [
              0.8888888888888888,
              "#fdca26"
             ],
             [
              1,
              "#f0f921"
             ]
            ],
            "type": "contour"
           }
          ],
          "contourcarpet": [
           {
            "colorbar": {
             "outlinewidth": 0,
             "ticks": ""
            },
            "type": "contourcarpet"
           }
          ],
          "heatmap": [
           {
            "colorbar": {
             "outlinewidth": 0,
             "ticks": ""
            },
            "colorscale": [
             [
              0,
              "#0d0887"
             ],
             [
              0.1111111111111111,
              "#46039f"
             ],
             [
              0.2222222222222222,
              "#7201a8"
             ],
             [
              0.3333333333333333,
              "#9c179e"
             ],
             [
              0.4444444444444444,
              "#bd3786"
             ],
             [
              0.5555555555555556,
              "#d8576b"
             ],
             [
              0.6666666666666666,
              "#ed7953"
             ],
             [
              0.7777777777777778,
              "#fb9f3a"
             ],
             [
              0.8888888888888888,
              "#fdca26"
             ],
             [
              1,
              "#f0f921"
             ]
            ],
            "type": "heatmap"
           }
          ],
          "heatmapgl": [
           {
            "colorbar": {
             "outlinewidth": 0,
             "ticks": ""
            },
            "colorscale": [
             [
              0,
              "#0d0887"
             ],
             [
              0.1111111111111111,
              "#46039f"
             ],
             [
              0.2222222222222222,
              "#7201a8"
             ],
             [
              0.3333333333333333,
              "#9c179e"
             ],
             [
              0.4444444444444444,
              "#bd3786"
             ],
             [
              0.5555555555555556,
              "#d8576b"
             ],
             [
              0.6666666666666666,
              "#ed7953"
             ],
             [
              0.7777777777777778,
              "#fb9f3a"
             ],
             [
              0.8888888888888888,
              "#fdca26"
             ],
             [
              1,
              "#f0f921"
             ]
            ],
            "type": "heatmapgl"
           }
          ],
          "histogram": [
           {
            "marker": {
             "pattern": {
              "fillmode": "overlay",
              "size": 10,
              "solidity": 0.2
             }
            },
            "type": "histogram"
           }
          ],
          "histogram2d": [
           {
            "colorbar": {
             "outlinewidth": 0,
             "ticks": ""
            },
            "colorscale": [
             [
              0,
              "#0d0887"
             ],
             [
              0.1111111111111111,
              "#46039f"
             ],
             [
              0.2222222222222222,
              "#7201a8"
             ],
             [
              0.3333333333333333,
              "#9c179e"
             ],
             [
              0.4444444444444444,
              "#bd3786"
             ],
             [
              0.5555555555555556,
              "#d8576b"
             ],
             [
              0.6666666666666666,
              "#ed7953"
             ],
             [
              0.7777777777777778,
              "#fb9f3a"
             ],
             [
              0.8888888888888888,
              "#fdca26"
             ],
             [
              1,
              "#f0f921"
             ]
            ],
            "type": "histogram2d"
           }
          ],
          "histogram2dcontour": [
           {
            "colorbar": {
             "outlinewidth": 0,
             "ticks": ""
            },
            "colorscale": [
             [
              0,
              "#0d0887"
             ],
             [
              0.1111111111111111,
              "#46039f"
             ],
             [
              0.2222222222222222,
              "#7201a8"
             ],
             [
              0.3333333333333333,
              "#9c179e"
             ],
             [
              0.4444444444444444,
              "#bd3786"
             ],
             [
              0.5555555555555556,
              "#d8576b"
             ],
             [
              0.6666666666666666,
              "#ed7953"
             ],
             [
              0.7777777777777778,
              "#fb9f3a"
             ],
             [
              0.8888888888888888,
              "#fdca26"
             ],
             [
              1,
              "#f0f921"
             ]
            ],
            "type": "histogram2dcontour"
           }
          ],
          "mesh3d": [
           {
            "colorbar": {
             "outlinewidth": 0,
             "ticks": ""
            },
            "type": "mesh3d"
           }
          ],
          "parcoords": [
           {
            "line": {
             "colorbar": {
              "outlinewidth": 0,
              "ticks": ""
             }
            },
            "type": "parcoords"
           }
          ],
          "pie": [
           {
            "automargin": true,
            "type": "pie"
           }
          ],
          "scatter": [
           {
            "marker": {
             "line": {
              "color": "#283442"
             }
            },
            "type": "scatter"
           }
          ],
          "scatter3d": [
           {
            "line": {
             "colorbar": {
              "outlinewidth": 0,
              "ticks": ""
             }
            },
            "marker": {
             "colorbar": {
              "outlinewidth": 0,
              "ticks": ""
             }
            },
            "type": "scatter3d"
           }
          ],
          "scattercarpet": [
           {
            "marker": {
             "colorbar": {
              "outlinewidth": 0,
              "ticks": ""
             }
            },
            "type": "scattercarpet"
           }
          ],
          "scattergeo": [
           {
            "marker": {
             "colorbar": {
              "outlinewidth": 0,
              "ticks": ""
             }
            },
            "type": "scattergeo"
           }
          ],
          "scattergl": [
           {
            "marker": {
             "line": {
              "color": "#283442"
             }
            },
            "type": "scattergl"
           }
          ],
          "scattermapbox": [
           {
            "marker": {
             "colorbar": {
              "outlinewidth": 0,
              "ticks": ""
             }
            },
            "type": "scattermapbox"
           }
          ],
          "scatterpolar": [
           {
            "marker": {
             "colorbar": {
              "outlinewidth": 0,
              "ticks": ""
             }
            },
            "type": "scatterpolar"
           }
          ],
          "scatterpolargl": [
           {
            "marker": {
             "colorbar": {
              "outlinewidth": 0,
              "ticks": ""
             }
            },
            "type": "scatterpolargl"
           }
          ],
          "scatterternary": [
           {
            "marker": {
             "colorbar": {
              "outlinewidth": 0,
              "ticks": ""
             }
            },
            "type": "scatterternary"
           }
          ],
          "surface": [
           {
            "colorbar": {
             "outlinewidth": 0,
             "ticks": ""
            },
            "colorscale": [
             [
              0,
              "#0d0887"
             ],
             [
              0.1111111111111111,
              "#46039f"
             ],
             [
              0.2222222222222222,
              "#7201a8"
             ],
             [
              0.3333333333333333,
              "#9c179e"
             ],
             [
              0.4444444444444444,
              "#bd3786"
             ],
             [
              0.5555555555555556,
              "#d8576b"
             ],
             [
              0.6666666666666666,
              "#ed7953"
             ],
             [
              0.7777777777777778,
              "#fb9f3a"
             ],
             [
              0.8888888888888888,
              "#fdca26"
             ],
             [
              1,
              "#f0f921"
             ]
            ],
            "type": "surface"
           }
          ],
          "table": [
           {
            "cells": {
             "fill": {
              "color": "#506784"
             },
             "line": {
              "color": "rgb(17,17,17)"
             }
            },
            "header": {
             "fill": {
              "color": "#2a3f5f"
             },
             "line": {
              "color": "rgb(17,17,17)"
             }
            },
            "type": "table"
           }
          ]
         },
         "layout": {
          "annotationdefaults": {
           "arrowcolor": "#f2f5fa",
           "arrowhead": 0,
           "arrowwidth": 1
          },
          "autotypenumbers": "strict",
          "coloraxis": {
           "colorbar": {
            "outlinewidth": 0,
            "ticks": ""
           }
          },
          "colorscale": {
           "diverging": [
            [
             0,
             "#8e0152"
            ],
            [
             0.1,
             "#c51b7d"
            ],
            [
             0.2,
             "#de77ae"
            ],
            [
             0.3,
             "#f1b6da"
            ],
            [
             0.4,
             "#fde0ef"
            ],
            [
             0.5,
             "#f7f7f7"
            ],
            [
             0.6,
             "#e6f5d0"
            ],
            [
             0.7,
             "#b8e186"
            ],
            [
             0.8,
             "#7fbc41"
            ],
            [
             0.9,
             "#4d9221"
            ],
            [
             1,
             "#276419"
            ]
           ],
           "sequential": [
            [
             0,
             "#0d0887"
            ],
            [
             0.1111111111111111,
             "#46039f"
            ],
            [
             0.2222222222222222,
             "#7201a8"
            ],
            [
             0.3333333333333333,
             "#9c179e"
            ],
            [
             0.4444444444444444,
             "#bd3786"
            ],
            [
             0.5555555555555556,
             "#d8576b"
            ],
            [
             0.6666666666666666,
             "#ed7953"
            ],
            [
             0.7777777777777778,
             "#fb9f3a"
            ],
            [
             0.8888888888888888,
             "#fdca26"
            ],
            [
             1,
             "#f0f921"
            ]
           ],
           "sequentialminus": [
            [
             0,
             "#0d0887"
            ],
            [
             0.1111111111111111,
             "#46039f"
            ],
            [
             0.2222222222222222,
             "#7201a8"
            ],
            [
             0.3333333333333333,
             "#9c179e"
            ],
            [
             0.4444444444444444,
             "#bd3786"
            ],
            [
             0.5555555555555556,
             "#d8576b"
            ],
            [
             0.6666666666666666,
             "#ed7953"
            ],
            [
             0.7777777777777778,
             "#fb9f3a"
            ],
            [
             0.8888888888888888,
             "#fdca26"
            ],
            [
             1,
             "#f0f921"
            ]
           ]
          },
          "colorway": [
           "#636efa",
           "#EF553B",
           "#00cc96",
           "#ab63fa",
           "#FFA15A",
           "#19d3f3",
           "#FF6692",
           "#B6E880",
           "#FF97FF",
           "#FECB52"
          ],
          "font": {
           "color": "#f2f5fa"
          },
          "geo": {
           "bgcolor": "rgb(17,17,17)",
           "lakecolor": "rgb(17,17,17)",
           "landcolor": "rgb(17,17,17)",
           "showlakes": true,
           "showland": true,
           "subunitcolor": "#506784"
          },
          "hoverlabel": {
           "align": "left"
          },
          "hovermode": "closest",
          "mapbox": {
           "style": "dark"
          },
          "paper_bgcolor": "rgb(17,17,17)",
          "plot_bgcolor": "rgb(17,17,17)",
          "polar": {
           "angularaxis": {
            "gridcolor": "#506784",
            "linecolor": "#506784",
            "ticks": ""
           },
           "bgcolor": "rgb(17,17,17)",
           "radialaxis": {
            "gridcolor": "#506784",
            "linecolor": "#506784",
            "ticks": ""
           }
          },
          "scene": {
           "xaxis": {
            "backgroundcolor": "rgb(17,17,17)",
            "gridcolor": "#506784",
            "gridwidth": 2,
            "linecolor": "#506784",
            "showbackground": true,
            "ticks": "",
            "zerolinecolor": "#C8D4E3"
           },
           "yaxis": {
            "backgroundcolor": "rgb(17,17,17)",
            "gridcolor": "#506784",
            "gridwidth": 2,
            "linecolor": "#506784",
            "showbackground": true,
            "ticks": "",
            "zerolinecolor": "#C8D4E3"
           },
           "zaxis": {
            "backgroundcolor": "rgb(17,17,17)",
            "gridcolor": "#506784",
            "gridwidth": 2,
            "linecolor": "#506784",
            "showbackground": true,
            "ticks": "",
            "zerolinecolor": "#C8D4E3"
           }
          },
          "shapedefaults": {
           "line": {
            "color": "#f2f5fa"
           }
          },
          "sliderdefaults": {
           "bgcolor": "#C8D4E3",
           "bordercolor": "rgb(17,17,17)",
           "borderwidth": 1,
           "tickwidth": 0
          },
          "ternary": {
           "aaxis": {
            "gridcolor": "#506784",
            "linecolor": "#506784",
            "ticks": ""
           },
           "baxis": {
            "gridcolor": "#506784",
            "linecolor": "#506784",
            "ticks": ""
           },
           "bgcolor": "rgb(17,17,17)",
           "caxis": {
            "gridcolor": "#506784",
            "linecolor": "#506784",
            "ticks": ""
           }
          },
          "title": {
           "x": 0.05
          },
          "updatemenudefaults": {
           "bgcolor": "#506784",
           "borderwidth": 0
          },
          "xaxis": {
           "automargin": true,
           "gridcolor": "#283442",
           "linecolor": "#506784",
           "ticks": "",
           "title": {
            "standoff": 15
           },
           "zerolinecolor": "#283442",
           "zerolinewidth": 2
          },
          "yaxis": {
           "automargin": true,
           "gridcolor": "#283442",
           "linecolor": "#506784",
           "ticks": "",
           "title": {
            "standoff": 15
           },
           "zerolinecolor": "#283442",
           "zerolinewidth": 2
          }
         }
        },
        "title": {
         "text": "Choropleth Map of Average Temperature (1743 - 2013)"
        }
       }
      },
      "text/html": [
       "<div>                            <div id=\"2297f897-0500-43f9-9c29-6fd07695c417\" class=\"plotly-graph-div\" style=\"height:525px; width:100%;\"></div>            <script type=\"text/javascript\">                require([\"plotly\"], function(Plotly) {                    window.PLOTLYENV=window.PLOTLYENV || {};                                    if (document.getElementById(\"2297f897-0500-43f9-9c29-6fd07695c417\")) {                    Plotly.newPlot(                        \"2297f897-0500-43f9-9c29-6fd07695c417\",                        [{\"coloraxis\":\"coloraxis\",\"geo\":\"geo\",\"hovertemplate\":\"Country=%{location}<br>AverageTemperature=%{z}<extra></extra>\",\"locationmode\":\"country names\",\"locations\":[\"Afghanistan\",\"Africa\",\"Albania\",\"Algeria\",\"American Samoa\",\"Andorra\",\"Angola\",\"Anguilla\",\"Antigua And Barbuda\",\"Argentina\",\"Armenia\",\"Aruba\",\"Asia\",\"Australia\",\"Austria\",\"Azerbaijan\",\"Bahamas\",\"Bahrain\",\"Baker Island\",\"Bangladesh\",\"Barbados\",\"Belarus\",\"Belgium\",\"Belize\",\"Benin\",\"Bhutan\",\"Bolivia\",\"Bonaire, Saint Eustatius And Saba\",\"Bosnia And Herzegovina\",\"Botswana\",\"Brazil\",\"British Virgin Islands\",\"Bulgaria\",\"Burkina Faso\",\"Burma\",\"Burundi\",\"Cambodia\",\"Cameroon\",\"Canada\",\"Cape Verde\",\"Cayman Islands\",\"Central African Republic\",\"Chad\",\"Chile\",\"China\",\"Christmas Island\",\"Colombia\",\"Comoros\",\"Congo\",\"Congo (Democratic Republic Of The)\",\"Costa Rica\",\"Croatia\",\"Cuba\",\"Cura\\u00e7ao\",\"Cyprus\",\"Czech Republic\",\"C\\u00f4te D'Ivoire\",\"Denmark\",\"Djibouti\",\"Dominica\",\"Dominican Republic\",\"Ecuador\",\"Egypt\",\"El Salvador\",\"Equatorial Guinea\",\"Eritrea\",\"Estonia\",\"Ethiopia\",\"Europe\",\"Falkland Islands (Islas Malvinas)\",\"Faroe Islands\",\"Federated States Of Micronesia\",\"Fiji\",\"Finland\",\"France\",\"French Guiana\",\"French Polynesia\",\"French Southern And Antarctic Lands\",\"Gabon\",\"Gambia\",\"Gaza Strip\",\"Georgia\",\"Germany\",\"Ghana\",\"Greece\",\"Greenland\",\"Grenada\",\"Guadeloupe\",\"Guam\",\"Guatemala\",\"Guernsey\",\"Guinea\",\"Guinea Bissau\",\"Guyana\",\"Haiti\",\"Heard Island And Mcdonald Islands\",\"Honduras\",\"Hong Kong\",\"Hungary\",\"Iceland\",\"India\",\"Indonesia\",\"Iran\",\"Iraq\",\"Ireland\",\"Isle Of Man\",\"Israel\",\"Italy\",\"Jamaica\",\"Japan\",\"Jersey\",\"Jordan\",\"Kazakhstan\",\"Kenya\",\"Kingman Reef\",\"Kiribati\",\"Kuwait\",\"Kyrgyzstan\",\"Laos\",\"Latvia\",\"Lebanon\",\"Lesotho\",\"Liberia\",\"Libya\",\"Liechtenstein\",\"Lithuania\",\"Luxembourg\",\"Macau\",\"Macedonia\",\"Madagascar\",\"Malawi\",\"Malaysia\",\"Mali\",\"Malta\",\"Martinique\",\"Mauritania\",\"Mauritius\",\"Mayotte\",\"Mexico\",\"Moldova\",\"Monaco\",\"Mongolia\",\"Montenegro\",\"Montserrat\",\"Morocco\",\"Mozambique\",\"Namibia\",\"Nepal\",\"Netherlands\",\"New Caledonia\",\"New Zealand\",\"Nicaragua\",\"Niger\",\"Nigeria\",\"Niue\",\"North America\",\"North Korea\",\"Northern Mariana Islands\",\"Norway\",\"Oceania\",\"Oman\",\"Pakistan\",\"Palau\",\"Palestina\",\"Palmyra Atoll\",\"Panama\",\"Papua New Guinea\",\"Paraguay\",\"Peru\",\"Philippines\",\"Poland\",\"Portugal\",\"Puerto Rico\",\"Qatar\",\"Reunion\",\"Romania\",\"Russia\",\"Rwanda\",\"Saint Barth\\u00e9lemy\",\"Saint Kitts And Nevis\",\"Saint Lucia\",\"Saint Martin\",\"Saint Pierre And Miquelon\",\"Saint Vincent And The Grenadines\",\"Samoa\",\"San Marino\",\"Sao Tome And Principe\",\"Saudi Arabia\",\"Senegal\",\"Serbia\",\"Seychelles\",\"Sierra Leone\",\"Singapore\",\"Sint Maarten\",\"Slovakia\",\"Slovenia\",\"Solomon Islands\",\"Somalia\",\"South Africa\",\"South America\",\"South Georgia And The South Sandwich Isla\",\"South Korea\",\"Spain\",\"Sri Lanka\",\"Sudan\",\"Suriname\",\"Svalbard And Jan Mayen\",\"Swaziland\",\"Sweden\",\"Switzerland\",\"Syria\",\"Taiwan\",\"Tajikistan\",\"Tanzania\",\"Thailand\",\"Timor Leste\",\"Togo\",\"Tonga\",\"Trinidad And Tobago\",\"Tunisia\",\"Turkey\",\"Turkmenistan\",\"Turks And Caicas Islands\",\"Uganda\",\"Ukraine\",\"United Arab Emirates\",\"United Kingdom\",\"United States\",\"Uruguay\",\"Uzbekistan\",\"Venezuela\",\"Vietnam\",\"Virgin Islands\",\"Western Sahara\",\"Yemen\",\"Zambia\",\"Zimbabwe\",\"\\u00c5land\"],\"name\":\"\",\"z\":[14.045007194244604,24.074202745512142,12.610645925457991,22.98511176905996,26.611965009208106,11.201553063802905,21.824549189814817,26.61049185043145,26.437924256951103,14.621194210526316,8.551647926634768,27.92039022051774,7.3478922231614545,21.62469689119171,6.210731838281744,11.175936074918567,25.12822004008016,25.9308093346574,25.37235023279876,24.820242783708977,26.458547938638542,5.819288060644346,9.483378395451673,25.052099776286354,27.17199943181818,11.811878969957082,20.87723052631579,27.17329482262704,10.421283954516742,21.87929669156884,24.699255545286505,26.336523239099186,10.482968414403032,28.083506760411034,23.706197239536955,20.07099012775842,26.65685403576607,24.352585590778098,-5.216658945686901,24.185563568376068,26.722504150283967,25.280406916426514,27.120466282420747,9.383473684210525,6.612731031349386,25.784654071314527,24.716870967741936,25.70220930232558,24.462931988472622,23.77366493955095,25.61578443420379,11.342399873657612,25.40742638706859,27.353414669223397,18.787745686421605,7.62601926721415,25.94853606027987,-3.0265029336266958,28.8166025331725,26.110151486097795,25.547511210762334,21.869970347003154,22.620693031209917,24.906704545454545,24.921677809798272,26.802653110047846,4.819805748578648,23.01235675997618,7.830063802905875,6.076773492667029,6.619001579279849,26.944357771260997,25.038671779141108,1.244742261528743,11.594245735944408,25.718151106833492,26.10709611829945,4.9831111111111115,24.254725648414986,27.538551816239316,19.192636960985627,8.106881895881896,8.152496209728364,26.711013551665726,14.773012002526848,-18.58745804195804,26.741952061361456,26.32956088207095,26.996834337349398,23.111650494159928,10.928408717624762,25.452353098290597,26.76136664885088,25.930920115495667,26.295837740923353,2.5621149425287357,24.69554799459216,22.65989491362764,9.722423246999368,1.4050650663297535,23.873789473684212,25.684483767961684,17.607076451156207,21.775628879310347,9.419558433354391,9.365805432722679,19.62657730263158,12.737121920404297,26.096339563862927,11.951907335907336,10.928408717624762,19.346512587701195,5.202144758735441,24.102428231089934,27.13303443877551,26.73686534779834,25.098140232108317,3.2204981651376143,23.574696349065007,5.320545167403664,17.63161773078487,13.726681793913508,25.37773793103448,22.268253938484623,4.642939039797852,5.9079917877447885,9.165196462413139,22.418374760076777,10.375550852811118,22.74904594441293,21.431086144578316,25.80544200779727,28.44197657082002,18.494875319693094,26.110151486097795,27.62025550435228,23.522653983353152,26.340961429381736,20.567558041958044,8.9317166771952,9.024701831964624,-0.8206709844559585,10.214629500947568,26.383128475551292,17.627497409326423,23.59619475878499,20.484495197438637,14.8073906122449,9.308701831964624,22.700108194965186,10.371239107883817,25.957508780036967,27.458972540045767,26.744708309122604,25.094878453038675,2.0283738920225622,6.748336832061068,26.996834337349398,0.09580385344283004,21.452989119170983,26.91686266589729,20.615513304305757,27.216379332477533,23.125663223140496,27.16345599489796,26.291620638085742,24.450801898734177,23.237967557251906,19.935974230044,26.44047248677249,7.46020593809223,14.688179987212276,25.45196166746526,26.784996015936255,23.30140309155767,8.76090176879343,-5.521881912681913,19.244422183507552,26.61049185043145,25.85218600191755,26.646838446788113,26.61049185043145,4.223059955113818,26.78944870565676,26.33186249232658,13.83142229943146,25.794386167146975,25.546407835258666,27.967375,9.986563171193936,26.738423142370962,26.022571277159514,26.52310282651072,26.61049185043145,7.527216993051168,9.659700568540746,26.62503698979592,26.877085169743896,17.27098291510945,21.823920081967213,1.4010251017639077,11.849048745173745,13.61283417561592,26.947687001594897,27.09335942857143,26.17166313763234,-7.448027925531916,18.839807261078484,2.3863319646241314,6.992051484523057,17.917548596990645,21.937427536231883,4.016035217794253,22.34791097178683,25.986800979519145,25.96633271832718,26.87178275666478,23.236247852760737,26.118751198465965,19.97059047314578,11.631567300916139,14.781998181818182,26.662733508082134,23.03296871378911,7.653507264687303,27.693994700582934,8.572556696146558,8.60357252215955,17.149306774809162,12.278015938069217,25.025685522531163,23.688365504061156,26.336523239099186,22.319817823343847,26.253596725288055,21.282955621301774,21.117547246376812,5.291383449147189],\"type\":\"choropleth\"}],                        {\"template\":{\"data\":{\"barpolar\":[{\"marker\":{\"line\":{\"color\":\"rgb(17,17,17)\",\"width\":0.5},\"pattern\":{\"fillmode\":\"overlay\",\"size\":10,\"solidity\":0.2}},\"type\":\"barpolar\"}],\"bar\":[{\"error_x\":{\"color\":\"#f2f5fa\"},\"error_y\":{\"color\":\"#f2f5fa\"},\"marker\":{\"line\":{\"color\":\"rgb(17,17,17)\",\"width\":0.5},\"pattern\":{\"fillmode\":\"overlay\",\"size\":10,\"solidity\":0.2}},\"type\":\"bar\"}],\"carpet\":[{\"aaxis\":{\"endlinecolor\":\"#A2B1C6\",\"gridcolor\":\"#506784\",\"linecolor\":\"#506784\",\"minorgridcolor\":\"#506784\",\"startlinecolor\":\"#A2B1C6\"},\"baxis\":{\"endlinecolor\":\"#A2B1C6\",\"gridcolor\":\"#506784\",\"linecolor\":\"#506784\",\"minorgridcolor\":\"#506784\",\"startlinecolor\":\"#A2B1C6\"},\"type\":\"carpet\"}],\"choropleth\":[{\"colorbar\":{\"outlinewidth\":0,\"ticks\":\"\"},\"type\":\"choropleth\"}],\"contourcarpet\":[{\"colorbar\":{\"outlinewidth\":0,\"ticks\":\"\"},\"type\":\"contourcarpet\"}],\"contour\":[{\"colorbar\":{\"outlinewidth\":0,\"ticks\":\"\"},\"colorscale\":[[0.0,\"#0d0887\"],[0.1111111111111111,\"#46039f\"],[0.2222222222222222,\"#7201a8\"],[0.3333333333333333,\"#9c179e\"],[0.4444444444444444,\"#bd3786\"],[0.5555555555555556,\"#d8576b\"],[0.6666666666666666,\"#ed7953\"],[0.7777777777777778,\"#fb9f3a\"],[0.8888888888888888,\"#fdca26\"],[1.0,\"#f0f921\"]],\"type\":\"contour\"}],\"heatmapgl\":[{\"colorbar\":{\"outlinewidth\":0,\"ticks\":\"\"},\"colorscale\":[[0.0,\"#0d0887\"],[0.1111111111111111,\"#46039f\"],[0.2222222222222222,\"#7201a8\"],[0.3333333333333333,\"#9c179e\"],[0.4444444444444444,\"#bd3786\"],[0.5555555555555556,\"#d8576b\"],[0.6666666666666666,\"#ed7953\"],[0.7777777777777778,\"#fb9f3a\"],[0.8888888888888888,\"#fdca26\"],[1.0,\"#f0f921\"]],\"type\":\"heatmapgl\"}],\"heatmap\":[{\"colorbar\":{\"outlinewidth\":0,\"ticks\":\"\"},\"colorscale\":[[0.0,\"#0d0887\"],[0.1111111111111111,\"#46039f\"],[0.2222222222222222,\"#7201a8\"],[0.3333333333333333,\"#9c179e\"],[0.4444444444444444,\"#bd3786\"],[0.5555555555555556,\"#d8576b\"],[0.6666666666666666,\"#ed7953\"],[0.7777777777777778,\"#fb9f3a\"],[0.8888888888888888,\"#fdca26\"],[1.0,\"#f0f921\"]],\"type\":\"heatmap\"}],\"histogram2dcontour\":[{\"colorbar\":{\"outlinewidth\":0,\"ticks\":\"\"},\"colorscale\":[[0.0,\"#0d0887\"],[0.1111111111111111,\"#46039f\"],[0.2222222222222222,\"#7201a8\"],[0.3333333333333333,\"#9c179e\"],[0.4444444444444444,\"#bd3786\"],[0.5555555555555556,\"#d8576b\"],[0.6666666666666666,\"#ed7953\"],[0.7777777777777778,\"#fb9f3a\"],[0.8888888888888888,\"#fdca26\"],[1.0,\"#f0f921\"]],\"type\":\"histogram2dcontour\"}],\"histogram2d\":[{\"colorbar\":{\"outlinewidth\":0,\"ticks\":\"\"},\"colorscale\":[[0.0,\"#0d0887\"],[0.1111111111111111,\"#46039f\"],[0.2222222222222222,\"#7201a8\"],[0.3333333333333333,\"#9c179e\"],[0.4444444444444444,\"#bd3786\"],[0.5555555555555556,\"#d8576b\"],[0.6666666666666666,\"#ed7953\"],[0.7777777777777778,\"#fb9f3a\"],[0.8888888888888888,\"#fdca26\"],[1.0,\"#f0f921\"]],\"type\":\"histogram2d\"}],\"histogram\":[{\"marker\":{\"pattern\":{\"fillmode\":\"overlay\",\"size\":10,\"solidity\":0.2}},\"type\":\"histogram\"}],\"mesh3d\":[{\"colorbar\":{\"outlinewidth\":0,\"ticks\":\"\"},\"type\":\"mesh3d\"}],\"parcoords\":[{\"line\":{\"colorbar\":{\"outlinewidth\":0,\"ticks\":\"\"}},\"type\":\"parcoords\"}],\"pie\":[{\"automargin\":true,\"type\":\"pie\"}],\"scatter3d\":[{\"line\":{\"colorbar\":{\"outlinewidth\":0,\"ticks\":\"\"}},\"marker\":{\"colorbar\":{\"outlinewidth\":0,\"ticks\":\"\"}},\"type\":\"scatter3d\"}],\"scattercarpet\":[{\"marker\":{\"colorbar\":{\"outlinewidth\":0,\"ticks\":\"\"}},\"type\":\"scattercarpet\"}],\"scattergeo\":[{\"marker\":{\"colorbar\":{\"outlinewidth\":0,\"ticks\":\"\"}},\"type\":\"scattergeo\"}],\"scattergl\":[{\"marker\":{\"line\":{\"color\":\"#283442\"}},\"type\":\"scattergl\"}],\"scattermapbox\":[{\"marker\":{\"colorbar\":{\"outlinewidth\":0,\"ticks\":\"\"}},\"type\":\"scattermapbox\"}],\"scatterpolargl\":[{\"marker\":{\"colorbar\":{\"outlinewidth\":0,\"ticks\":\"\"}},\"type\":\"scatterpolargl\"}],\"scatterpolar\":[{\"marker\":{\"colorbar\":{\"outlinewidth\":0,\"ticks\":\"\"}},\"type\":\"scatterpolar\"}],\"scatter\":[{\"marker\":{\"line\":{\"color\":\"#283442\"}},\"type\":\"scatter\"}],\"scatterternary\":[{\"marker\":{\"colorbar\":{\"outlinewidth\":0,\"ticks\":\"\"}},\"type\":\"scatterternary\"}],\"surface\":[{\"colorbar\":{\"outlinewidth\":0,\"ticks\":\"\"},\"colorscale\":[[0.0,\"#0d0887\"],[0.1111111111111111,\"#46039f\"],[0.2222222222222222,\"#7201a8\"],[0.3333333333333333,\"#9c179e\"],[0.4444444444444444,\"#bd3786\"],[0.5555555555555556,\"#d8576b\"],[0.6666666666666666,\"#ed7953\"],[0.7777777777777778,\"#fb9f3a\"],[0.8888888888888888,\"#fdca26\"],[1.0,\"#f0f921\"]],\"type\":\"surface\"}],\"table\":[{\"cells\":{\"fill\":{\"color\":\"#506784\"},\"line\":{\"color\":\"rgb(17,17,17)\"}},\"header\":{\"fill\":{\"color\":\"#2a3f5f\"},\"line\":{\"color\":\"rgb(17,17,17)\"}},\"type\":\"table\"}]},\"layout\":{\"annotationdefaults\":{\"arrowcolor\":\"#f2f5fa\",\"arrowhead\":0,\"arrowwidth\":1},\"autotypenumbers\":\"strict\",\"coloraxis\":{\"colorbar\":{\"outlinewidth\":0,\"ticks\":\"\"}},\"colorscale\":{\"diverging\":[[0,\"#8e0152\"],[0.1,\"#c51b7d\"],[0.2,\"#de77ae\"],[0.3,\"#f1b6da\"],[0.4,\"#fde0ef\"],[0.5,\"#f7f7f7\"],[0.6,\"#e6f5d0\"],[0.7,\"#b8e186\"],[0.8,\"#7fbc41\"],[0.9,\"#4d9221\"],[1,\"#276419\"]],\"sequential\":[[0.0,\"#0d0887\"],[0.1111111111111111,\"#46039f\"],[0.2222222222222222,\"#7201a8\"],[0.3333333333333333,\"#9c179e\"],[0.4444444444444444,\"#bd3786\"],[0.5555555555555556,\"#d8576b\"],[0.6666666666666666,\"#ed7953\"],[0.7777777777777778,\"#fb9f3a\"],[0.8888888888888888,\"#fdca26\"],[1.0,\"#f0f921\"]],\"sequentialminus\":[[0.0,\"#0d0887\"],[0.1111111111111111,\"#46039f\"],[0.2222222222222222,\"#7201a8\"],[0.3333333333333333,\"#9c179e\"],[0.4444444444444444,\"#bd3786\"],[0.5555555555555556,\"#d8576b\"],[0.6666666666666666,\"#ed7953\"],[0.7777777777777778,\"#fb9f3a\"],[0.8888888888888888,\"#fdca26\"],[1.0,\"#f0f921\"]]},\"colorway\":[\"#636efa\",\"#EF553B\",\"#00cc96\",\"#ab63fa\",\"#FFA15A\",\"#19d3f3\",\"#FF6692\",\"#B6E880\",\"#FF97FF\",\"#FECB52\"],\"font\":{\"color\":\"#f2f5fa\"},\"geo\":{\"bgcolor\":\"rgb(17,17,17)\",\"lakecolor\":\"rgb(17,17,17)\",\"landcolor\":\"rgb(17,17,17)\",\"showlakes\":true,\"showland\":true,\"subunitcolor\":\"#506784\"},\"hoverlabel\":{\"align\":\"left\"},\"hovermode\":\"closest\",\"mapbox\":{\"style\":\"dark\"},\"paper_bgcolor\":\"rgb(17,17,17)\",\"plot_bgcolor\":\"rgb(17,17,17)\",\"polar\":{\"angularaxis\":{\"gridcolor\":\"#506784\",\"linecolor\":\"#506784\",\"ticks\":\"\"},\"bgcolor\":\"rgb(17,17,17)\",\"radialaxis\":{\"gridcolor\":\"#506784\",\"linecolor\":\"#506784\",\"ticks\":\"\"}},\"scene\":{\"xaxis\":{\"backgroundcolor\":\"rgb(17,17,17)\",\"gridcolor\":\"#506784\",\"gridwidth\":2,\"linecolor\":\"#506784\",\"showbackground\":true,\"ticks\":\"\",\"zerolinecolor\":\"#C8D4E3\"},\"yaxis\":{\"backgroundcolor\":\"rgb(17,17,17)\",\"gridcolor\":\"#506784\",\"gridwidth\":2,\"linecolor\":\"#506784\",\"showbackground\":true,\"ticks\":\"\",\"zerolinecolor\":\"#C8D4E3\"},\"zaxis\":{\"backgroundcolor\":\"rgb(17,17,17)\",\"gridcolor\":\"#506784\",\"gridwidth\":2,\"linecolor\":\"#506784\",\"showbackground\":true,\"ticks\":\"\",\"zerolinecolor\":\"#C8D4E3\"}},\"shapedefaults\":{\"line\":{\"color\":\"#f2f5fa\"}},\"sliderdefaults\":{\"bgcolor\":\"#C8D4E3\",\"bordercolor\":\"rgb(17,17,17)\",\"borderwidth\":1,\"tickwidth\":0},\"ternary\":{\"aaxis\":{\"gridcolor\":\"#506784\",\"linecolor\":\"#506784\",\"ticks\":\"\"},\"baxis\":{\"gridcolor\":\"#506784\",\"linecolor\":\"#506784\",\"ticks\":\"\"},\"bgcolor\":\"rgb(17,17,17)\",\"caxis\":{\"gridcolor\":\"#506784\",\"linecolor\":\"#506784\",\"ticks\":\"\"}},\"title\":{\"x\":0.05},\"updatemenudefaults\":{\"bgcolor\":\"#506784\",\"borderwidth\":0},\"xaxis\":{\"automargin\":true,\"gridcolor\":\"#283442\",\"linecolor\":\"#506784\",\"ticks\":\"\",\"title\":{\"standoff\":15},\"zerolinecolor\":\"#283442\",\"zerolinewidth\":2},\"yaxis\":{\"automargin\":true,\"gridcolor\":\"#283442\",\"linecolor\":\"#506784\",\"ticks\":\"\",\"title\":{\"standoff\":15},\"zerolinecolor\":\"#283442\",\"zerolinewidth\":2}}},\"geo\":{\"domain\":{\"x\":[0.0,1.0],\"y\":[0.0,1.0]},\"center\":{}},\"coloraxis\":{\"colorbar\":{\"title\":{\"text\":\"AverageTemperature\"}},\"colorscale\":[[0.0,\"#0d0887\"],[0.1111111111111111,\"#46039f\"],[0.2222222222222222,\"#7201a8\"],[0.3333333333333333,\"#9c179e\"],[0.4444444444444444,\"#bd3786\"],[0.5555555555555556,\"#d8576b\"],[0.6666666666666666,\"#ed7953\"],[0.7777777777777778,\"#fb9f3a\"],[0.8888888888888888,\"#fdca26\"],[1.0,\"#f0f921\"]]},\"legend\":{\"tracegroupgap\":0},\"margin\":{\"t\":60},\"title\":{\"text\":\"Choropleth Map of Average Temperature (1743 - 2013)\"}},                        {\"responsive\": true}                    ).then(function(){\n",
       "                            \n",
       "var gd = document.getElementById('2297f897-0500-43f9-9c29-6fd07695c417');\n",
       "var x = new MutationObserver(function (mutations, observer) {{\n",
       "        var display = window.getComputedStyle(gd).display;\n",
       "        if (!display || display === 'none') {{\n",
       "            console.log([gd, 'removed!']);\n",
       "            Plotly.purge(gd);\n",
       "            observer.disconnect();\n",
       "        }}\n",
       "}});\n",
       "\n",
       "// Listen for the removal of the full notebook cells\n",
       "var notebookContainer = gd.closest('#notebook-container');\n",
       "if (notebookContainer) {{\n",
       "    x.observe(notebookContainer, {childList: true});\n",
       "}}\n",
       "\n",
       "// Listen for the clearing of the current output cell\n",
       "var outputEl = gd.closest('.output');\n",
       "if (outputEl) {{\n",
       "    x.observe(outputEl, {childList: true});\n",
       "}}\n",
       "\n",
       "                        })                };                });            </script>        </div>"
      ]
     },
     "metadata": {},
     "output_type": "display_data"
    }
   ],
   "source": [
    "fig_1 = px.choropleth(avg_temp, locations = 'Country', locationmode = 'country names', color = 'AverageTemperature')\n",
    "fig_1.update_layout(title = 'Choropleth Map of Average Temperature (1743 - 2013)', template = \"plotly_dark\")\n",
    "fig_1.show()"
   ]
  },
  {
   "attachments": {},
   "cell_type": "markdown",
   "metadata": {},
   "source": [
    "### Sorting the countries by the average temperature and ploting Horizontal Bar"
   ]
  },
  {
   "cell_type": "code",
   "execution_count": 15,
   "metadata": {},
   "outputs": [
    {
     "data": {
      "text/plain": [
       "<AxesSubplot:xlabel='AverageTemperature', ylabel='Country'>"
      ]
     },
     "execution_count": 15,
     "metadata": {},
     "output_type": "execute_result"
    },
    {
     "data": {
      "image/png": "[encoded data removed]",
      "text/plain": [
       "<Figure size 640x480 with 1 Axes>"
      ]
     },
     "metadata": {},
     "output_type": "display_data"
    }
   ],
   "source": [
    "sns.barplot(x = avg_temp.sort_values(by = 'AverageTemperature', ascending = False)\n",
    "['AverageTemperature'][0:20], y = avg_temp.sort_values(by = 'AverageTemperature', ascending = False)['Country'][0:20])"
   ]
  },
  {
   "cell_type": "code",
   "execution_count": 16,
   "metadata": {},
   "outputs": [
    {
     "data": {
      "text/plain": [
       "<AxesSubplot:xlabel='AverageTemperature', ylabel='Country'>"
      ]
     },
     "execution_count": 16,
     "metadata": {},
     "output_type": "execute_result"
    },
    {
     "data": {
      "image/png": "[encoded data removed]",
      "text/plain": [
       "<Figure size 640x480 with 1 Axes>"
      ]
     },
     "metadata": {},
     "output_type": "display_data"
    }
   ],
   "source": [
    "sns.barplot(x = avg_temp.sort_values(by = 'AverageTemperature', ascending = True)\n",
    "['AverageTemperature'][0:20], y = avg_temp.sort_values(by = 'AverageTemperature', ascending = True)['Country'][0:20])"
   ]
  },
  {
   "attachments": {},
   "cell_type": "markdown",
   "metadata": {},
   "source": [
    "### Is there a global warming?"
   ]
  },
  {
   "cell_type": "code",
   "execution_count": 17,
   "metadata": {},
   "outputs": [
    {
     "data": {
      "text/html": [
       "<div>\n",
       "<style scoped>\n",
       "    .dataframe tbody tr th:only-of-type {\n",
       "        vertical-align: middle;\n",
       "    }\n",
       "\n",
       "    .dataframe tbody tr th {\n",
       "        vertical-align: top;\n",
       "    }\n",
       "\n",
       "    .dataframe thead th {\n",
       "        text-align: right;\n",
       "    }\n",
       "</style>\n",
       "<table border=\"1\" class=\"dataframe\">\n",
       "  <thead>\n",
       "    <tr style=\"text-align: right;\">\n",
       "      <th></th>\n",
       "      <th>dt</th>\n",
       "      <th>LandAverageTemperature</th>\n",
       "      <th>LandAverageTemperatureUncertainty</th>\n",
       "      <th>LandMaxTemperature</th>\n",
       "      <th>LandMaxTemperatureUncertainty</th>\n",
       "      <th>LandMinTemperature</th>\n",
       "      <th>LandMinTemperatureUncertainty</th>\n",
       "      <th>LandAndOceanAverageTemperature</th>\n",
       "      <th>LandAndOceanAverageTemperatureUncertainty</th>\n",
       "    </tr>\n",
       "  </thead>\n",
       "  <tbody>\n",
       "    <tr>\n",
       "      <th>0</th>\n",
       "      <td>1750-01-01</td>\n",
       "      <td>3.034</td>\n",
       "      <td>3.574</td>\n",
       "      <td>NaN</td>\n",
       "      <td>NaN</td>\n",
       "      <td>NaN</td>\n",
       "      <td>NaN</td>\n",
       "      <td>NaN</td>\n",
       "      <td>NaN</td>\n",
       "    </tr>\n",
       "    <tr>\n",
       "      <th>1</th>\n",
       "      <td>1750-02-01</td>\n",
       "      <td>3.083</td>\n",
       "      <td>3.702</td>\n",
       "      <td>NaN</td>\n",
       "      <td>NaN</td>\n",
       "      <td>NaN</td>\n",
       "      <td>NaN</td>\n",
       "      <td>NaN</td>\n",
       "      <td>NaN</td>\n",
       "    </tr>\n",
       "    <tr>\n",
       "      <th>2</th>\n",
       "      <td>1750-03-01</td>\n",
       "      <td>5.626</td>\n",
       "      <td>3.076</td>\n",
       "      <td>NaN</td>\n",
       "      <td>NaN</td>\n",
       "      <td>NaN</td>\n",
       "      <td>NaN</td>\n",
       "      <td>NaN</td>\n",
       "      <td>NaN</td>\n",
       "    </tr>\n",
       "    <tr>\n",
       "      <th>3</th>\n",
       "      <td>1750-04-01</td>\n",
       "      <td>8.490</td>\n",
       "      <td>2.451</td>\n",
       "      <td>NaN</td>\n",
       "      <td>NaN</td>\n",
       "      <td>NaN</td>\n",
       "      <td>NaN</td>\n",
       "      <td>NaN</td>\n",
       "      <td>NaN</td>\n",
       "    </tr>\n",
       "    <tr>\n",
       "      <th>4</th>\n",
       "      <td>1750-05-01</td>\n",
       "      <td>11.573</td>\n",
       "      <td>2.072</td>\n",
       "      <td>NaN</td>\n",
       "      <td>NaN</td>\n",
       "      <td>NaN</td>\n",
       "      <td>NaN</td>\n",
       "      <td>NaN</td>\n",
       "      <td>NaN</td>\n",
       "    </tr>\n",
       "    <tr>\n",
       "      <th>...</th>\n",
       "      <td>...</td>\n",
       "      <td>...</td>\n",
       "      <td>...</td>\n",
       "      <td>...</td>\n",
       "      <td>...</td>\n",
       "      <td>...</td>\n",
       "      <td>...</td>\n",
       "      <td>...</td>\n",
       "      <td>...</td>\n",
       "    </tr>\n",
       "    <tr>\n",
       "      <th>3187</th>\n",
       "      <td>2015-08-01</td>\n",
       "      <td>14.755</td>\n",
       "      <td>0.072</td>\n",
       "      <td>20.699</td>\n",
       "      <td>0.110</td>\n",
       "      <td>9.005</td>\n",
       "      <td>0.170</td>\n",
       "      <td>17.589</td>\n",
       "      <td>0.057</td>\n",
       "    </tr>\n",
       "    <tr>\n",
       "      <th>3188</th>\n",
       "      <td>2015-09-01</td>\n",
       "      <td>12.999</td>\n",
       "      <td>0.079</td>\n",
       "      <td>18.845</td>\n",
       "      <td>0.088</td>\n",
       "      <td>7.199</td>\n",
       "      <td>0.229</td>\n",
       "      <td>17.049</td>\n",
       "      <td>0.058</td>\n",
       "    </tr>\n",
       "    <tr>\n",
       "      <th>3189</th>\n",
       "      <td>2015-10-01</td>\n",
       "      <td>10.801</td>\n",
       "      <td>0.102</td>\n",
       "      <td>16.450</td>\n",
       "      <td>0.059</td>\n",
       "      <td>5.232</td>\n",
       "      <td>0.115</td>\n",
       "      <td>16.290</td>\n",
       "      <td>0.062</td>\n",
       "    </tr>\n",
       "    <tr>\n",
       "      <th>3190</th>\n",
       "      <td>2015-11-01</td>\n",
       "      <td>7.433</td>\n",
       "      <td>0.119</td>\n",
       "      <td>12.892</td>\n",
       "      <td>0.093</td>\n",
       "      <td>2.157</td>\n",
       "      <td>0.106</td>\n",
       "      <td>15.252</td>\n",
       "      <td>0.063</td>\n",
       "    </tr>\n",
       "    <tr>\n",
       "      <th>3191</th>\n",
       "      <td>2015-12-01</td>\n",
       "      <td>5.518</td>\n",
       "      <td>0.100</td>\n",
       "      <td>10.725</td>\n",
       "      <td>0.154</td>\n",
       "      <td>0.287</td>\n",
       "      <td>0.099</td>\n",
       "      <td>14.774</td>\n",
       "      <td>0.062</td>\n",
       "    </tr>\n",
       "  </tbody>\n",
       "</table>\n",
       "<p>3192 rows × 9 columns</p>\n",
       "</div>"
      ],
      "text/plain": [
       "              dt  LandAverageTemperature  LandAverageTemperatureUncertainty  \\\n",
       "0     1750-01-01                   3.034                              3.574   \n",
       "1     1750-02-01                   3.083                              3.702   \n",
       "2     1750-03-01                   5.626                              3.076   \n",
       "3     1750-04-01                   8.490                              2.451   \n",
       "4     1750-05-01                  11.573                              2.072   \n",
       "...          ...                     ...                                ...   \n",
       "3187  2015-08-01                  14.755                              0.072   \n",
       "3188  2015-09-01                  12.999                              0.079   \n",
       "3189  2015-10-01                  10.801                              0.102   \n",
       "3190  2015-11-01                   7.433                              0.119   \n",
       "3191  2015-12-01                   5.518                              0.100   \n",
       "\n",
       "      LandMaxTemperature  LandMaxTemperatureUncertainty  LandMinTemperature  \\\n",
       "0                    NaN                            NaN                 NaN   \n",
       "1                    NaN                            NaN                 NaN   \n",
       "2                    NaN                            NaN                 NaN   \n",
       "3                    NaN                            NaN                 NaN   \n",
       "4                    NaN                            NaN                 NaN   \n",
       "...                  ...                            ...                 ...   \n",
       "3187              20.699                          0.110               9.005   \n",
       "3188              18.845                          0.088               7.199   \n",
       "3189              16.450                          0.059               5.232   \n",
       "3190              12.892                          0.093               2.157   \n",
       "3191              10.725                          0.154               0.287   \n",
       "\n",
       "      LandMinTemperatureUncertainty  LandAndOceanAverageTemperature  \\\n",
       "0                               NaN                             NaN   \n",
       "1                               NaN                             NaN   \n",
       "2                               NaN                             NaN   \n",
       "3                               NaN                             NaN   \n",
       "4                               NaN                             NaN   \n",
       "...                             ...                             ...   \n",
       "3187                          0.170                          17.589   \n",
       "3188                          0.229                          17.049   \n",
       "3189                          0.115                          16.290   \n",
       "3190                          0.106                          15.252   \n",
       "3191                          0.099                          14.774   \n",
       "\n",
       "      LandAndOceanAverageTemperatureUncertainty  \n",
       "0                                           NaN  \n",
       "1                                           NaN  \n",
       "2                                           NaN  \n",
       "3                                           NaN  \n",
       "4                                           NaN  \n",
       "...                                         ...  \n",
       "3187                                      0.057  \n",
       "3188                                      0.058  \n",
       "3189                                      0.062  \n",
       "3190                                      0.063  \n",
       "3191                                      0.062  \n",
       "\n",
       "[3192 rows x 9 columns]"
      ]
     },
     "execution_count": 17,
     "metadata": {},
     "output_type": "execute_result"
    }
   ],
   "source": [
    "global_temps = pd.read_csv(pwd + \"\\\\GlobalTemperatures.csv\")\n",
    "global_temps"
   ]
  },
  {
   "cell_type": "code",
   "execution_count": 18,
   "metadata": {},
   "outputs": [
    {
     "data": {
      "text/html": [
       "<div>\n",
       "<style scoped>\n",
       "    .dataframe tbody tr th:only-of-type {\n",
       "        vertical-align: middle;\n",
       "    }\n",
       "\n",
       "    .dataframe tbody tr th {\n",
       "        vertical-align: top;\n",
       "    }\n",
       "\n",
       "    .dataframe thead th {\n",
       "        text-align: right;\n",
       "    }\n",
       "</style>\n",
       "<table border=\"1\" class=\"dataframe\">\n",
       "  <thead>\n",
       "    <tr style=\"text-align: right;\">\n",
       "      <th></th>\n",
       "      <th>dt</th>\n",
       "      <th>LandAverageTemperature</th>\n",
       "      <th>LandAverageTemperatureUncertainty</th>\n",
       "      <th>LandMaxTemperature</th>\n",
       "      <th>LandMaxTemperatureUncertainty</th>\n",
       "      <th>LandMinTemperature</th>\n",
       "      <th>LandMinTemperatureUncertainty</th>\n",
       "      <th>LandAndOceanAverageTemperature</th>\n",
       "      <th>LandAndOceanAverageTemperatureUncertainty</th>\n",
       "      <th>year</th>\n",
       "    </tr>\n",
       "  </thead>\n",
       "  <tbody>\n",
       "    <tr>\n",
       "      <th>0</th>\n",
       "      <td>1750-01-01</td>\n",
       "      <td>3.034</td>\n",
       "      <td>3.574</td>\n",
       "      <td>NaN</td>\n",
       "      <td>NaN</td>\n",
       "      <td>NaN</td>\n",
       "      <td>NaN</td>\n",
       "      <td>NaN</td>\n",
       "      <td>NaN</td>\n",
       "      <td>1750</td>\n",
       "    </tr>\n",
       "    <tr>\n",
       "      <th>1</th>\n",
       "      <td>1750-02-01</td>\n",
       "      <td>3.083</td>\n",
       "      <td>3.702</td>\n",
       "      <td>NaN</td>\n",
       "      <td>NaN</td>\n",
       "      <td>NaN</td>\n",
       "      <td>NaN</td>\n",
       "      <td>NaN</td>\n",
       "      <td>NaN</td>\n",
       "      <td>1750</td>\n",
       "    </tr>\n",
       "    <tr>\n",
       "      <th>2</th>\n",
       "      <td>1750-03-01</td>\n",
       "      <td>5.626</td>\n",
       "      <td>3.076</td>\n",
       "      <td>NaN</td>\n",
       "      <td>NaN</td>\n",
       "      <td>NaN</td>\n",
       "      <td>NaN</td>\n",
       "      <td>NaN</td>\n",
       "      <td>NaN</td>\n",
       "      <td>1750</td>\n",
       "    </tr>\n",
       "    <tr>\n",
       "      <th>3</th>\n",
       "      <td>1750-04-01</td>\n",
       "      <td>8.490</td>\n",
       "      <td>2.451</td>\n",
       "      <td>NaN</td>\n",
       "      <td>NaN</td>\n",
       "      <td>NaN</td>\n",
       "      <td>NaN</td>\n",
       "      <td>NaN</td>\n",
       "      <td>NaN</td>\n",
       "      <td>1750</td>\n",
       "    </tr>\n",
       "    <tr>\n",
       "      <th>4</th>\n",
       "      <td>1750-05-01</td>\n",
       "      <td>11.573</td>\n",
       "      <td>2.072</td>\n",
       "      <td>NaN</td>\n",
       "      <td>NaN</td>\n",
       "      <td>NaN</td>\n",
       "      <td>NaN</td>\n",
       "      <td>NaN</td>\n",
       "      <td>NaN</td>\n",
       "      <td>1750</td>\n",
       "    </tr>\n",
       "    <tr>\n",
       "      <th>...</th>\n",
       "      <td>...</td>\n",
       "      <td>...</td>\n",
       "      <td>...</td>\n",
       "      <td>...</td>\n",
       "      <td>...</td>\n",
       "      <td>...</td>\n",
       "      <td>...</td>\n",
       "      <td>...</td>\n",
       "      <td>...</td>\n",
       "      <td>...</td>\n",
       "    </tr>\n",
       "    <tr>\n",
       "      <th>3187</th>\n",
       "      <td>2015-08-01</td>\n",
       "      <td>14.755</td>\n",
       "      <td>0.072</td>\n",
       "      <td>20.699</td>\n",
       "      <td>0.110</td>\n",
       "      <td>9.005</td>\n",
       "      <td>0.170</td>\n",
       "      <td>17.589</td>\n",
       "      <td>0.057</td>\n",
       "      <td>2015</td>\n",
       "    </tr>\n",
       "    <tr>\n",
       "      <th>3188</th>\n",
       "      <td>2015-09-01</td>\n",
       "      <td>12.999</td>\n",
       "      <td>0.079</td>\n",
       "      <td>18.845</td>\n",
       "      <td>0.088</td>\n",
       "      <td>7.199</td>\n",
       "      <td>0.229</td>\n",
       "      <td>17.049</td>\n",
       "      <td>0.058</td>\n",
       "      <td>2015</td>\n",
       "    </tr>\n",
       "    <tr>\n",
       "      <th>3189</th>\n",
       "      <td>2015-10-01</td>\n",
       "      <td>10.801</td>\n",
       "      <td>0.102</td>\n",
       "      <td>16.450</td>\n",
       "      <td>0.059</td>\n",
       "      <td>5.232</td>\n",
       "      <td>0.115</td>\n",
       "      <td>16.290</td>\n",
       "      <td>0.062</td>\n",
       "      <td>2015</td>\n",
       "    </tr>\n",
       "    <tr>\n",
       "      <th>3190</th>\n",
       "      <td>2015-11-01</td>\n",
       "      <td>7.433</td>\n",
       "      <td>0.119</td>\n",
       "      <td>12.892</td>\n",
       "      <td>0.093</td>\n",
       "      <td>2.157</td>\n",
       "      <td>0.106</td>\n",
       "      <td>15.252</td>\n",
       "      <td>0.063</td>\n",
       "      <td>2015</td>\n",
       "    </tr>\n",
       "    <tr>\n",
       "      <th>3191</th>\n",
       "      <td>2015-12-01</td>\n",
       "      <td>5.518</td>\n",
       "      <td>0.100</td>\n",
       "      <td>10.725</td>\n",
       "      <td>0.154</td>\n",
       "      <td>0.287</td>\n",
       "      <td>0.099</td>\n",
       "      <td>14.774</td>\n",
       "      <td>0.062</td>\n",
       "      <td>2015</td>\n",
       "    </tr>\n",
       "  </tbody>\n",
       "</table>\n",
       "<p>3192 rows × 10 columns</p>\n",
       "</div>"
      ],
      "text/plain": [
       "              dt  LandAverageTemperature  LandAverageTemperatureUncertainty  \\\n",
       "0     1750-01-01                   3.034                              3.574   \n",
       "1     1750-02-01                   3.083                              3.702   \n",
       "2     1750-03-01                   5.626                              3.076   \n",
       "3     1750-04-01                   8.490                              2.451   \n",
       "4     1750-05-01                  11.573                              2.072   \n",
       "...          ...                     ...                                ...   \n",
       "3187  2015-08-01                  14.755                              0.072   \n",
       "3188  2015-09-01                  12.999                              0.079   \n",
       "3189  2015-10-01                  10.801                              0.102   \n",
       "3190  2015-11-01                   7.433                              0.119   \n",
       "3191  2015-12-01                   5.518                              0.100   \n",
       "\n",
       "      LandMaxTemperature  LandMaxTemperatureUncertainty  LandMinTemperature  \\\n",
       "0                    NaN                            NaN                 NaN   \n",
       "1                    NaN                            NaN                 NaN   \n",
       "2                    NaN                            NaN                 NaN   \n",
       "3                    NaN                            NaN                 NaN   \n",
       "4                    NaN                            NaN                 NaN   \n",
       "...                  ...                            ...                 ...   \n",
       "3187              20.699                          0.110               9.005   \n",
       "3188              18.845                          0.088               7.199   \n",
       "3189              16.450                          0.059               5.232   \n",
       "3190              12.892                          0.093               2.157   \n",
       "3191              10.725                          0.154               0.287   \n",
       "\n",
       "      LandMinTemperatureUncertainty  LandAndOceanAverageTemperature  \\\n",
       "0                               NaN                             NaN   \n",
       "1                               NaN                             NaN   \n",
       "2                               NaN                             NaN   \n",
       "3                               NaN                             NaN   \n",
       "4                               NaN                             NaN   \n",
       "...                             ...                             ...   \n",
       "3187                          0.170                          17.589   \n",
       "3188                          0.229                          17.049   \n",
       "3189                          0.115                          16.290   \n",
       "3190                          0.106                          15.252   \n",
       "3191                          0.099                          14.774   \n",
       "\n",
       "      LandAndOceanAverageTemperatureUncertainty  year  \n",
       "0                                           NaN  1750  \n",
       "1                                           NaN  1750  \n",
       "2                                           NaN  1750  \n",
       "3                                           NaN  1750  \n",
       "4                                           NaN  1750  \n",
       "...                                         ...   ...  \n",
       "3187                                      0.057  2015  \n",
       "3188                                      0.058  2015  \n",
       "3189                                      0.062  2015  \n",
       "3190                                      0.063  2015  \n",
       "3191                                      0.062  2015  \n",
       "\n",
       "[3192 rows x 10 columns]"
      ]
     },
     "execution_count": 18,
     "metadata": {},
     "output_type": "execute_result"
    }
   ],
   "source": [
    "## Make column with years\n",
    "\n",
    "def put_year(date):\n",
    "    return date.split(\"-\")[0]\n",
    "\n",
    "global_temps[\"year\"] = global_temps[\"dt\"].apply(put_year)\n",
    "\n",
    "global_temps"
   ]
  },
  {
   "cell_type": "code",
   "execution_count": 19,
   "metadata": {},
   "outputs": [
    {
     "data": {
      "text/html": [
       "<div>\n",
       "<style scoped>\n",
       "    .dataframe tbody tr th:only-of-type {\n",
       "        vertical-align: middle;\n",
       "    }\n",
       "\n",
       "    .dataframe tbody tr th {\n",
       "        vertical-align: top;\n",
       "    }\n",
       "\n",
       "    .dataframe thead th {\n",
       "        text-align: right;\n",
       "    }\n",
       "</style>\n",
       "<table border=\"1\" class=\"dataframe\">\n",
       "  <thead>\n",
       "    <tr style=\"text-align: right;\">\n",
       "      <th></th>\n",
       "      <th>year</th>\n",
       "      <th>LandAverageTemperature</th>\n",
       "      <th>LandAverageTemperatureUncertainty</th>\n",
       "    </tr>\n",
       "  </thead>\n",
       "  <tbody>\n",
       "    <tr>\n",
       "      <th>0</th>\n",
       "      <td>1750</td>\n",
       "      <td>8.719364</td>\n",
       "      <td>2.637818</td>\n",
       "    </tr>\n",
       "    <tr>\n",
       "      <th>1</th>\n",
       "      <td>1751</td>\n",
       "      <td>7.976143</td>\n",
       "      <td>2.781143</td>\n",
       "    </tr>\n",
       "    <tr>\n",
       "      <th>2</th>\n",
       "      <td>1752</td>\n",
       "      <td>5.779833</td>\n",
       "      <td>2.977000</td>\n",
       "    </tr>\n",
       "    <tr>\n",
       "      <th>3</th>\n",
       "      <td>1753</td>\n",
       "      <td>8.388083</td>\n",
       "      <td>3.176000</td>\n",
       "    </tr>\n",
       "    <tr>\n",
       "      <th>4</th>\n",
       "      <td>1754</td>\n",
       "      <td>8.469333</td>\n",
       "      <td>3.494250</td>\n",
       "    </tr>\n",
       "  </tbody>\n",
       "</table>\n",
       "</div>"
      ],
      "text/plain": [
       "   year  LandAverageTemperature  LandAverageTemperatureUncertainty\n",
       "0  1750                8.719364                           2.637818\n",
       "1  1751                7.976143                           2.781143\n",
       "2  1752                5.779833                           2.977000\n",
       "3  1753                8.388083                           3.176000\n",
       "4  1754                8.469333                           3.494250"
      ]
     },
     "execution_count": 19,
     "metadata": {},
     "output_type": "execute_result"
    }
   ],
   "source": [
    "data_global = global_temps.groupby('year').agg({'LandAverageTemperature':'mean','LandAverageTemperatureUncertainty':'mean'}).reset_index()\n",
    "data_global.head()"
   ]
  },
  {
   "cell_type": "code",
   "execution_count": 20,
   "metadata": {},
   "outputs": [
    {
     "data": {
      "text/html": [
       "<div>\n",
       "<style scoped>\n",
       "    .dataframe tbody tr th:only-of-type {\n",
       "        vertical-align: middle;\n",
       "    }\n",
       "\n",
       "    .dataframe tbody tr th {\n",
       "        vertical-align: top;\n",
       "    }\n",
       "\n",
       "    .dataframe thead th {\n",
       "        text-align: right;\n",
       "    }\n",
       "</style>\n",
       "<table border=\"1\" class=\"dataframe\">\n",
       "  <thead>\n",
       "    <tr style=\"text-align: right;\">\n",
       "      <th></th>\n",
       "      <th>year</th>\n",
       "      <th>LandAverageTemperature</th>\n",
       "      <th>LandAverageTemperatureUncertainty</th>\n",
       "      <th>Uncertainty_top</th>\n",
       "      <th>Uncertainty_bottom</th>\n",
       "    </tr>\n",
       "  </thead>\n",
       "  <tbody>\n",
       "    <tr>\n",
       "      <th>0</th>\n",
       "      <td>1750</td>\n",
       "      <td>8.719364</td>\n",
       "      <td>2.637818</td>\n",
       "      <td>11.357182</td>\n",
       "      <td>6.081545</td>\n",
       "    </tr>\n",
       "    <tr>\n",
       "      <th>1</th>\n",
       "      <td>1751</td>\n",
       "      <td>7.976143</td>\n",
       "      <td>2.781143</td>\n",
       "      <td>10.757286</td>\n",
       "      <td>5.195000</td>\n",
       "    </tr>\n",
       "    <tr>\n",
       "      <th>2</th>\n",
       "      <td>1752</td>\n",
       "      <td>5.779833</td>\n",
       "      <td>2.977000</td>\n",
       "      <td>8.756833</td>\n",
       "      <td>2.802833</td>\n",
       "    </tr>\n",
       "    <tr>\n",
       "      <th>3</th>\n",
       "      <td>1753</td>\n",
       "      <td>8.388083</td>\n",
       "      <td>3.176000</td>\n",
       "      <td>11.564083</td>\n",
       "      <td>5.212083</td>\n",
       "    </tr>\n",
       "    <tr>\n",
       "      <th>4</th>\n",
       "      <td>1754</td>\n",
       "      <td>8.469333</td>\n",
       "      <td>3.494250</td>\n",
       "      <td>11.963583</td>\n",
       "      <td>4.975083</td>\n",
       "    </tr>\n",
       "    <tr>\n",
       "      <th>...</th>\n",
       "      <td>...</td>\n",
       "      <td>...</td>\n",
       "      <td>...</td>\n",
       "      <td>...</td>\n",
       "      <td>...</td>\n",
       "    </tr>\n",
       "    <tr>\n",
       "      <th>261</th>\n",
       "      <td>2011</td>\n",
       "      <td>9.516000</td>\n",
       "      <td>0.082000</td>\n",
       "      <td>9.598000</td>\n",
       "      <td>9.434000</td>\n",
       "    </tr>\n",
       "    <tr>\n",
       "      <th>262</th>\n",
       "      <td>2012</td>\n",
       "      <td>9.507333</td>\n",
       "      <td>0.083417</td>\n",
       "      <td>9.590750</td>\n",
       "      <td>9.423917</td>\n",
       "    </tr>\n",
       "    <tr>\n",
       "      <th>263</th>\n",
       "      <td>2013</td>\n",
       "      <td>9.606500</td>\n",
       "      <td>0.097667</td>\n",
       "      <td>9.704167</td>\n",
       "      <td>9.508833</td>\n",
       "    </tr>\n",
       "    <tr>\n",
       "      <th>264</th>\n",
       "      <td>2014</td>\n",
       "      <td>9.570667</td>\n",
       "      <td>0.090167</td>\n",
       "      <td>9.660833</td>\n",
       "      <td>9.480500</td>\n",
       "    </tr>\n",
       "    <tr>\n",
       "      <th>265</th>\n",
       "      <td>2015</td>\n",
       "      <td>9.831000</td>\n",
       "      <td>0.092167</td>\n",
       "      <td>9.923167</td>\n",
       "      <td>9.738833</td>\n",
       "    </tr>\n",
       "  </tbody>\n",
       "</table>\n",
       "<p>266 rows × 5 columns</p>\n",
       "</div>"
      ],
      "text/plain": [
       "     year  LandAverageTemperature  LandAverageTemperatureUncertainty  \\\n",
       "0    1750                8.719364                           2.637818   \n",
       "1    1751                7.976143                           2.781143   \n",
       "2    1752                5.779833                           2.977000   \n",
       "3    1753                8.388083                           3.176000   \n",
       "4    1754                8.469333                           3.494250   \n",
       "..    ...                     ...                                ...   \n",
       "261  2011                9.516000                           0.082000   \n",
       "262  2012                9.507333                           0.083417   \n",
       "263  2013                9.606500                           0.097667   \n",
       "264  2014                9.570667                           0.090167   \n",
       "265  2015                9.831000                           0.092167   \n",
       "\n",
       "     Uncertainty_top  Uncertainty_bottom  \n",
       "0          11.357182            6.081545  \n",
       "1          10.757286            5.195000  \n",
       "2           8.756833            2.802833  \n",
       "3          11.564083            5.212083  \n",
       "4          11.963583            4.975083  \n",
       "..               ...                 ...  \n",
       "261         9.598000            9.434000  \n",
       "262         9.590750            9.423917  \n",
       "263         9.704167            9.508833  \n",
       "264         9.660833            9.480500  \n",
       "265         9.923167            9.738833  \n",
       "\n",
       "[266 rows x 5 columns]"
      ]
     },
     "execution_count": 20,
     "metadata": {},
     "output_type": "execute_result"
    }
   ],
   "source": [
    "data_global['Uncertainty_top'] = data_global['LandAverageTemperature'] + data_global['LandAverageTemperatureUncertainty']\n",
    "data_global['Uncertainty_bottom'] = data_global['LandAverageTemperature'] - data_global['LandAverageTemperatureUncertainty']\n",
    "\n",
    "data_global"
   ]
  },
  {
   "cell_type": "code",
   "execution_count": 21,
   "metadata": {},
   "outputs": [],
   "source": [
    "data_global[\"year\"] = pd.to_numeric(data_global[\"year\"])"
   ]
  },
  {
   "cell_type": "code",
   "execution_count": 22,
   "metadata": {},
   "outputs": [
    {
     "data": {
      "application/vnd.plotly.v1+json": {
       "config": {
        "plotlyServerURL": "https://plot.ly"
       },
       "data": [
        {
         "hovertemplate": "variable=Uncertainty_top<br>Years (1750 - 2014)=%{x}<br>Temperature=%{y}<extra></extra>",
         "legendgroup": "Uncertainty_top",
         "line": {
          "color": "#636efa",
          "dash": "solid"
         },
         "marker": {
          "symbol": "circle"
         },
         "mode": "lines",
         "name": "Uncertainty_top",
         "orientation": "v",
         "showlegend": true,
         "type": "scatter",
         "x": [
          1750,
          1751,
          1752,
          1753,
          1754,
          1755,
          1756,
          1757,
          1758,
          1759,
          1760,
          1761,
          1762,
          1763,
          1764,
          1765,
          1766,
          1767,
          1768,
          1769,
          1770,
          1771,
          1772,
          1773,
          1774,
          1775,
          1776,
          1777,
          1778,
          1779,
          1780,
          1781,
          1782,
          1783,
          1784,
          1785,
          1786,
          1787,
          1788,
          1789,
          1790,
          1791,
          1792,
          1793,
          1794,
          1795,
          1796,
          1797,
          1798,
          1799,
          1800,
          1801,
          1802,
          1803,
          1804,
          1805,
          1806,
          1807,
          1808,
          1809,
          1810,
          1811,
          1812,
          1813,
          1814,
          1815,
          1816,
          1817,
          1818,
          1819,
          1820,
          1821,
          1822,
          1823,
          1824,
          1825,
          1826,
          1827,
          1828,
          1829,
          1830,
          1831,
          1832,
          1833,
          1834,
          1835,
          1836,
          1837,
          1838,
          1839,
          1840,
          1841,
          1842,
          1843,
          1844,
          1845,
          1846,
          1847,
          1848,
          1849,
          1850,
          1851,
          1852,
          1853,
          1854,
          1855,
          1856,
          1857,
          1858,
          1859,
          1860,
          1861,
          1862,
          1863,
          1864,
          1865,
          1866,
          1867,
          1868,
          1869,
          1870,
          1871,
          1872,
          1873,
          1874,
          1875,
          1876,
          1877,
          1878,
          1879,
          1880,
          1881,
          1882,
          1883,
          1884,
          1885,
          1886,
          1887,
          1888,
          1889,
          1890,
          1891,
          1892,
          1893,
          1894,
          1895,
          1896,
          1897,
          1898,
          1899,
          1900,
          1901,
          1902,
          1903,
          1904,
          1905,
          1906,
          1907,
          1908,
          1909,
          1910,
          1911,
          1912,
          1913,
          1914,
          1915,
          1916,
          1917,
          1918,
          1919,
          1920,
          1921,
          1922,
          1923,
          1924,
          1925,
          1926,
          1927,
          1928,
          1929,
          1930,
          1931,
          1932,
          1933,
          1934,
          1935,
          1936,
          1937,
          1938,
          1939,
          1940,
          1941,
          1942,
          1943,
          1944,
          1945,
          1946,
          1947,
          1948,
          1949,
          1950,
          1951,
          1952,
          1953,
          1954,
          1955,
          1956,
          1957,
          1958,
          1959,
          1960,
          1961,
          1962,
          1963,
          1964,
          1965,
          1966,
          1967,
          1968,
          1969,
          1970,
          1971,
          1972,
          1973,
          1974,
          1975,
          1976,
          1977,
          1978,
          1979,
          1980,
          1981,
          1982,
          1983,
          1984,
          1985,
          1986,
          1987,
          1988,
          1989,
          1990,
          1991,
          1992,
          1993,
          1994,
          1995,
          1996,
          1997,
          1998,
          1999,
          2000,
          2001,
          2002,
          2003,
          2004,
          2005,
          2006,
          2007,
          2008,
          2009,
          2010,
          2011,
          2012,
          2013,
          2014,
          2015
         ],
         "xaxis": "x",
         "y": [
          11.357181818181818,
          10.757285714285715,
          8.756833333333333,
          11.564083333333333,
          11.963583333333332,
          12.205916666666667,
          12.111916666666666,
          13.048,
          10.1065,
          11.664,
          10.274083333333333,
          11.917333333333332,
          12.13075,
          10.648333333333333,
          11.175583333333334,
          10.679666666666666,
          11.2415,
          11.184166666666668,
          9.047333333333334,
          10.104666666666667,
          10.472583333333333,
          10.45775,
          10.657333333333334,
          10.58225,
          12.187333333333333,
          11.503666666666668,
          11.168166666666666,
          10.699083333333332,
          11.414750000000002,
          11.489083333333333,
          12.01775,
          10.606416666666666,
          10.451833333333333,
          10.17525,
          10.117666666666665,
          9.6025,
          10.783583333333333,
          10.393583333333334,
          11.004999999999999,
          10.202833333333333,
          9.754,
          10.018,
          9.789416666666668,
          10.503583333333333,
          10.505000000000003,
          10.393666666666666,
          10.191666666666666,
          10.55625,
          10.573583333333335,
          10.244166666666668,
          10.202916666666669,
          10.171333333333333,
          10.427166666666666,
          10.136166666666666,
          10.686666666666666,
          10.251666666666665,
          10.004166666666666,
          9.873666666666667,
          9.623666666666667,
          9.211833333333333,
          9.233666666666668,
          8.955250000000001,
          9.181833333333334,
          9.44875,
          9.76025,
          9.205833333333334,
          9.130416666666667,
          8.684,
          9.658000000000001,
          8.951083333333333,
          9.235,
          9.465916666666669,
          9.563583333333334,
          9.080916666666667,
          9.995000000000001,
          9.897166666666667,
          9.916166666666665,
          10.252333333333333,
          9.813749999999999,
          9.261583333333332,
          9.948166666666667,
          9.170666666666667,
          8.990583333333333,
          9.2465,
          9.299,
          8.667833333333332,
          8.86525,
          8.666583333333334,
          8.67725,
          8.811666666666667,
          8.787416666666667,
          8.640166666666666,
          8.92025,
          8.9235,
          8.572333333333333,
          8.732666666666667,
          9.6045,
          8.986666666666666,
          8.850833333333332,
          8.898,
          8.777083333333334,
          9.060500000000001,
          9.018416666666667,
          8.876833333333334,
          9.036166666666666,
          8.997916666666667,
          8.756666666666666,
          8.50925,
          8.8,
          8.926666666666668,
          8.586833333333333,
          8.499916666666666,
          8.2475,
          8.859833333333333,
          8.66,
          8.84,
          8.898166666666667,
          9.071166666666667,
          8.79425,
          9.02775,
          8.7515,
          8.685333333333332,
          8.782916666666665,
          8.901583333333333,
          8.951416666666667,
          8.311083333333332,
          8.513583333333333,
          8.9955,
          9.254666666666665,
          8.62925,
          8.533666666666667,
          8.690249999999999,
          8.508833333333333,
          8.347583333333333,
          8.169916666666666,
          8.344666666666667,
          8.3405,
          8.307,
          8.472916666666666,
          8.688833333333335,
          8.314666666666668,
          8.354666666666667,
          8.404666666666666,
          8.402,
          8.47825,
          8.446250000000001,
          8.523750000000001,
          8.607166666666666,
          8.503666666666666,
          8.721083333333333,
          8.816333333333334,
          8.848166666666668,
          8.597166666666666,
          8.510166666666665,
          8.377333333333333,
          8.503916666666667,
          8.653999999999998,
          8.204333333333334,
          8.460833333333333,
          8.441,
          8.483083333333335,
          8.424833333333332,
          8.423833333333334,
          8.56,
          8.842416666666667,
          8.839333333333334,
          8.485666666666667,
          8.284,
          8.399083333333333,
          8.649000000000001,
          8.621416666666665,
          8.827833333333333,
          8.666583333333334,
          8.67525,
          8.763666666666667,
          8.775166666666667,
          8.971499999999999,
          8.770999999999999,
          8.880749999999999,
          8.494166666666667,
          8.873249999999999,
          8.957,
          8.954166666666666,
          8.580916666666667,
          8.868416666666667,
          8.751666666666667,
          8.797083333333333,
          8.938416666666665,
          9.104166666666668,
          8.997666666666667,
          8.995750000000001,
          8.9965,
          8.957916666666666,
          8.981666666666667,
          9.070166666666667,
          8.805166666666667,
          8.899333333333333,
          9.014166666666666,
          8.956333333333333,
          8.795,
          8.551583333333335,
          8.809833333333334,
          8.847000000000001,
          9.085833333333333,
          8.747833333333332,
          8.779833333333334,
          8.400416666666667,
          8.8905,
          8.878083333333333,
          8.839833333333333,
          8.67725,
          8.894666666666666,
          8.878833333333333,
          8.948333333333332,
          8.502166666666666,
          8.636249999999999,
          8.691583333333332,
          8.78375,
          8.628,
          8.68025,
          8.776499999999999,
          8.697166666666666,
          8.594916666666666,
          9.049,
          8.572,
          8.841916666666668,
          8.447833333333334,
          8.934916666666668,
          8.796583333333334,
          8.819833333333333,
          9.087,
          9.253083333333333,
          8.721833333333333,
          9.122166666666665,
          8.794416666666667,
          8.751249999999999,
          8.918583333333334,
          9.079583333333332,
          9.281666666666666,
          9.009999999999998,
          9.320500000000001,
          9.2415,
          8.919916666666667,
          8.947916666666666,
          9.109666666666667,
          9.4235,
          9.123666666666667,
          9.291166666666667,
          9.596583333333335,
          9.364333333333335,
          9.284666666666668,
          9.501999999999999,
          9.642833333333334,
          9.61625,
          9.408,
          9.776083333333332,
          9.6225,
          9.821666666666665,
          9.510666666666665,
          9.591166666666666,
          9.7865,
          9.598,
          9.59075,
          9.704166666666667,
          9.660833333333333,
          9.923166666666667
         ],
         "yaxis": "y"
        },
        {
         "hovertemplate": "variable=LandAverageTemperature<br>Years (1750 - 2014)=%{x}<br>Temperature=%{y}<extra></extra>",
         "legendgroup": "LandAverageTemperature",
         "line": {
          "color": "#EF553B",
          "dash": "solid"
         },
         "marker": {
          "symbol": "circle"
         },
         "mode": "lines",
         "name": "LandAverageTemperature",
         "orientation": "v",
         "showlegend": true,
         "type": "scatter",
         "x": [
          1750,
          1751,
          1752,
          1753,
          1754,
          1755,
          1756,
          1757,
          1758,
          1759,
          1760,
          1761,
          1762,
          1763,
          1764,
          1765,
          1766,
          1767,
          1768,
          1769,
          1770,
          1771,
          1772,
          1773,
          1774,
          1775,
          1776,
          1777,
          1778,
          1779,
          1780,
          1781,
          1782,
          1783,
          1784,
          1785,
          1786,
          1787,
          1788,
          1789,
          1790,
          1791,
          1792,
          1793,
          1794,
          1795,
          1796,
          1797,
          1798,
          1799,
          1800,
          1801,
          1802,
          1803,
          1804,
          1805,
          1806,
          1807,
          1808,
          1809,
          1810,
          1811,
          1812,
          1813,
          1814,
          1815,
          1816,
          1817,
          1818,
          1819,
          1820,
          1821,
          1822,
          1823,
          1824,
          1825,
          1826,
          1827,
          1828,
          1829,
          1830,
          1831,
          1832,
          1833,
          1834,
          1835,
          1836,
          1837,
          1838,
          1839,
          1840,
          1841,
          1842,
          1843,
          1844,
          1845,
          1846,
          1847,
          1848,
          1849,
          1850,
          1851,
          1852,
          1853,
          1854,
          1855,
          1856,
          1857,
          1858,
          1859,
          1860,
          1861,
          1862,
          1863,
          1864,
          1865,
          1866,
          1867,
          1868,
          1869,
          1870,
          1871,
          1872,
          1873,
          1874,
          1875,
          1876,
          1877,
          1878,
          1879,
          1880,
          1881,
          1882,
          1883,
          1884,
          1885,
          1886,
          1887,
          1888,
          1889,
          1890,
          1891,
          1892,
          1893,
          1894,
          1895,
          1896,
          1897,
          1898,
          1899,
          1900,
          1901,
          1902,
          1903,
          1904,
          1905,
          1906,
          1907,
          1908,
          1909,
          1910,
          1911,
          1912,
          1913,
          1914,
          1915,
          1916,
          1917,
          1918,
          1919,
          1920,
          1921,
          1922,
          1923,
          1924,
          1925,
          1926,
          1927,
          1928,
          1929,
          1930,
          1931,
          1932,
          1933,
          1934,
          1935,
          1936,
          1937,
          1938,
          1939,
          1940,
          1941,
          1942,
          1943,
          1944,
          1945,
          1946,
          1947,
          1948,
          1949,
          1950,
          1951,
          1952,
          1953,
          1954,
          1955,
          1956,
          1957,
          1958,
          1959,
          1960,
          1961,
          1962,
          1963,
          1964,
          1965,
          1966,
          1967,
          1968,
          1969,
          1970,
          1971,
          1972,
          1973,
          1974,
          1975,
          1976,
          1977,
          1978,
          1979,
          1980,
          1981,
          1982,
          1983,
          1984,
          1985,
          1986,
          1987,
          1988,
          1989,
          1990,
          1991,
          1992,
          1993,
          1994,
          1995,
          1996,
          1997,
          1998,
          1999,
          2000,
          2001,
          2002,
          2003,
          2004,
          2005,
          2006,
          2007,
          2008,
          2009,
          2010,
          2011,
          2012,
          2013,
          2014,
          2015
         ],
         "xaxis": "x",
         "y": [
          8.719363636363637,
          7.9761428571428565,
          5.779833333333333,
          8.388083333333332,
          8.469333333333333,
          8.355583333333334,
          8.849583333333333,
          9.022,
          6.7435833333333335,
          7.985083333333333,
          7.1851666666666665,
          8.772499999999999,
          8.6065,
          7.49675,
          8.400333333333334,
          8.251916666666666,
          8.405666666666667,
          8.2215,
          6.781333333333333,
          7.694583333333333,
          7.691916666666667,
          7.853166666666667,
          8.1935,
          8.2215,
          8.772166666666667,
          9.183083333333334,
          8.304,
          8.25625,
          8.542250000000001,
          8.98325,
          9.432916666666666,
          8.102583333333333,
          7.90125,
          7.680833333333333,
          7.861999999999999,
          7.3629999999999995,
          8.258166666666666,
          8.031833333333333,
          8.447166666666666,
          8.334166666666667,
          7.982333333333333,
          8.234250000000001,
          8.089,
          8.229166666666666,
          8.526000000000002,
          8.350333333333333,
          8.270999999999999,
          8.510583333333333,
          8.670250000000001,
          8.50575,
          8.484250000000001,
          8.589666666666666,
          8.578166666666666,
          8.503,
          8.844833333333332,
          8.56275,
          8.434083333333334,
          8.281416666666667,
          7.626833333333333,
          7.076416666666667,
          6.922666666666667,
          6.859500000000001,
          7.04625,
          7.739916666666667,
          7.59175,
          7.239333333333334,
          6.9375,
          6.975666666666666,
          7.828916666666667,
          7.369166666666666,
          7.61625,
          8.090083333333334,
          8.188333333333334,
          7.718666666666667,
          8.547166666666667,
          8.389333333333333,
          8.356583333333333,
          8.80875,
          8.165333333333333,
          7.941833333333332,
          8.51675,
          7.639166666666667,
          7.450166666666667,
          8.013,
          8.146749999999999,
          7.392499999999999,
          7.695833333333334,
          7.375666666666667,
          7.514916666666667,
          7.63225,
          7.796250000000001,
          7.688166666666667,
          8.02275,
          8.173666666666668,
          7.646333333333334,
          7.851166666666667,
          8.55275,
          8.086,
          7.979499999999999,
          7.984416666666667,
          7.900666666666667,
          8.178583333333334,
          8.100166666666667,
          8.041833333333333,
          8.2105,
          8.11075,
          7.995916666666666,
          7.758166666666667,
          8.10025,
          8.252,
          7.960833333333333,
          7.8465,
          7.558583333333334,
          8.111833333333333,
          7.983583333333333,
          8.177833333333334,
          8.292166666666667,
          8.436333333333334,
          8.247916666666667,
          8.432083333333333,
          8.201333333333332,
          8.115083333333333,
          8.193833333333332,
          8.351083333333333,
          8.4335,
          7.859583333333333,
          8.080083333333333,
          8.539583333333333,
          8.829749999999999,
          8.165833333333333,
          8.11875,
          8.270916666666666,
          8.128916666666667,
          7.976916666666667,
          7.773666666666666,
          7.919666666666667,
          7.9545,
          7.914916666666667,
          8.0905,
          8.319,
          7.971666666666667,
          8.019333333333334,
          8.065833333333332,
          8.05675,
          8.161,
          8.147,
          8.214916666666667,
          8.293333333333333,
          8.177999999999999,
          8.396333333333333,
          8.501583333333334,
          8.541916666666667,
          8.304416666666667,
          8.220166666666666,
          8.090916666666667,
          8.225166666666667,
          8.379083333333332,
          7.947166666666667,
          8.186083333333334,
          8.17825,
          8.223,
          8.177,
          8.165416666666667,
          8.29775,
          8.5905,
          8.593166666666667,
          8.22525,
          8.023333333333333,
          8.130833333333333,
          8.38225,
          8.358749999999999,
          8.571,
          8.408,
          8.422166666666667,
          8.506833333333335,
          8.534416666666667,
          8.728833333333332,
          8.522083333333333,
          8.632166666666667,
          8.242416666666667,
          8.633583333333332,
          8.71925,
          8.70525,
          8.33825,
          8.628333333333334,
          8.51575,
          8.554,
          8.698333333333332,
          8.863666666666667,
          8.760333333333334,
          8.764666666666667,
          8.768666666666666,
          8.728416666666666,
          8.755083333333333,
          8.845,
          8.584833333333334,
          8.676916666666667,
          8.797083333333333,
          8.74675,
          8.58675,
          8.365250000000001,
          8.625666666666667,
          8.638250000000001,
          8.87375,
          8.560666666666666,
          8.62625,
          8.279583333333333,
          8.7325,
          8.77375,
          8.732666666666667,
          8.58375,
          8.797666666666666,
          8.745916666666666,
          8.856,
          8.409666666666666,
          8.527416666666666,
          8.599333333333332,
          8.700083333333334,
          8.516333333333334,
          8.595083333333333,
          8.700916666666666,
          8.59925,
          8.499583333333334,
          8.94825,
          8.4675,
          8.744833333333334,
          8.34725,
          8.85025,
          8.69275,
          8.733416666666667,
          8.980333333333332,
          9.165833333333333,
          8.639166666666666,
          9.028166666666666,
          8.691833333333333,
          8.658,
          8.833583333333333,
          8.994416666666666,
          9.201583333333334,
          8.921999999999999,
          9.234166666666667,
          9.179416666666667,
          8.836583333333333,
          8.866583333333333,
          9.03875,
          9.347083333333334,
          9.038916666666667,
          9.202583333333333,
          9.522666666666668,
          9.285083333333334,
          9.201166666666667,
          9.414583333333333,
          9.570416666666667,
          9.525583333333334,
          9.324583333333333,
          9.700916666666666,
          9.5325,
          9.732166666666666,
          9.43175,
          9.50525,
          9.703083333333334,
          9.516,
          9.507333333333333,
          9.6065,
          9.570666666666666,
          9.831
         ],
         "yaxis": "y"
        },
        {
         "hovertemplate": "variable=Uncertainty_bottom<br>Years (1750 - 2014)=%{x}<br>Temperature=%{y}<extra></extra>",
         "legendgroup": "Uncertainty_bottom",
         "line": {
          "color": "#00cc96",
          "dash": "solid"
         },
         "marker": {
          "symbol": "circle"
         },
         "mode": "lines",
         "name": "Uncertainty_bottom",
         "orientation": "v",
         "showlegend": true,
         "type": "scatter",
         "x": [
          1750,
          1751,
          1752,
          1753,
          1754,
          1755,
          1756,
          1757,
          1758,
          1759,
          1760,
          1761,
          1762,
          1763,
          1764,
          1765,
          1766,
          1767,
          1768,
          1769,
          1770,
          1771,
          1772,
          1773,
          1774,
          1775,
          1776,
          1777,
          1778,
          1779,
          1780,
          1781,
          1782,
          1783,
          1784,
          1785,
          1786,
          1787,
          1788,
          1789,
          1790,
          1791,
          1792,
          1793,
          1794,
          1795,
          1796,
          1797,
          1798,
          1799,
          1800,
          1801,
          1802,
          1803,
          1804,
          1805,
          1806,
          1807,
          1808,
          1809,
          1810,
          1811,
          1812,
          1813,
          1814,
          1815,
          1816,
          1817,
          1818,
          1819,
          1820,
          1821,
          1822,
          1823,
          1824,
          1825,
          1826,
          1827,
          1828,
          1829,
          1830,
          1831,
          1832,
          1833,
          1834,
          1835,
          1836,
          1837,
          1838,
          1839,
          1840,
          1841,
          1842,
          1843,
          1844,
          1845,
          1846,
          1847,
          1848,
          1849,
          1850,
          1851,
          1852,
          1853,
          1854,
          1855,
          1856,
          1857,
          1858,
          1859,
          1860,
          1861,
          1862,
          1863,
          1864,
          1865,
          1866,
          1867,
          1868,
          1869,
          1870,
          1871,
          1872,
          1873,
          1874,
          1875,
          1876,
          1877,
          1878,
          1879,
          1880,
          1881,
          1882,
          1883,
          1884,
          1885,
          1886,
          1887,
          1888,
          1889,
          1890,
          1891,
          1892,
          1893,
          1894,
          1895,
          1896,
          1897,
          1898,
          1899,
          1900,
          1901,
          1902,
          1903,
          1904,
          1905,
          1906,
          1907,
          1908,
          1909,
          1910,
          1911,
          1912,
          1913,
          1914,
          1915,
          1916,
          1917,
          1918,
          1919,
          1920,
          1921,
          1922,
          1923,
          1924,
          1925,
          1926,
          1927,
          1928,
          1929,
          1930,
          1931,
          1932,
          1933,
          1934,
          1935,
          1936,
          1937,
          1938,
          1939,
          1940,
          1941,
          1942,
          1943,
          1944,
          1945,
          1946,
          1947,
          1948,
          1949,
          1950,
          1951,
          1952,
          1953,
          1954,
          1955,
          1956,
          1957,
          1958,
          1959,
          1960,
          1961,
          1962,
          1963,
          1964,
          1965,
          1966,
          1967,
          1968,
          1969,
          1970,
          1971,
          1972,
          1973,
          1974,
          1975,
          1976,
          1977,
          1978,
          1979,
          1980,
          1981,
          1982,
          1983,
          1984,
          1985,
          1986,
          1987,
          1988,
          1989,
          1990,
          1991,
          1992,
          1993,
          1994,
          1995,
          1996,
          1997,
          1998,
          1999,
          2000,
          2001,
          2002,
          2003,
          2004,
          2005,
          2006,
          2007,
          2008,
          2009,
          2010,
          2011,
          2012,
          2013,
          2014,
          2015
         ],
         "xaxis": "x",
         "y": [
          6.081545454545456,
          5.194999999999999,
          2.802833333333333,
          5.212083333333332,
          4.975083333333334,
          4.50525,
          5.587250000000001,
          4.996,
          3.3806666666666665,
          4.306166666666666,
          4.0962499999999995,
          5.627666666666666,
          5.08225,
          4.345166666666666,
          5.625083333333334,
          5.824166666666667,
          5.569833333333333,
          5.2588333333333335,
          4.515333333333333,
          5.2844999999999995,
          4.91125,
          5.248583333333333,
          5.729666666666667,
          5.860750000000001,
          5.357000000000001,
          6.862500000000001,
          5.439833333333334,
          5.813416666666667,
          5.6697500000000005,
          6.477416666666667,
          6.8480833333333315,
          5.598750000000001,
          5.350666666666667,
          5.186416666666666,
          5.606333333333333,
          5.1235,
          5.732749999999999,
          5.6700833333333325,
          5.889333333333333,
          6.4655,
          6.210666666666667,
          6.450500000000001,
          6.388583333333334,
          5.954749999999999,
          6.5470000000000015,
          6.307,
          6.3503333333333325,
          6.4649166666666655,
          6.766916666666668,
          6.767333333333334,
          6.765583333333335,
          7.007999999999999,
          6.729166666666666,
          6.869833333333333,
          7.002999999999998,
          6.873833333333333,
          6.864,
          6.689166666666667,
          5.63,
          4.941000000000001,
          4.611666666666667,
          4.76375,
          4.910666666666666,
          6.031083333333333,
          5.42325,
          5.272833333333334,
          4.744583333333333,
          5.267333333333333,
          5.999833333333334,
          5.787249999999999,
          5.9975,
          6.714250000000001,
          6.813083333333334,
          6.356416666666666,
          7.099333333333334,
          6.8815,
          6.797,
          7.365166666666666,
          6.516916666666666,
          6.622083333333332,
          7.085333333333334,
          6.107666666666667,
          5.909750000000001,
          6.7795,
          6.994499999999999,
          6.117166666666666,
          6.526416666666667,
          6.08475,
          6.3525833333333335,
          6.452833333333333,
          6.805083333333334,
          6.736166666666667,
          7.12525,
          7.423833333333334,
          6.7203333333333335,
          6.969666666666667,
          7.5009999999999994,
          7.185333333333333,
          7.108166666666666,
          7.070833333333334,
          7.02425,
          7.296666666666667,
          7.181916666666666,
          7.206833333333333,
          7.384833333333333,
          7.223583333333333,
          7.235166666666666,
          7.007083333333334,
          7.400500000000001,
          7.577333333333334,
          7.334833333333333,
          7.193083333333333,
          6.869666666666667,
          7.363833333333333,
          7.307166666666666,
          7.515666666666667,
          7.686166666666667,
          7.801500000000001,
          7.701583333333334,
          7.836416666666667,
          7.651166666666666,
          7.544833333333333,
          7.604749999999999,
          7.800583333333334,
          7.915583333333334,
          7.408083333333333,
          7.646583333333332,
          8.083666666666666,
          8.404833333333332,
          7.702416666666667,
          7.703833333333334,
          7.851583333333333,
          7.7490000000000006,
          7.60625,
          7.377416666666666,
          7.494666666666667,
          7.5685,
          7.522833333333333,
          7.708083333333334,
          7.949166666666668,
          7.628666666666667,
          7.684,
          7.7269999999999985,
          7.711499999999999,
          7.84375,
          7.8477500000000004,
          7.906083333333334,
          7.9795,
          7.852333333333332,
          8.071583333333333,
          8.186833333333334,
          8.235666666666667,
          8.011666666666667,
          7.930166666666666,
          7.8045,
          7.946416666666667,
          8.104166666666666,
          7.69,
          7.911333333333334,
          7.915500000000001,
          7.9629166666666675,
          7.929166666666666,
          7.907000000000001,
          8.0355,
          8.338583333333334,
          8.347,
          7.964833333333334,
          7.762666666666667,
          7.862583333333333,
          8.1155,
          8.096083333333333,
          8.314166666666667,
          8.149416666666665,
          8.169083333333335,
          8.250000000000002,
          8.293666666666667,
          8.486166666666666,
          8.273166666666667,
          8.383583333333334,
          7.990666666666667,
          8.393916666666666,
          8.4815,
          8.456333333333333,
          8.095583333333334,
          8.388250000000001,
          8.279833333333334,
          8.310916666666667,
          8.45825,
          8.623166666666666,
          8.523,
          8.533583333333333,
          8.540833333333333,
          8.498916666666666,
          8.5285,
          8.619833333333334,
          8.364500000000001,
          8.454500000000001,
          8.58,
          8.537166666666668,
          8.3785,
          8.178916666666668,
          8.441500000000001,
          8.4295,
          8.661666666666665,
          8.3735,
          8.472666666666667,
          8.15875,
          8.5745,
          8.669416666666667,
          8.6255,
          8.49025,
          8.700666666666667,
          8.613,
          8.763666666666667,
          8.317166666666667,
          8.418583333333332,
          8.507083333333332,
          8.616416666666668,
          8.404666666666667,
          8.509916666666667,
          8.625333333333334,
          8.501333333333333,
          8.404250000000001,
          8.8475,
          8.363,
          8.64775,
          8.246666666666668,
          8.765583333333334,
          8.588916666666666,
          8.647,
          8.873666666666665,
          9.078583333333334,
          8.5565,
          8.934166666666666,
          8.58925,
          8.56475,
          8.748583333333332,
          8.90925,
          9.121500000000001,
          8.834,
          9.147833333333333,
          9.117333333333333,
          8.75325,
          8.78525,
          8.967833333333333,
          9.270666666666667,
          8.954166666666667,
          9.113999999999999,
          9.44875,
          9.205833333333334,
          9.117666666666667,
          9.327166666666667,
          9.498,
          9.434916666666666,
          9.241166666666667,
          9.62575,
          9.4425,
          9.642666666666667,
          9.352833333333333,
          9.419333333333334,
          9.619666666666667,
          9.434,
          9.423916666666667,
          9.508833333333333,
          9.4805,
          9.738833333333332
         ],
         "yaxis": "y"
        }
       ],
       "layout": {
        "legend": {
         "title": {
          "text": "variable"
         },
         "tracegroupgap": 0
        },
        "template": {
         "data": {
          "bar": [
           {
            "error_x": {
             "color": "#f2f5fa"
            },
            "error_y": {
             "color": "#f2f5fa"
            },
            "marker": {
             "line": {
              "color": "rgb(17,17,17)",
              "width": 0.5
             },
             "pattern": {
              "fillmode": "overlay",
              "size": 10,
              "solidity": 0.2
             }
            },
            "type": "bar"
           }
          ],
          "barpolar": [
           {
            "marker": {
             "line": {
              "color": "rgb(17,17,17)",
              "width": 0.5
             },
             "pattern": {
              "fillmode": "overlay",
              "size": 10,
              "solidity": 0.2
             }
            },
            "type": "barpolar"
           }
          ],
          "carpet": [
           {
            "aaxis": {
             "endlinecolor": "#A2B1C6",
             "gridcolor": "#506784",
             "linecolor": "#506784",
             "minorgridcolor": "#506784",
             "startlinecolor": "#A2B1C6"
            },
            "baxis": {
             "endlinecolor": "#A2B1C6",
             "gridcolor": "#506784",
             "linecolor": "#506784",
             "minorgridcolor": "#506784",
             "startlinecolor": "#A2B1C6"
            },
            "type": "carpet"
           }
          ],
          "choropleth": [
           {
            "colorbar": {
             "outlinewidth": 0,
             "ticks": ""
            },
            "type": "choropleth"
           }
          ],
          "contour": [
           {
            "colorbar": {
             "outlinewidth": 0,
             "ticks": ""
            },
            "colorscale": [
             [
              0,
              "#0d0887"
             ],
             [
              0.1111111111111111,
              "#46039f"
             ],
             [
              0.2222222222222222,
              "#7201a8"
             ],
             [
              0.3333333333333333,
              "#9c179e"
             ],
             [
              0.4444444444444444,
              "#bd3786"
             ],
             [
              0.5555555555555556,
              "#d8576b"
             ],
             [
              0.6666666666666666,
              "#ed7953"
             ],
             [
              0.7777777777777778,
              "#fb9f3a"
             ],
             [
              0.8888888888888888,
              "#fdca26"
             ],
             [
              1,
              "#f0f921"
             ]
            ],
            "type": "contour"
           }
          ],
          "contourcarpet": [
           {
            "colorbar": {
             "outlinewidth": 0,
             "ticks": ""
            },
            "type": "contourcarpet"
           }
          ],
          "heatmap": [
           {
            "colorbar": {
             "outlinewidth": 0,
             "ticks": ""
            },
            "colorscale": [
             [
              0,
              "#0d0887"
             ],
             [
              0.1111111111111111,
              "#46039f"
             ],
             [
              0.2222222222222222,
              "#7201a8"
             ],
             [
              0.3333333333333333,
              "#9c179e"
             ],
             [
              0.4444444444444444,
              "#bd3786"
             ],
             [
              0.5555555555555556,
              "#d8576b"
             ],
             [
              0.6666666666666666,
              "#ed7953"
             ],
             [
              0.7777777777777778,
              "#fb9f3a"
             ],
             [
              0.8888888888888888,
              "#fdca26"
             ],
             [
              1,
              "#f0f921"
             ]
            ],
            "type": "heatmap"
           }
          ],
          "heatmapgl": [
           {
            "colorbar": {
             "outlinewidth": 0,
             "ticks": ""
            },
            "colorscale": [
             [
              0,
              "#0d0887"
             ],
             [
              0.1111111111111111,
              "#46039f"
             ],
             [
              0.2222222222222222,
              "#7201a8"
             ],
             [
              0.3333333333333333,
              "#9c179e"
             ],
             [
              0.4444444444444444,
              "#bd3786"
             ],
             [
              0.5555555555555556,
              "#d8576b"
             ],
             [
              0.6666666666666666,
              "#ed7953"
             ],
             [
              0.7777777777777778,
              "#fb9f3a"
             ],
             [
              0.8888888888888888,
              "#fdca26"
             ],
             [
              1,
              "#f0f921"
             ]
            ],
            "type": "heatmapgl"
           }
          ],
          "histogram": [
           {
            "marker": {
             "pattern": {
              "fillmode": "overlay",
              "size": 10,
              "solidity": 0.2
             }
            },
            "type": "histogram"
           }
          ],
          "histogram2d": [
           {
            "colorbar": {
             "outlinewidth": 0,
             "ticks": ""
            },
            "colorscale": [
             [
              0,
              "#0d0887"
             ],
             [
              0.1111111111111111,
              "#46039f"
             ],
             [
              0.2222222222222222,
              "#7201a8"
             ],
             [
              0.3333333333333333,
              "#9c179e"
             ],
             [
              0.4444444444444444,
              "#bd3786"
             ],
             [
              0.5555555555555556,
              "#d8576b"
             ],
             [
              0.6666666666666666,
              "#ed7953"
             ],
             [
              0.7777777777777778,
              "#fb9f3a"
             ],
             [
              0.8888888888888888,
              "#fdca26"
             ],
             [
              1,
              "#f0f921"
             ]
            ],
            "type": "histogram2d"
           }
          ],
          "histogram2dcontour": [
           {
            "colorbar": {
             "outlinewidth": 0,
             "ticks": ""
            },
            "colorscale": [
             [
              0,
              "#0d0887"
             ],
             [
              0.1111111111111111,
              "#46039f"
             ],
             [
              0.2222222222222222,
              "#7201a8"
             ],
             [
              0.3333333333333333,
              "#9c179e"
             ],
             [
              0.4444444444444444,
              "#bd3786"
             ],
             [
              0.5555555555555556,
              "#d8576b"
             ],
             [
              0.6666666666666666,
              "#ed7953"
             ],
             [
              0.7777777777777778,
              "#fb9f3a"
             ],
             [
              0.8888888888888888,
              "#fdca26"
             ],
             [
              1,
              "#f0f921"
             ]
            ],
            "type": "histogram2dcontour"
           }
          ],
          "mesh3d": [
           {
            "colorbar": {
             "outlinewidth": 0,
             "ticks": ""
            },
            "type": "mesh3d"
           }
          ],
          "parcoords": [
           {
            "line": {
             "colorbar": {
              "outlinewidth": 0,
              "ticks": ""
             }
            },
            "type": "parcoords"
           }
          ],
          "pie": [
           {
            "automargin": true,
            "type": "pie"
           }
          ],
          "scatter": [
           {
            "marker": {
             "line": {
              "color": "#283442"
             }
            },
            "type": "scatter"
           }
          ],
          "scatter3d": [
           {
            "line": {
             "colorbar": {
              "outlinewidth": 0,
              "ticks": ""
             }
            },
            "marker": {
             "colorbar": {
              "outlinewidth": 0,
              "ticks": ""
             }
            },
            "type": "scatter3d"
           }
          ],
          "scattercarpet": [
           {
            "marker": {
             "colorbar": {
              "outlinewidth": 0,
              "ticks": ""
             }
            },
            "type": "scattercarpet"
           }
          ],
          "scattergeo": [
           {
            "marker": {
             "colorbar": {
              "outlinewidth": 0,
              "ticks": ""
             }
            },
            "type": "scattergeo"
           }
          ],
          "scattergl": [
           {
            "marker": {
             "line": {
              "color": "#283442"
             }
            },
            "type": "scattergl"
           }
          ],
          "scattermapbox": [
           {
            "marker": {
             "colorbar": {
              "outlinewidth": 0,
              "ticks": ""
             }
            },
            "type": "scattermapbox"
           }
          ],
          "scatterpolar": [
           {
            "marker": {
             "colorbar": {
              "outlinewidth": 0,
              "ticks": ""
             }
            },
            "type": "scatterpolar"
           }
          ],
          "scatterpolargl": [
           {
            "marker": {
             "colorbar": {
              "outlinewidth": 0,
              "ticks": ""
             }
            },
            "type": "scatterpolargl"
           }
          ],
          "scatterternary": [
           {
            "marker": {
             "colorbar": {
              "outlinewidth": 0,
              "ticks": ""
             }
            },
            "type": "scatterternary"
           }
          ],
          "surface": [
           {
            "colorbar": {
             "outlinewidth": 0,
             "ticks": ""
            },
            "colorscale": [
             [
              0,
              "#0d0887"
             ],
             [
              0.1111111111111111,
              "#46039f"
             ],
             [
              0.2222222222222222,
              "#7201a8"
             ],
             [
              0.3333333333333333,
              "#9c179e"
             ],
             [
              0.4444444444444444,
              "#bd3786"
             ],
             [
              0.5555555555555556,
              "#d8576b"
             ],
             [
              0.6666666666666666,
              "#ed7953"
             ],
             [
              0.7777777777777778,
              "#fb9f3a"
             ],
             [
              0.8888888888888888,
              "#fdca26"
             ],
             [
              1,
              "#f0f921"
             ]
            ],
            "type": "surface"
           }
          ],
          "table": [
           {
            "cells": {
             "fill": {
              "color": "#506784"
             },
             "line": {
              "color": "rgb(17,17,17)"
             }
            },
            "header": {
             "fill": {
              "color": "#2a3f5f"
             },
             "line": {
              "color": "rgb(17,17,17)"
             }
            },
            "type": "table"
           }
          ]
         },
         "layout": {
          "annotationdefaults": {
           "arrowcolor": "#f2f5fa",
           "arrowhead": 0,
           "arrowwidth": 1
          },
          "autotypenumbers": "strict",
          "coloraxis": {
           "colorbar": {
            "outlinewidth": 0,
            "ticks": ""
           }
          },
          "colorscale": {
           "diverging": [
            [
             0,
             "#8e0152"
            ],
            [
             0.1,
             "#c51b7d"
            ],
            [
             0.2,
             "#de77ae"
            ],
            [
             0.3,
             "#f1b6da"
            ],
            [
             0.4,
             "#fde0ef"
            ],
            [
             0.5,
             "#f7f7f7"
            ],
            [
             0.6,
             "#e6f5d0"
            ],
            [
             0.7,
             "#b8e186"
            ],
            [
             0.8,
             "#7fbc41"
            ],
            [
             0.9,
             "#4d9221"
            ],
            [
             1,
             "#276419"
            ]
           ],
           "sequential": [
            [
             0,
             "#0d0887"
            ],
            [
             0.1111111111111111,
             "#46039f"
            ],
            [
             0.2222222222222222,
             "#7201a8"
            ],
            [
             0.3333333333333333,
             "#9c179e"
            ],
            [
             0.4444444444444444,
             "#bd3786"
            ],
            [
             0.5555555555555556,
             "#d8576b"
            ],
            [
             0.6666666666666666,
             "#ed7953"
            ],
            [
             0.7777777777777778,
             "#fb9f3a"
            ],
            [
             0.8888888888888888,
             "#fdca26"
            ],
            [
             1,
             "#f0f921"
            ]
           ],
           "sequentialminus": [
            [
             0,
             "#0d0887"
            ],
            [
             0.1111111111111111,
             "#46039f"
            ],
            [
             0.2222222222222222,
             "#7201a8"
            ],
            [
             0.3333333333333333,
             "#9c179e"
            ],
            [
             0.4444444444444444,
             "#bd3786"
            ],
            [
             0.5555555555555556,
             "#d8576b"
            ],
            [
             0.6666666666666666,
             "#ed7953"
            ],
            [
             0.7777777777777778,
             "#fb9f3a"
            ],
            [
             0.8888888888888888,
             "#fdca26"
            ],
            [
             1,
             "#f0f921"
            ]
           ]
          },
          "colorway": [
           "#636efa",
           "#EF553B",
           "#00cc96",
           "#ab63fa",
           "#FFA15A",
           "#19d3f3",
           "#FF6692",
           "#B6E880",
           "#FF97FF",
           "#FECB52"
          ],
          "font": {
           "color": "#f2f5fa"
          },
          "geo": {
           "bgcolor": "rgb(17,17,17)",
           "lakecolor": "rgb(17,17,17)",
           "landcolor": "rgb(17,17,17)",
           "showlakes": true,
           "showland": true,
           "subunitcolor": "#506784"
          },
          "hoverlabel": {
           "align": "left"
          },
          "hovermode": "closest",
          "mapbox": {
           "style": "dark"
          },
          "paper_bgcolor": "rgb(17,17,17)",
          "plot_bgcolor": "rgb(17,17,17)",
          "polar": {
           "angularaxis": {
            "gridcolor": "#506784",
            "linecolor": "#506784",
            "ticks": ""
           },
           "bgcolor": "rgb(17,17,17)",
           "radialaxis": {
            "gridcolor": "#506784",
            "linecolor": "#506784",
            "ticks": ""
           }
          },
          "scene": {
           "xaxis": {
            "backgroundcolor": "rgb(17,17,17)",
            "gridcolor": "#506784",
            "gridwidth": 2,
            "linecolor": "#506784",
            "showbackground": true,
            "ticks": "",
            "zerolinecolor": "#C8D4E3"
           },
           "yaxis": {
            "backgroundcolor": "rgb(17,17,17)",
            "gridcolor": "#506784",
            "gridwidth": 2,
            "linecolor": "#506784",
            "showbackground": true,
            "ticks": "",
            "zerolinecolor": "#C8D4E3"
           },
           "zaxis": {
            "backgroundcolor": "rgb(17,17,17)",
            "gridcolor": "#506784",
            "gridwidth": 2,
            "linecolor": "#506784",
            "showbackground": true,
            "ticks": "",
            "zerolinecolor": "#C8D4E3"
           }
          },
          "shapedefaults": {
           "line": {
            "color": "#f2f5fa"
           }
          },
          "sliderdefaults": {
           "bgcolor": "#C8D4E3",
           "bordercolor": "rgb(17,17,17)",
           "borderwidth": 1,
           "tickwidth": 0
          },
          "ternary": {
           "aaxis": {
            "gridcolor": "#506784",
            "linecolor": "#506784",
            "ticks": ""
           },
           "baxis": {
            "gridcolor": "#506784",
            "linecolor": "#506784",
            "ticks": ""
           },
           "bgcolor": "rgb(17,17,17)",
           "caxis": {
            "gridcolor": "#506784",
            "linecolor": "#506784",
            "ticks": ""
           }
          },
          "title": {
           "x": 0.05
          },
          "updatemenudefaults": {
           "bgcolor": "#506784",
           "borderwidth": 0
          },
          "xaxis": {
           "automargin": true,
           "gridcolor": "#283442",
           "linecolor": "#506784",
           "ticks": "",
           "title": {
            "standoff": 15
           },
           "zerolinecolor": "#283442",
           "zerolinewidth": 2
          },
          "yaxis": {
           "automargin": true,
           "gridcolor": "#283442",
           "linecolor": "#506784",
           "ticks": "",
           "title": {
            "standoff": 15
           },
           "zerolinecolor": "#283442",
           "zerolinewidth": 2
          }
         }
        },
        "title": {
         "text": "Average Land Temperature"
        },
        "xaxis": {
         "anchor": "y",
         "domain": [
          0,
          1
         ],
         "tickvals": [
          1700,
          1750,
          1800,
          1850,
          1900,
          1950,
          2000
         ],
         "title": {
          "text": "Years (1750 - 2014)"
         }
        },
        "yaxis": {
         "anchor": "x",
         "domain": [
          0,
          1
         ],
         "tickvals": [
          0,
          5,
          10,
          15,
          20
         ],
         "title": {
          "text": "Temperature"
         }
        }
       }
      },
      "text/html": [
       "<div>                            <div id=\"b71249e3-6437-4355-b543-1ad2b56c1a06\" class=\"plotly-graph-div\" style=\"height:525px; width:100%;\"></div>            <script type=\"text/javascript\">                require([\"plotly\"], function(Plotly) {                    window.PLOTLYENV=window.PLOTLYENV || {};                                    if (document.getElementById(\"b71249e3-6437-4355-b543-1ad2b56c1a06\")) {                    Plotly.newPlot(                        \"b71249e3-6437-4355-b543-1ad2b56c1a06\",                        [{\"hovertemplate\":\"variable=Uncertainty_top<br>Years (1750 - 2014)=%{x}<br>Temperature=%{y}<extra></extra>\",\"legendgroup\":\"Uncertainty_top\",\"line\":{\"color\":\"#636efa\",\"dash\":\"solid\"},\"marker\":{\"symbol\":\"circle\"},\"mode\":\"lines\",\"name\":\"Uncertainty_top\",\"orientation\":\"v\",\"showlegend\":true,\"x\":[1750,1751,1752,1753,1754,1755,1756,1757,1758,1759,1760,1761,1762,1763,1764,1765,1766,1767,1768,1769,1770,1771,1772,1773,1774,1775,1776,1777,1778,1779,1780,1781,1782,1783,1784,1785,1786,1787,1788,1789,1790,1791,1792,1793,1794,1795,1796,1797,1798,1799,1800,1801,1802,1803,1804,1805,1806,1807,1808,1809,1810,1811,1812,1813,1814,1815,1816,1817,1818,1819,1820,1821,1822,1823,1824,1825,1826,1827,1828,1829,1830,1831,1832,1833,1834,1835,1836,1837,1838,1839,1840,1841,1842,1843,1844,1845,1846,1847,1848,1849,1850,1851,1852,1853,1854,1855,1856,1857,1858,1859,1860,1861,1862,1863,1864,1865,1866,1867,1868,1869,1870,1871,1872,1873,1874,1875,1876,1877,1878,1879,1880,1881,1882,1883,1884,1885,1886,1887,1888,1889,1890,1891,1892,1893,1894,1895,1896,1897,1898,1899,1900,1901,1902,1903,1904,1905,1906,1907,1908,1909,1910,1911,1912,1913,1914,1915,1916,1917,1918,1919,1920,1921,1922,1923,1924,1925,1926,1927,1928,1929,1930,1931,1932,1933,1934,1935,1936,1937,1938,1939,1940,1941,1942,1943,1944,1945,1946,1947,1948,1949,1950,1951,1952,1953,1954,1955,1956,1957,1958,1959,1960,1961,1962,1963,1964,1965,1966,1967,1968,1969,1970,1971,1972,1973,1974,1975,1976,1977,1978,1979,1980,1981,1982,1983,1984,1985,1986,1987,1988,1989,1990,1991,1992,1993,1994,1995,1996,1997,1998,1999,2000,2001,2002,2003,2004,2005,2006,2007,2008,2009,2010,2011,2012,2013,2014,2015],\"xaxis\":\"x\",\"y\":[11.357181818181818,10.757285714285715,8.756833333333333,11.564083333333333,11.963583333333332,12.205916666666667,12.111916666666666,13.048,10.1065,11.664,10.274083333333333,11.917333333333332,12.13075,10.648333333333333,11.175583333333334,10.679666666666666,11.2415,11.184166666666668,9.047333333333334,10.104666666666667,10.472583333333333,10.45775,10.657333333333334,10.58225,12.187333333333333,11.503666666666668,11.168166666666666,10.699083333333332,11.414750000000002,11.489083333333333,12.01775,10.606416666666666,10.451833333333333,10.17525,10.117666666666665,9.6025,10.783583333333333,10.393583333333334,11.004999999999999,10.202833333333333,9.754,10.018,9.789416666666668,10.503583333333333,10.505000000000003,10.393666666666666,10.191666666666666,10.55625,10.573583333333335,10.244166666666668,10.202916666666669,10.171333333333333,10.427166666666666,10.136166666666666,10.686666666666666,10.251666666666665,10.004166666666666,9.873666666666667,9.623666666666667,9.211833333333333,9.233666666666668,8.955250000000001,9.181833333333334,9.44875,9.76025,9.205833333333334,9.130416666666667,8.684,9.658000000000001,8.951083333333333,9.235,9.465916666666669,9.563583333333334,9.080916666666667,9.995000000000001,9.897166666666667,9.916166666666665,10.252333333333333,9.813749999999999,9.261583333333332,9.948166666666667,9.170666666666667,8.990583333333333,9.2465,9.299,8.667833333333332,8.86525,8.666583333333334,8.67725,8.811666666666667,8.787416666666667,8.640166666666666,8.92025,8.9235,8.572333333333333,8.732666666666667,9.6045,8.986666666666666,8.850833333333332,8.898,8.777083333333334,9.060500000000001,9.018416666666667,8.876833333333334,9.036166666666666,8.997916666666667,8.756666666666666,8.50925,8.8,8.926666666666668,8.586833333333333,8.499916666666666,8.2475,8.859833333333333,8.66,8.84,8.898166666666667,9.071166666666667,8.79425,9.02775,8.7515,8.685333333333332,8.782916666666665,8.901583333333333,8.951416666666667,8.311083333333332,8.513583333333333,8.9955,9.254666666666665,8.62925,8.533666666666667,8.690249999999999,8.508833333333333,8.347583333333333,8.169916666666666,8.344666666666667,8.3405,8.307,8.472916666666666,8.688833333333335,8.314666666666668,8.354666666666667,8.404666666666666,8.402,8.47825,8.446250000000001,8.523750000000001,8.607166666666666,8.503666666666666,8.721083333333333,8.816333333333334,8.848166666666668,8.597166666666666,8.510166666666665,8.377333333333333,8.503916666666667,8.653999999999998,8.204333333333334,8.460833333333333,8.441,8.483083333333335,8.424833333333332,8.423833333333334,8.56,8.842416666666667,8.839333333333334,8.485666666666667,8.284,8.399083333333333,8.649000000000001,8.621416666666665,8.827833333333333,8.666583333333334,8.67525,8.763666666666667,8.775166666666667,8.971499999999999,8.770999999999999,8.880749999999999,8.494166666666667,8.873249999999999,8.957,8.954166666666666,8.580916666666667,8.868416666666667,8.751666666666667,8.797083333333333,8.938416666666665,9.104166666666668,8.997666666666667,8.995750000000001,8.9965,8.957916666666666,8.981666666666667,9.070166666666667,8.805166666666667,8.899333333333333,9.014166666666666,8.956333333333333,8.795,8.551583333333335,8.809833333333334,8.847000000000001,9.085833333333333,8.747833333333332,8.779833333333334,8.400416666666667,8.8905,8.878083333333333,8.839833333333333,8.67725,8.894666666666666,8.878833333333333,8.948333333333332,8.502166666666666,8.636249999999999,8.691583333333332,8.78375,8.628,8.68025,8.776499999999999,8.697166666666666,8.594916666666666,9.049,8.572,8.841916666666668,8.447833333333334,8.934916666666668,8.796583333333334,8.819833333333333,9.087,9.253083333333333,8.721833333333333,9.122166666666665,8.794416666666667,8.751249999999999,8.918583333333334,9.079583333333332,9.281666666666666,9.009999999999998,9.320500000000001,9.2415,8.919916666666667,8.947916666666666,9.109666666666667,9.4235,9.123666666666667,9.291166666666667,9.596583333333335,9.364333333333335,9.284666666666668,9.501999999999999,9.642833333333334,9.61625,9.408,9.776083333333332,9.6225,9.821666666666665,9.510666666666665,9.591166666666666,9.7865,9.598,9.59075,9.704166666666667,9.660833333333333,9.923166666666667],\"yaxis\":\"y\",\"type\":\"scatter\"},{\"hovertemplate\":\"variable=LandAverageTemperature<br>Years (1750 - 2014)=%{x}<br>Temperature=%{y}<extra></extra>\",\"legendgroup\":\"LandAverageTemperature\",\"line\":{\"color\":\"#EF553B\",\"dash\":\"solid\"},\"marker\":{\"symbol\":\"circle\"},\"mode\":\"lines\",\"name\":\"LandAverageTemperature\",\"orientation\":\"v\",\"showlegend\":true,\"x\":[1750,1751,1752,1753,1754,1755,1756,1757,1758,1759,1760,1761,1762,1763,1764,1765,1766,1767,1768,1769,1770,1771,1772,1773,1774,1775,1776,1777,1778,1779,1780,1781,1782,1783,1784,1785,1786,1787,1788,1789,1790,1791,1792,1793,1794,1795,1796,1797,1798,1799,1800,1801,1802,1803,1804,1805,1806,1807,1808,1809,1810,1811,1812,1813,1814,1815,1816,1817,1818,1819,1820,1821,1822,1823,1824,1825,1826,1827,1828,1829,1830,1831,1832,1833,1834,1835,1836,1837,1838,1839,1840,1841,1842,1843,1844,1845,1846,1847,1848,1849,1850,1851,1852,1853,1854,1855,1856,1857,1858,1859,1860,1861,1862,1863,1864,1865,1866,1867,1868,1869,1870,1871,1872,1873,1874,1875,1876,1877,1878,1879,1880,1881,1882,1883,1884,1885,1886,1887,1888,1889,1890,1891,1892,1893,1894,1895,1896,1897,1898,1899,1900,1901,1902,1903,1904,1905,1906,1907,1908,1909,1910,1911,1912,1913,1914,1915,1916,1917,1918,1919,1920,1921,1922,1923,1924,1925,1926,1927,1928,1929,1930,1931,1932,1933,1934,1935,1936,1937,1938,1939,1940,1941,1942,1943,1944,1945,1946,1947,1948,1949,1950,1951,1952,1953,1954,1955,1956,1957,1958,1959,1960,1961,1962,1963,1964,1965,1966,1967,1968,1969,1970,1971,1972,1973,1974,1975,1976,1977,1978,1979,1980,1981,1982,1983,1984,1985,1986,1987,1988,1989,1990,1991,1992,1993,1994,1995,1996,1997,1998,1999,2000,2001,2002,2003,2004,2005,2006,2007,2008,2009,2010,2011,2012,2013,2014,2015],\"xaxis\":\"x\",\"y\":[8.719363636363637,7.9761428571428565,5.779833333333333,8.388083333333332,8.469333333333333,8.355583333333334,8.849583333333333,9.022,6.7435833333333335,7.985083333333333,7.1851666666666665,8.772499999999999,8.6065,7.49675,8.400333333333334,8.251916666666666,8.405666666666667,8.2215,6.781333333333333,7.694583333333333,7.691916666666667,7.853166666666667,8.1935,8.2215,8.772166666666667,9.183083333333334,8.304,8.25625,8.542250000000001,8.98325,9.432916666666666,8.102583333333333,7.90125,7.680833333333333,7.861999999999999,7.3629999999999995,8.258166666666666,8.031833333333333,8.447166666666666,8.334166666666667,7.982333333333333,8.234250000000001,8.089,8.229166666666666,8.526000000000002,8.350333333333333,8.270999999999999,8.510583333333333,8.670250000000001,8.50575,8.484250000000001,8.589666666666666,8.578166666666666,8.503,8.844833333333332,8.56275,8.434083333333334,8.281416666666667,7.626833333333333,7.076416666666667,6.922666666666667,6.859500000000001,7.04625,7.739916666666667,7.59175,7.239333333333334,6.9375,6.975666666666666,7.828916666666667,7.369166666666666,7.61625,8.090083333333334,8.188333333333334,7.718666666666667,8.547166666666667,8.389333333333333,8.356583333333333,8.80875,8.165333333333333,7.941833333333332,8.51675,7.639166666666667,7.450166666666667,8.013,8.146749999999999,7.392499999999999,7.695833333333334,7.375666666666667,7.514916666666667,7.63225,7.796250000000001,7.688166666666667,8.02275,8.173666666666668,7.646333333333334,7.851166666666667,8.55275,8.086,7.979499999999999,7.984416666666667,7.900666666666667,8.178583333333334,8.100166666666667,8.041833333333333,8.2105,8.11075,7.995916666666666,7.758166666666667,8.10025,8.252,7.960833333333333,7.8465,7.558583333333334,8.111833333333333,7.983583333333333,8.177833333333334,8.292166666666667,8.436333333333334,8.247916666666667,8.432083333333333,8.201333333333332,8.115083333333333,8.193833333333332,8.351083333333333,8.4335,7.859583333333333,8.080083333333333,8.539583333333333,8.829749999999999,8.165833333333333,8.11875,8.270916666666666,8.128916666666667,7.976916666666667,7.773666666666666,7.919666666666667,7.9545,7.914916666666667,8.0905,8.319,7.971666666666667,8.019333333333334,8.065833333333332,8.05675,8.161,8.147,8.214916666666667,8.293333333333333,8.177999999999999,8.396333333333333,8.501583333333334,8.541916666666667,8.304416666666667,8.220166666666666,8.090916666666667,8.225166666666667,8.379083333333332,7.947166666666667,8.186083333333334,8.17825,8.223,8.177,8.165416666666667,8.29775,8.5905,8.593166666666667,8.22525,8.023333333333333,8.130833333333333,8.38225,8.358749999999999,8.571,8.408,8.422166666666667,8.506833333333335,8.534416666666667,8.728833333333332,8.522083333333333,8.632166666666667,8.242416666666667,8.633583333333332,8.71925,8.70525,8.33825,8.628333333333334,8.51575,8.554,8.698333333333332,8.863666666666667,8.760333333333334,8.764666666666667,8.768666666666666,8.728416666666666,8.755083333333333,8.845,8.584833333333334,8.676916666666667,8.797083333333333,8.74675,8.58675,8.365250000000001,8.625666666666667,8.638250000000001,8.87375,8.560666666666666,8.62625,8.279583333333333,8.7325,8.77375,8.732666666666667,8.58375,8.797666666666666,8.745916666666666,8.856,8.409666666666666,8.527416666666666,8.599333333333332,8.700083333333334,8.516333333333334,8.595083333333333,8.700916666666666,8.59925,8.499583333333334,8.94825,8.4675,8.744833333333334,8.34725,8.85025,8.69275,8.733416666666667,8.980333333333332,9.165833333333333,8.639166666666666,9.028166666666666,8.691833333333333,8.658,8.833583333333333,8.994416666666666,9.201583333333334,8.921999999999999,9.234166666666667,9.179416666666667,8.836583333333333,8.866583333333333,9.03875,9.347083333333334,9.038916666666667,9.202583333333333,9.522666666666668,9.285083333333334,9.201166666666667,9.414583333333333,9.570416666666667,9.525583333333334,9.324583333333333,9.700916666666666,9.5325,9.732166666666666,9.43175,9.50525,9.703083333333334,9.516,9.507333333333333,9.6065,9.570666666666666,9.831],\"yaxis\":\"y\",\"type\":\"scatter\"},{\"hovertemplate\":\"variable=Uncertainty_bottom<br>Years (1750 - 2014)=%{x}<br>Temperature=%{y}<extra></extra>\",\"legendgroup\":\"Uncertainty_bottom\",\"line\":{\"color\":\"#00cc96\",\"dash\":\"solid\"},\"marker\":{\"symbol\":\"circle\"},\"mode\":\"lines\",\"name\":\"Uncertainty_bottom\",\"orientation\":\"v\",\"showlegend\":true,\"x\":[1750,1751,1752,1753,1754,1755,1756,1757,1758,1759,1760,1761,1762,1763,1764,1765,1766,1767,1768,1769,1770,1771,1772,1773,1774,1775,1776,1777,1778,1779,1780,1781,1782,1783,1784,1785,1786,1787,1788,1789,1790,1791,1792,1793,1794,1795,1796,1797,1798,1799,1800,1801,1802,1803,1804,1805,1806,1807,1808,1809,1810,1811,1812,1813,1814,1815,1816,1817,1818,1819,1820,1821,1822,1823,1824,1825,1826,1827,1828,1829,1830,1831,1832,1833,1834,1835,1836,1837,1838,1839,1840,1841,1842,1843,1844,1845,1846,1847,1848,1849,1850,1851,1852,1853,1854,1855,1856,1857,1858,1859,1860,1861,1862,1863,1864,1865,1866,1867,1868,1869,1870,1871,1872,1873,1874,1875,1876,1877,1878,1879,1880,1881,1882,1883,1884,1885,1886,1887,1888,1889,1890,1891,1892,1893,1894,1895,1896,1897,1898,1899,1900,1901,1902,1903,1904,1905,1906,1907,1908,1909,1910,1911,1912,1913,1914,1915,1916,1917,1918,1919,1920,1921,1922,1923,1924,1925,1926,1927,1928,1929,1930,1931,1932,1933,1934,1935,1936,1937,1938,1939,1940,1941,1942,1943,1944,1945,1946,1947,1948,1949,1950,1951,1952,1953,1954,1955,1956,1957,1958,1959,1960,1961,1962,1963,1964,1965,1966,1967,1968,1969,1970,1971,1972,1973,1974,1975,1976,1977,1978,1979,1980,1981,1982,1983,1984,1985,1986,1987,1988,1989,1990,1991,1992,1993,1994,1995,1996,1997,1998,1999,2000,2001,2002,2003,2004,2005,2006,2007,2008,2009,2010,2011,2012,2013,2014,2015],\"xaxis\":\"x\",\"y\":[6.081545454545456,5.194999999999999,2.802833333333333,5.212083333333332,4.975083333333334,4.50525,5.587250000000001,4.996,3.3806666666666665,4.306166666666666,4.0962499999999995,5.627666666666666,5.08225,4.345166666666666,5.625083333333334,5.824166666666667,5.569833333333333,5.2588333333333335,4.515333333333333,5.2844999999999995,4.91125,5.248583333333333,5.729666666666667,5.860750000000001,5.357000000000001,6.862500000000001,5.439833333333334,5.813416666666667,5.6697500000000005,6.477416666666667,6.8480833333333315,5.598750000000001,5.350666666666667,5.186416666666666,5.606333333333333,5.1235,5.732749999999999,5.6700833333333325,5.889333333333333,6.4655,6.210666666666667,6.450500000000001,6.388583333333334,5.954749999999999,6.5470000000000015,6.307,6.3503333333333325,6.4649166666666655,6.766916666666668,6.767333333333334,6.765583333333335,7.007999999999999,6.729166666666666,6.869833333333333,7.002999999999998,6.873833333333333,6.864,6.689166666666667,5.63,4.941000000000001,4.611666666666667,4.76375,4.910666666666666,6.031083333333333,5.42325,5.272833333333334,4.744583333333333,5.267333333333333,5.999833333333334,5.787249999999999,5.9975,6.714250000000001,6.813083333333334,6.356416666666666,7.099333333333334,6.8815,6.797,7.365166666666666,6.516916666666666,6.622083333333332,7.085333333333334,6.107666666666667,5.909750000000001,6.7795,6.994499999999999,6.117166666666666,6.526416666666667,6.08475,6.3525833333333335,6.452833333333333,6.805083333333334,6.736166666666667,7.12525,7.423833333333334,6.7203333333333335,6.969666666666667,7.5009999999999994,7.185333333333333,7.108166666666666,7.070833333333334,7.02425,7.296666666666667,7.181916666666666,7.206833333333333,7.384833333333333,7.223583333333333,7.235166666666666,7.007083333333334,7.400500000000001,7.577333333333334,7.334833333333333,7.193083333333333,6.869666666666667,7.363833333333333,7.307166666666666,7.515666666666667,7.686166666666667,7.801500000000001,7.701583333333334,7.836416666666667,7.651166666666666,7.544833333333333,7.604749999999999,7.800583333333334,7.915583333333334,7.408083333333333,7.646583333333332,8.083666666666666,8.404833333333332,7.702416666666667,7.703833333333334,7.851583333333333,7.7490000000000006,7.60625,7.377416666666666,7.494666666666667,7.5685,7.522833333333333,7.708083333333334,7.949166666666668,7.628666666666667,7.684,7.7269999999999985,7.711499999999999,7.84375,7.8477500000000004,7.906083333333334,7.9795,7.852333333333332,8.071583333333333,8.186833333333334,8.235666666666667,8.011666666666667,7.930166666666666,7.8045,7.946416666666667,8.104166666666666,7.69,7.911333333333334,7.915500000000001,7.9629166666666675,7.929166666666666,7.907000000000001,8.0355,8.338583333333334,8.347,7.964833333333334,7.762666666666667,7.862583333333333,8.1155,8.096083333333333,8.314166666666667,8.149416666666665,8.169083333333335,8.250000000000002,8.293666666666667,8.486166666666666,8.273166666666667,8.383583333333334,7.990666666666667,8.393916666666666,8.4815,8.456333333333333,8.095583333333334,8.388250000000001,8.279833333333334,8.310916666666667,8.45825,8.623166666666666,8.523,8.533583333333333,8.540833333333333,8.498916666666666,8.5285,8.619833333333334,8.364500000000001,8.454500000000001,8.58,8.537166666666668,8.3785,8.178916666666668,8.441500000000001,8.4295,8.661666666666665,8.3735,8.472666666666667,8.15875,8.5745,8.669416666666667,8.6255,8.49025,8.700666666666667,8.613,8.763666666666667,8.317166666666667,8.418583333333332,8.507083333333332,8.616416666666668,8.404666666666667,8.509916666666667,8.625333333333334,8.501333333333333,8.404250000000001,8.8475,8.363,8.64775,8.246666666666668,8.765583333333334,8.588916666666666,8.647,8.873666666666665,9.078583333333334,8.5565,8.934166666666666,8.58925,8.56475,8.748583333333332,8.90925,9.121500000000001,8.834,9.147833333333333,9.117333333333333,8.75325,8.78525,8.967833333333333,9.270666666666667,8.954166666666667,9.113999999999999,9.44875,9.205833333333334,9.117666666666667,9.327166666666667,9.498,9.434916666666666,9.241166666666667,9.62575,9.4425,9.642666666666667,9.352833333333333,9.419333333333334,9.619666666666667,9.434,9.423916666666667,9.508833333333333,9.4805,9.738833333333332],\"yaxis\":\"y\",\"type\":\"scatter\"}],                        {\"template\":{\"data\":{\"barpolar\":[{\"marker\":{\"line\":{\"color\":\"rgb(17,17,17)\",\"width\":0.5},\"pattern\":{\"fillmode\":\"overlay\",\"size\":10,\"solidity\":0.2}},\"type\":\"barpolar\"}],\"bar\":[{\"error_x\":{\"color\":\"#f2f5fa\"},\"error_y\":{\"color\":\"#f2f5fa\"},\"marker\":{\"line\":{\"color\":\"rgb(17,17,17)\",\"width\":0.5},\"pattern\":{\"fillmode\":\"overlay\",\"size\":10,\"solidity\":0.2}},\"type\":\"bar\"}],\"carpet\":[{\"aaxis\":{\"endlinecolor\":\"#A2B1C6\",\"gridcolor\":\"#506784\",\"linecolor\":\"#506784\",\"minorgridcolor\":\"#506784\",\"startlinecolor\":\"#A2B1C6\"},\"baxis\":{\"endlinecolor\":\"#A2B1C6\",\"gridcolor\":\"#506784\",\"linecolor\":\"#506784\",\"minorgridcolor\":\"#506784\",\"startlinecolor\":\"#A2B1C6\"},\"type\":\"carpet\"}],\"choropleth\":[{\"colorbar\":{\"outlinewidth\":0,\"ticks\":\"\"},\"type\":\"choropleth\"}],\"contourcarpet\":[{\"colorbar\":{\"outlinewidth\":0,\"ticks\":\"\"},\"type\":\"contourcarpet\"}],\"contour\":[{\"colorbar\":{\"outlinewidth\":0,\"ticks\":\"\"},\"colorscale\":[[0.0,\"#0d0887\"],[0.1111111111111111,\"#46039f\"],[0.2222222222222222,\"#7201a8\"],[0.3333333333333333,\"#9c179e\"],[0.4444444444444444,\"#bd3786\"],[0.5555555555555556,\"#d8576b\"],[0.6666666666666666,\"#ed7953\"],[0.7777777777777778,\"#fb9f3a\"],[0.8888888888888888,\"#fdca26\"],[1.0,\"#f0f921\"]],\"type\":\"contour\"}],\"heatmapgl\":[{\"colorbar\":{\"outlinewidth\":0,\"ticks\":\"\"},\"colorscale\":[[0.0,\"#0d0887\"],[0.1111111111111111,\"#46039f\"],[0.2222222222222222,\"#7201a8\"],[0.3333333333333333,\"#9c179e\"],[0.4444444444444444,\"#bd3786\"],[0.5555555555555556,\"#d8576b\"],[0.6666666666666666,\"#ed7953\"],[0.7777777777777778,\"#fb9f3a\"],[0.8888888888888888,\"#fdca26\"],[1.0,\"#f0f921\"]],\"type\":\"heatmapgl\"}],\"heatmap\":[{\"colorbar\":{\"outlinewidth\":0,\"ticks\":\"\"},\"colorscale\":[[0.0,\"#0d0887\"],[0.1111111111111111,\"#46039f\"],[0.2222222222222222,\"#7201a8\"],[0.3333333333333333,\"#9c179e\"],[0.4444444444444444,\"#bd3786\"],[0.5555555555555556,\"#d8576b\"],[0.6666666666666666,\"#ed7953\"],[0.7777777777777778,\"#fb9f3a\"],[0.8888888888888888,\"#fdca26\"],[1.0,\"#f0f921\"]],\"type\":\"heatmap\"}],\"histogram2dcontour\":[{\"colorbar\":{\"outlinewidth\":0,\"ticks\":\"\"},\"colorscale\":[[0.0,\"#0d0887\"],[0.1111111111111111,\"#46039f\"],[0.2222222222222222,\"#7201a8\"],[0.3333333333333333,\"#9c179e\"],[0.4444444444444444,\"#bd3786\"],[0.5555555555555556,\"#d8576b\"],[0.6666666666666666,\"#ed7953\"],[0.7777777777777778,\"#fb9f3a\"],[0.8888888888888888,\"#fdca26\"],[1.0,\"#f0f921\"]],\"type\":\"histogram2dcontour\"}],\"histogram2d\":[{\"colorbar\":{\"outlinewidth\":0,\"ticks\":\"\"},\"colorscale\":[[0.0,\"#0d0887\"],[0.1111111111111111,\"#46039f\"],[0.2222222222222222,\"#7201a8\"],[0.3333333333333333,\"#9c179e\"],[0.4444444444444444,\"#bd3786\"],[0.5555555555555556,\"#d8576b\"],[0.6666666666666666,\"#ed7953\"],[0.7777777777777778,\"#fb9f3a\"],[0.8888888888888888,\"#fdca26\"],[1.0,\"#f0f921\"]],\"type\":\"histogram2d\"}],\"histogram\":[{\"marker\":{\"pattern\":{\"fillmode\":\"overlay\",\"size\":10,\"solidity\":0.2}},\"type\":\"histogram\"}],\"mesh3d\":[{\"colorbar\":{\"outlinewidth\":0,\"ticks\":\"\"},\"type\":\"mesh3d\"}],\"parcoords\":[{\"line\":{\"colorbar\":{\"outlinewidth\":0,\"ticks\":\"\"}},\"type\":\"parcoords\"}],\"pie\":[{\"automargin\":true,\"type\":\"pie\"}],\"scatter3d\":[{\"line\":{\"colorbar\":{\"outlinewidth\":0,\"ticks\":\"\"}},\"marker\":{\"colorbar\":{\"outlinewidth\":0,\"ticks\":\"\"}},\"type\":\"scatter3d\"}],\"scattercarpet\":[{\"marker\":{\"colorbar\":{\"outlinewidth\":0,\"ticks\":\"\"}},\"type\":\"scattercarpet\"}],\"scattergeo\":[{\"marker\":{\"colorbar\":{\"outlinewidth\":0,\"ticks\":\"\"}},\"type\":\"scattergeo\"}],\"scattergl\":[{\"marker\":{\"line\":{\"color\":\"#283442\"}},\"type\":\"scattergl\"}],\"scattermapbox\":[{\"marker\":{\"colorbar\":{\"outlinewidth\":0,\"ticks\":\"\"}},\"type\":\"scattermapbox\"}],\"scatterpolargl\":[{\"marker\":{\"colorbar\":{\"outlinewidth\":0,\"ticks\":\"\"}},\"type\":\"scatterpolargl\"}],\"scatterpolar\":[{\"marker\":{\"colorbar\":{\"outlinewidth\":0,\"ticks\":\"\"}},\"type\":\"scatterpolar\"}],\"scatter\":[{\"marker\":{\"line\":{\"color\":\"#283442\"}},\"type\":\"scatter\"}],\"scatterternary\":[{\"marker\":{\"colorbar\":{\"outlinewidth\":0,\"ticks\":\"\"}},\"type\":\"scatterternary\"}],\"surface\":[{\"colorbar\":{\"outlinewidth\":0,\"ticks\":\"\"},\"colorscale\":[[0.0,\"#0d0887\"],[0.1111111111111111,\"#46039f\"],[0.2222222222222222,\"#7201a8\"],[0.3333333333333333,\"#9c179e\"],[0.4444444444444444,\"#bd3786\"],[0.5555555555555556,\"#d8576b\"],[0.6666666666666666,\"#ed7953\"],[0.7777777777777778,\"#fb9f3a\"],[0.8888888888888888,\"#fdca26\"],[1.0,\"#f0f921\"]],\"type\":\"surface\"}],\"table\":[{\"cells\":{\"fill\":{\"color\":\"#506784\"},\"line\":{\"color\":\"rgb(17,17,17)\"}},\"header\":{\"fill\":{\"color\":\"#2a3f5f\"},\"line\":{\"color\":\"rgb(17,17,17)\"}},\"type\":\"table\"}]},\"layout\":{\"annotationdefaults\":{\"arrowcolor\":\"#f2f5fa\",\"arrowhead\":0,\"arrowwidth\":1},\"autotypenumbers\":\"strict\",\"coloraxis\":{\"colorbar\":{\"outlinewidth\":0,\"ticks\":\"\"}},\"colorscale\":{\"diverging\":[[0,\"#8e0152\"],[0.1,\"#c51b7d\"],[0.2,\"#de77ae\"],[0.3,\"#f1b6da\"],[0.4,\"#fde0ef\"],[0.5,\"#f7f7f7\"],[0.6,\"#e6f5d0\"],[0.7,\"#b8e186\"],[0.8,\"#7fbc41\"],[0.9,\"#4d9221\"],[1,\"#276419\"]],\"sequential\":[[0.0,\"#0d0887\"],[0.1111111111111111,\"#46039f\"],[0.2222222222222222,\"#7201a8\"],[0.3333333333333333,\"#9c179e\"],[0.4444444444444444,\"#bd3786\"],[0.5555555555555556,\"#d8576b\"],[0.6666666666666666,\"#ed7953\"],[0.7777777777777778,\"#fb9f3a\"],[0.8888888888888888,\"#fdca26\"],[1.0,\"#f0f921\"]],\"sequentialminus\":[[0.0,\"#0d0887\"],[0.1111111111111111,\"#46039f\"],[0.2222222222222222,\"#7201a8\"],[0.3333333333333333,\"#9c179e\"],[0.4444444444444444,\"#bd3786\"],[0.5555555555555556,\"#d8576b\"],[0.6666666666666666,\"#ed7953\"],[0.7777777777777778,\"#fb9f3a\"],[0.8888888888888888,\"#fdca26\"],[1.0,\"#f0f921\"]]},\"colorway\":[\"#636efa\",\"#EF553B\",\"#00cc96\",\"#ab63fa\",\"#FFA15A\",\"#19d3f3\",\"#FF6692\",\"#B6E880\",\"#FF97FF\",\"#FECB52\"],\"font\":{\"color\":\"#f2f5fa\"},\"geo\":{\"bgcolor\":\"rgb(17,17,17)\",\"lakecolor\":\"rgb(17,17,17)\",\"landcolor\":\"rgb(17,17,17)\",\"showlakes\":true,\"showland\":true,\"subunitcolor\":\"#506784\"},\"hoverlabel\":{\"align\":\"left\"},\"hovermode\":\"closest\",\"mapbox\":{\"style\":\"dark\"},\"paper_bgcolor\":\"rgb(17,17,17)\",\"plot_bgcolor\":\"rgb(17,17,17)\",\"polar\":{\"angularaxis\":{\"gridcolor\":\"#506784\",\"linecolor\":\"#506784\",\"ticks\":\"\"},\"bgcolor\":\"rgb(17,17,17)\",\"radialaxis\":{\"gridcolor\":\"#506784\",\"linecolor\":\"#506784\",\"ticks\":\"\"}},\"scene\":{\"xaxis\":{\"backgroundcolor\":\"rgb(17,17,17)\",\"gridcolor\":\"#506784\",\"gridwidth\":2,\"linecolor\":\"#506784\",\"showbackground\":true,\"ticks\":\"\",\"zerolinecolor\":\"#C8D4E3\"},\"yaxis\":{\"backgroundcolor\":\"rgb(17,17,17)\",\"gridcolor\":\"#506784\",\"gridwidth\":2,\"linecolor\":\"#506784\",\"showbackground\":true,\"ticks\":\"\",\"zerolinecolor\":\"#C8D4E3\"},\"zaxis\":{\"backgroundcolor\":\"rgb(17,17,17)\",\"gridcolor\":\"#506784\",\"gridwidth\":2,\"linecolor\":\"#506784\",\"showbackground\":true,\"ticks\":\"\",\"zerolinecolor\":\"#C8D4E3\"}},\"shapedefaults\":{\"line\":{\"color\":\"#f2f5fa\"}},\"sliderdefaults\":{\"bgcolor\":\"#C8D4E3\",\"bordercolor\":\"rgb(17,17,17)\",\"borderwidth\":1,\"tickwidth\":0},\"ternary\":{\"aaxis\":{\"gridcolor\":\"#506784\",\"linecolor\":\"#506784\",\"ticks\":\"\"},\"baxis\":{\"gridcolor\":\"#506784\",\"linecolor\":\"#506784\",\"ticks\":\"\"},\"bgcolor\":\"rgb(17,17,17)\",\"caxis\":{\"gridcolor\":\"#506784\",\"linecolor\":\"#506784\",\"ticks\":\"\"}},\"title\":{\"x\":0.05},\"updatemenudefaults\":{\"bgcolor\":\"#506784\",\"borderwidth\":0},\"xaxis\":{\"automargin\":true,\"gridcolor\":\"#283442\",\"linecolor\":\"#506784\",\"ticks\":\"\",\"title\":{\"standoff\":15},\"zerolinecolor\":\"#283442\",\"zerolinewidth\":2},\"yaxis\":{\"automargin\":true,\"gridcolor\":\"#283442\",\"linecolor\":\"#506784\",\"ticks\":\"\",\"title\":{\"standoff\":15},\"zerolinecolor\":\"#283442\",\"zerolinewidth\":2}}},\"xaxis\":{\"anchor\":\"y\",\"domain\":[0.0,1.0],\"title\":{\"text\":\"Years (1750 - 2014)\"},\"tickvals\":[1700,1750,1800,1850,1900,1950,2000]},\"yaxis\":{\"anchor\":\"x\",\"domain\":[0.0,1.0],\"title\":{\"text\":\"Temperature\"},\"tickvals\":[0,5,10,15,20]},\"legend\":{\"title\":{\"text\":\"variable\"},\"tracegroupgap\":0},\"title\":{\"text\":\"Average Land Temperature\"}},                        {\"responsive\": true}                    ).then(function(){\n",
       "                            \n",
       "var gd = document.getElementById('b71249e3-6437-4355-b543-1ad2b56c1a06');\n",
       "var x = new MutationObserver(function (mutations, observer) {{\n",
       "        var display = window.getComputedStyle(gd).display;\n",
       "        if (!display || display === 'none') {{\n",
       "            console.log([gd, 'removed!']);\n",
       "            Plotly.purge(gd);\n",
       "            observer.disconnect();\n",
       "        }}\n",
       "}});\n",
       "\n",
       "// Listen for the removal of the full notebook cells\n",
       "var notebookContainer = gd.closest('#notebook-container');\n",
       "if (notebookContainer) {{\n",
       "    x.observe(notebookContainer, {childList: true});\n",
       "}}\n",
       "\n",
       "// Listen for the clearing of the current output cell\n",
       "var outputEl = gd.closest('.output');\n",
       "if (outputEl) {{\n",
       "    x.observe(outputEl, {childList: true});\n",
       "}}\n",
       "\n",
       "                        })                };                });            </script>        </div>"
      ]
     },
     "metadata": {},
     "output_type": "display_data"
    }
   ],
   "source": [
    "fig_2 = px.line(data_global, \n",
    "                x = \"year\", \n",
    "                y = [ \"Uncertainty_top\",\"LandAverageTemperature\", \"Uncertainty_bottom\"], \n",
    "                title = \"Average Land Temperature\", template= \"plotly_dark\",\n",
    "                labels = {\n",
    "                    \"year\": \"Years (1750 - 2014)\",\n",
    "                    \"value\": \"Temperature\",\n",
    "                    })\n",
    "fig_2.update_yaxes(tickvals=[0,5,10,15,20])\n",
    "fig_2.update_xaxes(tickvals=[1700, 1750, 1800, 1850, 1900, 1950, 2000])\n",
    "fig_2.show()"
   ]
  },
  {
   "cell_type": "code",
   "execution_count": 23,
   "metadata": {},
   "outputs": [
    {
     "data": {
      "application/vnd.plotly.v1+json": {
       "config": {
        "plotlyServerURL": "https://plot.ly"
       },
       "data": [
        {
         "hovertemplate": "variable=Uncertainty_top<br>Years (1900 - 2014)=%{x}<br>Temperature=%{y}<extra></extra>",
         "legendgroup": "Uncertainty_top",
         "line": {
          "color": "#636efa",
          "dash": "solid"
         },
         "marker": {
          "symbol": "circle"
         },
         "mode": "lines",
         "name": "Uncertainty_top",
         "orientation": "v",
         "showlegend": true,
         "type": "scatter",
         "x": [
          1900,
          1901,
          1902,
          1903,
          1904,
          1905,
          1906,
          1907,
          1908,
          1909,
          1910,
          1911,
          1912,
          1913,
          1914,
          1915,
          1916,
          1917,
          1918,
          1919,
          1920,
          1921,
          1922,
          1923,
          1924,
          1925,
          1926,
          1927,
          1928,
          1929,
          1930,
          1931,
          1932,
          1933,
          1934,
          1935,
          1936,
          1937,
          1938,
          1939,
          1940,
          1941,
          1942,
          1943,
          1944,
          1945,
          1946,
          1947,
          1948,
          1949,
          1950,
          1951,
          1952,
          1953,
          1954,
          1955,
          1956,
          1957,
          1958,
          1959,
          1960,
          1961,
          1962,
          1963,
          1964,
          1965,
          1966,
          1967,
          1968,
          1969,
          1970,
          1971,
          1972,
          1973,
          1974,
          1975,
          1976,
          1977,
          1978,
          1979,
          1980,
          1981,
          1982,
          1983,
          1984,
          1985,
          1986,
          1987,
          1988,
          1989,
          1990,
          1991,
          1992,
          1993,
          1994,
          1995,
          1996,
          1997,
          1998,
          1999,
          2000,
          2001,
          2002,
          2003,
          2004,
          2005,
          2006,
          2007,
          2008,
          2009,
          2010,
          2011,
          2012,
          2013,
          2014,
          2015
         ],
         "xaxis": "x",
         "y": [
          8.816333333333334,
          8.848166666666668,
          8.597166666666666,
          8.510166666666665,
          8.377333333333333,
          8.503916666666667,
          8.653999999999998,
          8.204333333333334,
          8.460833333333333,
          8.441,
          8.483083333333335,
          8.424833333333332,
          8.423833333333334,
          8.56,
          8.842416666666667,
          8.839333333333334,
          8.485666666666667,
          8.284,
          8.399083333333333,
          8.649000000000001,
          8.621416666666665,
          8.827833333333333,
          8.666583333333334,
          8.67525,
          8.763666666666667,
          8.775166666666667,
          8.971499999999999,
          8.770999999999999,
          8.880749999999999,
          8.494166666666667,
          8.873249999999999,
          8.957,
          8.954166666666666,
          8.580916666666667,
          8.868416666666667,
          8.751666666666667,
          8.797083333333333,
          8.938416666666665,
          9.104166666666668,
          8.997666666666667,
          8.995750000000001,
          8.9965,
          8.957916666666666,
          8.981666666666667,
          9.070166666666667,
          8.805166666666667,
          8.899333333333333,
          9.014166666666666,
          8.956333333333333,
          8.795,
          8.551583333333335,
          8.809833333333334,
          8.847000000000001,
          9.085833333333333,
          8.747833333333332,
          8.779833333333334,
          8.400416666666667,
          8.8905,
          8.878083333333333,
          8.839833333333333,
          8.67725,
          8.894666666666666,
          8.878833333333333,
          8.948333333333332,
          8.502166666666666,
          8.636249999999999,
          8.691583333333332,
          8.78375,
          8.628,
          8.68025,
          8.776499999999999,
          8.697166666666666,
          8.594916666666666,
          9.049,
          8.572,
          8.841916666666668,
          8.447833333333334,
          8.934916666666668,
          8.796583333333334,
          8.819833333333333,
          9.087,
          9.253083333333333,
          8.721833333333333,
          9.122166666666665,
          8.794416666666667,
          8.751249999999999,
          8.918583333333334,
          9.079583333333332,
          9.281666666666666,
          9.009999999999998,
          9.320500000000001,
          9.2415,
          8.919916666666667,
          8.947916666666666,
          9.109666666666667,
          9.4235,
          9.123666666666667,
          9.291166666666667,
          9.596583333333335,
          9.364333333333335,
          9.284666666666668,
          9.501999999999999,
          9.642833333333334,
          9.61625,
          9.408,
          9.776083333333332,
          9.6225,
          9.821666666666665,
          9.510666666666665,
          9.591166666666666,
          9.7865,
          9.598,
          9.59075,
          9.704166666666667,
          9.660833333333333,
          9.923166666666667
         ],
         "yaxis": "y"
        },
        {
         "hovertemplate": "variable=LandAverageTemperature<br>Years (1900 - 2014)=%{x}<br>Temperature=%{y}<extra></extra>",
         "legendgroup": "LandAverageTemperature",
         "line": {
          "color": "#EF553B",
          "dash": "solid"
         },
         "marker": {
          "symbol": "circle"
         },
         "mode": "lines",
         "name": "LandAverageTemperature",
         "orientation": "v",
         "showlegend": true,
         "type": "scatter",
         "x": [
          1900,
          1901,
          1902,
          1903,
          1904,
          1905,
          1906,
          1907,
          1908,
          1909,
          1910,
          1911,
          1912,
          1913,
          1914,
          1915,
          1916,
          1917,
          1918,
          1919,
          1920,
          1921,
          1922,
          1923,
          1924,
          1925,
          1926,
          1927,
          1928,
          1929,
          1930,
          1931,
          1932,
          1933,
          1934,
          1935,
          1936,
          1937,
          1938,
          1939,
          1940,
          1941,
          1942,
          1943,
          1944,
          1945,
          1946,
          1947,
          1948,
          1949,
          1950,
          1951,
          1952,
          1953,
          1954,
          1955,
          1956,
          1957,
          1958,
          1959,
          1960,
          1961,
          1962,
          1963,
          1964,
          1965,
          1966,
          1967,
          1968,
          1969,
          1970,
          1971,
          1972,
          1973,
          1974,
          1975,
          1976,
          1977,
          1978,
          1979,
          1980,
          1981,
          1982,
          1983,
          1984,
          1985,
          1986,
          1987,
          1988,
          1989,
          1990,
          1991,
          1992,
          1993,
          1994,
          1995,
          1996,
          1997,
          1998,
          1999,
          2000,
          2001,
          2002,
          2003,
          2004,
          2005,
          2006,
          2007,
          2008,
          2009,
          2010,
          2011,
          2012,
          2013,
          2014,
          2015
         ],
         "xaxis": "x",
         "y": [
          8.501583333333334,
          8.541916666666667,
          8.304416666666667,
          8.220166666666666,
          8.090916666666667,
          8.225166666666667,
          8.379083333333332,
          7.947166666666667,
          8.186083333333334,
          8.17825,
          8.223,
          8.177,
          8.165416666666667,
          8.29775,
          8.5905,
          8.593166666666667,
          8.22525,
          8.023333333333333,
          8.130833333333333,
          8.38225,
          8.358749999999999,
          8.571,
          8.408,
          8.422166666666667,
          8.506833333333335,
          8.534416666666667,
          8.728833333333332,
          8.522083333333333,
          8.632166666666667,
          8.242416666666667,
          8.633583333333332,
          8.71925,
          8.70525,
          8.33825,
          8.628333333333334,
          8.51575,
          8.554,
          8.698333333333332,
          8.863666666666667,
          8.760333333333334,
          8.764666666666667,
          8.768666666666666,
          8.728416666666666,
          8.755083333333333,
          8.845,
          8.584833333333334,
          8.676916666666667,
          8.797083333333333,
          8.74675,
          8.58675,
          8.365250000000001,
          8.625666666666667,
          8.638250000000001,
          8.87375,
          8.560666666666666,
          8.62625,
          8.279583333333333,
          8.7325,
          8.77375,
          8.732666666666667,
          8.58375,
          8.797666666666666,
          8.745916666666666,
          8.856,
          8.409666666666666,
          8.527416666666666,
          8.599333333333332,
          8.700083333333334,
          8.516333333333334,
          8.595083333333333,
          8.700916666666666,
          8.59925,
          8.499583333333334,
          8.94825,
          8.4675,
          8.744833333333334,
          8.34725,
          8.85025,
          8.69275,
          8.733416666666667,
          8.980333333333332,
          9.165833333333333,
          8.639166666666666,
          9.028166666666666,
          8.691833333333333,
          8.658,
          8.833583333333333,
          8.994416666666666,
          9.201583333333334,
          8.921999999999999,
          9.234166666666667,
          9.179416666666667,
          8.836583333333333,
          8.866583333333333,
          9.03875,
          9.347083333333334,
          9.038916666666667,
          9.202583333333333,
          9.522666666666668,
          9.285083333333334,
          9.201166666666667,
          9.414583333333333,
          9.570416666666667,
          9.525583333333334,
          9.324583333333333,
          9.700916666666666,
          9.5325,
          9.732166666666666,
          9.43175,
          9.50525,
          9.703083333333334,
          9.516,
          9.507333333333333,
          9.6065,
          9.570666666666666,
          9.831
         ],
         "yaxis": "y"
        },
        {
         "hovertemplate": "variable=Uncertainty_bottom<br>Years (1900 - 2014)=%{x}<br>Temperature=%{y}<extra></extra>",
         "legendgroup": "Uncertainty_bottom",
         "line": {
          "color": "#00cc96",
          "dash": "solid"
         },
         "marker": {
          "symbol": "circle"
         },
         "mode": "lines",
         "name": "Uncertainty_bottom",
         "orientation": "v",
         "showlegend": true,
         "type": "scatter",
         "x": [
          1900,
          1901,
          1902,
          1903,
          1904,
          1905,
          1906,
          1907,
          1908,
          1909,
          1910,
          1911,
          1912,
          1913,
          1914,
          1915,
          1916,
          1917,
          1918,
          1919,
          1920,
          1921,
          1922,
          1923,
          1924,
          1925,
          1926,
          1927,
          1928,
          1929,
          1930,
          1931,
          1932,
          1933,
          1934,
          1935,
          1936,
          1937,
          1938,
          1939,
          1940,
          1941,
          1942,
          1943,
          1944,
          1945,
          1946,
          1947,
          1948,
          1949,
          1950,
          1951,
          1952,
          1953,
          1954,
          1955,
          1956,
          1957,
          1958,
          1959,
          1960,
          1961,
          1962,
          1963,
          1964,
          1965,
          1966,
          1967,
          1968,
          1969,
          1970,
          1971,
          1972,
          1973,
          1974,
          1975,
          1976,
          1977,
          1978,
          1979,
          1980,
          1981,
          1982,
          1983,
          1984,
          1985,
          1986,
          1987,
          1988,
          1989,
          1990,
          1991,
          1992,
          1993,
          1994,
          1995,
          1996,
          1997,
          1998,
          1999,
          2000,
          2001,
          2002,
          2003,
          2004,
          2005,
          2006,
          2007,
          2008,
          2009,
          2010,
          2011,
          2012,
          2013,
          2014,
          2015
         ],
         "xaxis": "x",
         "y": [
          8.186833333333334,
          8.235666666666667,
          8.011666666666667,
          7.930166666666666,
          7.8045,
          7.946416666666667,
          8.104166666666666,
          7.69,
          7.911333333333334,
          7.915500000000001,
          7.9629166666666675,
          7.929166666666666,
          7.907000000000001,
          8.0355,
          8.338583333333334,
          8.347,
          7.964833333333334,
          7.762666666666667,
          7.862583333333333,
          8.1155,
          8.096083333333333,
          8.314166666666667,
          8.149416666666665,
          8.169083333333335,
          8.250000000000002,
          8.293666666666667,
          8.486166666666666,
          8.273166666666667,
          8.383583333333334,
          7.990666666666667,
          8.393916666666666,
          8.4815,
          8.456333333333333,
          8.095583333333334,
          8.388250000000001,
          8.279833333333334,
          8.310916666666667,
          8.45825,
          8.623166666666666,
          8.523,
          8.533583333333333,
          8.540833333333333,
          8.498916666666666,
          8.5285,
          8.619833333333334,
          8.364500000000001,
          8.454500000000001,
          8.58,
          8.537166666666668,
          8.3785,
          8.178916666666668,
          8.441500000000001,
          8.4295,
          8.661666666666665,
          8.3735,
          8.472666666666667,
          8.15875,
          8.5745,
          8.669416666666667,
          8.6255,
          8.49025,
          8.700666666666667,
          8.613,
          8.763666666666667,
          8.317166666666667,
          8.418583333333332,
          8.507083333333332,
          8.616416666666668,
          8.404666666666667,
          8.509916666666667,
          8.625333333333334,
          8.501333333333333,
          8.404250000000001,
          8.8475,
          8.363,
          8.64775,
          8.246666666666668,
          8.765583333333334,
          8.588916666666666,
          8.647,
          8.873666666666665,
          9.078583333333334,
          8.5565,
          8.934166666666666,
          8.58925,
          8.56475,
          8.748583333333332,
          8.90925,
          9.121500000000001,
          8.834,
          9.147833333333333,
          9.117333333333333,
          8.75325,
          8.78525,
          8.967833333333333,
          9.270666666666667,
          8.954166666666667,
          9.113999999999999,
          9.44875,
          9.205833333333334,
          9.117666666666667,
          9.327166666666667,
          9.498,
          9.434916666666666,
          9.241166666666667,
          9.62575,
          9.4425,
          9.642666666666667,
          9.352833333333333,
          9.419333333333334,
          9.619666666666667,
          9.434,
          9.423916666666667,
          9.508833333333333,
          9.4805,
          9.738833333333332
         ],
         "yaxis": "y"
        }
       ],
       "layout": {
        "legend": {
         "title": {
          "text": "variable"
         },
         "tracegroupgap": 0
        },
        "template": {
         "data": {
          "bar": [
           {
            "error_x": {
             "color": "#f2f5fa"
            },
            "error_y": {
             "color": "#f2f5fa"
            },
            "marker": {
             "line": {
              "color": "rgb(17,17,17)",
              "width": 0.5
             },
             "pattern": {
              "fillmode": "overlay",
              "size": 10,
              "solidity": 0.2
             }
            },
            "type": "bar"
           }
          ],
          "barpolar": [
           {
            "marker": {
             "line": {
              "color": "rgb(17,17,17)",
              "width": 0.5
             },
             "pattern": {
              "fillmode": "overlay",
              "size": 10,
              "solidity": 0.2
             }
            },
            "type": "barpolar"
           }
          ],
          "carpet": [
           {
            "aaxis": {
             "endlinecolor": "#A2B1C6",
             "gridcolor": "#506784",
             "linecolor": "#506784",
             "minorgridcolor": "#506784",
             "startlinecolor": "#A2B1C6"
            },
            "baxis": {
             "endlinecolor": "#A2B1C6",
             "gridcolor": "#506784",
             "linecolor": "#506784",
             "minorgridcolor": "#506784",
             "startlinecolor": "#A2B1C6"
            },
            "type": "carpet"
           }
          ],
          "choropleth": [
           {
            "colorbar": {
             "outlinewidth": 0,
             "ticks": ""
            },
            "type": "choropleth"
           }
          ],
          "contour": [
           {
            "colorbar": {
             "outlinewidth": 0,
             "ticks": ""
            },
            "colorscale": [
             [
              0,
              "#0d0887"
             ],
             [
              0.1111111111111111,
              "#46039f"
             ],
             [
              0.2222222222222222,
              "#7201a8"
             ],
             [
              0.3333333333333333,
              "#9c179e"
             ],
             [
              0.4444444444444444,
              "#bd3786"
             ],
             [
              0.5555555555555556,
              "#d8576b"
             ],
             [
              0.6666666666666666,
              "#ed7953"
             ],
             [
              0.7777777777777778,
              "#fb9f3a"
             ],
             [
              0.8888888888888888,
              "#fdca26"
             ],
             [
              1,
              "#f0f921"
             ]
            ],
            "type": "contour"
           }
          ],
          "contourcarpet": [
           {
            "colorbar": {
             "outlinewidth": 0,
             "ticks": ""
            },
            "type": "contourcarpet"
           }
          ],
          "heatmap": [
           {
            "colorbar": {
             "outlinewidth": 0,
             "ticks": ""
            },
            "colorscale": [
             [
              0,
              "#0d0887"
             ],
             [
              0.1111111111111111,
              "#46039f"
             ],
             [
              0.2222222222222222,
              "#7201a8"
             ],
             [
              0.3333333333333333,
              "#9c179e"
             ],
             [
              0.4444444444444444,
              "#bd3786"
             ],
             [
              0.5555555555555556,
              "#d8576b"
             ],
             [
              0.6666666666666666,
              "#ed7953"
             ],
             [
              0.7777777777777778,
              "#fb9f3a"
             ],
             [
              0.8888888888888888,
              "#fdca26"
             ],
             [
              1,
              "#f0f921"
             ]
            ],
            "type": "heatmap"
           }
          ],
          "heatmapgl": [
           {
            "colorbar": {
             "outlinewidth": 0,
             "ticks": ""
            },
            "colorscale": [
             [
              0,
              "#0d0887"
             ],
             [
              0.1111111111111111,
              "#46039f"
             ],
             [
              0.2222222222222222,
              "#7201a8"
             ],
             [
              0.3333333333333333,
              "#9c179e"
             ],
             [
              0.4444444444444444,
              "#bd3786"
             ],
             [
              0.5555555555555556,
              "#d8576b"
             ],
             [
              0.6666666666666666,
              "#ed7953"
             ],
             [
              0.7777777777777778,
              "#fb9f3a"
             ],
             [
              0.8888888888888888,
              "#fdca26"
             ],
             [
              1,
              "#f0f921"
             ]
            ],
            "type": "heatmapgl"
           }
          ],
          "histogram": [
           {
            "marker": {
             "pattern": {
              "fillmode": "overlay",
              "size": 10,
              "solidity": 0.2
             }
            },
            "type": "histogram"
           }
          ],
          "histogram2d": [
           {
            "colorbar": {
             "outlinewidth": 0,
             "ticks": ""
            },
            "colorscale": [
             [
              0,
              "#0d0887"
             ],
             [
              0.1111111111111111,
              "#46039f"
             ],
             [
              0.2222222222222222,
              "#7201a8"
             ],
             [
              0.3333333333333333,
              "#9c179e"
             ],
             [
              0.4444444444444444,
              "#bd3786"
             ],
             [
              0.5555555555555556,
              "#d8576b"
             ],
             [
              0.6666666666666666,
              "#ed7953"
             ],
             [
              0.7777777777777778,
              "#fb9f3a"
             ],
             [
              0.8888888888888888,
              "#fdca26"
             ],
             [
              1,
              "#f0f921"
             ]
            ],
            "type": "histogram2d"
           }
          ],
          "histogram2dcontour": [
           {
            "colorbar": {
             "outlinewidth": 0,
             "ticks": ""
            },
            "colorscale": [
             [
              0,
              "#0d0887"
             ],
             [
              0.1111111111111111,
              "#46039f"
             ],
             [
              0.2222222222222222,
              "#7201a8"
             ],
             [
              0.3333333333333333,
              "#9c179e"
             ],
             [
              0.4444444444444444,
              "#bd3786"
             ],
             [
              0.5555555555555556,
              "#d8576b"
             ],
             [
              0.6666666666666666,
              "#ed7953"
             ],
             [
              0.7777777777777778,
              "#fb9f3a"
             ],
             [
              0.8888888888888888,
              "#fdca26"
             ],
             [
              1,
              "#f0f921"
             ]
            ],
            "type": "histogram2dcontour"
           }
          ],
          "mesh3d": [
           {
            "colorbar": {
             "outlinewidth": 0,
             "ticks": ""
            },
            "type": "mesh3d"
           }
          ],
          "parcoords": [
           {
            "line": {
             "colorbar": {
              "outlinewidth": 0,
              "ticks": ""
             }
            },
            "type": "parcoords"
           }
          ],
          "pie": [
           {
            "automargin": true,
            "type": "pie"
           }
          ],
          "scatter": [
           {
            "marker": {
             "line": {
              "color": "#283442"
             }
            },
            "type": "scatter"
           }
          ],
          "scatter3d": [
           {
            "line": {
             "colorbar": {
              "outlinewidth": 0,
              "ticks": ""
             }
            },
            "marker": {
             "colorbar": {
              "outlinewidth": 0,
              "ticks": ""
             }
            },
            "type": "scatter3d"
           }
          ],
          "scattercarpet": [
           {
            "marker": {
             "colorbar": {
              "outlinewidth": 0,
              "ticks": ""
             }
            },
            "type": "scattercarpet"
           }
          ],
          "scattergeo": [
           {
            "marker": {
             "colorbar": {
              "outlinewidth": 0,
              "ticks": ""
             }
            },
            "type": "scattergeo"
           }
          ],
          "scattergl": [
           {
            "marker": {
             "line": {
              "color": "#283442"
             }
            },
            "type": "scattergl"
           }
          ],
          "scattermapbox": [
           {
            "marker": {
             "colorbar": {
              "outlinewidth": 0,
              "ticks": ""
             }
            },
            "type": "scattermapbox"
           }
          ],
          "scatterpolar": [
           {
            "marker": {
             "colorbar": {
              "outlinewidth": 0,
              "ticks": ""
             }
            },
            "type": "scatterpolar"
           }
          ],
          "scatterpolargl": [
           {
            "marker": {
             "colorbar": {
              "outlinewidth": 0,
              "ticks": ""
             }
            },
            "type": "scatterpolargl"
           }
          ],
          "scatterternary": [
           {
            "marker": {
             "colorbar": {
              "outlinewidth": 0,
              "ticks": ""
             }
            },
            "type": "scatterternary"
           }
          ],
          "surface": [
           {
            "colorbar": {
             "outlinewidth": 0,
             "ticks": ""
            },
            "colorscale": [
             [
              0,
              "#0d0887"
             ],
             [
              0.1111111111111111,
              "#46039f"
             ],
             [
              0.2222222222222222,
              "#7201a8"
             ],
             [
              0.3333333333333333,
              "#9c179e"
             ],
             [
              0.4444444444444444,
              "#bd3786"
             ],
             [
              0.5555555555555556,
              "#d8576b"
             ],
             [
              0.6666666666666666,
              "#ed7953"
             ],
             [
              0.7777777777777778,
              "#fb9f3a"
             ],
             [
              0.8888888888888888,
              "#fdca26"
             ],
             [
              1,
              "#f0f921"
             ]
            ],
            "type": "surface"
           }
          ],
          "table": [
           {
            "cells": {
             "fill": {
              "color": "#506784"
             },
             "line": {
              "color": "rgb(17,17,17)"
             }
            },
            "header": {
             "fill": {
              "color": "#2a3f5f"
             },
             "line": {
              "color": "rgb(17,17,17)"
             }
            },
            "type": "table"
           }
          ]
         },
         "layout": {
          "annotationdefaults": {
           "arrowcolor": "#f2f5fa",
           "arrowhead": 0,
           "arrowwidth": 1
          },
          "autotypenumbers": "strict",
          "coloraxis": {
           "colorbar": {
            "outlinewidth": 0,
            "ticks": ""
           }
          },
          "colorscale": {
           "diverging": [
            [
             0,
             "#8e0152"
            ],
            [
             0.1,
             "#c51b7d"
            ],
            [
             0.2,
             "#de77ae"
            ],
            [
             0.3,
             "#f1b6da"
            ],
            [
             0.4,
             "#fde0ef"
            ],
            [
             0.5,
             "#f7f7f7"
            ],
            [
             0.6,
             "#e6f5d0"
            ],
            [
             0.7,
             "#b8e186"
            ],
            [
             0.8,
             "#7fbc41"
            ],
            [
             0.9,
             "#4d9221"
            ],
            [
             1,
             "#276419"
            ]
           ],
           "sequential": [
            [
             0,
             "#0d0887"
            ],
            [
             0.1111111111111111,
             "#46039f"
            ],
            [
             0.2222222222222222,
             "#7201a8"
            ],
            [
             0.3333333333333333,
             "#9c179e"
            ],
            [
             0.4444444444444444,
             "#bd3786"
            ],
            [
             0.5555555555555556,
             "#d8576b"
            ],
            [
             0.6666666666666666,
             "#ed7953"
            ],
            [
             0.7777777777777778,
             "#fb9f3a"
            ],
            [
             0.8888888888888888,
             "#fdca26"
            ],
            [
             1,
             "#f0f921"
            ]
           ],
           "sequentialminus": [
            [
             0,
             "#0d0887"
            ],
            [
             0.1111111111111111,
             "#46039f"
            ],
            [
             0.2222222222222222,
             "#7201a8"
            ],
            [
             0.3333333333333333,
             "#9c179e"
            ],
            [
             0.4444444444444444,
             "#bd3786"
            ],
            [
             0.5555555555555556,
             "#d8576b"
            ],
            [
             0.6666666666666666,
             "#ed7953"
            ],
            [
             0.7777777777777778,
             "#fb9f3a"
            ],
            [
             0.8888888888888888,
             "#fdca26"
            ],
            [
             1,
             "#f0f921"
            ]
           ]
          },
          "colorway": [
           "#636efa",
           "#EF553B",
           "#00cc96",
           "#ab63fa",
           "#FFA15A",
           "#19d3f3",
           "#FF6692",
           "#B6E880",
           "#FF97FF",
           "#FECB52"
          ],
          "font": {
           "color": "#f2f5fa"
          },
          "geo": {
           "bgcolor": "rgb(17,17,17)",
           "lakecolor": "rgb(17,17,17)",
           "landcolor": "rgb(17,17,17)",
           "showlakes": true,
           "showland": true,
           "subunitcolor": "#506784"
          },
          "hoverlabel": {
           "align": "left"
          },
          "hovermode": "closest",
          "mapbox": {
           "style": "dark"
          },
          "paper_bgcolor": "rgb(17,17,17)",
          "plot_bgcolor": "rgb(17,17,17)",
          "polar": {
           "angularaxis": {
            "gridcolor": "#506784",
            "linecolor": "#506784",
            "ticks": ""
           },
           "bgcolor": "rgb(17,17,17)",
           "radialaxis": {
            "gridcolor": "#506784",
            "linecolor": "#506784",
            "ticks": ""
           }
          },
          "scene": {
           "xaxis": {
            "backgroundcolor": "rgb(17,17,17)",
            "gridcolor": "#506784",
            "gridwidth": 2,
            "linecolor": "#506784",
            "showbackground": true,
            "ticks": "",
            "zerolinecolor": "#C8D4E3"
           },
           "yaxis": {
            "backgroundcolor": "rgb(17,17,17)",
            "gridcolor": "#506784",
            "gridwidth": 2,
            "linecolor": "#506784",
            "showbackground": true,
            "ticks": "",
            "zerolinecolor": "#C8D4E3"
           },
           "zaxis": {
            "backgroundcolor": "rgb(17,17,17)",
            "gridcolor": "#506784",
            "gridwidth": 2,
            "linecolor": "#506784",
            "showbackground": true,
            "ticks": "",
            "zerolinecolor": "#C8D4E3"
           }
          },
          "shapedefaults": {
           "line": {
            "color": "#f2f5fa"
           }
          },
          "sliderdefaults": {
           "bgcolor": "#C8D4E3",
           "bordercolor": "rgb(17,17,17)",
           "borderwidth": 1,
           "tickwidth": 0
          },
          "ternary": {
           "aaxis": {
            "gridcolor": "#506784",
            "linecolor": "#506784",
            "ticks": ""
           },
           "baxis": {
            "gridcolor": "#506784",
            "linecolor": "#506784",
            "ticks": ""
           },
           "bgcolor": "rgb(17,17,17)",
           "caxis": {
            "gridcolor": "#506784",
            "linecolor": "#506784",
            "ticks": ""
           }
          },
          "title": {
           "x": 0.05
          },
          "updatemenudefaults": {
           "bgcolor": "#506784",
           "borderwidth": 0
          },
          "xaxis": {
           "automargin": true,
           "gridcolor": "#283442",
           "linecolor": "#506784",
           "ticks": "",
           "title": {
            "standoff": 15
           },
           "zerolinecolor": "#283442",
           "zerolinewidth": 2
          },
          "yaxis": {
           "automargin": true,
           "gridcolor": "#283442",
           "linecolor": "#506784",
           "ticks": "",
           "title": {
            "standoff": 15
           },
           "zerolinecolor": "#283442",
           "zerolinewidth": 2
          }
         }
        },
        "title": {
         "text": "Average Land Temperature"
        },
        "xaxis": {
         "anchor": "y",
         "domain": [
          0,
          1
         ],
         "tickvals": [
          1900,
          1910,
          1920,
          1930,
          1940,
          1950,
          1960,
          1970,
          1980,
          1990,
          2000,
          2010,
          2020
         ],
         "title": {
          "text": "Years (1900 - 2014)"
         }
        },
        "yaxis": {
         "anchor": "x",
         "domain": [
          0,
          1
         ],
         "title": {
          "text": "Temperature"
         }
        }
       }
      },
      "text/html": [
       "<div>                            <div id=\"017b3ada-46a1-48f5-b4e7-d8ab6e0afc58\" class=\"plotly-graph-div\" style=\"height:525px; width:100%;\"></div>            <script type=\"text/javascript\">                require([\"plotly\"], function(Plotly) {                    window.PLOTLYENV=window.PLOTLYENV || {};                                    if (document.getElementById(\"017b3ada-46a1-48f5-b4e7-d8ab6e0afc58\")) {                    Plotly.newPlot(                        \"017b3ada-46a1-48f5-b4e7-d8ab6e0afc58\",                        [{\"hovertemplate\":\"variable=Uncertainty_top<br>Years (1900 - 2014)=%{x}<br>Temperature=%{y}<extra></extra>\",\"legendgroup\":\"Uncertainty_top\",\"line\":{\"color\":\"#636efa\",\"dash\":\"solid\"},\"marker\":{\"symbol\":\"circle\"},\"mode\":\"lines\",\"name\":\"Uncertainty_top\",\"orientation\":\"v\",\"showlegend\":true,\"x\":[1900,1901,1902,1903,1904,1905,1906,1907,1908,1909,1910,1911,1912,1913,1914,1915,1916,1917,1918,1919,1920,1921,1922,1923,1924,1925,1926,1927,1928,1929,1930,1931,1932,1933,1934,1935,1936,1937,1938,1939,1940,1941,1942,1943,1944,1945,1946,1947,1948,1949,1950,1951,1952,1953,1954,1955,1956,1957,1958,1959,1960,1961,1962,1963,1964,1965,1966,1967,1968,1969,1970,1971,1972,1973,1974,1975,1976,1977,1978,1979,1980,1981,1982,1983,1984,1985,1986,1987,1988,1989,1990,1991,1992,1993,1994,1995,1996,1997,1998,1999,2000,2001,2002,2003,2004,2005,2006,2007,2008,2009,2010,2011,2012,2013,2014,2015],\"xaxis\":\"x\",\"y\":[8.816333333333334,8.848166666666668,8.597166666666666,8.510166666666665,8.377333333333333,8.503916666666667,8.653999999999998,8.204333333333334,8.460833333333333,8.441,8.483083333333335,8.424833333333332,8.423833333333334,8.56,8.842416666666667,8.839333333333334,8.485666666666667,8.284,8.399083333333333,8.649000000000001,8.621416666666665,8.827833333333333,8.666583333333334,8.67525,8.763666666666667,8.775166666666667,8.971499999999999,8.770999999999999,8.880749999999999,8.494166666666667,8.873249999999999,8.957,8.954166666666666,8.580916666666667,8.868416666666667,8.751666666666667,8.797083333333333,8.938416666666665,9.104166666666668,8.997666666666667,8.995750000000001,8.9965,8.957916666666666,8.981666666666667,9.070166666666667,8.805166666666667,8.899333333333333,9.014166666666666,8.956333333333333,8.795,8.551583333333335,8.809833333333334,8.847000000000001,9.085833333333333,8.747833333333332,8.779833333333334,8.400416666666667,8.8905,8.878083333333333,8.839833333333333,8.67725,8.894666666666666,8.878833333333333,8.948333333333332,8.502166666666666,8.636249999999999,8.691583333333332,8.78375,8.628,8.68025,8.776499999999999,8.697166666666666,8.594916666666666,9.049,8.572,8.841916666666668,8.447833333333334,8.934916666666668,8.796583333333334,8.819833333333333,9.087,9.253083333333333,8.721833333333333,9.122166666666665,8.794416666666667,8.751249999999999,8.918583333333334,9.079583333333332,9.281666666666666,9.009999999999998,9.320500000000001,9.2415,8.919916666666667,8.947916666666666,9.109666666666667,9.4235,9.123666666666667,9.291166666666667,9.596583333333335,9.364333333333335,9.284666666666668,9.501999999999999,9.642833333333334,9.61625,9.408,9.776083333333332,9.6225,9.821666666666665,9.510666666666665,9.591166666666666,9.7865,9.598,9.59075,9.704166666666667,9.660833333333333,9.923166666666667],\"yaxis\":\"y\",\"type\":\"scatter\"},{\"hovertemplate\":\"variable=LandAverageTemperature<br>Years (1900 - 2014)=%{x}<br>Temperature=%{y}<extra></extra>\",\"legendgroup\":\"LandAverageTemperature\",\"line\":{\"color\":\"#EF553B\",\"dash\":\"solid\"},\"marker\":{\"symbol\":\"circle\"},\"mode\":\"lines\",\"name\":\"LandAverageTemperature\",\"orientation\":\"v\",\"showlegend\":true,\"x\":[1900,1901,1902,1903,1904,1905,1906,1907,1908,1909,1910,1911,1912,1913,1914,1915,1916,1917,1918,1919,1920,1921,1922,1923,1924,1925,1926,1927,1928,1929,1930,1931,1932,1933,1934,1935,1936,1937,1938,1939,1940,1941,1942,1943,1944,1945,1946,1947,1948,1949,1950,1951,1952,1953,1954,1955,1956,1957,1958,1959,1960,1961,1962,1963,1964,1965,1966,1967,1968,1969,1970,1971,1972,1973,1974,1975,1976,1977,1978,1979,1980,1981,1982,1983,1984,1985,1986,1987,1988,1989,1990,1991,1992,1993,1994,1995,1996,1997,1998,1999,2000,2001,2002,2003,2004,2005,2006,2007,2008,2009,2010,2011,2012,2013,2014,2015],\"xaxis\":\"x\",\"y\":[8.501583333333334,8.541916666666667,8.304416666666667,8.220166666666666,8.090916666666667,8.225166666666667,8.379083333333332,7.947166666666667,8.186083333333334,8.17825,8.223,8.177,8.165416666666667,8.29775,8.5905,8.593166666666667,8.22525,8.023333333333333,8.130833333333333,8.38225,8.358749999999999,8.571,8.408,8.422166666666667,8.506833333333335,8.534416666666667,8.728833333333332,8.522083333333333,8.632166666666667,8.242416666666667,8.633583333333332,8.71925,8.70525,8.33825,8.628333333333334,8.51575,8.554,8.698333333333332,8.863666666666667,8.760333333333334,8.764666666666667,8.768666666666666,8.728416666666666,8.755083333333333,8.845,8.584833333333334,8.676916666666667,8.797083333333333,8.74675,8.58675,8.365250000000001,8.625666666666667,8.638250000000001,8.87375,8.560666666666666,8.62625,8.279583333333333,8.7325,8.77375,8.732666666666667,8.58375,8.797666666666666,8.745916666666666,8.856,8.409666666666666,8.527416666666666,8.599333333333332,8.700083333333334,8.516333333333334,8.595083333333333,8.700916666666666,8.59925,8.499583333333334,8.94825,8.4675,8.744833333333334,8.34725,8.85025,8.69275,8.733416666666667,8.980333333333332,9.165833333333333,8.639166666666666,9.028166666666666,8.691833333333333,8.658,8.833583333333333,8.994416666666666,9.201583333333334,8.921999999999999,9.234166666666667,9.179416666666667,8.836583333333333,8.866583333333333,9.03875,9.347083333333334,9.038916666666667,9.202583333333333,9.522666666666668,9.285083333333334,9.201166666666667,9.414583333333333,9.570416666666667,9.525583333333334,9.324583333333333,9.700916666666666,9.5325,9.732166666666666,9.43175,9.50525,9.703083333333334,9.516,9.507333333333333,9.6065,9.570666666666666,9.831],\"yaxis\":\"y\",\"type\":\"scatter\"},{\"hovertemplate\":\"variable=Uncertainty_bottom<br>Years (1900 - 2014)=%{x}<br>Temperature=%{y}<extra></extra>\",\"legendgroup\":\"Uncertainty_bottom\",\"line\":{\"color\":\"#00cc96\",\"dash\":\"solid\"},\"marker\":{\"symbol\":\"circle\"},\"mode\":\"lines\",\"name\":\"Uncertainty_bottom\",\"orientation\":\"v\",\"showlegend\":true,\"x\":[1900,1901,1902,1903,1904,1905,1906,1907,1908,1909,1910,1911,1912,1913,1914,1915,1916,1917,1918,1919,1920,1921,1922,1923,1924,1925,1926,1927,1928,1929,1930,1931,1932,1933,1934,1935,1936,1937,1938,1939,1940,1941,1942,1943,1944,1945,1946,1947,1948,1949,1950,1951,1952,1953,1954,1955,1956,1957,1958,1959,1960,1961,1962,1963,1964,1965,1966,1967,1968,1969,1970,1971,1972,1973,1974,1975,1976,1977,1978,1979,1980,1981,1982,1983,1984,1985,1986,1987,1988,1989,1990,1991,1992,1993,1994,1995,1996,1997,1998,1999,2000,2001,2002,2003,2004,2005,2006,2007,2008,2009,2010,2011,2012,2013,2014,2015],\"xaxis\":\"x\",\"y\":[8.186833333333334,8.235666666666667,8.011666666666667,7.930166666666666,7.8045,7.946416666666667,8.104166666666666,7.69,7.911333333333334,7.915500000000001,7.9629166666666675,7.929166666666666,7.907000000000001,8.0355,8.338583333333334,8.347,7.964833333333334,7.762666666666667,7.862583333333333,8.1155,8.096083333333333,8.314166666666667,8.149416666666665,8.169083333333335,8.250000000000002,8.293666666666667,8.486166666666666,8.273166666666667,8.383583333333334,7.990666666666667,8.393916666666666,8.4815,8.456333333333333,8.095583333333334,8.388250000000001,8.279833333333334,8.310916666666667,8.45825,8.623166666666666,8.523,8.533583333333333,8.540833333333333,8.498916666666666,8.5285,8.619833333333334,8.364500000000001,8.454500000000001,8.58,8.537166666666668,8.3785,8.178916666666668,8.441500000000001,8.4295,8.661666666666665,8.3735,8.472666666666667,8.15875,8.5745,8.669416666666667,8.6255,8.49025,8.700666666666667,8.613,8.763666666666667,8.317166666666667,8.418583333333332,8.507083333333332,8.616416666666668,8.404666666666667,8.509916666666667,8.625333333333334,8.501333333333333,8.404250000000001,8.8475,8.363,8.64775,8.246666666666668,8.765583333333334,8.588916666666666,8.647,8.873666666666665,9.078583333333334,8.5565,8.934166666666666,8.58925,8.56475,8.748583333333332,8.90925,9.121500000000001,8.834,9.147833333333333,9.117333333333333,8.75325,8.78525,8.967833333333333,9.270666666666667,8.954166666666667,9.113999999999999,9.44875,9.205833333333334,9.117666666666667,9.327166666666667,9.498,9.434916666666666,9.241166666666667,9.62575,9.4425,9.642666666666667,9.352833333333333,9.419333333333334,9.619666666666667,9.434,9.423916666666667,9.508833333333333,9.4805,9.738833333333332],\"yaxis\":\"y\",\"type\":\"scatter\"}],                        {\"template\":{\"data\":{\"barpolar\":[{\"marker\":{\"line\":{\"color\":\"rgb(17,17,17)\",\"width\":0.5},\"pattern\":{\"fillmode\":\"overlay\",\"size\":10,\"solidity\":0.2}},\"type\":\"barpolar\"}],\"bar\":[{\"error_x\":{\"color\":\"#f2f5fa\"},\"error_y\":{\"color\":\"#f2f5fa\"},\"marker\":{\"line\":{\"color\":\"rgb(17,17,17)\",\"width\":0.5},\"pattern\":{\"fillmode\":\"overlay\",\"size\":10,\"solidity\":0.2}},\"type\":\"bar\"}],\"carpet\":[{\"aaxis\":{\"endlinecolor\":\"#A2B1C6\",\"gridcolor\":\"#506784\",\"linecolor\":\"#506784\",\"minorgridcolor\":\"#506784\",\"startlinecolor\":\"#A2B1C6\"},\"baxis\":{\"endlinecolor\":\"#A2B1C6\",\"gridcolor\":\"#506784\",\"linecolor\":\"#506784\",\"minorgridcolor\":\"#506784\",\"startlinecolor\":\"#A2B1C6\"},\"type\":\"carpet\"}],\"choropleth\":[{\"colorbar\":{\"outlinewidth\":0,\"ticks\":\"\"},\"type\":\"choropleth\"}],\"contourcarpet\":[{\"colorbar\":{\"outlinewidth\":0,\"ticks\":\"\"},\"type\":\"contourcarpet\"}],\"contour\":[{\"colorbar\":{\"outlinewidth\":0,\"ticks\":\"\"},\"colorscale\":[[0.0,\"#0d0887\"],[0.1111111111111111,\"#46039f\"],[0.2222222222222222,\"#7201a8\"],[0.3333333333333333,\"#9c179e\"],[0.4444444444444444,\"#bd3786\"],[0.5555555555555556,\"#d8576b\"],[0.6666666666666666,\"#ed7953\"],[0.7777777777777778,\"#fb9f3a\"],[0.8888888888888888,\"#fdca26\"],[1.0,\"#f0f921\"]],\"type\":\"contour\"}],\"heatmapgl\":[{\"colorbar\":{\"outlinewidth\":0,\"ticks\":\"\"},\"colorscale\":[[0.0,\"#0d0887\"],[0.1111111111111111,\"#46039f\"],[0.2222222222222222,\"#7201a8\"],[0.3333333333333333,\"#9c179e\"],[0.4444444444444444,\"#bd3786\"],[0.5555555555555556,\"#d8576b\"],[0.6666666666666666,\"#ed7953\"],[0.7777777777777778,\"#fb9f3a\"],[0.8888888888888888,\"#fdca26\"],[1.0,\"#f0f921\"]],\"type\":\"heatmapgl\"}],\"heatmap\":[{\"colorbar\":{\"outlinewidth\":0,\"ticks\":\"\"},\"colorscale\":[[0.0,\"#0d0887\"],[0.1111111111111111,\"#46039f\"],[0.2222222222222222,\"#7201a8\"],[0.3333333333333333,\"#9c179e\"],[0.4444444444444444,\"#bd3786\"],[0.5555555555555556,\"#d8576b\"],[0.6666666666666666,\"#ed7953\"],[0.7777777777777778,\"#fb9f3a\"],[0.8888888888888888,\"#fdca26\"],[1.0,\"#f0f921\"]],\"type\":\"heatmap\"}],\"histogram2dcontour\":[{\"colorbar\":{\"outlinewidth\":0,\"ticks\":\"\"},\"colorscale\":[[0.0,\"#0d0887\"],[0.1111111111111111,\"#46039f\"],[0.2222222222222222,\"#7201a8\"],[0.3333333333333333,\"#9c179e\"],[0.4444444444444444,\"#bd3786\"],[0.5555555555555556,\"#d8576b\"],[0.6666666666666666,\"#ed7953\"],[0.7777777777777778,\"#fb9f3a\"],[0.8888888888888888,\"#fdca26\"],[1.0,\"#f0f921\"]],\"type\":\"histogram2dcontour\"}],\"histogram2d\":[{\"colorbar\":{\"outlinewidth\":0,\"ticks\":\"\"},\"colorscale\":[[0.0,\"#0d0887\"],[0.1111111111111111,\"#46039f\"],[0.2222222222222222,\"#7201a8\"],[0.3333333333333333,\"#9c179e\"],[0.4444444444444444,\"#bd3786\"],[0.5555555555555556,\"#d8576b\"],[0.6666666666666666,\"#ed7953\"],[0.7777777777777778,\"#fb9f3a\"],[0.8888888888888888,\"#fdca26\"],[1.0,\"#f0f921\"]],\"type\":\"histogram2d\"}],\"histogram\":[{\"marker\":{\"pattern\":{\"fillmode\":\"overlay\",\"size\":10,\"solidity\":0.2}},\"type\":\"histogram\"}],\"mesh3d\":[{\"colorbar\":{\"outlinewidth\":0,\"ticks\":\"\"},\"type\":\"mesh3d\"}],\"parcoords\":[{\"line\":{\"colorbar\":{\"outlinewidth\":0,\"ticks\":\"\"}},\"type\":\"parcoords\"}],\"pie\":[{\"automargin\":true,\"type\":\"pie\"}],\"scatter3d\":[{\"line\":{\"colorbar\":{\"outlinewidth\":0,\"ticks\":\"\"}},\"marker\":{\"colorbar\":{\"outlinewidth\":0,\"ticks\":\"\"}},\"type\":\"scatter3d\"}],\"scattercarpet\":[{\"marker\":{\"colorbar\":{\"outlinewidth\":0,\"ticks\":\"\"}},\"type\":\"scattercarpet\"}],\"scattergeo\":[{\"marker\":{\"colorbar\":{\"outlinewidth\":0,\"ticks\":\"\"}},\"type\":\"scattergeo\"}],\"scattergl\":[{\"marker\":{\"line\":{\"color\":\"#283442\"}},\"type\":\"scattergl\"}],\"scattermapbox\":[{\"marker\":{\"colorbar\":{\"outlinewidth\":0,\"ticks\":\"\"}},\"type\":\"scattermapbox\"}],\"scatterpolargl\":[{\"marker\":{\"colorbar\":{\"outlinewidth\":0,\"ticks\":\"\"}},\"type\":\"scatterpolargl\"}],\"scatterpolar\":[{\"marker\":{\"colorbar\":{\"outlinewidth\":0,\"ticks\":\"\"}},\"type\":\"scatterpolar\"}],\"scatter\":[{\"marker\":{\"line\":{\"color\":\"#283442\"}},\"type\":\"scatter\"}],\"scatterternary\":[{\"marker\":{\"colorbar\":{\"outlinewidth\":0,\"ticks\":\"\"}},\"type\":\"scatterternary\"}],\"surface\":[{\"colorbar\":{\"outlinewidth\":0,\"ticks\":\"\"},\"colorscale\":[[0.0,\"#0d0887\"],[0.1111111111111111,\"#46039f\"],[0.2222222222222222,\"#7201a8\"],[0.3333333333333333,\"#9c179e\"],[0.4444444444444444,\"#bd3786\"],[0.5555555555555556,\"#d8576b\"],[0.6666666666666666,\"#ed7953\"],[0.7777777777777778,\"#fb9f3a\"],[0.8888888888888888,\"#fdca26\"],[1.0,\"#f0f921\"]],\"type\":\"surface\"}],\"table\":[{\"cells\":{\"fill\":{\"color\":\"#506784\"},\"line\":{\"color\":\"rgb(17,17,17)\"}},\"header\":{\"fill\":{\"color\":\"#2a3f5f\"},\"line\":{\"color\":\"rgb(17,17,17)\"}},\"type\":\"table\"}]},\"layout\":{\"annotationdefaults\":{\"arrowcolor\":\"#f2f5fa\",\"arrowhead\":0,\"arrowwidth\":1},\"autotypenumbers\":\"strict\",\"coloraxis\":{\"colorbar\":{\"outlinewidth\":0,\"ticks\":\"\"}},\"colorscale\":{\"diverging\":[[0,\"#8e0152\"],[0.1,\"#c51b7d\"],[0.2,\"#de77ae\"],[0.3,\"#f1b6da\"],[0.4,\"#fde0ef\"],[0.5,\"#f7f7f7\"],[0.6,\"#e6f5d0\"],[0.7,\"#b8e186\"],[0.8,\"#7fbc41\"],[0.9,\"#4d9221\"],[1,\"#276419\"]],\"sequential\":[[0.0,\"#0d0887\"],[0.1111111111111111,\"#46039f\"],[0.2222222222222222,\"#7201a8\"],[0.3333333333333333,\"#9c179e\"],[0.4444444444444444,\"#bd3786\"],[0.5555555555555556,\"#d8576b\"],[0.6666666666666666,\"#ed7953\"],[0.7777777777777778,\"#fb9f3a\"],[0.8888888888888888,\"#fdca26\"],[1.0,\"#f0f921\"]],\"sequentialminus\":[[0.0,\"#0d0887\"],[0.1111111111111111,\"#46039f\"],[0.2222222222222222,\"#7201a8\"],[0.3333333333333333,\"#9c179e\"],[0.4444444444444444,\"#bd3786\"],[0.5555555555555556,\"#d8576b\"],[0.6666666666666666,\"#ed7953\"],[0.7777777777777778,\"#fb9f3a\"],[0.8888888888888888,\"#fdca26\"],[1.0,\"#f0f921\"]]},\"colorway\":[\"#636efa\",\"#EF553B\",\"#00cc96\",\"#ab63fa\",\"#FFA15A\",\"#19d3f3\",\"#FF6692\",\"#B6E880\",\"#FF97FF\",\"#FECB52\"],\"font\":{\"color\":\"#f2f5fa\"},\"geo\":{\"bgcolor\":\"rgb(17,17,17)\",\"lakecolor\":\"rgb(17,17,17)\",\"landcolor\":\"rgb(17,17,17)\",\"showlakes\":true,\"showland\":true,\"subunitcolor\":\"#506784\"},\"hoverlabel\":{\"align\":\"left\"},\"hovermode\":\"closest\",\"mapbox\":{\"style\":\"dark\"},\"paper_bgcolor\":\"rgb(17,17,17)\",\"plot_bgcolor\":\"rgb(17,17,17)\",\"polar\":{\"angularaxis\":{\"gridcolor\":\"#506784\",\"linecolor\":\"#506784\",\"ticks\":\"\"},\"bgcolor\":\"rgb(17,17,17)\",\"radialaxis\":{\"gridcolor\":\"#506784\",\"linecolor\":\"#506784\",\"ticks\":\"\"}},\"scene\":{\"xaxis\":{\"backgroundcolor\":\"rgb(17,17,17)\",\"gridcolor\":\"#506784\",\"gridwidth\":2,\"linecolor\":\"#506784\",\"showbackground\":true,\"ticks\":\"\",\"zerolinecolor\":\"#C8D4E3\"},\"yaxis\":{\"backgroundcolor\":\"rgb(17,17,17)\",\"gridcolor\":\"#506784\",\"gridwidth\":2,\"linecolor\":\"#506784\",\"showbackground\":true,\"ticks\":\"\",\"zerolinecolor\":\"#C8D4E3\"},\"zaxis\":{\"backgroundcolor\":\"rgb(17,17,17)\",\"gridcolor\":\"#506784\",\"gridwidth\":2,\"linecolor\":\"#506784\",\"showbackground\":true,\"ticks\":\"\",\"zerolinecolor\":\"#C8D4E3\"}},\"shapedefaults\":{\"line\":{\"color\":\"#f2f5fa\"}},\"sliderdefaults\":{\"bgcolor\":\"#C8D4E3\",\"bordercolor\":\"rgb(17,17,17)\",\"borderwidth\":1,\"tickwidth\":0},\"ternary\":{\"aaxis\":{\"gridcolor\":\"#506784\",\"linecolor\":\"#506784\",\"ticks\":\"\"},\"baxis\":{\"gridcolor\":\"#506784\",\"linecolor\":\"#506784\",\"ticks\":\"\"},\"bgcolor\":\"rgb(17,17,17)\",\"caxis\":{\"gridcolor\":\"#506784\",\"linecolor\":\"#506784\",\"ticks\":\"\"}},\"title\":{\"x\":0.05},\"updatemenudefaults\":{\"bgcolor\":\"#506784\",\"borderwidth\":0},\"xaxis\":{\"automargin\":true,\"gridcolor\":\"#283442\",\"linecolor\":\"#506784\",\"ticks\":\"\",\"title\":{\"standoff\":15},\"zerolinecolor\":\"#283442\",\"zerolinewidth\":2},\"yaxis\":{\"automargin\":true,\"gridcolor\":\"#283442\",\"linecolor\":\"#506784\",\"ticks\":\"\",\"title\":{\"standoff\":15},\"zerolinecolor\":\"#283442\",\"zerolinewidth\":2}}},\"xaxis\":{\"anchor\":\"y\",\"domain\":[0.0,1.0],\"title\":{\"text\":\"Years (1900 - 2014)\"},\"tickvals\":[1900,1910,1920,1930,1940,1950,1960,1970,1980,1990,2000,2010,2020]},\"yaxis\":{\"anchor\":\"x\",\"domain\":[0.0,1.0],\"title\":{\"text\":\"Temperature\"}},\"legend\":{\"title\":{\"text\":\"variable\"},\"tracegroupgap\":0},\"title\":{\"text\":\"Average Land Temperature\"}},                        {\"responsive\": true}                    ).then(function(){\n",
       "                            \n",
       "var gd = document.getElementById('017b3ada-46a1-48f5-b4e7-d8ab6e0afc58');\n",
       "var x = new MutationObserver(function (mutations, observer) {{\n",
       "        var display = window.getComputedStyle(gd).display;\n",
       "        if (!display || display === 'none') {{\n",
       "            console.log([gd, 'removed!']);\n",
       "            Plotly.purge(gd);\n",
       "            observer.disconnect();\n",
       "        }}\n",
       "}});\n",
       "\n",
       "// Listen for the removal of the full notebook cells\n",
       "var notebookContainer = gd.closest('#notebook-container');\n",
       "if (notebookContainer) {{\n",
       "    x.observe(notebookContainer, {childList: true});\n",
       "}}\n",
       "\n",
       "// Listen for the clearing of the current output cell\n",
       "var outputEl = gd.closest('.output');\n",
       "if (outputEl) {{\n",
       "    x.observe(outputEl, {childList: true});\n",
       "}}\n",
       "\n",
       "                        })                };                });            </script>        </div>"
      ]
     },
     "metadata": {},
     "output_type": "display_data"
    }
   ],
   "source": [
    "fig_3 = px.line(data_global.loc[data_global[\"year\"] >= 1900], \n",
    "                x = \"year\", \n",
    "                y = [ \"Uncertainty_top\",\"LandAverageTemperature\", \"Uncertainty_bottom\"], \n",
    "                title = \"Average Land Temperature\", template= \"plotly_dark\",\n",
    "                labels = {\n",
    "                    \"year\": \"Years (1900 - 2014)\",\n",
    "                    \"value\": \"Temperature\",\n",
    "                    })\n",
    "                    \n",
    "fig_3.update_xaxes(tickvals=[1900, 1910, 1920, 1930, 1940, 1950, 1960, 1970, 1980, 1990, 2000, 2010, 2020])\n",
    "fig_3.show()"
   ]
  },
  {
   "attachments": {},
   "cell_type": "markdown",
   "metadata": {},
   "source": [
    "### Average temperatures in seasons"
   ]
  },
  {
   "cell_type": "code",
   "execution_count": 24,
   "metadata": {},
   "outputs": [],
   "source": [
    "global_temps['dt'] = pd.to_datetime(global_temps['dt'])\n"
   ]
  },
  {
   "cell_type": "code",
   "execution_count": 25,
   "metadata": {},
   "outputs": [
    {
     "data": {
      "text/html": [
       "<div>\n",
       "<style scoped>\n",
       "    .dataframe tbody tr th:only-of-type {\n",
       "        vertical-align: middle;\n",
       "    }\n",
       "\n",
       "    .dataframe tbody tr th {\n",
       "        vertical-align: top;\n",
       "    }\n",
       "\n",
       "    .dataframe thead th {\n",
       "        text-align: right;\n",
       "    }\n",
       "</style>\n",
       "<table border=\"1\" class=\"dataframe\">\n",
       "  <thead>\n",
       "    <tr style=\"text-align: right;\">\n",
       "      <th></th>\n",
       "      <th>dt</th>\n",
       "      <th>LandAverageTemperature</th>\n",
       "      <th>LandAverageTemperatureUncertainty</th>\n",
       "      <th>LandMaxTemperature</th>\n",
       "      <th>LandMaxTemperatureUncertainty</th>\n",
       "      <th>LandMinTemperature</th>\n",
       "      <th>LandMinTemperatureUncertainty</th>\n",
       "      <th>LandAndOceanAverageTemperature</th>\n",
       "      <th>LandAndOceanAverageTemperatureUncertainty</th>\n",
       "      <th>year</th>\n",
       "      <th>Month</th>\n",
       "    </tr>\n",
       "  </thead>\n",
       "  <tbody>\n",
       "    <tr>\n",
       "      <th>0</th>\n",
       "      <td>1750-01-01</td>\n",
       "      <td>3.034</td>\n",
       "      <td>3.574</td>\n",
       "      <td>NaN</td>\n",
       "      <td>NaN</td>\n",
       "      <td>NaN</td>\n",
       "      <td>NaN</td>\n",
       "      <td>NaN</td>\n",
       "      <td>NaN</td>\n",
       "      <td>1750</td>\n",
       "      <td>1</td>\n",
       "    </tr>\n",
       "    <tr>\n",
       "      <th>1</th>\n",
       "      <td>1750-02-01</td>\n",
       "      <td>3.083</td>\n",
       "      <td>3.702</td>\n",
       "      <td>NaN</td>\n",
       "      <td>NaN</td>\n",
       "      <td>NaN</td>\n",
       "      <td>NaN</td>\n",
       "      <td>NaN</td>\n",
       "      <td>NaN</td>\n",
       "      <td>1750</td>\n",
       "      <td>2</td>\n",
       "    </tr>\n",
       "    <tr>\n",
       "      <th>2</th>\n",
       "      <td>1750-03-01</td>\n",
       "      <td>5.626</td>\n",
       "      <td>3.076</td>\n",
       "      <td>NaN</td>\n",
       "      <td>NaN</td>\n",
       "      <td>NaN</td>\n",
       "      <td>NaN</td>\n",
       "      <td>NaN</td>\n",
       "      <td>NaN</td>\n",
       "      <td>1750</td>\n",
       "      <td>3</td>\n",
       "    </tr>\n",
       "    <tr>\n",
       "      <th>3</th>\n",
       "      <td>1750-04-01</td>\n",
       "      <td>8.490</td>\n",
       "      <td>2.451</td>\n",
       "      <td>NaN</td>\n",
       "      <td>NaN</td>\n",
       "      <td>NaN</td>\n",
       "      <td>NaN</td>\n",
       "      <td>NaN</td>\n",
       "      <td>NaN</td>\n",
       "      <td>1750</td>\n",
       "      <td>4</td>\n",
       "    </tr>\n",
       "    <tr>\n",
       "      <th>4</th>\n",
       "      <td>1750-05-01</td>\n",
       "      <td>11.573</td>\n",
       "      <td>2.072</td>\n",
       "      <td>NaN</td>\n",
       "      <td>NaN</td>\n",
       "      <td>NaN</td>\n",
       "      <td>NaN</td>\n",
       "      <td>NaN</td>\n",
       "      <td>NaN</td>\n",
       "      <td>1750</td>\n",
       "      <td>5</td>\n",
       "    </tr>\n",
       "    <tr>\n",
       "      <th>...</th>\n",
       "      <td>...</td>\n",
       "      <td>...</td>\n",
       "      <td>...</td>\n",
       "      <td>...</td>\n",
       "      <td>...</td>\n",
       "      <td>...</td>\n",
       "      <td>...</td>\n",
       "      <td>...</td>\n",
       "      <td>...</td>\n",
       "      <td>...</td>\n",
       "      <td>...</td>\n",
       "    </tr>\n",
       "    <tr>\n",
       "      <th>3187</th>\n",
       "      <td>2015-08-01</td>\n",
       "      <td>14.755</td>\n",
       "      <td>0.072</td>\n",
       "      <td>20.699</td>\n",
       "      <td>0.110</td>\n",
       "      <td>9.005</td>\n",
       "      <td>0.170</td>\n",
       "      <td>17.589</td>\n",
       "      <td>0.057</td>\n",
       "      <td>2015</td>\n",
       "      <td>8</td>\n",
       "    </tr>\n",
       "    <tr>\n",
       "      <th>3188</th>\n",
       "      <td>2015-09-01</td>\n",
       "      <td>12.999</td>\n",
       "      <td>0.079</td>\n",
       "      <td>18.845</td>\n",
       "      <td>0.088</td>\n",
       "      <td>7.199</td>\n",
       "      <td>0.229</td>\n",
       "      <td>17.049</td>\n",
       "      <td>0.058</td>\n",
       "      <td>2015</td>\n",
       "      <td>9</td>\n",
       "    </tr>\n",
       "    <tr>\n",
       "      <th>3189</th>\n",
       "      <td>2015-10-01</td>\n",
       "      <td>10.801</td>\n",
       "      <td>0.102</td>\n",
       "      <td>16.450</td>\n",
       "      <td>0.059</td>\n",
       "      <td>5.232</td>\n",
       "      <td>0.115</td>\n",
       "      <td>16.290</td>\n",
       "      <td>0.062</td>\n",
       "      <td>2015</td>\n",
       "      <td>10</td>\n",
       "    </tr>\n",
       "    <tr>\n",
       "      <th>3190</th>\n",
       "      <td>2015-11-01</td>\n",
       "      <td>7.433</td>\n",
       "      <td>0.119</td>\n",
       "      <td>12.892</td>\n",
       "      <td>0.093</td>\n",
       "      <td>2.157</td>\n",
       "      <td>0.106</td>\n",
       "      <td>15.252</td>\n",
       "      <td>0.063</td>\n",
       "      <td>2015</td>\n",
       "      <td>11</td>\n",
       "    </tr>\n",
       "    <tr>\n",
       "      <th>3191</th>\n",
       "      <td>2015-12-01</td>\n",
       "      <td>5.518</td>\n",
       "      <td>0.100</td>\n",
       "      <td>10.725</td>\n",
       "      <td>0.154</td>\n",
       "      <td>0.287</td>\n",
       "      <td>0.099</td>\n",
       "      <td>14.774</td>\n",
       "      <td>0.062</td>\n",
       "      <td>2015</td>\n",
       "      <td>12</td>\n",
       "    </tr>\n",
       "  </tbody>\n",
       "</table>\n",
       "<p>3192 rows × 11 columns</p>\n",
       "</div>"
      ],
      "text/plain": [
       "             dt  LandAverageTemperature  LandAverageTemperatureUncertainty  \\\n",
       "0    1750-01-01                   3.034                              3.574   \n",
       "1    1750-02-01                   3.083                              3.702   \n",
       "2    1750-03-01                   5.626                              3.076   \n",
       "3    1750-04-01                   8.490                              2.451   \n",
       "4    1750-05-01                  11.573                              2.072   \n",
       "...         ...                     ...                                ...   \n",
       "3187 2015-08-01                  14.755                              0.072   \n",
       "3188 2015-09-01                  12.999                              0.079   \n",
       "3189 2015-10-01                  10.801                              0.102   \n",
       "3190 2015-11-01                   7.433                              0.119   \n",
       "3191 2015-12-01                   5.518                              0.100   \n",
       "\n",
       "      LandMaxTemperature  LandMaxTemperatureUncertainty  LandMinTemperature  \\\n",
       "0                    NaN                            NaN                 NaN   \n",
       "1                    NaN                            NaN                 NaN   \n",
       "2                    NaN                            NaN                 NaN   \n",
       "3                    NaN                            NaN                 NaN   \n",
       "4                    NaN                            NaN                 NaN   \n",
       "...                  ...                            ...                 ...   \n",
       "3187              20.699                          0.110               9.005   \n",
       "3188              18.845                          0.088               7.199   \n",
       "3189              16.450                          0.059               5.232   \n",
       "3190              12.892                          0.093               2.157   \n",
       "3191              10.725                          0.154               0.287   \n",
       "\n",
       "      LandMinTemperatureUncertainty  LandAndOceanAverageTemperature  \\\n",
       "0                               NaN                             NaN   \n",
       "1                               NaN                             NaN   \n",
       "2                               NaN                             NaN   \n",
       "3                               NaN                             NaN   \n",
       "4                               NaN                             NaN   \n",
       "...                             ...                             ...   \n",
       "3187                          0.170                          17.589   \n",
       "3188                          0.229                          17.049   \n",
       "3189                          0.115                          16.290   \n",
       "3190                          0.106                          15.252   \n",
       "3191                          0.099                          14.774   \n",
       "\n",
       "      LandAndOceanAverageTemperatureUncertainty  year  Month  \n",
       "0                                           NaN  1750      1  \n",
       "1                                           NaN  1750      2  \n",
       "2                                           NaN  1750      3  \n",
       "3                                           NaN  1750      4  \n",
       "4                                           NaN  1750      5  \n",
       "...                                         ...   ...    ...  \n",
       "3187                                      0.057  2015      8  \n",
       "3188                                      0.058  2015      9  \n",
       "3189                                      0.062  2015     10  \n",
       "3190                                      0.063  2015     11  \n",
       "3191                                      0.062  2015     12  \n",
       "\n",
       "[3192 rows x 11 columns]"
      ]
     },
     "execution_count": 25,
     "metadata": {},
     "output_type": "execute_result"
    }
   ],
   "source": [
    "global_temps[\"Month\"] = global_temps['dt'].dt.month\n",
    "global_temps"
   ]
  },
  {
   "cell_type": "code",
   "execution_count": 26,
   "metadata": {},
   "outputs": [],
   "source": [
    "#  Making function for putting mounths into seasons\n",
    "\n",
    "def get_season(month):\n",
    "    if month >= 3 and month <= 5:\n",
    "        return 'spring'\n",
    "    elif month >= 6 and month <= 8:\n",
    "        return 'summer'\n",
    "    elif month >= 9 and month <= 11:\n",
    "        return 'autumn'\n",
    "    else:\n",
    "        return 'winter'"
   ]
  },
  {
   "cell_type": "code",
   "execution_count": 27,
   "metadata": {},
   "outputs": [
    {
     "data": {
      "text/html": [
       "<div>\n",
       "<style scoped>\n",
       "    .dataframe tbody tr th:only-of-type {\n",
       "        vertical-align: middle;\n",
       "    }\n",
       "\n",
       "    .dataframe tbody tr th {\n",
       "        vertical-align: top;\n",
       "    }\n",
       "\n",
       "    .dataframe thead th {\n",
       "        text-align: right;\n",
       "    }\n",
       "</style>\n",
       "<table border=\"1\" class=\"dataframe\">\n",
       "  <thead>\n",
       "    <tr style=\"text-align: right;\">\n",
       "      <th></th>\n",
       "      <th>dt</th>\n",
       "      <th>LandAverageTemperature</th>\n",
       "      <th>LandAverageTemperatureUncertainty</th>\n",
       "      <th>LandMaxTemperature</th>\n",
       "      <th>LandMaxTemperatureUncertainty</th>\n",
       "      <th>LandMinTemperature</th>\n",
       "      <th>LandMinTemperatureUncertainty</th>\n",
       "      <th>LandAndOceanAverageTemperature</th>\n",
       "      <th>LandAndOceanAverageTemperatureUncertainty</th>\n",
       "      <th>year</th>\n",
       "      <th>Month</th>\n",
       "      <th>Season</th>\n",
       "    </tr>\n",
       "  </thead>\n",
       "  <tbody>\n",
       "    <tr>\n",
       "      <th>0</th>\n",
       "      <td>1750-01-01</td>\n",
       "      <td>3.034</td>\n",
       "      <td>3.574</td>\n",
       "      <td>NaN</td>\n",
       "      <td>NaN</td>\n",
       "      <td>NaN</td>\n",
       "      <td>NaN</td>\n",
       "      <td>NaN</td>\n",
       "      <td>NaN</td>\n",
       "      <td>1750</td>\n",
       "      <td>1</td>\n",
       "      <td>winter</td>\n",
       "    </tr>\n",
       "    <tr>\n",
       "      <th>1</th>\n",
       "      <td>1750-02-01</td>\n",
       "      <td>3.083</td>\n",
       "      <td>3.702</td>\n",
       "      <td>NaN</td>\n",
       "      <td>NaN</td>\n",
       "      <td>NaN</td>\n",
       "      <td>NaN</td>\n",
       "      <td>NaN</td>\n",
       "      <td>NaN</td>\n",
       "      <td>1750</td>\n",
       "      <td>2</td>\n",
       "      <td>winter</td>\n",
       "    </tr>\n",
       "    <tr>\n",
       "      <th>2</th>\n",
       "      <td>1750-03-01</td>\n",
       "      <td>5.626</td>\n",
       "      <td>3.076</td>\n",
       "      <td>NaN</td>\n",
       "      <td>NaN</td>\n",
       "      <td>NaN</td>\n",
       "      <td>NaN</td>\n",
       "      <td>NaN</td>\n",
       "      <td>NaN</td>\n",
       "      <td>1750</td>\n",
       "      <td>3</td>\n",
       "      <td>spring</td>\n",
       "    </tr>\n",
       "    <tr>\n",
       "      <th>3</th>\n",
       "      <td>1750-04-01</td>\n",
       "      <td>8.490</td>\n",
       "      <td>2.451</td>\n",
       "      <td>NaN</td>\n",
       "      <td>NaN</td>\n",
       "      <td>NaN</td>\n",
       "      <td>NaN</td>\n",
       "      <td>NaN</td>\n",
       "      <td>NaN</td>\n",
       "      <td>1750</td>\n",
       "      <td>4</td>\n",
       "      <td>spring</td>\n",
       "    </tr>\n",
       "    <tr>\n",
       "      <th>4</th>\n",
       "      <td>1750-05-01</td>\n",
       "      <td>11.573</td>\n",
       "      <td>2.072</td>\n",
       "      <td>NaN</td>\n",
       "      <td>NaN</td>\n",
       "      <td>NaN</td>\n",
       "      <td>NaN</td>\n",
       "      <td>NaN</td>\n",
       "      <td>NaN</td>\n",
       "      <td>1750</td>\n",
       "      <td>5</td>\n",
       "      <td>spring</td>\n",
       "    </tr>\n",
       "    <tr>\n",
       "      <th>...</th>\n",
       "      <td>...</td>\n",
       "      <td>...</td>\n",
       "      <td>...</td>\n",
       "      <td>...</td>\n",
       "      <td>...</td>\n",
       "      <td>...</td>\n",
       "      <td>...</td>\n",
       "      <td>...</td>\n",
       "      <td>...</td>\n",
       "      <td>...</td>\n",
       "      <td>...</td>\n",
       "      <td>...</td>\n",
       "    </tr>\n",
       "    <tr>\n",
       "      <th>3187</th>\n",
       "      <td>2015-08-01</td>\n",
       "      <td>14.755</td>\n",
       "      <td>0.072</td>\n",
       "      <td>20.699</td>\n",
       "      <td>0.110</td>\n",
       "      <td>9.005</td>\n",
       "      <td>0.170</td>\n",
       "      <td>17.589</td>\n",
       "      <td>0.057</td>\n",
       "      <td>2015</td>\n",
       "      <td>8</td>\n",
       "      <td>summer</td>\n",
       "    </tr>\n",
       "    <tr>\n",
       "      <th>3188</th>\n",
       "      <td>2015-09-01</td>\n",
       "      <td>12.999</td>\n",
       "      <td>0.079</td>\n",
       "      <td>18.845</td>\n",
       "      <td>0.088</td>\n",
       "      <td>7.199</td>\n",
       "      <td>0.229</td>\n",
       "      <td>17.049</td>\n",
       "      <td>0.058</td>\n",
       "      <td>2015</td>\n",
       "      <td>9</td>\n",
       "      <td>autumn</td>\n",
       "    </tr>\n",
       "    <tr>\n",
       "      <th>3189</th>\n",
       "      <td>2015-10-01</td>\n",
       "      <td>10.801</td>\n",
       "      <td>0.102</td>\n",
       "      <td>16.450</td>\n",
       "      <td>0.059</td>\n",
       "      <td>5.232</td>\n",
       "      <td>0.115</td>\n",
       "      <td>16.290</td>\n",
       "      <td>0.062</td>\n",
       "      <td>2015</td>\n",
       "      <td>10</td>\n",
       "      <td>autumn</td>\n",
       "    </tr>\n",
       "    <tr>\n",
       "      <th>3190</th>\n",
       "      <td>2015-11-01</td>\n",
       "      <td>7.433</td>\n",
       "      <td>0.119</td>\n",
       "      <td>12.892</td>\n",
       "      <td>0.093</td>\n",
       "      <td>2.157</td>\n",
       "      <td>0.106</td>\n",
       "      <td>15.252</td>\n",
       "      <td>0.063</td>\n",
       "      <td>2015</td>\n",
       "      <td>11</td>\n",
       "      <td>autumn</td>\n",
       "    </tr>\n",
       "    <tr>\n",
       "      <th>3191</th>\n",
       "      <td>2015-12-01</td>\n",
       "      <td>5.518</td>\n",
       "      <td>0.100</td>\n",
       "      <td>10.725</td>\n",
       "      <td>0.154</td>\n",
       "      <td>0.287</td>\n",
       "      <td>0.099</td>\n",
       "      <td>14.774</td>\n",
       "      <td>0.062</td>\n",
       "      <td>2015</td>\n",
       "      <td>12</td>\n",
       "      <td>winter</td>\n",
       "    </tr>\n",
       "  </tbody>\n",
       "</table>\n",
       "<p>3192 rows × 12 columns</p>\n",
       "</div>"
      ],
      "text/plain": [
       "             dt  LandAverageTemperature  LandAverageTemperatureUncertainty  \\\n",
       "0    1750-01-01                   3.034                              3.574   \n",
       "1    1750-02-01                   3.083                              3.702   \n",
       "2    1750-03-01                   5.626                              3.076   \n",
       "3    1750-04-01                   8.490                              2.451   \n",
       "4    1750-05-01                  11.573                              2.072   \n",
       "...         ...                     ...                                ...   \n",
       "3187 2015-08-01                  14.755                              0.072   \n",
       "3188 2015-09-01                  12.999                              0.079   \n",
       "3189 2015-10-01                  10.801                              0.102   \n",
       "3190 2015-11-01                   7.433                              0.119   \n",
       "3191 2015-12-01                   5.518                              0.100   \n",
       "\n",
       "      LandMaxTemperature  LandMaxTemperatureUncertainty  LandMinTemperature  \\\n",
       "0                    NaN                            NaN                 NaN   \n",
       "1                    NaN                            NaN                 NaN   \n",
       "2                    NaN                            NaN                 NaN   \n",
       "3                    NaN                            NaN                 NaN   \n",
       "4                    NaN                            NaN                 NaN   \n",
       "...                  ...                            ...                 ...   \n",
       "3187              20.699                          0.110               9.005   \n",
       "3188              18.845                          0.088               7.199   \n",
       "3189              16.450                          0.059               5.232   \n",
       "3190              12.892                          0.093               2.157   \n",
       "3191              10.725                          0.154               0.287   \n",
       "\n",
       "      LandMinTemperatureUncertainty  LandAndOceanAverageTemperature  \\\n",
       "0                               NaN                             NaN   \n",
       "1                               NaN                             NaN   \n",
       "2                               NaN                             NaN   \n",
       "3                               NaN                             NaN   \n",
       "4                               NaN                             NaN   \n",
       "...                             ...                             ...   \n",
       "3187                          0.170                          17.589   \n",
       "3188                          0.229                          17.049   \n",
       "3189                          0.115                          16.290   \n",
       "3190                          0.106                          15.252   \n",
       "3191                          0.099                          14.774   \n",
       "\n",
       "      LandAndOceanAverageTemperatureUncertainty  year  Month  Season  \n",
       "0                                           NaN  1750      1  winter  \n",
       "1                                           NaN  1750      2  winter  \n",
       "2                                           NaN  1750      3  spring  \n",
       "3                                           NaN  1750      4  spring  \n",
       "4                                           NaN  1750      5  spring  \n",
       "...                                         ...   ...    ...     ...  \n",
       "3187                                      0.057  2015      8  summer  \n",
       "3188                                      0.058  2015      9  autumn  \n",
       "3189                                      0.062  2015     10  autumn  \n",
       "3190                                      0.063  2015     11  autumn  \n",
       "3191                                      0.062  2015     12  winter  \n",
       "\n",
       "[3192 rows x 12 columns]"
      ]
     },
     "execution_count": 27,
     "metadata": {},
     "output_type": "execute_result"
    }
   ],
   "source": [
    "# Putting season column in the table with function \n",
    "\n",
    "global_temps[\"Season\"] = global_temps[\"Month\"].apply(get_season)\n",
    "global_temps"
   ]
  },
  {
   "cell_type": "code",
   "execution_count": 28,
   "metadata": {},
   "outputs": [
    {
     "data": {
      "text/html": [
       "<div>\n",
       "<style scoped>\n",
       "    .dataframe tbody tr th:only-of-type {\n",
       "        vertical-align: middle;\n",
       "    }\n",
       "\n",
       "    .dataframe tbody tr th {\n",
       "        vertical-align: top;\n",
       "    }\n",
       "\n",
       "    .dataframe thead th {\n",
       "        text-align: right;\n",
       "    }\n",
       "</style>\n",
       "<table border=\"1\" class=\"dataframe\">\n",
       "  <thead>\n",
       "    <tr style=\"text-align: right;\">\n",
       "      <th></th>\n",
       "      <th>year</th>\n",
       "      <th>spring_temp</th>\n",
       "      <th>summer_temp</th>\n",
       "      <th>autumn_temp</th>\n",
       "      <th>winter_temp</th>\n",
       "    </tr>\n",
       "  </thead>\n",
       "  <tbody>\n",
       "    <tr>\n",
       "      <th>0</th>\n",
       "      <td>1750</td>\n",
       "      <td>8.563000</td>\n",
       "      <td>14.518333</td>\n",
       "      <td>8.890000</td>\n",
       "      <td>2.963000</td>\n",
       "    </tr>\n",
       "    <tr>\n",
       "      <th>1</th>\n",
       "      <td>1751</td>\n",
       "      <td>6.735000</td>\n",
       "      <td>14.116000</td>\n",
       "      <td>10.673000</td>\n",
       "      <td>1.729000</td>\n",
       "    </tr>\n",
       "    <tr>\n",
       "      <th>2</th>\n",
       "      <td>1752</td>\n",
       "      <td>7.035500</td>\n",
       "      <td>NaN</td>\n",
       "      <td>7.587000</td>\n",
       "      <td>2.717000</td>\n",
       "    </tr>\n",
       "    <tr>\n",
       "      <th>3</th>\n",
       "      <td>1753</td>\n",
       "      <td>8.627333</td>\n",
       "      <td>14.608333</td>\n",
       "      <td>9.212333</td>\n",
       "      <td>1.104333</td>\n",
       "    </tr>\n",
       "    <tr>\n",
       "      <th>4</th>\n",
       "      <td>1754</td>\n",
       "      <td>9.074333</td>\n",
       "      <td>14.208333</td>\n",
       "      <td>8.957333</td>\n",
       "      <td>1.637333</td>\n",
       "    </tr>\n",
       "    <tr>\n",
       "      <th>...</th>\n",
       "      <td>...</td>\n",
       "      <td>...</td>\n",
       "      <td>...</td>\n",
       "      <td>...</td>\n",
       "      <td>...</td>\n",
       "    </tr>\n",
       "    <tr>\n",
       "      <th>261</th>\n",
       "      <td>2011</td>\n",
       "      <td>9.190000</td>\n",
       "      <td>14.954667</td>\n",
       "      <td>10.026000</td>\n",
       "      <td>3.893333</td>\n",
       "    </tr>\n",
       "    <tr>\n",
       "      <th>262</th>\n",
       "      <td>2012</td>\n",
       "      <td>9.429667</td>\n",
       "      <td>14.762667</td>\n",
       "      <td>10.208000</td>\n",
       "      <td>3.629000</td>\n",
       "    </tr>\n",
       "    <tr>\n",
       "      <th>263</th>\n",
       "      <td>2013</td>\n",
       "      <td>9.166667</td>\n",
       "      <td>14.771000</td>\n",
       "      <td>10.278000</td>\n",
       "      <td>4.210333</td>\n",
       "    </tr>\n",
       "    <tr>\n",
       "      <th>264</th>\n",
       "      <td>2014</td>\n",
       "      <td>9.516333</td>\n",
       "      <td>14.694333</td>\n",
       "      <td>10.044667</td>\n",
       "      <td>4.027333</td>\n",
       "    </tr>\n",
       "    <tr>\n",
       "      <th>265</th>\n",
       "      <td>2015</td>\n",
       "      <td>9.455000</td>\n",
       "      <td>14.770333</td>\n",
       "      <td>10.411000</td>\n",
       "      <td>4.687667</td>\n",
       "    </tr>\n",
       "  </tbody>\n",
       "</table>\n",
       "<p>266 rows × 5 columns</p>\n",
       "</div>"
      ],
      "text/plain": [
       "     year  spring_temp  summer_temp  autumn_temp  winter_temp\n",
       "0    1750     8.563000    14.518333     8.890000     2.963000\n",
       "1    1751     6.735000    14.116000    10.673000     1.729000\n",
       "2    1752     7.035500          NaN     7.587000     2.717000\n",
       "3    1753     8.627333    14.608333     9.212333     1.104333\n",
       "4    1754     9.074333    14.208333     8.957333     1.637333\n",
       "..    ...          ...          ...          ...          ...\n",
       "261  2011     9.190000    14.954667    10.026000     3.893333\n",
       "262  2012     9.429667    14.762667    10.208000     3.629000\n",
       "263  2013     9.166667    14.771000    10.278000     4.210333\n",
       "264  2014     9.516333    14.694333    10.044667     4.027333\n",
       "265  2015     9.455000    14.770333    10.411000     4.687667\n",
       "\n",
       "[266 rows x 5 columns]"
      ]
     },
     "execution_count": 28,
     "metadata": {},
     "output_type": "execute_result"
    }
   ],
   "source": [
    "# Making a table where every year have mean values of season temperatures\n",
    "\n",
    "years = global_temps['year'].unique()\n",
    "\n",
    "spring_temps = []\n",
    "summer_temps = []\n",
    "autumn_temps = []\n",
    "winter_temps = []\n",
    "\n",
    "for year in years:\n",
    "    current_year = global_temps[global_temps[\"year\"] == year]\n",
    "    spring_temps.append(current_year[current_year['Season'] == 'spring']['LandAverageTemperature'].mean())\n",
    "    summer_temps.append(current_year[current_year['Season'] == 'summer']['LandAverageTemperature'].mean())\n",
    "    autumn_temps.append(current_year[current_year['Season'] == 'autumn']['LandAverageTemperature'].mean())\n",
    "    winter_temps.append(current_year[current_year['Season'] == 'winter']['LandAverageTemperature'].mean())\n",
    "\n",
    "data_seasons = pd.DataFrame()\n",
    "data_seasons[\"year\"] = years\n",
    "data_seasons[\"spring_temp\"] = spring_temps\n",
    "data_seasons[\"summer_temp\"] = summer_temps\n",
    "data_seasons[\"autumn_temp\"] = autumn_temps\n",
    "data_seasons[\"winter_temp\"] = winter_temps\n",
    "\n",
    "data_seasons"
   ]
  },
  {
   "cell_type": "code",
   "execution_count": 29,
   "metadata": {},
   "outputs": [
    {
     "data": {
      "application/vnd.plotly.v1+json": {
       "config": {
        "plotlyServerURL": "https://plot.ly"
       },
       "data": [
        {
         "hovertemplate": "Legend=spring_temp<br>Years (1750 - 2014)=%{x}<br>Temperature=%{y}<extra></extra>",
         "legendgroup": "spring_temp",
         "line": {
          "color": "#636efa",
          "dash": "solid"
         },
         "marker": {
          "symbol": "circle"
         },
         "mode": "lines",
         "name": "spring_temp",
         "showlegend": true,
         "type": "scattergl",
         "x": [
          "1750",
          "1751",
          "1752",
          "1753",
          "1754",
          "1755",
          "1756",
          "1757",
          "1758",
          "1759",
          "1760",
          "1761",
          "1762",
          "1763",
          "1764",
          "1765",
          "1766",
          "1767",
          "1768",
          "1769",
          "1770",
          "1771",
          "1772",
          "1773",
          "1774",
          "1775",
          "1776",
          "1777",
          "1778",
          "1779",
          "1780",
          "1781",
          "1782",
          "1783",
          "1784",
          "1785",
          "1786",
          "1787",
          "1788",
          "1789",
          "1790",
          "1791",
          "1792",
          "1793",
          "1794",
          "1795",
          "1796",
          "1797",
          "1798",
          "1799",
          "1800",
          "1801",
          "1802",
          "1803",
          "1804",
          "1805",
          "1806",
          "1807",
          "1808",
          "1809",
          "1810",
          "1811",
          "1812",
          "1813",
          "1814",
          "1815",
          "1816",
          "1817",
          "1818",
          "1819",
          "1820",
          "1821",
          "1822",
          "1823",
          "1824",
          "1825",
          "1826",
          "1827",
          "1828",
          "1829",
          "1830",
          "1831",
          "1832",
          "1833",
          "1834",
          "1835",
          "1836",
          "1837",
          "1838",
          "1839",
          "1840",
          "1841",
          "1842",
          "1843",
          "1844",
          "1845",
          "1846",
          "1847",
          "1848",
          "1849",
          "1850",
          "1851",
          "1852",
          "1853",
          "1854",
          "1855",
          "1856",
          "1857",
          "1858",
          "1859",
          "1860",
          "1861",
          "1862",
          "1863",
          "1864",
          "1865",
          "1866",
          "1867",
          "1868",
          "1869",
          "1870",
          "1871",
          "1872",
          "1873",
          "1874",
          "1875",
          "1876",
          "1877",
          "1878",
          "1879",
          "1880",
          "1881",
          "1882",
          "1883",
          "1884",
          "1885",
          "1886",
          "1887",
          "1888",
          "1889",
          "1890",
          "1891",
          "1892",
          "1893",
          "1894",
          "1895",
          "1896",
          "1897",
          "1898",
          "1899",
          "1900",
          "1901",
          "1902",
          "1903",
          "1904",
          "1905",
          "1906",
          "1907",
          "1908",
          "1909",
          "1910",
          "1911",
          "1912",
          "1913",
          "1914",
          "1915",
          "1916",
          "1917",
          "1918",
          "1919",
          "1920",
          "1921",
          "1922",
          "1923",
          "1924",
          "1925",
          "1926",
          "1927",
          "1928",
          "1929",
          "1930",
          "1931",
          "1932",
          "1933",
          "1934",
          "1935",
          "1936",
          "1937",
          "1938",
          "1939",
          "1940",
          "1941",
          "1942",
          "1943",
          "1944",
          "1945",
          "1946",
          "1947",
          "1948",
          "1949",
          "1950",
          "1951",
          "1952",
          "1953",
          "1954",
          "1955",
          "1956",
          "1957",
          "1958",
          "1959",
          "1960",
          "1961",
          "1962",
          "1963",
          "1964",
          "1965",
          "1966",
          "1967",
          "1968",
          "1969",
          "1970",
          "1971",
          "1972",
          "1973",
          "1974",
          "1975",
          "1976",
          "1977",
          "1978",
          "1979",
          "1980",
          "1981",
          "1982",
          "1983",
          "1984",
          "1985",
          "1986",
          "1987",
          "1988",
          "1989",
          "1990",
          "1991",
          "1992",
          "1993",
          "1994",
          "1995",
          "1996",
          "1997",
          "1998",
          "1999",
          "2000",
          "2001",
          "2002",
          "2003",
          "2004",
          "2005",
          "2006",
          "2007",
          "2008",
          "2009",
          "2010",
          "2011",
          "2012",
          "2013",
          "2014",
          "2015"
         ],
         "xaxis": "x",
         "y": [
          8.563,
          6.734999999999999,
          7.035499999999999,
          8.627333333333334,
          9.074333333333334,
          8.583666666666666,
          9.466,
          8.604666666666667,
          6.896666666666666,
          6.897333333333333,
          6.653666666666666,
          8.916,
          7.809333333333332,
          6.716,
          8.192,
          8.868666666666668,
          8.432333333333332,
          7.831,
          6.144000000000001,
          8.803333333333333,
          7.132000000000001,
          6.0523333333333325,
          7.148666666666666,
          8.866999999999999,
          10.607,
          9.036666666666667,
          7.522333333333333,
          7.774333333333334,
          8.957999999999998,
          10.370666666666667,
          11.737666666666664,
          7.599,
          7.390999999999998,
          8.397333333333334,
          7.3580000000000005,
          6.173666666666667,
          8.849666666666666,
          7.9576666666666656,
          8.159333333333334,
          7.783,
          6.997333333333333,
          7.9253333333333345,
          7.914666666666666,
          8.248,
          9.146333333333333,
          8.552,
          7.507666666666666,
          7.024333333333334,
          8.953333333333333,
          8.041666666666666,
          8.224666666666666,
          8.660666666666666,
          7.760333333333333,
          8.653666666666666,
          8.863,
          8.328999999999999,
          8.075333333333333,
          7.03,
          7.066666666666666,
          6.833666666666666,
          6.872,
          6.481999999999999,
          6.191333333333333,
          7.048333333333333,
          6.424666666666667,
          6.698666666666667,
          7.368333333333332,
          7.311333333333333,
          8.904333333333334,
          6.603666666666666,
          8.312666666666667,
          8.167,
          8.850333333333333,
          7.765333333333333,
          8.287999999999998,
          8.368,
          8.365,
          9.125666666666666,
          8.582333333333333,
          8.070666666666666,
          7.832333333333334,
          7.761,
          7.732666666666667,
          7.657,
          8.351666666666667,
          7.482333333333333,
          7.680666666666667,
          6.797999999999999,
          7.030333333333332,
          6.951333333333333,
          7.718666666666667,
          6.947,
          8.198333333333332,
          7.537999999999999,
          7.410666666666667,
          7.747333333333333,
          8.227666666666666,
          7.549333333333333,
          7.832,
          7.496333333333333,
          7.391666666666666,
          7.530666666666666,
          7.513333333333333,
          7.531333333333333,
          7.805,
          8.127666666666666,
          7.550999999999999,
          7.008,
          7.978333333333334,
          8.340333333333334,
          7.438666666666666,
          7.497333333333333,
          7.515666666666667,
          7.898,
          7.707333333333334,
          7.423333333333332,
          7.7443333333333335,
          7.735666666666667,
          8.009666666666666,
          7.863333333333332,
          7.958000000000001,
          7.937666666666666,
          7.988666666666667,
          7.723999999999999,
          7.919333333333333,
          7.545999999999999,
          7.8790000000000004,
          8.130666666666666,
          8.841333333333333,
          7.831666666666667,
          7.761666666666666,
          8.165999999999999,
          7.873,
          7.817333333333333,
          7.092,
          7.508333333333333,
          7.651666666666666,
          7.726999999999999,
          7.588333333333334,
          8.376666666666667,
          7.470999999999999,
          7.719333333333332,
          7.515333333333333,
          7.906666666666666,
          7.908333333333334,
          7.934333333333334,
          7.500666666666667,
          8,
          7.497666666666667,
          7.973999999999999,
          8.366666666666667,
          8.457,
          7.910666666666667,
          7.851999999999999,
          7.676666666666666,
          7.790666666666667,
          8.244,
          7.509666666666667,
          7.702999999999999,
          7.578,
          7.905333333333334,
          7.722,
          7.946333333333333,
          7.761666666666666,
          8.108333333333333,
          8.447000000000001,
          7.954999999999999,
          7.5953333333333335,
          7.664999999999999,
          8.066333333333333,
          8.216999999999999,
          8.216666666666667,
          8.211,
          7.821333333333333,
          8.17,
          8.202333333333334,
          8.318333333333333,
          7.935666666666666,
          8.124,
          8.036,
          8.256666666666666,
          8.134333333333332,
          8.316,
          8.013666666666667,
          8.104,
          8.025333333333334,
          8.136333333333333,
          8.137666666666666,
          8.673333333333334,
          8.259333333333332,
          8.506,
          8.427,
          8.354,
          8.420333333333334,
          8.433,
          8.320666666666668,
          8.476,
          8.605333333333334,
          8.318333333333333,
          8.243333333333332,
          8.222333333333333,
          8.298666666666668,
          8.26,
          8.706000000000001,
          8.097999999999999,
          7.970999999999999,
          7.8439999999999985,
          8.220333333333334,
          8.497333333333332,
          8.665333333333333,
          7.769333333333333,
          8.614666666666666,
          8.399333333333333,
          8.104999999999999,
          7.897333333333333,
          8.131333333333332,
          8.296,
          8.495333333333333,
          8.546666666666667,
          8.353666666666667,
          8.360333333333333,
          8.183666666666667,
          8.259666666666666,
          8.84233333333333,
          8.258000000000001,
          8.677333333333333,
          7.917666666666666,
          8.777333333333333,
          8.604,
          8.376,
          8.690666666666665,
          8.918999999999999,
          8.228666666666667,
          8.706999999999999,
          8.693,
          8.503333333333332,
          8.735666666666665,
          8.455,
          8.924999999999999,
          8.587000000000002,
          9.243333333333334,
          8.805333333333333,
          8.686333333333332,
          8.696,
          8.811,
          8.832666666666666,
          8.597,
          8.832,
          9.224,
          8.691333333333333,
          9.215,
          9.241333333333333,
          9.416333333333332,
          9.118333333333332,
          9.046999999999999,
          9.462666666666665,
          9.056666666666667,
          9.608666666666666,
          9.418333333333333,
          9.188333333333333,
          9.604999999999999,
          9.19,
          9.429666666666666,
          9.166666666666666,
          9.516333333333334,
          9.455
         ],
         "yaxis": "y"
        },
        {
         "hovertemplate": "Legend=summer_temp<br>Years (1750 - 2014)=%{x}<br>Temperature=%{y}<extra></extra>",
         "legendgroup": "summer_temp",
         "line": {
          "color": "#EF553B",
          "dash": "solid"
         },
         "marker": {
          "symbol": "circle"
         },
         "mode": "lines",
         "name": "summer_temp",
         "showlegend": true,
         "type": "scattergl",
         "x": [
          "1750",
          "1751",
          "1752",
          "1753",
          "1754",
          "1755",
          "1756",
          "1757",
          "1758",
          "1759",
          "1760",
          "1761",
          "1762",
          "1763",
          "1764",
          "1765",
          "1766",
          "1767",
          "1768",
          "1769",
          "1770",
          "1771",
          "1772",
          "1773",
          "1774",
          "1775",
          "1776",
          "1777",
          "1778",
          "1779",
          "1780",
          "1781",
          "1782",
          "1783",
          "1784",
          "1785",
          "1786",
          "1787",
          "1788",
          "1789",
          "1790",
          "1791",
          "1792",
          "1793",
          "1794",
          "1795",
          "1796",
          "1797",
          "1798",
          "1799",
          "1800",
          "1801",
          "1802",
          "1803",
          "1804",
          "1805",
          "1806",
          "1807",
          "1808",
          "1809",
          "1810",
          "1811",
          "1812",
          "1813",
          "1814",
          "1815",
          "1816",
          "1817",
          "1818",
          "1819",
          "1820",
          "1821",
          "1822",
          "1823",
          "1824",
          "1825",
          "1826",
          "1827",
          "1828",
          "1829",
          "1830",
          "1831",
          "1832",
          "1833",
          "1834",
          "1835",
          "1836",
          "1837",
          "1838",
          "1839",
          "1840",
          "1841",
          "1842",
          "1843",
          "1844",
          "1845",
          "1846",
          "1847",
          "1848",
          "1849",
          "1850",
          "1851",
          "1852",
          "1853",
          "1854",
          "1855",
          "1856",
          "1857",
          "1858",
          "1859",
          "1860",
          "1861",
          "1862",
          "1863",
          "1864",
          "1865",
          "1866",
          "1867",
          "1868",
          "1869",
          "1870",
          "1871",
          "1872",
          "1873",
          "1874",
          "1875",
          "1876",
          "1877",
          "1878",
          "1879",
          "1880",
          "1881",
          "1882",
          "1883",
          "1884",
          "1885",
          "1886",
          "1887",
          "1888",
          "1889",
          "1890",
          "1891",
          "1892",
          "1893",
          "1894",
          "1895",
          "1896",
          "1897",
          "1898",
          "1899",
          "1900",
          "1901",
          "1902",
          "1903",
          "1904",
          "1905",
          "1906",
          "1907",
          "1908",
          "1909",
          "1910",
          "1911",
          "1912",
          "1913",
          "1914",
          "1915",
          "1916",
          "1917",
          "1918",
          "1919",
          "1920",
          "1921",
          "1922",
          "1923",
          "1924",
          "1925",
          "1926",
          "1927",
          "1928",
          "1929",
          "1930",
          "1931",
          "1932",
          "1933",
          "1934",
          "1935",
          "1936",
          "1937",
          "1938",
          "1939",
          "1940",
          "1941",
          "1942",
          "1943",
          "1944",
          "1945",
          "1946",
          "1947",
          "1948",
          "1949",
          "1950",
          "1951",
          "1952",
          "1953",
          "1954",
          "1955",
          "1956",
          "1957",
          "1958",
          "1959",
          "1960",
          "1961",
          "1962",
          "1963",
          "1964",
          "1965",
          "1966",
          "1967",
          "1968",
          "1969",
          "1970",
          "1971",
          "1972",
          "1973",
          "1974",
          "1975",
          "1976",
          "1977",
          "1978",
          "1979",
          "1980",
          "1981",
          "1982",
          "1983",
          "1984",
          "1985",
          "1986",
          "1987",
          "1988",
          "1989",
          "1990",
          "1991",
          "1992",
          "1993",
          "1994",
          "1995",
          "1996",
          "1997",
          "1998",
          "1999",
          "2000",
          "2001",
          "2002",
          "2003",
          "2004",
          "2005",
          "2006",
          "2007",
          "2008",
          "2009",
          "2010",
          "2011",
          "2012",
          "2013",
          "2014",
          "2015"
         ],
         "xaxis": "x",
         "y": [
          14.518333333333333,
          14.116,
          null,
          14.608333333333334,
          14.208333333333334,
          14.430666666666667,
          13.963333333333333,
          17.544999999999998,
          12.934666666666665,
          13.541666666666666,
          12.916333333333334,
          17.057666666666666,
          14.070333333333332,
          14.262666666666666,
          12.170666666666667,
          12.635333333333334,
          13.655333333333331,
          14.023333333333333,
          12.905666666666667,
          14.365666666666668,
          11.639333333333335,
          14.045333333333332,
          13.775333333333334,
          13.639666666666669,
          15.330333333333334,
          13.822666666666668,
          14.503,
          12.627,
          13.212333333333333,
          13.335,
          14.625666666666666,
          13.368,
          14.469666666666667,
          13.793333333333331,
          14.537,
          14.226,
          14.261333333333333,
          13.791666666666666,
          14.720333333333334,
          14.269666666666666,
          13.827666666666667,
          13.529000000000002,
          13.357999999999999,
          13.547333333333333,
          12.784,
          13.576,
          14.417333333333334,
          13.999666666666664,
          14.317,
          14.211666666666666,
          13.662666666666667,
          13.466333333333331,
          14.379333333333333,
          14.764333333333333,
          14.686333333333332,
          14.666333333333332,
          13.644666666666666,
          13.743333333333332,
          13.655666666666667,
          12.853,
          12.175333333333333,
          12.472999999999999,
          13.792666666666667,
          13.62,
          12.672666666666666,
          12.921666666666667,
          12.208999999999998,
          12.254,
          13.500333333333336,
          12.707,
          12.870666666666667,
          12.930666666666667,
          13.498,
          13.761666666666668,
          13.897999999999998,
          13.680333333333332,
          13.537,
          13.975333333333333,
          14.047666666666666,
          13.494666666666667,
          13.718333333333334,
          13.091000000000001,
          12.85,
          13.357999999999999,
          13.469333333333333,
          12.485999999999999,
          13.008333333333333,
          12.881,
          13.559,
          13.676333333333332,
          13.737,
          13.774,
          13.151333333333334,
          13.272,
          13.269,
          13.579333333333333,
          14.191333333333333,
          13.497333333333332,
          13.660333333333334,
          13.687,
          13.893666666666668,
          13.899999999999999,
          13.660000000000002,
          14.002666666666665,
          13.803333333333333,
          13.485666666666667,
          13.512,
          13.255666666666665,
          13.284333333333334,
          13.395333333333333,
          13.746666666666664,
          13.546666666666667,
          13.325333333333333,
          13.284333333333334,
          13.653666666666666,
          13.671333333333335,
          13.662333333333331,
          13.677333333333335,
          13.806666666666667,
          13.961333333333334,
          13.912,
          13.767333333333333,
          13.720333333333334,
          13.815666666666667,
          13.747666666666666,
          13.567333333333332,
          13.643666666666666,
          14.059,
          14.210666666666667,
          13.571,
          13.758333333333333,
          13.552666666666667,
          13.418333333333331,
          13.512333333333332,
          13.135333333333334,
          13.346333333333334,
          13.446,
          13.336,
          13.558,
          13.672333333333333,
          13.390666666666666,
          13.438,
          13.524333333333333,
          13.607666666666667,
          13.450000000000001,
          13.533333333333333,
          13.720333333333334,
          13.765666666666666,
          13.704,
          13.597333333333333,
          13.76,
          13.850333333333333,
          13.681333333333333,
          13.43,
          13.436333333333332,
          13.588999999999999,
          13.715666666666666,
          13.286666666666667,
          13.622,
          13.591333333333333,
          13.702333333333334,
          13.530000000000001,
          13.403666666666666,
          13.622,
          13.841333333333333,
          13.837666666666669,
          13.524666666666667,
          13.548333333333332,
          13.447000000000001,
          13.762666666666666,
          13.682666666666668,
          13.812333333333333,
          13.731,
          13.630333333333335,
          13.766666666666667,
          13.641333333333334,
          13.776666666666666,
          13.764333333333333,
          13.703333333333333,
          13.521666666666667,
          13.913333333333332,
          14.089666666666666,
          13.831666666666665,
          13.702,
          13.841,
          13.810666666666668,
          13.950666666666665,
          13.995,
          13.921999999999999,
          13.952666666666667,
          13.988333333333335,
          14.117333333333335,
          13.868666666666668,
          13.798333333333334,
          13.987666666666664,
          13.951333333333332,
          13.847,
          13.878333333333332,
          14.001666666666667,
          13.749333333333334,
          13.660666666666666,
          13.865,
          13.985,
          14.020999999999999,
          13.836333333333334,
          14.028333333333334,
          13.509666666666666,
          13.998,
          13.740666666666668,
          13.959666666666669,
          13.835666666666668,
          13.946333333333333,
          13.781666666666666,
          14.075666666666665,
          13.812666666666667,
          13.731,
          13.962333333333333,
          13.781999999999998,
          13.584666666666665,
          13.832333333333333,
          13.855333333333334,
          13.705666666666666,
          13.967666666666666,
          14.042666666666667,
          13.895333333333333,
          13.807333333333332,
          13.583999999999998,
          14.198999999999998,
          13.627,
          13.811333333333332,
          14.171000000000001,
          14.335,
          13.862,
          14.062666666666667,
          13.933333333333335,
          13.866999999999999,
          13.901333333333334,
          14.237666666666668,
          14.483333333333334,
          14.064666666666666,
          14.257333333333333,
          14.523000000000001,
          13.826999999999998,
          13.982666666666667,
          14.259666666666666,
          14.638666666666666,
          14.370333333333333,
          14.317333333333332,
          14.911666666666667,
          14.410666666666666,
          14.475666666666667,
          14.566,
          14.665999999999999,
          14.563666666666668,
          14.129666666666667,
          14.725333333333333,
          14.799333333333331,
          14.763666666666667,
          14.565333333333333,
          14.695666666666668,
          14.800666666666666,
          14.954666666666666,
          14.762666666666668,
          14.771,
          14.694333333333333,
          14.770333333333333
         ],
         "yaxis": "y"
        },
        {
         "hovertemplate": "Legend=autumn_temp<br>Years (1750 - 2014)=%{x}<br>Temperature=%{y}<extra></extra>",
         "legendgroup": "autumn_temp",
         "line": {
          "color": "#00cc96",
          "dash": "solid"
         },
         "marker": {
          "symbol": "circle"
         },
         "mode": "lines",
         "name": "autumn_temp",
         "showlegend": true,
         "type": "scattergl",
         "x": [
          "1750",
          "1751",
          "1752",
          "1753",
          "1754",
          "1755",
          "1756",
          "1757",
          "1758",
          "1759",
          "1760",
          "1761",
          "1762",
          "1763",
          "1764",
          "1765",
          "1766",
          "1767",
          "1768",
          "1769",
          "1770",
          "1771",
          "1772",
          "1773",
          "1774",
          "1775",
          "1776",
          "1777",
          "1778",
          "1779",
          "1780",
          "1781",
          "1782",
          "1783",
          "1784",
          "1785",
          "1786",
          "1787",
          "1788",
          "1789",
          "1790",
          "1791",
          "1792",
          "1793",
          "1794",
          "1795",
          "1796",
          "1797",
          "1798",
          "1799",
          "1800",
          "1801",
          "1802",
          "1803",
          "1804",
          "1805",
          "1806",
          "1807",
          "1808",
          "1809",
          "1810",
          "1811",
          "1812",
          "1813",
          "1814",
          "1815",
          "1816",
          "1817",
          "1818",
          "1819",
          "1820",
          "1821",
          "1822",
          "1823",
          "1824",
          "1825",
          "1826",
          "1827",
          "1828",
          "1829",
          "1830",
          "1831",
          "1832",
          "1833",
          "1834",
          "1835",
          "1836",
          "1837",
          "1838",
          "1839",
          "1840",
          "1841",
          "1842",
          "1843",
          "1844",
          "1845",
          "1846",
          "1847",
          "1848",
          "1849",
          "1850",
          "1851",
          "1852",
          "1853",
          "1854",
          "1855",
          "1856",
          "1857",
          "1858",
          "1859",
          "1860",
          "1861",
          "1862",
          "1863",
          "1864",
          "1865",
          "1866",
          "1867",
          "1868",
          "1869",
          "1870",
          "1871",
          "1872",
          "1873",
          "1874",
          "1875",
          "1876",
          "1877",
          "1878",
          "1879",
          "1880",
          "1881",
          "1882",
          "1883",
          "1884",
          "1885",
          "1886",
          "1887",
          "1888",
          "1889",
          "1890",
          "1891",
          "1892",
          "1893",
          "1894",
          "1895",
          "1896",
          "1897",
          "1898",
          "1899",
          "1900",
          "1901",
          "1902",
          "1903",
          "1904",
          "1905",
          "1906",
          "1907",
          "1908",
          "1909",
          "1910",
          "1911",
          "1912",
          "1913",
          "1914",
          "1915",
          "1916",
          "1917",
          "1918",
          "1919",
          "1920",
          "1921",
          "1922",
          "1923",
          "1924",
          "1925",
          "1926",
          "1927",
          "1928",
          "1929",
          "1930",
          "1931",
          "1932",
          "1933",
          "1934",
          "1935",
          "1936",
          "1937",
          "1938",
          "1939",
          "1940",
          "1941",
          "1942",
          "1943",
          "1944",
          "1945",
          "1946",
          "1947",
          "1948",
          "1949",
          "1950",
          "1951",
          "1952",
          "1953",
          "1954",
          "1955",
          "1956",
          "1957",
          "1958",
          "1959",
          "1960",
          "1961",
          "1962",
          "1963",
          "1964",
          "1965",
          "1966",
          "1967",
          "1968",
          "1969",
          "1970",
          "1971",
          "1972",
          "1973",
          "1974",
          "1975",
          "1976",
          "1977",
          "1978",
          "1979",
          "1980",
          "1981",
          "1982",
          "1983",
          "1984",
          "1985",
          "1986",
          "1987",
          "1988",
          "1989",
          "1990",
          "1991",
          "1992",
          "1993",
          "1994",
          "1995",
          "1996",
          "1997",
          "1998",
          "1999",
          "2000",
          "2001",
          "2002",
          "2003",
          "2004",
          "2005",
          "2006",
          "2007",
          "2008",
          "2009",
          "2010",
          "2011",
          "2012",
          "2013",
          "2014",
          "2015"
         ],
         "xaxis": "x",
         "y": [
          8.889999999999999,
          10.673,
          7.587,
          9.212333333333333,
          8.957333333333333,
          9.233666666666666,
          8.063,
          8.455333333333334,
          6.2923333333333344,
          8.387,
          7.778,
          8.283666666666667,
          7.616333333333333,
          7.167000000000001,
          8.832666666666666,
          8.166666666666666,
          9.389666666666667,
          9.539,
          7.711333333333333,
          6.445666666666665,
          8.392,
          8.865333333333334,
          9.102333333333334,
          8.354333333333333,
          7.5183333333333335,
          9.882333333333333,
          8.177333333333333,
          7.954666666666667,
          8.426666666666668,
          9.267666666666667,
          8.308666666666666,
          8.791333333333332,
          8.777333333333333,
          6.503666666666667,
          7.219666666666666,
          7.791333333333333,
          8.537,
          7.976666666666667,
          9.053,
          8.457333333333333,
          8.380333333333335,
          8.654333333333332,
          8.631333333333334,
          8.687,
          8.762666666666666,
          8.042,
          8.879333333333333,
          8.809,
          8.771,
          9.273666666666667,
          8.612,
          8.760333333333334,
          9.023333333333332,
          9.136666666666665,
          9.627333333333334,
          8.076666666666666,
          8.735333333333335,
          9.162333333333335,
          8.398333333333333,
          7.572,
          6.663666666666667,
          6.817,
          7.3823333333333325,
          9.276666666666667,
          8.263,
          7.488666666666667,
          6.7156666666666665,
          6.550999999999999,
          7.4223333333333334,
          8.451999999999998,
          7.730333333333333,
          8.104666666666667,
          7.656666666666667,
          7.449333333333333,
          8.534,
          8.395,
          8.757,
          8.557333333333334,
          8.231,
          8.135666666666667,
          8.675333333333333,
          7.396,
          7.774,
          8.577333333333334,
          8.847666666666667,
          7.363,
          7.794,
          7.542333333333333,
          8.264,
          7.663999999999999,
          7.538666666666667,
          8.143333333333333,
          8.023666666666665,
          8.331666666666667,
          7.973333333333333,
          8.07,
          8.337,
          8.603666666666667,
          8.314,
          8.586999999999998,
          8.109666666666667,
          8.590666666666666,
          8.327,
          8.342666666666668,
          9.007333333333333,
          8.257,
          8.131666666666666,
          8.163333333333332,
          8.649333333333333,
          8.608666666666666,
          8.543666666666667,
          8.530333333333333,
          8.034333333333334,
          8.285666666666666,
          8.465666666666666,
          9.025666666666666,
          8.642666666666667,
          9.304666666666668,
          8.769666666666668,
          9.008666666666667,
          8.787333333333331,
          8.64,
          8.856666666666667,
          8.846666666666666,
          9.013333333333334,
          8.172666666666666,
          8.575333333333333,
          9.232,
          9.237333333333334,
          8.734666666666667,
          8.650666666666666,
          8.604,
          8.415666666666667,
          8.385666666666665,
          8.326666666666666,
          8.527333333333335,
          8.476666666666667,
          8.679,
          8.892666666666669,
          8.470333333333334,
          8.584666666666667,
          8.533333333333333,
          8.637666666666666,
          8.943,
          8.703333333333333,
          8.868,
          8.868666666666668,
          8.91,
          8.677666666666665,
          9.380666666666666,
          9.141666666666667,
          8.987666666666668,
          8.624666666666668,
          8.609666666666667,
          8.814666666666666,
          9.009333333333332,
          8.846666666666666,
          8.702,
          8.704666666666666,
          9.102333333333332,
          8.685666666666668,
          8.955,
          8.37,
          8.953333333333333,
          9.020333333333333,
          9.022333333333334,
          8.791666666666668,
          8.703000000000001,
          8.999,
          8.946666666666667,
          8.793666666666667,
          8.999,
          8.959,
          9.260333333333334,
          9.186666666666667,
          9.171666666666665,
          9.308333333333334,
          9.495666666666667,
          9.283999999999999,
          9.146333333333335,
          9.236333333333333,
          9.487666666666666,
          9.3,
          8.994,
          9.181666666666667,
          8.985999999999999,
          9.237,
          9.499333333333333,
          9.580333333333334,
          9.121666666666666,
          9.267000000000001,
          9.159666666666668,
          9.389333333333335,
          9.421,
          9.449666666666667,
          9.290999999999999,
          9.193333333333333,
          9.528,
          9.308,
          9.212,
          8.825666666666667,
          9.406333333333334,
          8.94,
          9.237666666666668,
          9.407666666666666,
          9.220666666666666,
          8.816333333333333,
          9.399666666666667,
          9.159999999999998,
          8.952666666666667,
          9.139999999999999,
          9.26,
          9.256333333333334,
          9.686333333333332,
          8.806333333333333,
          9.026,
          9.085,
          9.346333333333334,
          8.988,
          9.319,
          9.224,
          9.274000000000001,
          9.014666666666667,
          9.318666666666667,
          8.919,
          9.121,
          8.688666666666666,
          9.187333333333333,
          9.239666666666666,
          9.373,
          9.518333333333334,
          9.301,
          9.077333333333334,
          9.647,
          9.068,
          9.095333333333333,
          9.011666666666667,
          9.364333333333333,
          9.651666666666666,
          9.447333333333333,
          9.665666666666667,
          9.623333333333333,
          8.971333333333332,
          9.094,
          9.768666666666666,
          9.810666666666666,
          9.455333333333334,
          9.878333333333334,
          9.672666666666666,
          9.770666666666665,
          9.448333333333334,
          9.996666666666666,
          9.943333333333333,
          10.020666666666667,
          10.028,
          10.413666666666666,
          10.039666666666667,
          10.115333333333334,
          10.141666666666667,
          10.106666666666667,
          10.264000000000001,
          10.026000000000002,
          10.208,
          10.278,
          10.044666666666666,
          10.411
         ],
         "yaxis": "y"
        },
        {
         "hovertemplate": "Legend=winter_temp<br>Years (1750 - 2014)=%{x}<br>Temperature=%{y}<extra></extra>",
         "legendgroup": "winter_temp",
         "line": {
          "color": "#ab63fa",
          "dash": "solid"
         },
         "marker": {
          "symbol": "circle"
         },
         "mode": "lines",
         "name": "winter_temp",
         "showlegend": true,
         "type": "scattergl",
         "x": [
          "1750",
          "1751",
          "1752",
          "1753",
          "1754",
          "1755",
          "1756",
          "1757",
          "1758",
          "1759",
          "1760",
          "1761",
          "1762",
          "1763",
          "1764",
          "1765",
          "1766",
          "1767",
          "1768",
          "1769",
          "1770",
          "1771",
          "1772",
          "1773",
          "1774",
          "1775",
          "1776",
          "1777",
          "1778",
          "1779",
          "1780",
          "1781",
          "1782",
          "1783",
          "1784",
          "1785",
          "1786",
          "1787",
          "1788",
          "1789",
          "1790",
          "1791",
          "1792",
          "1793",
          "1794",
          "1795",
          "1796",
          "1797",
          "1798",
          "1799",
          "1800",
          "1801",
          "1802",
          "1803",
          "1804",
          "1805",
          "1806",
          "1807",
          "1808",
          "1809",
          "1810",
          "1811",
          "1812",
          "1813",
          "1814",
          "1815",
          "1816",
          "1817",
          "1818",
          "1819",
          "1820",
          "1821",
          "1822",
          "1823",
          "1824",
          "1825",
          "1826",
          "1827",
          "1828",
          "1829",
          "1830",
          "1831",
          "1832",
          "1833",
          "1834",
          "1835",
          "1836",
          "1837",
          "1838",
          "1839",
          "1840",
          "1841",
          "1842",
          "1843",
          "1844",
          "1845",
          "1846",
          "1847",
          "1848",
          "1849",
          "1850",
          "1851",
          "1852",
          "1853",
          "1854",
          "1855",
          "1856",
          "1857",
          "1858",
          "1859",
          "1860",
          "1861",
          "1862",
          "1863",
          "1864",
          "1865",
          "1866",
          "1867",
          "1868",
          "1869",
          "1870",
          "1871",
          "1872",
          "1873",
          "1874",
          "1875",
          "1876",
          "1877",
          "1878",
          "1879",
          "1880",
          "1881",
          "1882",
          "1883",
          "1884",
          "1885",
          "1886",
          "1887",
          "1888",
          "1889",
          "1890",
          "1891",
          "1892",
          "1893",
          "1894",
          "1895",
          "1896",
          "1897",
          "1898",
          "1899",
          "1900",
          "1901",
          "1902",
          "1903",
          "1904",
          "1905",
          "1906",
          "1907",
          "1908",
          "1909",
          "1910",
          "1911",
          "1912",
          "1913",
          "1914",
          "1915",
          "1916",
          "1917",
          "1918",
          "1919",
          "1920",
          "1921",
          "1922",
          "1923",
          "1924",
          "1925",
          "1926",
          "1927",
          "1928",
          "1929",
          "1930",
          "1931",
          "1932",
          "1933",
          "1934",
          "1935",
          "1936",
          "1937",
          "1938",
          "1939",
          "1940",
          "1941",
          "1942",
          "1943",
          "1944",
          "1945",
          "1946",
          "1947",
          "1948",
          "1949",
          "1950",
          "1951",
          "1952",
          "1953",
          "1954",
          "1955",
          "1956",
          "1957",
          "1958",
          "1959",
          "1960",
          "1961",
          "1962",
          "1963",
          "1964",
          "1965",
          "1966",
          "1967",
          "1968",
          "1969",
          "1970",
          "1971",
          "1972",
          "1973",
          "1974",
          "1975",
          "1976",
          "1977",
          "1978",
          "1979",
          "1980",
          "1981",
          "1982",
          "1983",
          "1984",
          "1985",
          "1986",
          "1987",
          "1988",
          "1989",
          "1990",
          "1991",
          "1992",
          "1993",
          "1994",
          "1995",
          "1996",
          "1997",
          "1998",
          "1999",
          "2000",
          "2001",
          "2002",
          "2003",
          "2004",
          "2005",
          "2006",
          "2007",
          "2008",
          "2009",
          "2010",
          "2011",
          "2012",
          "2013",
          "2014",
          "2015"
         ],
         "xaxis": "x",
         "y": [
          2.9630000000000005,
          1.729,
          2.7170000000000005,
          1.1043333333333332,
          1.6373333333333333,
          1.1743333333333332,
          3.906,
          1.4829999999999999,
          0.8506666666666668,
          3.114333333333333,
          1.3926666666666667,
          0.8326666666666666,
          4.930000000000001,
          1.8413333333333333,
          4.406,
          3.3369999999999997,
          2.1453333333333333,
          1.4926666666666666,
          0.36433333333333334,
          1.1636666666666666,
          3.6043333333333334,
          2.449666666666667,
          2.747666666666667,
          2.0249999999999995,
          1.633,
          3.9906666666666673,
          3.013333333333333,
          4.6690000000000005,
          3.571999999999999,
          2.9596666666666667,
          3.0596666666666668,
          2.6519999999999997,
          0.967,
          2.029,
          2.3333333333333335,
          1.261,
          1.3846666666666667,
          2.4013333333333335,
          1.856,
          2.8266666666666667,
          2.724,
          2.828333333333333,
          2.452,
          2.4343333333333335,
          3.411,
          3.2313333333333336,
          2.279666666666667,
          4.209333333333333,
          2.639666666666667,
          2.496,
          3.4376666666666664,
          3.4713333333333334,
          3.1496666666666666,
          1.4573333333333334,
          2.202666666666667,
          3.179,
          3.281,
          3.1899999999999995,
          1.3866666666666667,
          1.047,
          1.9796666666666667,
          1.6660000000000001,
          0.8186666666666668,
          1.0146666666666666,
          3.0066666666666673,
          1.8483333333333334,
          1.457,
          1.7863333333333333,
          1.4886666666666668,
          1.7140000000000002,
          1.5513333333333332,
          3.158,
          2.7483333333333335,
          1.8983333333333334,
          3.468666666666667,
          3.1139999999999994,
          2.767333333333333,
          3.576666666666666,
          1.8003333333333336,
          2.066333333333333,
          3.8409999999999997,
          2.308666666666667,
          1.4439999999999997,
          2.4596666666666667,
          1.9183333333333337,
          2.238666666666667,
          2.300333333333333,
          2.2813333333333334,
          1.2063333333333335,
          2.2373333333333334,
          2.1906666666666665,
          1.8883333333333334,
          2.7176666666666667,
          3.5530000000000004,
          1.9323333333333335,
          2.008,
          3.455,
          2.6936666666666667,
          2.111666666666667,
          2.167333333333333,
          2.207666666666667,
          2.693,
          2.9003333333333337,
          2.2906666666666666,
          2.2263333333333333,
          2.5726666666666667,
          2.7889999999999997,
          2.6056666666666666,
          2.489,
          2.663666666666667,
          2.114333333333333,
          1.8116666666666668,
          1.359,
          2.9793333333333334,
          2.1076666666666664,
          2.5910000000000006,
          3.1193333333333335,
          3.0276666666666667,
          2.405666666666667,
          2.895,
          2.148,
          2.1153333333333335,
          2.2096666666666667,
          3.0180000000000002,
          3.0536666666666665,
          2.1523333333333334,
          2.2223333333333333,
          2.736666666666667,
          3.029666666666667,
          2.5260000000000002,
          2.3043333333333336,
          2.7610000000000006,
          2.808666666666667,
          2.1923333333333335,
          2.5406666666666666,
          2.296666666666667,
          2.2436666666666665,
          1.9176666666666666,
          2.323,
          2.7566666666666664,
          2.4403333333333332,
          2.3866666666666667,
          2.5860000000000003,
          1.7696666666666665,
          2.582333333333333,
          2.252333333333333,
          2.7699999999999996,
          2.497666666666667,
          2.832666666666667,
          2.6333333333333333,
          2.738,
          2.872666666666667,
          3.001,
          2.9890000000000003,
          2.436,
          2.5116666666666667,
          2.7099999999999995,
          2.2903333333333333,
          2.7146666666666666,
          2.441333333333334,
          2.598666666666667,
          2.501,
          2.9416666666666664,
          2.8539999999999996,
          3.392,
          3.0656666666666665,
          2.6296666666666666,
          2.2466666666666666,
          2.412333333333333,
          2.7533333333333334,
          2.7416666666666667,
          3.2560000000000002,
          2.731,
          2.9766666666666666,
          2.904,
          3.122333333333333,
          3.512,
          2.8926666666666665,
          3.4173333333333336,
          2.2656666666666667,
          3.128,
          3.1653333333333333,
          3.3733333333333335,
          2.6433333333333335,
          3.3866666666666667,
          3.241,
          2.892,
          3.1613333333333333,
          3.279,
          3.7076666666666664,
          3.297333333333333,
          3.3706666666666667,
          3.301666666666667,
          3.3806666666666665,
          3.5096666666666665,
          2.7763333333333335,
          3.191333333333333,
          3.176666666666667,
          3.359,
          3.142333333333333,
          2.752333333333333,
          2.932666666666666,
          3.368,
          3.5303333333333335,
          2.9006666666666674,
          3.285,
          2.9483333333333337,
          3.312,
          3.6970000000000005,
          3.3529999999999998,
          3.59,
          3.369666666666667,
          3.546333333333333,
          3.557,
          3.1223333333333336,
          3.2213333333333334,
          3.0540000000000003,
          3.176666666666667,
          2.946,
          2.8753333333333337,
          3.3640000000000003,
          3.2336666666666667,
          2.7563333333333335,
          3.5893333333333337,
          2.7976666666666667,
          3.373666666666667,
          3.1986666666666665,
          3.2373333333333334,
          3.300333333333333,
          3.3733333333333335,
          3.5413333333333337,
          4.108333333333333,
          3.388666666666667,
          3.696,
          3.0730000000000004,
          3.1663333333333337,
          3.6856666666666666,
          3.920666666666667,
          3.7463333333333337,
          3.589,
          3.7703333333333333,
          3.7660000000000005,
          3.861666666666667,
          3.6936666666666667,
          3.3156666666666665,
          4.1063333333333345,
          3.7330000000000005,
          3.782666666666666,
          4.282333333333334,
          4.267666666666667,
          3.6656666666666666,
          3.8543333333333334,
          4.256,
          4.399666666666666,
          4.093666666666667,
          4.202,
          4.234333333333333,
          4.441,
          3.6016666666666666,
          4.030333333333332,
          4.142666666666666,
          3.893333333333333,
          3.629,
          4.210333333333334,
          4.027333333333334,
          4.687666666666666
         ],
         "yaxis": "y"
        }
       ],
       "layout": {
        "legend": {
         "title": {
          "text": "Legend"
         },
         "tracegroupgap": 0
        },
        "template": {
         "data": {
          "bar": [
           {
            "error_x": {
             "color": "#f2f5fa"
            },
            "error_y": {
             "color": "#f2f5fa"
            },
            "marker": {
             "line": {
              "color": "rgb(17,17,17)",
              "width": 0.5
             },
             "pattern": {
              "fillmode": "overlay",
              "size": 10,
              "solidity": 0.2
             }
            },
            "type": "bar"
           }
          ],
          "barpolar": [
           {
            "marker": {
             "line": {
              "color": "rgb(17,17,17)",
              "width": 0.5
             },
             "pattern": {
              "fillmode": "overlay",
              "size": 10,
              "solidity": 0.2
             }
            },
            "type": "barpolar"
           }
          ],
          "carpet": [
           {
            "aaxis": {
             "endlinecolor": "#A2B1C6",
             "gridcolor": "#506784",
             "linecolor": "#506784",
             "minorgridcolor": "#506784",
             "startlinecolor": "#A2B1C6"
            },
            "baxis": {
             "endlinecolor": "#A2B1C6",
             "gridcolor": "#506784",
             "linecolor": "#506784",
             "minorgridcolor": "#506784",
             "startlinecolor": "#A2B1C6"
            },
            "type": "carpet"
           }
          ],
          "choropleth": [
           {
            "colorbar": {
             "outlinewidth": 0,
             "ticks": ""
            },
            "type": "choropleth"
           }
          ],
          "contour": [
           {
            "colorbar": {
             "outlinewidth": 0,
             "ticks": ""
            },
            "colorscale": [
             [
              0,
              "#0d0887"
             ],
             [
              0.1111111111111111,
              "#46039f"
             ],
             [
              0.2222222222222222,
              "#7201a8"
             ],
             [
              0.3333333333333333,
              "#9c179e"
             ],
             [
              0.4444444444444444,
              "#bd3786"
             ],
             [
              0.5555555555555556,
              "#d8576b"
             ],
             [
              0.6666666666666666,
              "#ed7953"
             ],
             [
              0.7777777777777778,
              "#fb9f3a"
             ],
             [
              0.8888888888888888,
              "#fdca26"
             ],
             [
              1,
              "#f0f921"
             ]
            ],
            "type": "contour"
           }
          ],
          "contourcarpet": [
           {
            "colorbar": {
             "outlinewidth": 0,
             "ticks": ""
            },
            "type": "contourcarpet"
           }
          ],
          "heatmap": [
           {
            "colorbar": {
             "outlinewidth": 0,
             "ticks": ""
            },
            "colorscale": [
             [
              0,
              "#0d0887"
             ],
             [
              0.1111111111111111,
              "#46039f"
             ],
             [
              0.2222222222222222,
              "#7201a8"
             ],
             [
              0.3333333333333333,
              "#9c179e"
             ],
             [
              0.4444444444444444,
              "#bd3786"
             ],
             [
              0.5555555555555556,
              "#d8576b"
             ],
             [
              0.6666666666666666,
              "#ed7953"
             ],
             [
              0.7777777777777778,
              "#fb9f3a"
             ],
             [
              0.8888888888888888,
              "#fdca26"
             ],
             [
              1,
              "#f0f921"
             ]
            ],
            "type": "heatmap"
           }
          ],
          "heatmapgl": [
           {
            "colorbar": {
             "outlinewidth": 0,
             "ticks": ""
            },
            "colorscale": [
             [
              0,
              "#0d0887"
             ],
             [
              0.1111111111111111,
              "#46039f"
             ],
             [
              0.2222222222222222,
              "#7201a8"
             ],
             [
              0.3333333333333333,
              "#9c179e"
             ],
             [
              0.4444444444444444,
              "#bd3786"
             ],
             [
              0.5555555555555556,
              "#d8576b"
             ],
             [
              0.6666666666666666,
              "#ed7953"
             ],
             [
              0.7777777777777778,
              "#fb9f3a"
             ],
             [
              0.8888888888888888,
              "#fdca26"
             ],
             [
              1,
              "#f0f921"
             ]
            ],
            "type": "heatmapgl"
           }
          ],
          "histogram": [
           {
            "marker": {
             "pattern": {
              "fillmode": "overlay",
              "size": 10,
              "solidity": 0.2
             }
            },
            "type": "histogram"
           }
          ],
          "histogram2d": [
           {
            "colorbar": {
             "outlinewidth": 0,
             "ticks": ""
            },
            "colorscale": [
             [
              0,
              "#0d0887"
             ],
             [
              0.1111111111111111,
              "#46039f"
             ],
             [
              0.2222222222222222,
              "#7201a8"
             ],
             [
              0.3333333333333333,
              "#9c179e"
             ],
             [
              0.4444444444444444,
              "#bd3786"
             ],
             [
              0.5555555555555556,
              "#d8576b"
             ],
             [
              0.6666666666666666,
              "#ed7953"
             ],
             [
              0.7777777777777778,
              "#fb9f3a"
             ],
             [
              0.8888888888888888,
              "#fdca26"
             ],
             [
              1,
              "#f0f921"
             ]
            ],
            "type": "histogram2d"
           }
          ],
          "histogram2dcontour": [
           {
            "colorbar": {
             "outlinewidth": 0,
             "ticks": ""
            },
            "colorscale": [
             [
              0,
              "#0d0887"
             ],
             [
              0.1111111111111111,
              "#46039f"
             ],
             [
              0.2222222222222222,
              "#7201a8"
             ],
             [
              0.3333333333333333,
              "#9c179e"
             ],
             [
              0.4444444444444444,
              "#bd3786"
             ],
             [
              0.5555555555555556,
              "#d8576b"
             ],
             [
              0.6666666666666666,
              "#ed7953"
             ],
             [
              0.7777777777777778,
              "#fb9f3a"
             ],
             [
              0.8888888888888888,
              "#fdca26"
             ],
             [
              1,
              "#f0f921"
             ]
            ],
            "type": "histogram2dcontour"
           }
          ],
          "mesh3d": [
           {
            "colorbar": {
             "outlinewidth": 0,
             "ticks": ""
            },
            "type": "mesh3d"
           }
          ],
          "parcoords": [
           {
            "line": {
             "colorbar": {
              "outlinewidth": 0,
              "ticks": ""
             }
            },
            "type": "parcoords"
           }
          ],
          "pie": [
           {
            "automargin": true,
            "type": "pie"
           }
          ],
          "scatter": [
           {
            "marker": {
             "line": {
              "color": "#283442"
             }
            },
            "type": "scatter"
           }
          ],
          "scatter3d": [
           {
            "line": {
             "colorbar": {
              "outlinewidth": 0,
              "ticks": ""
             }
            },
            "marker": {
             "colorbar": {
              "outlinewidth": 0,
              "ticks": ""
             }
            },
            "type": "scatter3d"
           }
          ],
          "scattercarpet": [
           {
            "marker": {
             "colorbar": {
              "outlinewidth": 0,
              "ticks": ""
             }
            },
            "type": "scattercarpet"
           }
          ],
          "scattergeo": [
           {
            "marker": {
             "colorbar": {
              "outlinewidth": 0,
              "ticks": ""
             }
            },
            "type": "scattergeo"
           }
          ],
          "scattergl": [
           {
            "marker": {
             "line": {
              "color": "#283442"
             }
            },
            "type": "scattergl"
           }
          ],
          "scattermapbox": [
           {
            "marker": {
             "colorbar": {
              "outlinewidth": 0,
              "ticks": ""
             }
            },
            "type": "scattermapbox"
           }
          ],
          "scatterpolar": [
           {
            "marker": {
             "colorbar": {
              "outlinewidth": 0,
              "ticks": ""
             }
            },
            "type": "scatterpolar"
           }
          ],
          "scatterpolargl": [
           {
            "marker": {
             "colorbar": {
              "outlinewidth": 0,
              "ticks": ""
             }
            },
            "type": "scatterpolargl"
           }
          ],
          "scatterternary": [
           {
            "marker": {
             "colorbar": {
              "outlinewidth": 0,
              "ticks": ""
             }
            },
            "type": "scatterternary"
           }
          ],
          "surface": [
           {
            "colorbar": {
             "outlinewidth": 0,
             "ticks": ""
            },
            "colorscale": [
             [
              0,
              "#0d0887"
             ],
             [
              0.1111111111111111,
              "#46039f"
             ],
             [
              0.2222222222222222,
              "#7201a8"
             ],
             [
              0.3333333333333333,
              "#9c179e"
             ],
             [
              0.4444444444444444,
              "#bd3786"
             ],
             [
              0.5555555555555556,
              "#d8576b"
             ],
             [
              0.6666666666666666,
              "#ed7953"
             ],
             [
              0.7777777777777778,
              "#fb9f3a"
             ],
             [
              0.8888888888888888,
              "#fdca26"
             ],
             [
              1,
              "#f0f921"
             ]
            ],
            "type": "surface"
           }
          ],
          "table": [
           {
            "cells": {
             "fill": {
              "color": "#506784"
             },
             "line": {
              "color": "rgb(17,17,17)"
             }
            },
            "header": {
             "fill": {
              "color": "#2a3f5f"
             },
             "line": {
              "color": "rgb(17,17,17)"
             }
            },
            "type": "table"
           }
          ]
         },
         "layout": {
          "annotationdefaults": {
           "arrowcolor": "#f2f5fa",
           "arrowhead": 0,
           "arrowwidth": 1
          },
          "autotypenumbers": "strict",
          "coloraxis": {
           "colorbar": {
            "outlinewidth": 0,
            "ticks": ""
           }
          },
          "colorscale": {
           "diverging": [
            [
             0,
             "#8e0152"
            ],
            [
             0.1,
             "#c51b7d"
            ],
            [
             0.2,
             "#de77ae"
            ],
            [
             0.3,
             "#f1b6da"
            ],
            [
             0.4,
             "#fde0ef"
            ],
            [
             0.5,
             "#f7f7f7"
            ],
            [
             0.6,
             "#e6f5d0"
            ],
            [
             0.7,
             "#b8e186"
            ],
            [
             0.8,
             "#7fbc41"
            ],
            [
             0.9,
             "#4d9221"
            ],
            [
             1,
             "#276419"
            ]
           ],
           "sequential": [
            [
             0,
             "#0d0887"
            ],
            [
             0.1111111111111111,
             "#46039f"
            ],
            [
             0.2222222222222222,
             "#7201a8"
            ],
            [
             0.3333333333333333,
             "#9c179e"
            ],
            [
             0.4444444444444444,
             "#bd3786"
            ],
            [
             0.5555555555555556,
             "#d8576b"
            ],
            [
             0.6666666666666666,
             "#ed7953"
            ],
            [
             0.7777777777777778,
             "#fb9f3a"
            ],
            [
             0.8888888888888888,
             "#fdca26"
            ],
            [
             1,
             "#f0f921"
            ]
           ],
           "sequentialminus": [
            [
             0,
             "#0d0887"
            ],
            [
             0.1111111111111111,
             "#46039f"
            ],
            [
             0.2222222222222222,
             "#7201a8"
            ],
            [
             0.3333333333333333,
             "#9c179e"
            ],
            [
             0.4444444444444444,
             "#bd3786"
            ],
            [
             0.5555555555555556,
             "#d8576b"
            ],
            [
             0.6666666666666666,
             "#ed7953"
            ],
            [
             0.7777777777777778,
             "#fb9f3a"
            ],
            [
             0.8888888888888888,
             "#fdca26"
            ],
            [
             1,
             "#f0f921"
            ]
           ]
          },
          "colorway": [
           "#636efa",
           "#EF553B",
           "#00cc96",
           "#ab63fa",
           "#FFA15A",
           "#19d3f3",
           "#FF6692",
           "#B6E880",
           "#FF97FF",
           "#FECB52"
          ],
          "font": {
           "color": "#f2f5fa"
          },
          "geo": {
           "bgcolor": "rgb(17,17,17)",
           "lakecolor": "rgb(17,17,17)",
           "landcolor": "rgb(17,17,17)",
           "showlakes": true,
           "showland": true,
           "subunitcolor": "#506784"
          },
          "hoverlabel": {
           "align": "left"
          },
          "hovermode": "closest",
          "mapbox": {
           "style": "dark"
          },
          "paper_bgcolor": "rgb(17,17,17)",
          "plot_bgcolor": "rgb(17,17,17)",
          "polar": {
           "angularaxis": {
            "gridcolor": "#506784",
            "linecolor": "#506784",
            "ticks": ""
           },
           "bgcolor": "rgb(17,17,17)",
           "radialaxis": {
            "gridcolor": "#506784",
            "linecolor": "#506784",
            "ticks": ""
           }
          },
          "scene": {
           "xaxis": {
            "backgroundcolor": "rgb(17,17,17)",
            "gridcolor": "#506784",
            "gridwidth": 2,
            "linecolor": "#506784",
            "showbackground": true,
            "ticks": "",
            "zerolinecolor": "#C8D4E3"
           },
           "yaxis": {
            "backgroundcolor": "rgb(17,17,17)",
            "gridcolor": "#506784",
            "gridwidth": 2,
            "linecolor": "#506784",
            "showbackground": true,
            "ticks": "",
            "zerolinecolor": "#C8D4E3"
           },
           "zaxis": {
            "backgroundcolor": "rgb(17,17,17)",
            "gridcolor": "#506784",
            "gridwidth": 2,
            "linecolor": "#506784",
            "showbackground": true,
            "ticks": "",
            "zerolinecolor": "#C8D4E3"
           }
          },
          "shapedefaults": {
           "line": {
            "color": "#f2f5fa"
           }
          },
          "sliderdefaults": {
           "bgcolor": "#C8D4E3",
           "bordercolor": "rgb(17,17,17)",
           "borderwidth": 1,
           "tickwidth": 0
          },
          "ternary": {
           "aaxis": {
            "gridcolor": "#506784",
            "linecolor": "#506784",
            "ticks": ""
           },
           "baxis": {
            "gridcolor": "#506784",
            "linecolor": "#506784",
            "ticks": ""
           },
           "bgcolor": "rgb(17,17,17)",
           "caxis": {
            "gridcolor": "#506784",
            "linecolor": "#506784",
            "ticks": ""
           }
          },
          "title": {
           "x": 0.05
          },
          "updatemenudefaults": {
           "bgcolor": "#506784",
           "borderwidth": 0
          },
          "xaxis": {
           "automargin": true,
           "gridcolor": "#283442",
           "linecolor": "#506784",
           "ticks": "",
           "title": {
            "standoff": 15
           },
           "zerolinecolor": "#283442",
           "zerolinewidth": 2
          },
          "yaxis": {
           "automargin": true,
           "gridcolor": "#283442",
           "linecolor": "#506784",
           "ticks": "",
           "title": {
            "standoff": 15
           },
           "zerolinecolor": "#283442",
           "zerolinewidth": 2
          }
         }
        },
        "title": {
         "text": "Average temperature in each season"
        },
        "xaxis": {
         "anchor": "y",
         "domain": [
          0,
          1
         ],
         "tickvals": [
          1700,
          1750,
          1800,
          1850,
          1900,
          1950,
          2000
         ],
         "title": {
          "text": "Years (1750 - 2014)"
         }
        },
        "yaxis": {
         "anchor": "x",
         "domain": [
          0,
          1
         ],
         "tickvals": [
          0,
          5,
          10,
          15,
          20
         ],
         "title": {
          "text": "Temperature"
         }
        }
       }
      },
      "text/html": [
       "<div>                            <div id=\"2bf7752f-9701-4aa0-a432-182442279a62\" class=\"plotly-graph-div\" style=\"height:525px; width:100%;\"></div>            <script type=\"text/javascript\">                require([\"plotly\"], function(Plotly) {                    window.PLOTLYENV=window.PLOTLYENV || {};                                    if (document.getElementById(\"2bf7752f-9701-4aa0-a432-182442279a62\")) {                    Plotly.newPlot(                        \"2bf7752f-9701-4aa0-a432-182442279a62\",                        [{\"hovertemplate\":\"Legend=spring_temp<br>Years (1750 - 2014)=%{x}<br>Temperature=%{y}<extra></extra>\",\"legendgroup\":\"spring_temp\",\"line\":{\"color\":\"#636efa\",\"dash\":\"solid\"},\"marker\":{\"symbol\":\"circle\"},\"mode\":\"lines\",\"name\":\"spring_temp\",\"showlegend\":true,\"x\":[\"1750\",\"1751\",\"1752\",\"1753\",\"1754\",\"1755\",\"1756\",\"1757\",\"1758\",\"1759\",\"1760\",\"1761\",\"1762\",\"1763\",\"1764\",\"1765\",\"1766\",\"1767\",\"1768\",\"1769\",\"1770\",\"1771\",\"1772\",\"1773\",\"1774\",\"1775\",\"1776\",\"1777\",\"1778\",\"1779\",\"1780\",\"1781\",\"1782\",\"1783\",\"1784\",\"1785\",\"1786\",\"1787\",\"1788\",\"1789\",\"1790\",\"1791\",\"1792\",\"1793\",\"1794\",\"1795\",\"1796\",\"1797\",\"1798\",\"1799\",\"1800\",\"1801\",\"1802\",\"1803\",\"1804\",\"1805\",\"1806\",\"1807\",\"1808\",\"1809\",\"1810\",\"1811\",\"1812\",\"1813\",\"1814\",\"1815\",\"1816\",\"1817\",\"1818\",\"1819\",\"1820\",\"1821\",\"1822\",\"1823\",\"1824\",\"1825\",\"1826\",\"1827\",\"1828\",\"1829\",\"1830\",\"1831\",\"1832\",\"1833\",\"1834\",\"1835\",\"1836\",\"1837\",\"1838\",\"1839\",\"1840\",\"1841\",\"1842\",\"1843\",\"1844\",\"1845\",\"1846\",\"1847\",\"1848\",\"1849\",\"1850\",\"1851\",\"1852\",\"1853\",\"1854\",\"1855\",\"1856\",\"1857\",\"1858\",\"1859\",\"1860\",\"1861\",\"1862\",\"1863\",\"1864\",\"1865\",\"1866\",\"1867\",\"1868\",\"1869\",\"1870\",\"1871\",\"1872\",\"1873\",\"1874\",\"1875\",\"1876\",\"1877\",\"1878\",\"1879\",\"1880\",\"1881\",\"1882\",\"1883\",\"1884\",\"1885\",\"1886\",\"1887\",\"1888\",\"1889\",\"1890\",\"1891\",\"1892\",\"1893\",\"1894\",\"1895\",\"1896\",\"1897\",\"1898\",\"1899\",\"1900\",\"1901\",\"1902\",\"1903\",\"1904\",\"1905\",\"1906\",\"1907\",\"1908\",\"1909\",\"1910\",\"1911\",\"1912\",\"1913\",\"1914\",\"1915\",\"1916\",\"1917\",\"1918\",\"1919\",\"1920\",\"1921\",\"1922\",\"1923\",\"1924\",\"1925\",\"1926\",\"1927\",\"1928\",\"1929\",\"1930\",\"1931\",\"1932\",\"1933\",\"1934\",\"1935\",\"1936\",\"1937\",\"1938\",\"1939\",\"1940\",\"1941\",\"1942\",\"1943\",\"1944\",\"1945\",\"1946\",\"1947\",\"1948\",\"1949\",\"1950\",\"1951\",\"1952\",\"1953\",\"1954\",\"1955\",\"1956\",\"1957\",\"1958\",\"1959\",\"1960\",\"1961\",\"1962\",\"1963\",\"1964\",\"1965\",\"1966\",\"1967\",\"1968\",\"1969\",\"1970\",\"1971\",\"1972\",\"1973\",\"1974\",\"1975\",\"1976\",\"1977\",\"1978\",\"1979\",\"1980\",\"1981\",\"1982\",\"1983\",\"1984\",\"1985\",\"1986\",\"1987\",\"1988\",\"1989\",\"1990\",\"1991\",\"1992\",\"1993\",\"1994\",\"1995\",\"1996\",\"1997\",\"1998\",\"1999\",\"2000\",\"2001\",\"2002\",\"2003\",\"2004\",\"2005\",\"2006\",\"2007\",\"2008\",\"2009\",\"2010\",\"2011\",\"2012\",\"2013\",\"2014\",\"2015\"],\"xaxis\":\"x\",\"y\":[8.563,6.734999999999999,7.035499999999999,8.627333333333334,9.074333333333334,8.583666666666666,9.466,8.604666666666667,6.896666666666666,6.897333333333333,6.653666666666666,8.916,7.809333333333332,6.716,8.192,8.868666666666668,8.432333333333332,7.831,6.144000000000001,8.803333333333333,7.132000000000001,6.0523333333333325,7.148666666666666,8.866999999999999,10.607,9.036666666666667,7.522333333333333,7.774333333333334,8.957999999999998,10.370666666666667,11.737666666666664,7.599,7.390999999999998,8.397333333333334,7.3580000000000005,6.173666666666667,8.849666666666666,7.9576666666666656,8.159333333333334,7.783,6.997333333333333,7.9253333333333345,7.914666666666666,8.248,9.146333333333333,8.552,7.507666666666666,7.024333333333334,8.953333333333333,8.041666666666666,8.224666666666666,8.660666666666666,7.760333333333333,8.653666666666666,8.863,8.328999999999999,8.075333333333333,7.03,7.066666666666666,6.833666666666666,6.872,6.481999999999999,6.191333333333333,7.048333333333333,6.424666666666667,6.698666666666667,7.368333333333332,7.311333333333333,8.904333333333334,6.603666666666666,8.312666666666667,8.167,8.850333333333333,7.765333333333333,8.287999999999998,8.368,8.365,9.125666666666666,8.582333333333333,8.070666666666666,7.832333333333334,7.761,7.732666666666667,7.657,8.351666666666667,7.482333333333333,7.680666666666667,6.797999999999999,7.030333333333332,6.951333333333333,7.718666666666667,6.947,8.198333333333332,7.537999999999999,7.410666666666667,7.747333333333333,8.227666666666666,7.549333333333333,7.832,7.496333333333333,7.391666666666666,7.530666666666666,7.513333333333333,7.531333333333333,7.805,8.127666666666666,7.550999999999999,7.008,7.978333333333334,8.340333333333334,7.438666666666666,7.497333333333333,7.515666666666667,7.898,7.707333333333334,7.423333333333332,7.7443333333333335,7.735666666666667,8.009666666666666,7.863333333333332,7.958000000000001,7.937666666666666,7.988666666666667,7.723999999999999,7.919333333333333,7.545999999999999,7.8790000000000004,8.130666666666666,8.841333333333333,7.831666666666667,7.761666666666666,8.165999999999999,7.873,7.817333333333333,7.092,7.508333333333333,7.651666666666666,7.726999999999999,7.588333333333334,8.376666666666667,7.470999999999999,7.719333333333332,7.515333333333333,7.906666666666666,7.908333333333334,7.934333333333334,7.500666666666667,8.0,7.497666666666667,7.973999999999999,8.366666666666667,8.457,7.910666666666667,7.851999999999999,7.676666666666666,7.790666666666667,8.244,7.509666666666667,7.702999999999999,7.578,7.905333333333334,7.722,7.946333333333333,7.761666666666666,8.108333333333333,8.447000000000001,7.954999999999999,7.5953333333333335,7.664999999999999,8.066333333333333,8.216999999999999,8.216666666666667,8.211,7.821333333333333,8.17,8.202333333333334,8.318333333333333,7.935666666666666,8.124,8.036,8.256666666666666,8.134333333333332,8.316,8.013666666666667,8.104,8.025333333333334,8.136333333333333,8.137666666666666,8.673333333333334,8.259333333333332,8.506,8.427,8.354,8.420333333333334,8.433,8.320666666666668,8.476,8.605333333333334,8.318333333333333,8.243333333333332,8.222333333333333,8.298666666666668,8.26,8.706000000000001,8.097999999999999,7.970999999999999,7.8439999999999985,8.220333333333334,8.497333333333332,8.665333333333333,7.769333333333333,8.614666666666666,8.399333333333333,8.104999999999999,7.897333333333333,8.131333333333332,8.296,8.495333333333333,8.546666666666667,8.353666666666667,8.360333333333333,8.183666666666667,8.259666666666666,8.84233333333333,8.258000000000001,8.677333333333333,7.917666666666666,8.777333333333333,8.604,8.376,8.690666666666665,8.918999999999999,8.228666666666667,8.706999999999999,8.693,8.503333333333332,8.735666666666665,8.455,8.924999999999999,8.587000000000002,9.243333333333334,8.805333333333333,8.686333333333332,8.696,8.811,8.832666666666666,8.597,8.832,9.224,8.691333333333333,9.215,9.241333333333333,9.416333333333332,9.118333333333332,9.046999999999999,9.462666666666665,9.056666666666667,9.608666666666666,9.418333333333333,9.188333333333333,9.604999999999999,9.19,9.429666666666666,9.166666666666666,9.516333333333334,9.455],\"yaxis\":\"y\",\"type\":\"scattergl\"},{\"hovertemplate\":\"Legend=summer_temp<br>Years (1750 - 2014)=%{x}<br>Temperature=%{y}<extra></extra>\",\"legendgroup\":\"summer_temp\",\"line\":{\"color\":\"#EF553B\",\"dash\":\"solid\"},\"marker\":{\"symbol\":\"circle\"},\"mode\":\"lines\",\"name\":\"summer_temp\",\"showlegend\":true,\"x\":[\"1750\",\"1751\",\"1752\",\"1753\",\"1754\",\"1755\",\"1756\",\"1757\",\"1758\",\"1759\",\"1760\",\"1761\",\"1762\",\"1763\",\"1764\",\"1765\",\"1766\",\"1767\",\"1768\",\"1769\",\"1770\",\"1771\",\"1772\",\"1773\",\"1774\",\"1775\",\"1776\",\"1777\",\"1778\",\"1779\",\"1780\",\"1781\",\"1782\",\"1783\",\"1784\",\"1785\",\"1786\",\"1787\",\"1788\",\"1789\",\"1790\",\"1791\",\"1792\",\"1793\",\"1794\",\"1795\",\"1796\",\"1797\",\"1798\",\"1799\",\"1800\",\"1801\",\"1802\",\"1803\",\"1804\",\"1805\",\"1806\",\"1807\",\"1808\",\"1809\",\"1810\",\"1811\",\"1812\",\"1813\",\"1814\",\"1815\",\"1816\",\"1817\",\"1818\",\"1819\",\"1820\",\"1821\",\"1822\",\"1823\",\"1824\",\"1825\",\"1826\",\"1827\",\"1828\",\"1829\",\"1830\",\"1831\",\"1832\",\"1833\",\"1834\",\"1835\",\"1836\",\"1837\",\"1838\",\"1839\",\"1840\",\"1841\",\"1842\",\"1843\",\"1844\",\"1845\",\"1846\",\"1847\",\"1848\",\"1849\",\"1850\",\"1851\",\"1852\",\"1853\",\"1854\",\"1855\",\"1856\",\"1857\",\"1858\",\"1859\",\"1860\",\"1861\",\"1862\",\"1863\",\"1864\",\"1865\",\"1866\",\"1867\",\"1868\",\"1869\",\"1870\",\"1871\",\"1872\",\"1873\",\"1874\",\"1875\",\"1876\",\"1877\",\"1878\",\"1879\",\"1880\",\"1881\",\"1882\",\"1883\",\"1884\",\"1885\",\"1886\",\"1887\",\"1888\",\"1889\",\"1890\",\"1891\",\"1892\",\"1893\",\"1894\",\"1895\",\"1896\",\"1897\",\"1898\",\"1899\",\"1900\",\"1901\",\"1902\",\"1903\",\"1904\",\"1905\",\"1906\",\"1907\",\"1908\",\"1909\",\"1910\",\"1911\",\"1912\",\"1913\",\"1914\",\"1915\",\"1916\",\"1917\",\"1918\",\"1919\",\"1920\",\"1921\",\"1922\",\"1923\",\"1924\",\"1925\",\"1926\",\"1927\",\"1928\",\"1929\",\"1930\",\"1931\",\"1932\",\"1933\",\"1934\",\"1935\",\"1936\",\"1937\",\"1938\",\"1939\",\"1940\",\"1941\",\"1942\",\"1943\",\"1944\",\"1945\",\"1946\",\"1947\",\"1948\",\"1949\",\"1950\",\"1951\",\"1952\",\"1953\",\"1954\",\"1955\",\"1956\",\"1957\",\"1958\",\"1959\",\"1960\",\"1961\",\"1962\",\"1963\",\"1964\",\"1965\",\"1966\",\"1967\",\"1968\",\"1969\",\"1970\",\"1971\",\"1972\",\"1973\",\"1974\",\"1975\",\"1976\",\"1977\",\"1978\",\"1979\",\"1980\",\"1981\",\"1982\",\"1983\",\"1984\",\"1985\",\"1986\",\"1987\",\"1988\",\"1989\",\"1990\",\"1991\",\"1992\",\"1993\",\"1994\",\"1995\",\"1996\",\"1997\",\"1998\",\"1999\",\"2000\",\"2001\",\"2002\",\"2003\",\"2004\",\"2005\",\"2006\",\"2007\",\"2008\",\"2009\",\"2010\",\"2011\",\"2012\",\"2013\",\"2014\",\"2015\"],\"xaxis\":\"x\",\"y\":[14.518333333333333,14.116,null,14.608333333333334,14.208333333333334,14.430666666666667,13.963333333333333,17.544999999999998,12.934666666666665,13.541666666666666,12.916333333333334,17.057666666666666,14.070333333333332,14.262666666666666,12.170666666666667,12.635333333333334,13.655333333333331,14.023333333333333,12.905666666666667,14.365666666666668,11.639333333333335,14.045333333333332,13.775333333333334,13.639666666666669,15.330333333333334,13.822666666666668,14.503,12.627,13.212333333333333,13.335,14.625666666666666,13.368,14.469666666666667,13.793333333333331,14.537,14.226,14.261333333333333,13.791666666666666,14.720333333333334,14.269666666666666,13.827666666666667,13.529000000000002,13.357999999999999,13.547333333333333,12.784,13.576,14.417333333333334,13.999666666666664,14.317,14.211666666666666,13.662666666666667,13.466333333333331,14.379333333333333,14.764333333333333,14.686333333333332,14.666333333333332,13.644666666666666,13.743333333333332,13.655666666666667,12.853,12.175333333333333,12.472999999999999,13.792666666666667,13.62,12.672666666666666,12.921666666666667,12.208999999999998,12.254,13.500333333333336,12.707,12.870666666666667,12.930666666666667,13.498,13.761666666666668,13.897999999999998,13.680333333333332,13.537,13.975333333333333,14.047666666666666,13.494666666666667,13.718333333333334,13.091000000000001,12.85,13.357999999999999,13.469333333333333,12.485999999999999,13.008333333333333,12.881,13.559,13.676333333333332,13.737,13.774,13.151333333333334,13.272,13.269,13.579333333333333,14.191333333333333,13.497333333333332,13.660333333333334,13.687,13.893666666666668,13.899999999999999,13.660000000000002,14.002666666666665,13.803333333333333,13.485666666666667,13.512,13.255666666666665,13.284333333333334,13.395333333333333,13.746666666666664,13.546666666666667,13.325333333333333,13.284333333333334,13.653666666666666,13.671333333333335,13.662333333333331,13.677333333333335,13.806666666666667,13.961333333333334,13.912,13.767333333333333,13.720333333333334,13.815666666666667,13.747666666666666,13.567333333333332,13.643666666666666,14.059,14.210666666666667,13.571,13.758333333333333,13.552666666666667,13.418333333333331,13.512333333333332,13.135333333333334,13.346333333333334,13.446,13.336,13.558,13.672333333333333,13.390666666666666,13.438,13.524333333333333,13.607666666666667,13.450000000000001,13.533333333333333,13.720333333333334,13.765666666666666,13.704,13.597333333333333,13.76,13.850333333333333,13.681333333333333,13.43,13.436333333333332,13.588999999999999,13.715666666666666,13.286666666666667,13.622,13.591333333333333,13.702333333333334,13.530000000000001,13.403666666666666,13.622,13.841333333333333,13.837666666666669,13.524666666666667,13.548333333333332,13.447000000000001,13.762666666666666,13.682666666666668,13.812333333333333,13.731,13.630333333333335,13.766666666666667,13.641333333333334,13.776666666666666,13.764333333333333,13.703333333333333,13.521666666666667,13.913333333333332,14.089666666666666,13.831666666666665,13.702,13.841,13.810666666666668,13.950666666666665,13.995,13.921999999999999,13.952666666666667,13.988333333333335,14.117333333333335,13.868666666666668,13.798333333333334,13.987666666666664,13.951333333333332,13.847,13.878333333333332,14.001666666666667,13.749333333333334,13.660666666666666,13.865,13.985,14.020999999999999,13.836333333333334,14.028333333333334,13.509666666666666,13.998,13.740666666666668,13.959666666666669,13.835666666666668,13.946333333333333,13.781666666666666,14.075666666666665,13.812666666666667,13.731,13.962333333333333,13.781999999999998,13.584666666666665,13.832333333333333,13.855333333333334,13.705666666666666,13.967666666666666,14.042666666666667,13.895333333333333,13.807333333333332,13.583999999999998,14.198999999999998,13.627,13.811333333333332,14.171000000000001,14.335,13.862,14.062666666666667,13.933333333333335,13.866999999999999,13.901333333333334,14.237666666666668,14.483333333333334,14.064666666666666,14.257333333333333,14.523000000000001,13.826999999999998,13.982666666666667,14.259666666666666,14.638666666666666,14.370333333333333,14.317333333333332,14.911666666666667,14.410666666666666,14.475666666666667,14.566,14.665999999999999,14.563666666666668,14.129666666666667,14.725333333333333,14.799333333333331,14.763666666666667,14.565333333333333,14.695666666666668,14.800666666666666,14.954666666666666,14.762666666666668,14.771,14.694333333333333,14.770333333333333],\"yaxis\":\"y\",\"type\":\"scattergl\"},{\"hovertemplate\":\"Legend=autumn_temp<br>Years (1750 - 2014)=%{x}<br>Temperature=%{y}<extra></extra>\",\"legendgroup\":\"autumn_temp\",\"line\":{\"color\":\"#00cc96\",\"dash\":\"solid\"},\"marker\":{\"symbol\":\"circle\"},\"mode\":\"lines\",\"name\":\"autumn_temp\",\"showlegend\":true,\"x\":[\"1750\",\"1751\",\"1752\",\"1753\",\"1754\",\"1755\",\"1756\",\"1757\",\"1758\",\"1759\",\"1760\",\"1761\",\"1762\",\"1763\",\"1764\",\"1765\",\"1766\",\"1767\",\"1768\",\"1769\",\"1770\",\"1771\",\"1772\",\"1773\",\"1774\",\"1775\",\"1776\",\"1777\",\"1778\",\"1779\",\"1780\",\"1781\",\"1782\",\"1783\",\"1784\",\"1785\",\"1786\",\"1787\",\"1788\",\"1789\",\"1790\",\"1791\",\"1792\",\"1793\",\"1794\",\"1795\",\"1796\",\"1797\",\"1798\",\"1799\",\"1800\",\"1801\",\"1802\",\"1803\",\"1804\",\"1805\",\"1806\",\"1807\",\"1808\",\"1809\",\"1810\",\"1811\",\"1812\",\"1813\",\"1814\",\"1815\",\"1816\",\"1817\",\"1818\",\"1819\",\"1820\",\"1821\",\"1822\",\"1823\",\"1824\",\"1825\",\"1826\",\"1827\",\"1828\",\"1829\",\"1830\",\"1831\",\"1832\",\"1833\",\"1834\",\"1835\",\"1836\",\"1837\",\"1838\",\"1839\",\"1840\",\"1841\",\"1842\",\"1843\",\"1844\",\"1845\",\"1846\",\"1847\",\"1848\",\"1849\",\"1850\",\"1851\",\"1852\",\"1853\",\"1854\",\"1855\",\"1856\",\"1857\",\"1858\",\"1859\",\"1860\",\"1861\",\"1862\",\"1863\",\"1864\",\"1865\",\"1866\",\"1867\",\"1868\",\"1869\",\"1870\",\"1871\",\"1872\",\"1873\",\"1874\",\"1875\",\"1876\",\"1877\",\"1878\",\"1879\",\"1880\",\"1881\",\"1882\",\"1883\",\"1884\",\"1885\",\"1886\",\"1887\",\"1888\",\"1889\",\"1890\",\"1891\",\"1892\",\"1893\",\"1894\",\"1895\",\"1896\",\"1897\",\"1898\",\"1899\",\"1900\",\"1901\",\"1902\",\"1903\",\"1904\",\"1905\",\"1906\",\"1907\",\"1908\",\"1909\",\"1910\",\"1911\",\"1912\",\"1913\",\"1914\",\"1915\",\"1916\",\"1917\",\"1918\",\"1919\",\"1920\",\"1921\",\"1922\",\"1923\",\"1924\",\"1925\",\"1926\",\"1927\",\"1928\",\"1929\",\"1930\",\"1931\",\"1932\",\"1933\",\"1934\",\"1935\",\"1936\",\"1937\",\"1938\",\"1939\",\"1940\",\"1941\",\"1942\",\"1943\",\"1944\",\"1945\",\"1946\",\"1947\",\"1948\",\"1949\",\"1950\",\"1951\",\"1952\",\"1953\",\"1954\",\"1955\",\"1956\",\"1957\",\"1958\",\"1959\",\"1960\",\"1961\",\"1962\",\"1963\",\"1964\",\"1965\",\"1966\",\"1967\",\"1968\",\"1969\",\"1970\",\"1971\",\"1972\",\"1973\",\"1974\",\"1975\",\"1976\",\"1977\",\"1978\",\"1979\",\"1980\",\"1981\",\"1982\",\"1983\",\"1984\",\"1985\",\"1986\",\"1987\",\"1988\",\"1989\",\"1990\",\"1991\",\"1992\",\"1993\",\"1994\",\"1995\",\"1996\",\"1997\",\"1998\",\"1999\",\"2000\",\"2001\",\"2002\",\"2003\",\"2004\",\"2005\",\"2006\",\"2007\",\"2008\",\"2009\",\"2010\",\"2011\",\"2012\",\"2013\",\"2014\",\"2015\"],\"xaxis\":\"x\",\"y\":[8.889999999999999,10.673,7.587,9.212333333333333,8.957333333333333,9.233666666666666,8.063,8.455333333333334,6.2923333333333344,8.387,7.778,8.283666666666667,7.616333333333333,7.167000000000001,8.832666666666666,8.166666666666666,9.389666666666667,9.539,7.711333333333333,6.445666666666665,8.392,8.865333333333334,9.102333333333334,8.354333333333333,7.5183333333333335,9.882333333333333,8.177333333333333,7.954666666666667,8.426666666666668,9.267666666666667,8.308666666666666,8.791333333333332,8.777333333333333,6.503666666666667,7.219666666666666,7.791333333333333,8.537,7.976666666666667,9.053,8.457333333333333,8.380333333333335,8.654333333333332,8.631333333333334,8.687,8.762666666666666,8.042,8.879333333333333,8.809,8.771,9.273666666666667,8.612,8.760333333333334,9.023333333333332,9.136666666666665,9.627333333333334,8.076666666666666,8.735333333333335,9.162333333333335,8.398333333333333,7.572,6.663666666666667,6.817,7.3823333333333325,9.276666666666667,8.263,7.488666666666667,6.7156666666666665,6.550999999999999,7.4223333333333334,8.451999999999998,7.730333333333333,8.104666666666667,7.656666666666667,7.449333333333333,8.534,8.395,8.757,8.557333333333334,8.231,8.135666666666667,8.675333333333333,7.396,7.774,8.577333333333334,8.847666666666667,7.363,7.794,7.542333333333333,8.264,7.663999999999999,7.538666666666667,8.143333333333333,8.023666666666665,8.331666666666667,7.973333333333333,8.07,8.337,8.603666666666667,8.314,8.586999999999998,8.109666666666667,8.590666666666666,8.327,8.342666666666668,9.007333333333333,8.257,8.131666666666666,8.163333333333332,8.649333333333333,8.608666666666666,8.543666666666667,8.530333333333333,8.034333333333334,8.285666666666666,8.465666666666666,9.025666666666666,8.642666666666667,9.304666666666668,8.769666666666668,9.008666666666667,8.787333333333331,8.64,8.856666666666667,8.846666666666666,9.013333333333334,8.172666666666666,8.575333333333333,9.232,9.237333333333334,8.734666666666667,8.650666666666666,8.604,8.415666666666667,8.385666666666665,8.326666666666666,8.527333333333335,8.476666666666667,8.679,8.892666666666669,8.470333333333334,8.584666666666667,8.533333333333333,8.637666666666666,8.943,8.703333333333333,8.868,8.868666666666668,8.91,8.677666666666665,9.380666666666666,9.141666666666667,8.987666666666668,8.624666666666668,8.609666666666667,8.814666666666666,9.009333333333332,8.846666666666666,8.702,8.704666666666666,9.102333333333332,8.685666666666668,8.955,8.37,8.953333333333333,9.020333333333333,9.022333333333334,8.791666666666668,8.703000000000001,8.999,8.946666666666667,8.793666666666667,8.999,8.959,9.260333333333334,9.186666666666667,9.171666666666665,9.308333333333334,9.495666666666667,9.283999999999999,9.146333333333335,9.236333333333333,9.487666666666666,9.3,8.994,9.181666666666667,8.985999999999999,9.237,9.499333333333333,9.580333333333334,9.121666666666666,9.267000000000001,9.159666666666668,9.389333333333335,9.421,9.449666666666667,9.290999999999999,9.193333333333333,9.528,9.308,9.212,8.825666666666667,9.406333333333334,8.94,9.237666666666668,9.407666666666666,9.220666666666666,8.816333333333333,9.399666666666667,9.159999999999998,8.952666666666667,9.139999999999999,9.26,9.256333333333334,9.686333333333332,8.806333333333333,9.026,9.085,9.346333333333334,8.988,9.319,9.224,9.274000000000001,9.014666666666667,9.318666666666667,8.919,9.121,8.688666666666666,9.187333333333333,9.239666666666666,9.373,9.518333333333334,9.301,9.077333333333334,9.647,9.068,9.095333333333333,9.011666666666667,9.364333333333333,9.651666666666666,9.447333333333333,9.665666666666667,9.623333333333333,8.971333333333332,9.094,9.768666666666666,9.810666666666666,9.455333333333334,9.878333333333334,9.672666666666666,9.770666666666665,9.448333333333334,9.996666666666666,9.943333333333333,10.020666666666667,10.028,10.413666666666666,10.039666666666667,10.115333333333334,10.141666666666667,10.106666666666667,10.264000000000001,10.026000000000002,10.208,10.278,10.044666666666666,10.411],\"yaxis\":\"y\",\"type\":\"scattergl\"},{\"hovertemplate\":\"Legend=winter_temp<br>Years (1750 - 2014)=%{x}<br>Temperature=%{y}<extra></extra>\",\"legendgroup\":\"winter_temp\",\"line\":{\"color\":\"#ab63fa\",\"dash\":\"solid\"},\"marker\":{\"symbol\":\"circle\"},\"mode\":\"lines\",\"name\":\"winter_temp\",\"showlegend\":true,\"x\":[\"1750\",\"1751\",\"1752\",\"1753\",\"1754\",\"1755\",\"1756\",\"1757\",\"1758\",\"1759\",\"1760\",\"1761\",\"1762\",\"1763\",\"1764\",\"1765\",\"1766\",\"1767\",\"1768\",\"1769\",\"1770\",\"1771\",\"1772\",\"1773\",\"1774\",\"1775\",\"1776\",\"1777\",\"1778\",\"1779\",\"1780\",\"1781\",\"1782\",\"1783\",\"1784\",\"1785\",\"1786\",\"1787\",\"1788\",\"1789\",\"1790\",\"1791\",\"1792\",\"1793\",\"1794\",\"1795\",\"1796\",\"1797\",\"1798\",\"1799\",\"1800\",\"1801\",\"1802\",\"1803\",\"1804\",\"1805\",\"1806\",\"1807\",\"1808\",\"1809\",\"1810\",\"1811\",\"1812\",\"1813\",\"1814\",\"1815\",\"1816\",\"1817\",\"1818\",\"1819\",\"1820\",\"1821\",\"1822\",\"1823\",\"1824\",\"1825\",\"1826\",\"1827\",\"1828\",\"1829\",\"1830\",\"1831\",\"1832\",\"1833\",\"1834\",\"1835\",\"1836\",\"1837\",\"1838\",\"1839\",\"1840\",\"1841\",\"1842\",\"1843\",\"1844\",\"1845\",\"1846\",\"1847\",\"1848\",\"1849\",\"1850\",\"1851\",\"1852\",\"1853\",\"1854\",\"1855\",\"1856\",\"1857\",\"1858\",\"1859\",\"1860\",\"1861\",\"1862\",\"1863\",\"1864\",\"1865\",\"1866\",\"1867\",\"1868\",\"1869\",\"1870\",\"1871\",\"1872\",\"1873\",\"1874\",\"1875\",\"1876\",\"1877\",\"1878\",\"1879\",\"1880\",\"1881\",\"1882\",\"1883\",\"1884\",\"1885\",\"1886\",\"1887\",\"1888\",\"1889\",\"1890\",\"1891\",\"1892\",\"1893\",\"1894\",\"1895\",\"1896\",\"1897\",\"1898\",\"1899\",\"1900\",\"1901\",\"1902\",\"1903\",\"1904\",\"1905\",\"1906\",\"1907\",\"1908\",\"1909\",\"1910\",\"1911\",\"1912\",\"1913\",\"1914\",\"1915\",\"1916\",\"1917\",\"1918\",\"1919\",\"1920\",\"1921\",\"1922\",\"1923\",\"1924\",\"1925\",\"1926\",\"1927\",\"1928\",\"1929\",\"1930\",\"1931\",\"1932\",\"1933\",\"1934\",\"1935\",\"1936\",\"1937\",\"1938\",\"1939\",\"1940\",\"1941\",\"1942\",\"1943\",\"1944\",\"1945\",\"1946\",\"1947\",\"1948\",\"1949\",\"1950\",\"1951\",\"1952\",\"1953\",\"1954\",\"1955\",\"1956\",\"1957\",\"1958\",\"1959\",\"1960\",\"1961\",\"1962\",\"1963\",\"1964\",\"1965\",\"1966\",\"1967\",\"1968\",\"1969\",\"1970\",\"1971\",\"1972\",\"1973\",\"1974\",\"1975\",\"1976\",\"1977\",\"1978\",\"1979\",\"1980\",\"1981\",\"1982\",\"1983\",\"1984\",\"1985\",\"1986\",\"1987\",\"1988\",\"1989\",\"1990\",\"1991\",\"1992\",\"1993\",\"1994\",\"1995\",\"1996\",\"1997\",\"1998\",\"1999\",\"2000\",\"2001\",\"2002\",\"2003\",\"2004\",\"2005\",\"2006\",\"2007\",\"2008\",\"2009\",\"2010\",\"2011\",\"2012\",\"2013\",\"2014\",\"2015\"],\"xaxis\":\"x\",\"y\":[2.9630000000000005,1.729,2.7170000000000005,1.1043333333333332,1.6373333333333333,1.1743333333333332,3.906,1.4829999999999999,0.8506666666666668,3.114333333333333,1.3926666666666667,0.8326666666666666,4.930000000000001,1.8413333333333333,4.406,3.3369999999999997,2.1453333333333333,1.4926666666666666,0.36433333333333334,1.1636666666666666,3.6043333333333334,2.449666666666667,2.747666666666667,2.0249999999999995,1.633,3.9906666666666673,3.013333333333333,4.6690000000000005,3.571999999999999,2.9596666666666667,3.0596666666666668,2.6519999999999997,0.967,2.029,2.3333333333333335,1.261,1.3846666666666667,2.4013333333333335,1.856,2.8266666666666667,2.724,2.828333333333333,2.452,2.4343333333333335,3.411,3.2313333333333336,2.279666666666667,4.209333333333333,2.639666666666667,2.496,3.4376666666666664,3.4713333333333334,3.1496666666666666,1.4573333333333334,2.202666666666667,3.179,3.281,3.1899999999999995,1.3866666666666667,1.047,1.9796666666666667,1.6660000000000001,0.8186666666666668,1.0146666666666666,3.0066666666666673,1.8483333333333334,1.457,1.7863333333333333,1.4886666666666668,1.7140000000000002,1.5513333333333332,3.158,2.7483333333333335,1.8983333333333334,3.468666666666667,3.1139999999999994,2.767333333333333,3.576666666666666,1.8003333333333336,2.066333333333333,3.8409999999999997,2.308666666666667,1.4439999999999997,2.4596666666666667,1.9183333333333337,2.238666666666667,2.300333333333333,2.2813333333333334,1.2063333333333335,2.2373333333333334,2.1906666666666665,1.8883333333333334,2.7176666666666667,3.5530000000000004,1.9323333333333335,2.008,3.455,2.6936666666666667,2.111666666666667,2.167333333333333,2.207666666666667,2.693,2.9003333333333337,2.2906666666666666,2.2263333333333333,2.5726666666666667,2.7889999999999997,2.6056666666666666,2.489,2.663666666666667,2.114333333333333,1.8116666666666668,1.359,2.9793333333333334,2.1076666666666664,2.5910000000000006,3.1193333333333335,3.0276666666666667,2.405666666666667,2.895,2.148,2.1153333333333335,2.2096666666666667,3.0180000000000002,3.0536666666666665,2.1523333333333334,2.2223333333333333,2.736666666666667,3.029666666666667,2.5260000000000002,2.3043333333333336,2.7610000000000006,2.808666666666667,2.1923333333333335,2.5406666666666666,2.296666666666667,2.2436666666666665,1.9176666666666666,2.323,2.7566666666666664,2.4403333333333332,2.3866666666666667,2.5860000000000003,1.7696666666666665,2.582333333333333,2.252333333333333,2.7699999999999996,2.497666666666667,2.832666666666667,2.6333333333333333,2.738,2.872666666666667,3.001,2.9890000000000003,2.436,2.5116666666666667,2.7099999999999995,2.2903333333333333,2.7146666666666666,2.441333333333334,2.598666666666667,2.501,2.9416666666666664,2.8539999999999996,3.392,3.0656666666666665,2.6296666666666666,2.2466666666666666,2.412333333333333,2.7533333333333334,2.7416666666666667,3.2560000000000002,2.731,2.9766666666666666,2.904,3.122333333333333,3.512,2.8926666666666665,3.4173333333333336,2.2656666666666667,3.128,3.1653333333333333,3.3733333333333335,2.6433333333333335,3.3866666666666667,3.241,2.892,3.1613333333333333,3.279,3.7076666666666664,3.297333333333333,3.3706666666666667,3.301666666666667,3.3806666666666665,3.5096666666666665,2.7763333333333335,3.191333333333333,3.176666666666667,3.359,3.142333333333333,2.752333333333333,2.932666666666666,3.368,3.5303333333333335,2.9006666666666674,3.285,2.9483333333333337,3.312,3.6970000000000005,3.3529999999999998,3.59,3.369666666666667,3.546333333333333,3.557,3.1223333333333336,3.2213333333333334,3.0540000000000003,3.176666666666667,2.946,2.8753333333333337,3.3640000000000003,3.2336666666666667,2.7563333333333335,3.5893333333333337,2.7976666666666667,3.373666666666667,3.1986666666666665,3.2373333333333334,3.300333333333333,3.3733333333333335,3.5413333333333337,4.108333333333333,3.388666666666667,3.696,3.0730000000000004,3.1663333333333337,3.6856666666666666,3.920666666666667,3.7463333333333337,3.589,3.7703333333333333,3.7660000000000005,3.861666666666667,3.6936666666666667,3.3156666666666665,4.1063333333333345,3.7330000000000005,3.782666666666666,4.282333333333334,4.267666666666667,3.6656666666666666,3.8543333333333334,4.256,4.399666666666666,4.093666666666667,4.202,4.234333333333333,4.441,3.6016666666666666,4.030333333333332,4.142666666666666,3.893333333333333,3.629,4.210333333333334,4.027333333333334,4.687666666666666],\"yaxis\":\"y\",\"type\":\"scattergl\"}],                        {\"template\":{\"data\":{\"barpolar\":[{\"marker\":{\"line\":{\"color\":\"rgb(17,17,17)\",\"width\":0.5},\"pattern\":{\"fillmode\":\"overlay\",\"size\":10,\"solidity\":0.2}},\"type\":\"barpolar\"}],\"bar\":[{\"error_x\":{\"color\":\"#f2f5fa\"},\"error_y\":{\"color\":\"#f2f5fa\"},\"marker\":{\"line\":{\"color\":\"rgb(17,17,17)\",\"width\":0.5},\"pattern\":{\"fillmode\":\"overlay\",\"size\":10,\"solidity\":0.2}},\"type\":\"bar\"}],\"carpet\":[{\"aaxis\":{\"endlinecolor\":\"#A2B1C6\",\"gridcolor\":\"#506784\",\"linecolor\":\"#506784\",\"minorgridcolor\":\"#506784\",\"startlinecolor\":\"#A2B1C6\"},\"baxis\":{\"endlinecolor\":\"#A2B1C6\",\"gridcolor\":\"#506784\",\"linecolor\":\"#506784\",\"minorgridcolor\":\"#506784\",\"startlinecolor\":\"#A2B1C6\"},\"type\":\"carpet\"}],\"choropleth\":[{\"colorbar\":{\"outlinewidth\":0,\"ticks\":\"\"},\"type\":\"choropleth\"}],\"contourcarpet\":[{\"colorbar\":{\"outlinewidth\":0,\"ticks\":\"\"},\"type\":\"contourcarpet\"}],\"contour\":[{\"colorbar\":{\"outlinewidth\":0,\"ticks\":\"\"},\"colorscale\":[[0.0,\"#0d0887\"],[0.1111111111111111,\"#46039f\"],[0.2222222222222222,\"#7201a8\"],[0.3333333333333333,\"#9c179e\"],[0.4444444444444444,\"#bd3786\"],[0.5555555555555556,\"#d8576b\"],[0.6666666666666666,\"#ed7953\"],[0.7777777777777778,\"#fb9f3a\"],[0.8888888888888888,\"#fdca26\"],[1.0,\"#f0f921\"]],\"type\":\"contour\"}],\"heatmapgl\":[{\"colorbar\":{\"outlinewidth\":0,\"ticks\":\"\"},\"colorscale\":[[0.0,\"#0d0887\"],[0.1111111111111111,\"#46039f\"],[0.2222222222222222,\"#7201a8\"],[0.3333333333333333,\"#9c179e\"],[0.4444444444444444,\"#bd3786\"],[0.5555555555555556,\"#d8576b\"],[0.6666666666666666,\"#ed7953\"],[0.7777777777777778,\"#fb9f3a\"],[0.8888888888888888,\"#fdca26\"],[1.0,\"#f0f921\"]],\"type\":\"heatmapgl\"}],\"heatmap\":[{\"colorbar\":{\"outlinewidth\":0,\"ticks\":\"\"},\"colorscale\":[[0.0,\"#0d0887\"],[0.1111111111111111,\"#46039f\"],[0.2222222222222222,\"#7201a8\"],[0.3333333333333333,\"#9c179e\"],[0.4444444444444444,\"#bd3786\"],[0.5555555555555556,\"#d8576b\"],[0.6666666666666666,\"#ed7953\"],[0.7777777777777778,\"#fb9f3a\"],[0.8888888888888888,\"#fdca26\"],[1.0,\"#f0f921\"]],\"type\":\"heatmap\"}],\"histogram2dcontour\":[{\"colorbar\":{\"outlinewidth\":0,\"ticks\":\"\"},\"colorscale\":[[0.0,\"#0d0887\"],[0.1111111111111111,\"#46039f\"],[0.2222222222222222,\"#7201a8\"],[0.3333333333333333,\"#9c179e\"],[0.4444444444444444,\"#bd3786\"],[0.5555555555555556,\"#d8576b\"],[0.6666666666666666,\"#ed7953\"],[0.7777777777777778,\"#fb9f3a\"],[0.8888888888888888,\"#fdca26\"],[1.0,\"#f0f921\"]],\"type\":\"histogram2dcontour\"}],\"histogram2d\":[{\"colorbar\":{\"outlinewidth\":0,\"ticks\":\"\"},\"colorscale\":[[0.0,\"#0d0887\"],[0.1111111111111111,\"#46039f\"],[0.2222222222222222,\"#7201a8\"],[0.3333333333333333,\"#9c179e\"],[0.4444444444444444,\"#bd3786\"],[0.5555555555555556,\"#d8576b\"],[0.6666666666666666,\"#ed7953\"],[0.7777777777777778,\"#fb9f3a\"],[0.8888888888888888,\"#fdca26\"],[1.0,\"#f0f921\"]],\"type\":\"histogram2d\"}],\"histogram\":[{\"marker\":{\"pattern\":{\"fillmode\":\"overlay\",\"size\":10,\"solidity\":0.2}},\"type\":\"histogram\"}],\"mesh3d\":[{\"colorbar\":{\"outlinewidth\":0,\"ticks\":\"\"},\"type\":\"mesh3d\"}],\"parcoords\":[{\"line\":{\"colorbar\":{\"outlinewidth\":0,\"ticks\":\"\"}},\"type\":\"parcoords\"}],\"pie\":[{\"automargin\":true,\"type\":\"pie\"}],\"scatter3d\":[{\"line\":{\"colorbar\":{\"outlinewidth\":0,\"ticks\":\"\"}},\"marker\":{\"colorbar\":{\"outlinewidth\":0,\"ticks\":\"\"}},\"type\":\"scatter3d\"}],\"scattercarpet\":[{\"marker\":{\"colorbar\":{\"outlinewidth\":0,\"ticks\":\"\"}},\"type\":\"scattercarpet\"}],\"scattergeo\":[{\"marker\":{\"colorbar\":{\"outlinewidth\":0,\"ticks\":\"\"}},\"type\":\"scattergeo\"}],\"scattergl\":[{\"marker\":{\"line\":{\"color\":\"#283442\"}},\"type\":\"scattergl\"}],\"scattermapbox\":[{\"marker\":{\"colorbar\":{\"outlinewidth\":0,\"ticks\":\"\"}},\"type\":\"scattermapbox\"}],\"scatterpolargl\":[{\"marker\":{\"colorbar\":{\"outlinewidth\":0,\"ticks\":\"\"}},\"type\":\"scatterpolargl\"}],\"scatterpolar\":[{\"marker\":{\"colorbar\":{\"outlinewidth\":0,\"ticks\":\"\"}},\"type\":\"scatterpolar\"}],\"scatter\":[{\"marker\":{\"line\":{\"color\":\"#283442\"}},\"type\":\"scatter\"}],\"scatterternary\":[{\"marker\":{\"colorbar\":{\"outlinewidth\":0,\"ticks\":\"\"}},\"type\":\"scatterternary\"}],\"surface\":[{\"colorbar\":{\"outlinewidth\":0,\"ticks\":\"\"},\"colorscale\":[[0.0,\"#0d0887\"],[0.1111111111111111,\"#46039f\"],[0.2222222222222222,\"#7201a8\"],[0.3333333333333333,\"#9c179e\"],[0.4444444444444444,\"#bd3786\"],[0.5555555555555556,\"#d8576b\"],[0.6666666666666666,\"#ed7953\"],[0.7777777777777778,\"#fb9f3a\"],[0.8888888888888888,\"#fdca26\"],[1.0,\"#f0f921\"]],\"type\":\"surface\"}],\"table\":[{\"cells\":{\"fill\":{\"color\":\"#506784\"},\"line\":{\"color\":\"rgb(17,17,17)\"}},\"header\":{\"fill\":{\"color\":\"#2a3f5f\"},\"line\":{\"color\":\"rgb(17,17,17)\"}},\"type\":\"table\"}]},\"layout\":{\"annotationdefaults\":{\"arrowcolor\":\"#f2f5fa\",\"arrowhead\":0,\"arrowwidth\":1},\"autotypenumbers\":\"strict\",\"coloraxis\":{\"colorbar\":{\"outlinewidth\":0,\"ticks\":\"\"}},\"colorscale\":{\"diverging\":[[0,\"#8e0152\"],[0.1,\"#c51b7d\"],[0.2,\"#de77ae\"],[0.3,\"#f1b6da\"],[0.4,\"#fde0ef\"],[0.5,\"#f7f7f7\"],[0.6,\"#e6f5d0\"],[0.7,\"#b8e186\"],[0.8,\"#7fbc41\"],[0.9,\"#4d9221\"],[1,\"#276419\"]],\"sequential\":[[0.0,\"#0d0887\"],[0.1111111111111111,\"#46039f\"],[0.2222222222222222,\"#7201a8\"],[0.3333333333333333,\"#9c179e\"],[0.4444444444444444,\"#bd3786\"],[0.5555555555555556,\"#d8576b\"],[0.6666666666666666,\"#ed7953\"],[0.7777777777777778,\"#fb9f3a\"],[0.8888888888888888,\"#fdca26\"],[1.0,\"#f0f921\"]],\"sequentialminus\":[[0.0,\"#0d0887\"],[0.1111111111111111,\"#46039f\"],[0.2222222222222222,\"#7201a8\"],[0.3333333333333333,\"#9c179e\"],[0.4444444444444444,\"#bd3786\"],[0.5555555555555556,\"#d8576b\"],[0.6666666666666666,\"#ed7953\"],[0.7777777777777778,\"#fb9f3a\"],[0.8888888888888888,\"#fdca26\"],[1.0,\"#f0f921\"]]},\"colorway\":[\"#636efa\",\"#EF553B\",\"#00cc96\",\"#ab63fa\",\"#FFA15A\",\"#19d3f3\",\"#FF6692\",\"#B6E880\",\"#FF97FF\",\"#FECB52\"],\"font\":{\"color\":\"#f2f5fa\"},\"geo\":{\"bgcolor\":\"rgb(17,17,17)\",\"lakecolor\":\"rgb(17,17,17)\",\"landcolor\":\"rgb(17,17,17)\",\"showlakes\":true,\"showland\":true,\"subunitcolor\":\"#506784\"},\"hoverlabel\":{\"align\":\"left\"},\"hovermode\":\"closest\",\"mapbox\":{\"style\":\"dark\"},\"paper_bgcolor\":\"rgb(17,17,17)\",\"plot_bgcolor\":\"rgb(17,17,17)\",\"polar\":{\"angularaxis\":{\"gridcolor\":\"#506784\",\"linecolor\":\"#506784\",\"ticks\":\"\"},\"bgcolor\":\"rgb(17,17,17)\",\"radialaxis\":{\"gridcolor\":\"#506784\",\"linecolor\":\"#506784\",\"ticks\":\"\"}},\"scene\":{\"xaxis\":{\"backgroundcolor\":\"rgb(17,17,17)\",\"gridcolor\":\"#506784\",\"gridwidth\":2,\"linecolor\":\"#506784\",\"showbackground\":true,\"ticks\":\"\",\"zerolinecolor\":\"#C8D4E3\"},\"yaxis\":{\"backgroundcolor\":\"rgb(17,17,17)\",\"gridcolor\":\"#506784\",\"gridwidth\":2,\"linecolor\":\"#506784\",\"showbackground\":true,\"ticks\":\"\",\"zerolinecolor\":\"#C8D4E3\"},\"zaxis\":{\"backgroundcolor\":\"rgb(17,17,17)\",\"gridcolor\":\"#506784\",\"gridwidth\":2,\"linecolor\":\"#506784\",\"showbackground\":true,\"ticks\":\"\",\"zerolinecolor\":\"#C8D4E3\"}},\"shapedefaults\":{\"line\":{\"color\":\"#f2f5fa\"}},\"sliderdefaults\":{\"bgcolor\":\"#C8D4E3\",\"bordercolor\":\"rgb(17,17,17)\",\"borderwidth\":1,\"tickwidth\":0},\"ternary\":{\"aaxis\":{\"gridcolor\":\"#506784\",\"linecolor\":\"#506784\",\"ticks\":\"\"},\"baxis\":{\"gridcolor\":\"#506784\",\"linecolor\":\"#506784\",\"ticks\":\"\"},\"bgcolor\":\"rgb(17,17,17)\",\"caxis\":{\"gridcolor\":\"#506784\",\"linecolor\":\"#506784\",\"ticks\":\"\"}},\"title\":{\"x\":0.05},\"updatemenudefaults\":{\"bgcolor\":\"#506784\",\"borderwidth\":0},\"xaxis\":{\"automargin\":true,\"gridcolor\":\"#283442\",\"linecolor\":\"#506784\",\"ticks\":\"\",\"title\":{\"standoff\":15},\"zerolinecolor\":\"#283442\",\"zerolinewidth\":2},\"yaxis\":{\"automargin\":true,\"gridcolor\":\"#283442\",\"linecolor\":\"#506784\",\"ticks\":\"\",\"title\":{\"standoff\":15},\"zerolinecolor\":\"#283442\",\"zerolinewidth\":2}}},\"xaxis\":{\"anchor\":\"y\",\"domain\":[0.0,1.0],\"title\":{\"text\":\"Years (1750 - 2014)\"},\"tickvals\":[1700,1750,1800,1850,1900,1950,2000]},\"yaxis\":{\"anchor\":\"x\",\"domain\":[0.0,1.0],\"title\":{\"text\":\"Temperature\"},\"tickvals\":[0,5,10,15,20]},\"legend\":{\"title\":{\"text\":\"Legend\"},\"tracegroupgap\":0},\"title\":{\"text\":\"Average temperature in each season\"}},                        {\"responsive\": true}                    ).then(function(){\n",
       "                            \n",
       "var gd = document.getElementById('2bf7752f-9701-4aa0-a432-182442279a62');\n",
       "var x = new MutationObserver(function (mutations, observer) {{\n",
       "        var display = window.getComputedStyle(gd).display;\n",
       "        if (!display || display === 'none') {{\n",
       "            console.log([gd, 'removed!']);\n",
       "            Plotly.purge(gd);\n",
       "            observer.disconnect();\n",
       "        }}\n",
       "}});\n",
       "\n",
       "// Listen for the removal of the full notebook cells\n",
       "var notebookContainer = gd.closest('#notebook-container');\n",
       "if (notebookContainer) {{\n",
       "    x.observe(notebookContainer, {childList: true});\n",
       "}}\n",
       "\n",
       "// Listen for the clearing of the current output cell\n",
       "var outputEl = gd.closest('.output');\n",
       "if (outputEl) {{\n",
       "    x.observe(outputEl, {childList: true});\n",
       "}}\n",
       "\n",
       "                        })                };                });            </script>        </div>"
      ]
     },
     "metadata": {},
     "output_type": "display_data"
    }
   ],
   "source": [
    "fig_3 = px.line(data_seasons, \n",
    "            x = \"year\",\n",
    "            y = ['spring_temp', 'summer_temp', 'autumn_temp', 'winter_temp'], \n",
    "            title = \"Average temperature in each season\", template=\"plotly_dark\",\n",
    "            labels = {\n",
    "                    \"year\": \"Years (1750 - 2014)\",\n",
    "                    \"value\": \"Temperature\",\n",
    "                    \"variable\": \"Legend\"\n",
    "                    })\n",
    "fig_3.update_yaxes(tickvals=[0,5,10,15,20])\n",
    "fig_3.update_xaxes(tickvals=[1700, 1750, 1800, 1850, 1900, 1950, 2000])\n",
    "fig_3.show()"
   ]
  },
  {
   "attachments": {},
   "cell_type": "markdown",
   "metadata": {},
   "source": [
    "### Trend in random countries"
   ]
  },
  {
   "cell_type": "code",
   "execution_count": 30,
   "metadata": {},
   "outputs": [],
   "source": [
    "countries = ['United States', \"China\", \"Croatia\", \"Trinidad And Tobago\"]"
   ]
  },
  {
   "cell_type": "code",
   "execution_count": 31,
   "metadata": {},
   "outputs": [
    {
     "data": {
      "text/html": [
       "<div>\n",
       "<style scoped>\n",
       "    .dataframe tbody tr th:only-of-type {\n",
       "        vertical-align: middle;\n",
       "    }\n",
       "\n",
       "    .dataframe tbody tr th {\n",
       "        vertical-align: top;\n",
       "    }\n",
       "\n",
       "    .dataframe thead th {\n",
       "        text-align: right;\n",
       "    }\n",
       "</style>\n",
       "<table border=\"1\" class=\"dataframe\">\n",
       "  <thead>\n",
       "    <tr style=\"text-align: right;\">\n",
       "      <th></th>\n",
       "      <th>dt</th>\n",
       "      <th>AverageTemperature</th>\n",
       "      <th>AverageTemperatureUncertainty</th>\n",
       "      <th>Country</th>\n",
       "    </tr>\n",
       "  </thead>\n",
       "  <tbody>\n",
       "    <tr>\n",
       "      <th>110149</th>\n",
       "      <td>1820-08-01</td>\n",
       "      <td>16.684</td>\n",
       "      <td>1.978</td>\n",
       "      <td>China</td>\n",
       "    </tr>\n",
       "    <tr>\n",
       "      <th>110150</th>\n",
       "      <td>1820-09-01</td>\n",
       "      <td>13.292</td>\n",
       "      <td>1.555</td>\n",
       "      <td>China</td>\n",
       "    </tr>\n",
       "    <tr>\n",
       "      <th>110151</th>\n",
       "      <td>1820-10-01</td>\n",
       "      <td>5.624</td>\n",
       "      <td>1.383</td>\n",
       "      <td>China</td>\n",
       "    </tr>\n",
       "    <tr>\n",
       "      <th>110152</th>\n",
       "      <td>1820-11-01</td>\n",
       "      <td>-1.981</td>\n",
       "      <td>1.340</td>\n",
       "      <td>China</td>\n",
       "    </tr>\n",
       "    <tr>\n",
       "      <th>110153</th>\n",
       "      <td>1820-12-01</td>\n",
       "      <td>-8.551</td>\n",
       "      <td>1.508</td>\n",
       "      <td>China</td>\n",
       "    </tr>\n",
       "    <tr>\n",
       "      <th>...</th>\n",
       "      <td>...</td>\n",
       "      <td>...</td>\n",
       "      <td>...</td>\n",
       "      <td>...</td>\n",
       "    </tr>\n",
       "    <tr>\n",
       "      <th>557816</th>\n",
       "      <td>2013-05-01</td>\n",
       "      <td>14.073</td>\n",
       "      <td>0.178</td>\n",
       "      <td>United States</td>\n",
       "    </tr>\n",
       "    <tr>\n",
       "      <th>557817</th>\n",
       "      <td>2013-06-01</td>\n",
       "      <td>20.198</td>\n",
       "      <td>0.236</td>\n",
       "      <td>United States</td>\n",
       "    </tr>\n",
       "    <tr>\n",
       "      <th>557818</th>\n",
       "      <td>2013-07-01</td>\n",
       "      <td>22.074</td>\n",
       "      <td>0.152</td>\n",
       "      <td>United States</td>\n",
       "    </tr>\n",
       "    <tr>\n",
       "      <th>557819</th>\n",
       "      <td>2013-08-01</td>\n",
       "      <td>21.168</td>\n",
       "      <td>0.249</td>\n",
       "      <td>United States</td>\n",
       "    </tr>\n",
       "    <tr>\n",
       "      <th>557820</th>\n",
       "      <td>2013-09-01</td>\n",
       "      <td>18.273</td>\n",
       "      <td>1.210</td>\n",
       "      <td>United States</td>\n",
       "    </tr>\n",
       "  </tbody>\n",
       "</table>\n",
       "<p>9935 rows × 4 columns</p>\n",
       "</div>"
      ],
      "text/plain": [
       "                dt  AverageTemperature  AverageTemperatureUncertainty  \\\n",
       "110149  1820-08-01              16.684                          1.978   \n",
       "110150  1820-09-01              13.292                          1.555   \n",
       "110151  1820-10-01               5.624                          1.383   \n",
       "110152  1820-11-01              -1.981                          1.340   \n",
       "110153  1820-12-01              -8.551                          1.508   \n",
       "...            ...                 ...                            ...   \n",
       "557816  2013-05-01              14.073                          0.178   \n",
       "557817  2013-06-01              20.198                          0.236   \n",
       "557818  2013-07-01              22.074                          0.152   \n",
       "557819  2013-08-01              21.168                          0.249   \n",
       "557820  2013-09-01              18.273                          1.210   \n",
       "\n",
       "              Country  \n",
       "110149          China  \n",
       "110150          China  \n",
       "110151          China  \n",
       "110152          China  \n",
       "110153          China  \n",
       "...               ...  \n",
       "557816  United States  \n",
       "557817  United States  \n",
       "557818  United States  \n",
       "557819  United States  \n",
       "557820  United States  \n",
       "\n",
       "[9935 rows x 4 columns]"
      ]
     },
     "execution_count": 31,
     "metadata": {},
     "output_type": "execute_result"
    }
   ],
   "source": [
    "european_temp = global_temp_country[global_temp_country[\"Country\"].isin(countries)]\n",
    "european_temp"
   ]
  },
  {
   "cell_type": "code",
   "execution_count": 32,
   "metadata": {},
   "outputs": [
    {
     "data": {
      "text/html": [
       "<div>\n",
       "<style scoped>\n",
       "    .dataframe tbody tr th:only-of-type {\n",
       "        vertical-align: middle;\n",
       "    }\n",
       "\n",
       "    .dataframe tbody tr th {\n",
       "        vertical-align: top;\n",
       "    }\n",
       "\n",
       "    .dataframe thead th {\n",
       "        text-align: right;\n",
       "    }\n",
       "</style>\n",
       "<table border=\"1\" class=\"dataframe\">\n",
       "  <thead>\n",
       "    <tr style=\"text-align: right;\">\n",
       "      <th></th>\n",
       "      <th>dt</th>\n",
       "      <th>AverageTemperature</th>\n",
       "      <th>AverageTemperatureUncertainty</th>\n",
       "      <th>Country</th>\n",
       "      <th>year</th>\n",
       "    </tr>\n",
       "  </thead>\n",
       "  <tbody>\n",
       "    <tr>\n",
       "      <th>110149</th>\n",
       "      <td>1820-08-01</td>\n",
       "      <td>16.684</td>\n",
       "      <td>1.978</td>\n",
       "      <td>China</td>\n",
       "      <td>1820</td>\n",
       "    </tr>\n",
       "    <tr>\n",
       "      <th>110150</th>\n",
       "      <td>1820-09-01</td>\n",
       "      <td>13.292</td>\n",
       "      <td>1.555</td>\n",
       "      <td>China</td>\n",
       "      <td>1820</td>\n",
       "    </tr>\n",
       "    <tr>\n",
       "      <th>110151</th>\n",
       "      <td>1820-10-01</td>\n",
       "      <td>5.624</td>\n",
       "      <td>1.383</td>\n",
       "      <td>China</td>\n",
       "      <td>1820</td>\n",
       "    </tr>\n",
       "    <tr>\n",
       "      <th>110152</th>\n",
       "      <td>1820-11-01</td>\n",
       "      <td>-1.981</td>\n",
       "      <td>1.340</td>\n",
       "      <td>China</td>\n",
       "      <td>1820</td>\n",
       "    </tr>\n",
       "    <tr>\n",
       "      <th>110153</th>\n",
       "      <td>1820-12-01</td>\n",
       "      <td>-8.551</td>\n",
       "      <td>1.508</td>\n",
       "      <td>China</td>\n",
       "      <td>1820</td>\n",
       "    </tr>\n",
       "    <tr>\n",
       "      <th>...</th>\n",
       "      <td>...</td>\n",
       "      <td>...</td>\n",
       "      <td>...</td>\n",
       "      <td>...</td>\n",
       "      <td>...</td>\n",
       "    </tr>\n",
       "    <tr>\n",
       "      <th>557816</th>\n",
       "      <td>2013-05-01</td>\n",
       "      <td>14.073</td>\n",
       "      <td>0.178</td>\n",
       "      <td>United States</td>\n",
       "      <td>2013</td>\n",
       "    </tr>\n",
       "    <tr>\n",
       "      <th>557817</th>\n",
       "      <td>2013-06-01</td>\n",
       "      <td>20.198</td>\n",
       "      <td>0.236</td>\n",
       "      <td>United States</td>\n",
       "      <td>2013</td>\n",
       "    </tr>\n",
       "    <tr>\n",
       "      <th>557818</th>\n",
       "      <td>2013-07-01</td>\n",
       "      <td>22.074</td>\n",
       "      <td>0.152</td>\n",
       "      <td>United States</td>\n",
       "      <td>2013</td>\n",
       "    </tr>\n",
       "    <tr>\n",
       "      <th>557819</th>\n",
       "      <td>2013-08-01</td>\n",
       "      <td>21.168</td>\n",
       "      <td>0.249</td>\n",
       "      <td>United States</td>\n",
       "      <td>2013</td>\n",
       "    </tr>\n",
       "    <tr>\n",
       "      <th>557820</th>\n",
       "      <td>2013-09-01</td>\n",
       "      <td>18.273</td>\n",
       "      <td>1.210</td>\n",
       "      <td>United States</td>\n",
       "      <td>2013</td>\n",
       "    </tr>\n",
       "  </tbody>\n",
       "</table>\n",
       "<p>9935 rows × 5 columns</p>\n",
       "</div>"
      ],
      "text/plain": [
       "                dt  AverageTemperature  AverageTemperatureUncertainty  \\\n",
       "110149  1820-08-01              16.684                          1.978   \n",
       "110150  1820-09-01              13.292                          1.555   \n",
       "110151  1820-10-01               5.624                          1.383   \n",
       "110152  1820-11-01              -1.981                          1.340   \n",
       "110153  1820-12-01              -8.551                          1.508   \n",
       "...            ...                 ...                            ...   \n",
       "557816  2013-05-01              14.073                          0.178   \n",
       "557817  2013-06-01              20.198                          0.236   \n",
       "557818  2013-07-01              22.074                          0.152   \n",
       "557819  2013-08-01              21.168                          0.249   \n",
       "557820  2013-09-01              18.273                          1.210   \n",
       "\n",
       "              Country  year  \n",
       "110149          China  1820  \n",
       "110150          China  1820  \n",
       "110151          China  1820  \n",
       "110152          China  1820  \n",
       "110153          China  1820  \n",
       "...               ...   ...  \n",
       "557816  United States  2013  \n",
       "557817  United States  2013  \n",
       "557818  United States  2013  \n",
       "557819  United States  2013  \n",
       "557820  United States  2013  \n",
       "\n",
       "[9935 rows x 5 columns]"
      ]
     },
     "execution_count": 32,
     "metadata": {},
     "output_type": "execute_result"
    }
   ],
   "source": [
    "# Put year column\n",
    "european_temp[\"year\"] = european_temp[\"dt\"].apply(put_year)\n",
    "european_temp"
   ]
  },
  {
   "cell_type": "code",
   "execution_count": 33,
   "metadata": {},
   "outputs": [
    {
     "data": {
      "text/html": [
       "<div>\n",
       "<style scoped>\n",
       "    .dataframe tbody tr th:only-of-type {\n",
       "        vertical-align: middle;\n",
       "    }\n",
       "\n",
       "    .dataframe tbody tr th {\n",
       "        vertical-align: top;\n",
       "    }\n",
       "\n",
       "    .dataframe thead th {\n",
       "        text-align: right;\n",
       "    }\n",
       "</style>\n",
       "<table border=\"1\" class=\"dataframe\">\n",
       "  <thead>\n",
       "    <tr style=\"text-align: right;\">\n",
       "      <th></th>\n",
       "      <th>year</th>\n",
       "      <th>Country</th>\n",
       "      <th>AverageTemperature</th>\n",
       "    </tr>\n",
       "  </thead>\n",
       "  <tbody>\n",
       "    <tr>\n",
       "      <th>0</th>\n",
       "      <td>1743</td>\n",
       "      <td>Croatia</td>\n",
       "      <td>7.225000</td>\n",
       "    </tr>\n",
       "    <tr>\n",
       "      <th>1</th>\n",
       "      <td>1744</td>\n",
       "      <td>Croatia</td>\n",
       "      <td>12.950250</td>\n",
       "    </tr>\n",
       "    <tr>\n",
       "      <th>2</th>\n",
       "      <td>1745</td>\n",
       "      <td>Croatia</td>\n",
       "      <td>4.040000</td>\n",
       "    </tr>\n",
       "    <tr>\n",
       "      <th>3</th>\n",
       "      <td>1750</td>\n",
       "      <td>Croatia</td>\n",
       "      <td>12.012909</td>\n",
       "    </tr>\n",
       "    <tr>\n",
       "      <th>4</th>\n",
       "      <td>1751</td>\n",
       "      <td>Croatia</td>\n",
       "      <td>12.386625</td>\n",
       "    </tr>\n",
       "    <tr>\n",
       "      <th>...</th>\n",
       "      <td>...</td>\n",
       "      <td>...</td>\n",
       "      <td>...</td>\n",
       "    </tr>\n",
       "    <tr>\n",
       "      <th>837</th>\n",
       "      <td>2012</td>\n",
       "      <td>United States</td>\n",
       "      <td>10.261083</td>\n",
       "    </tr>\n",
       "    <tr>\n",
       "      <th>838</th>\n",
       "      <td>2013</td>\n",
       "      <td>China</td>\n",
       "      <td>9.295000</td>\n",
       "    </tr>\n",
       "    <tr>\n",
       "      <th>839</th>\n",
       "      <td>2013</td>\n",
       "      <td>Croatia</td>\n",
       "      <td>13.589000</td>\n",
       "    </tr>\n",
       "    <tr>\n",
       "      <th>840</th>\n",
       "      <td>2013</td>\n",
       "      <td>Trinidad And Tobago</td>\n",
       "      <td>27.086625</td>\n",
       "    </tr>\n",
       "    <tr>\n",
       "      <th>841</th>\n",
       "      <td>2013</td>\n",
       "      <td>United States</td>\n",
       "      <td>11.297111</td>\n",
       "    </tr>\n",
       "  </tbody>\n",
       "</table>\n",
       "<p>842 rows × 3 columns</p>\n",
       "</div>"
      ],
      "text/plain": [
       "     year              Country  AverageTemperature\n",
       "0    1743              Croatia            7.225000\n",
       "1    1744              Croatia           12.950250\n",
       "2    1745              Croatia            4.040000\n",
       "3    1750              Croatia           12.012909\n",
       "4    1751              Croatia           12.386625\n",
       "..    ...                  ...                 ...\n",
       "837  2012        United States           10.261083\n",
       "838  2013                China            9.295000\n",
       "839  2013              Croatia           13.589000\n",
       "840  2013  Trinidad And Tobago           27.086625\n",
       "841  2013        United States           11.297111\n",
       "\n",
       "[842 rows x 3 columns]"
      ]
     },
     "execution_count": 33,
     "metadata": {},
     "output_type": "execute_result"
    }
   ],
   "source": [
    "european_data = european_temp.groupby([\"year\", \"Country\"]).agg({\"AverageTemperature\":\"mean\"}).reset_index()\n",
    "european_data"
   ]
  },
  {
   "cell_type": "code",
   "execution_count": 34,
   "metadata": {},
   "outputs": [
    {
     "data": {
      "application/vnd.plotly.v1+json": {
       "config": {
        "plotlyServerURL": "https://plot.ly"
       },
       "data": [
        {
         "hovertemplate": "Country=Croatia<br>year=%{x}<br>AverageTemperature=%{y}<extra></extra>",
         "legendgroup": "Croatia",
         "line": {
          "color": "#636efa",
          "dash": "solid"
         },
         "marker": {
          "symbol": "circle"
         },
         "mode": "lines",
         "name": "Croatia",
         "orientation": "v",
         "showlegend": true,
         "type": "scatter",
         "x": [
          "1743",
          "1744",
          "1745",
          "1750",
          "1751",
          "1752",
          "1753",
          "1754",
          "1755",
          "1756",
          "1757",
          "1758",
          "1759",
          "1760",
          "1761",
          "1762",
          "1763",
          "1764",
          "1765",
          "1766",
          "1767",
          "1768",
          "1769",
          "1770",
          "1771",
          "1772",
          "1773",
          "1774",
          "1775",
          "1776",
          "1777",
          "1778",
          "1779",
          "1780",
          "1781",
          "1782",
          "1783",
          "1784",
          "1785",
          "1786",
          "1787",
          "1788",
          "1789",
          "1790",
          "1791",
          "1792",
          "1793",
          "1794",
          "1795",
          "1796",
          "1797",
          "1798",
          "1799",
          "1800",
          "1801",
          "1802",
          "1803",
          "1804",
          "1805",
          "1806",
          "1807",
          "1808",
          "1809",
          "1810",
          "1811",
          "1812",
          "1813",
          "1814",
          "1815",
          "1816",
          "1817",
          "1818",
          "1819",
          "1820",
          "1821",
          "1822",
          "1823",
          "1824",
          "1825",
          "1826",
          "1827",
          "1828",
          "1829",
          "1830",
          "1831",
          "1832",
          "1833",
          "1834",
          "1835",
          "1836",
          "1837",
          "1838",
          "1839",
          "1840",
          "1841",
          "1842",
          "1843",
          "1844",
          "1845",
          "1846",
          "1847",
          "1848",
          "1849",
          "1850",
          "1851",
          "1852",
          "1853",
          "1854",
          "1855",
          "1856",
          "1857",
          "1858",
          "1859",
          "1860",
          "1861",
          "1862",
          "1863",
          "1864",
          "1865",
          "1866",
          "1867",
          "1868",
          "1869",
          "1870",
          "1871",
          "1872",
          "1873",
          "1874",
          "1875",
          "1876",
          "1877",
          "1878",
          "1879",
          "1880",
          "1881",
          "1882",
          "1883",
          "1884",
          "1885",
          "1886",
          "1887",
          "1888",
          "1889",
          "1890",
          "1891",
          "1892",
          "1893",
          "1894",
          "1895",
          "1896",
          "1897",
          "1898",
          "1899",
          "1900",
          "1901",
          "1902",
          "1903",
          "1904",
          "1905",
          "1906",
          "1907",
          "1908",
          "1909",
          "1910",
          "1911",
          "1912",
          "1913",
          "1914",
          "1915",
          "1916",
          "1917",
          "1918",
          "1919",
          "1920",
          "1921",
          "1922",
          "1923",
          "1924",
          "1925",
          "1926",
          "1927",
          "1928",
          "1929",
          "1930",
          "1931",
          "1932",
          "1933",
          "1934",
          "1935",
          "1936",
          "1937",
          "1938",
          "1939",
          "1940",
          "1941",
          "1942",
          "1943",
          "1944",
          "1945",
          "1946",
          "1947",
          "1948",
          "1949",
          "1950",
          "1951",
          "1952",
          "1953",
          "1954",
          "1955",
          "1956",
          "1957",
          "1958",
          "1959",
          "1960",
          "1961",
          "1962",
          "1963",
          "1964",
          "1965",
          "1966",
          "1967",
          "1968",
          "1969",
          "1970",
          "1971",
          "1972",
          "1973",
          "1974",
          "1975",
          "1976",
          "1977",
          "1978",
          "1979",
          "1980",
          "1981",
          "1982",
          "1983",
          "1984",
          "1985",
          "1986",
          "1987",
          "1988",
          "1989",
          "1990",
          "1991",
          "1992",
          "1993",
          "1994",
          "1995",
          "1996",
          "1997",
          "1998",
          "1999",
          "2000",
          "2001",
          "2002",
          "2003",
          "2004",
          "2005",
          "2006",
          "2007",
          "2008",
          "2009",
          "2010",
          "2011",
          "2012",
          "2013"
         ],
         "xaxis": "x",
         "y": [
          7.225,
          12.95025,
          4.04,
          12.01290909090909,
          12.386625,
          6.759833333333333,
          11.2875,
          11.130250000000002,
          10.914499999999999,
          11.650916666666667,
          11.30675,
          10.380333333333333,
          11.418416666666666,
          11.276499999999999,
          11.65725,
          11.324750000000002,
          10.873916666666666,
          11.576833333333333,
          11.3635,
          11.204,
          10.671333333333335,
          10.171583333333333,
          11.099416666666668,
          11.085166666666666,
          10.876583333333334,
          12.552583333333333,
          11.46625,
          11.376,
          11.875333333333332,
          10.82275,
          10.945416666666667,
          12.076083333333335,
          12.148166666666667,
          11.352416666666665,
          11.994416666666666,
          10.871166666666667,
          11.7175,
          10.777000000000001,
          10.342,
          10.58075,
          11.517333333333333,
          11.443833333333332,
          11.26925,
          11.631166666666667,
          11.988083333333334,
          11.358583333333334,
          11.301166666666667,
          12.135333333333334,
          11.219583333333333,
          11.494333333333335,
          12.424333333333335,
          11.734250000000001,
          10.411416666666666,
          11.714999999999998,
          12.188166666666667,
          12.151833333333334,
          10.832166666666666,
          11.268166666666666,
          9.980666666666666,
          11.815833333333332,
          11.862249999999998,
          10.250666666666667,
          10.98475,
          11.389416666666667,
          12.105833333333335,
          10.367833333333333,
          10.737,
          10.333333333333334,
          10.679583333333333,
          10.133583333333334,
          11.084249999999999,
          11.390333333333333,
          11.410166666666667,
          11.129916666666666,
          11.144416666666666,
          12.366249999999999,
          11.043833333333334,
          11.703166666666666,
          11.488,
          11.250666666666667,
          11.401916666666667,
          11.351583333333332,
          9.888333333333334,
          11.005083333333333,
          11.272,
          10.658583333333334,
          11.041666666666666,
          12.201666666666668,
          10.577416666666666,
          11.195666666666668,
          10.23075,
          10.116666666666667,
          11.15875,
          10.307833333333333,
          11.980583333333334,
          10.7035,
          11.268083333333331,
          10.782499999999999,
          10.921166666666666,
          12.276166666666667,
          10.686,
          11.415416666666667,
          10.887416666666667,
          10.555666666666665,
          10.793,
          11.41275,
          10.99225,
          10.818249999999999,
          10.738166666666666,
          10.919166666666667,
          11.088499999999998,
          10.238166666666666,
          11.598916666666666,
          10.691916666666666,
          11.32025,
          11.694,
          12.302083333333334,
          9.966083333333334,
          11.292666666666667,
          11.584083333333334,
          11.369166666666667,
          11.976666666666667,
          11.393,
          10.277,
          10.131583333333333,
          12.22475,
          11.637500000000001,
          10.746416666666667,
          10.199166666666667,
          11.058750000000002,
          11.152000000000001,
          11.122416666666666,
          10.550166666666668,
          11.20375,
          10.55475,
          11.761166666666668,
          10.700583333333334,
          10.928166666666664,
          11.433,
          11.423333333333332,
          10.752,
          10.280583333333333,
          10.554666666666666,
          10.736833333333335,
          10.518583333333334,
          11.000166666666667,
          10.54125,
          11.183666666666667,
          10.72225,
          10.661,
          11.181833333333332,
          11.934333333333333,
          11.19625,
          11.826916666666667,
          10.83475,
          10.875333333333332,
          11.364333333333335,
          11.640083333333335,
          10.95875,
          10.936833333333333,
          11.052,
          10.531166666666666,
          10.825083333333334,
          11.5045,
          11.573916666666667,
          10.6545,
          11.072833333333334,
          10.554333333333334,
          11.120833333333335,
          12.062666666666665,
          10.943083333333334,
          11.281666666666666,
          10.78,
          11.81575,
          11.634583333333333,
          10.847166666666666,
          11.899166666666666,
          10.892000000000001,
          11.332499999999998,
          12.005166666666668,
          12.078833333333334,
          11.771666666666667,
          10.652666666666667,
          12.143,
          11.135916666666667,
          11.081916666666666,
          10.521583333333334,
          12.354583333333332,
          11.3815,
          11.90375,
          11.848916666666668,
          11.321166666666665,
          11.648166666666667,
          9.799666666666667,
          10.449666666666667,
          10.870416666666666,
          12.066916666666666,
          11.169916666666666,
          11.883249999999999,
          12.124083333333333,
          11.941333333333333,
          11.776416666666668,
          11.808583333333333,
          12.430083333333334,
          12.481,
          11.887583333333332,
          11.615166666666667,
          10.823333333333332,
          11.307833333333333,
          10.419333333333332,
          11.697583333333334,
          11.91675,
          11.656999999999998,
          11.842999999999998,
          12.191666666666668,
          10.838083333333332,
          11.05025,
          11.072416666666667,
          10.923083333333333,
          11.952166666666665,
          11.737916666666665,
          11.577333333333334,
          11.095083333333333,
          11.310666666666668,
          11.393333333333333,
          11.494166666666667,
          11.248333333333333,
          11.745166666666668,
          11.948583333333334,
          11.041583333333334,
          11.926416666666666,
          10.766666666666667,
          11.777666666666667,
          10.685250000000002,
          11.5085,
          11.921916666666666,
          11.934833333333335,
          11.194,
          11.151833333333334,
          11.404000000000002,
          11.398666666666665,
          11.989916666666666,
          12.096083333333333,
          12.434416666666666,
          11.33325,
          12.549083333333334,
          11.931583333333334,
          13.11,
          11.881749999999998,
          11.125750000000002,
          11.827416666666666,
          12.100916666666668,
          12.3165,
          13.226416666666665,
          12.411,
          12.898916666666667,
          12.567000000000002,
          11.919416666666665,
          11.376249999999999,
          12.241666666666667,
          13.0665,
          12.977083333333333,
          12.875083333333334,
          11.960833333333333,
          12.755166666666668,
          12.9735,
          13.588999999999999
         ],
         "yaxis": "y"
        },
        {
         "hovertemplate": "Country=United States<br>year=%{x}<br>AverageTemperature=%{y}<extra></extra>",
         "legendgroup": "United States",
         "line": {
          "color": "#EF553B",
          "dash": "solid"
         },
         "marker": {
          "symbol": "circle"
         },
         "mode": "lines",
         "name": "United States",
         "orientation": "v",
         "showlegend": true,
         "type": "scatter",
         "x": [
          "1768",
          "1769",
          "1774",
          "1775",
          "1776",
          "1777",
          "1778",
          "1779",
          "1781",
          "1782",
          "1796",
          "1797",
          "1811",
          "1812",
          "1813",
          "1814",
          "1815",
          "1816",
          "1817",
          "1818",
          "1819",
          "1820",
          "1821",
          "1822",
          "1823",
          "1824",
          "1825",
          "1826",
          "1827",
          "1828",
          "1829",
          "1830",
          "1831",
          "1832",
          "1833",
          "1834",
          "1835",
          "1836",
          "1837",
          "1838",
          "1839",
          "1840",
          "1841",
          "1842",
          "1843",
          "1844",
          "1845",
          "1846",
          "1847",
          "1848",
          "1849",
          "1850",
          "1851",
          "1852",
          "1853",
          "1854",
          "1855",
          "1856",
          "1857",
          "1858",
          "1859",
          "1860",
          "1861",
          "1862",
          "1863",
          "1864",
          "1865",
          "1866",
          "1867",
          "1868",
          "1869",
          "1870",
          "1871",
          "1872",
          "1873",
          "1874",
          "1875",
          "1876",
          "1877",
          "1878",
          "1879",
          "1880",
          "1881",
          "1882",
          "1883",
          "1884",
          "1885",
          "1886",
          "1887",
          "1888",
          "1889",
          "1890",
          "1891",
          "1892",
          "1893",
          "1894",
          "1895",
          "1896",
          "1897",
          "1898",
          "1899",
          "1900",
          "1901",
          "1902",
          "1903",
          "1904",
          "1905",
          "1906",
          "1907",
          "1908",
          "1909",
          "1910",
          "1911",
          "1912",
          "1913",
          "1914",
          "1915",
          "1916",
          "1917",
          "1918",
          "1919",
          "1920",
          "1921",
          "1922",
          "1923",
          "1924",
          "1925",
          "1926",
          "1927",
          "1928",
          "1929",
          "1930",
          "1931",
          "1932",
          "1933",
          "1934",
          "1935",
          "1936",
          "1937",
          "1938",
          "1939",
          "1940",
          "1941",
          "1942",
          "1943",
          "1944",
          "1945",
          "1946",
          "1947",
          "1948",
          "1949",
          "1950",
          "1951",
          "1952",
          "1953",
          "1954",
          "1955",
          "1956",
          "1957",
          "1958",
          "1959",
          "1960",
          "1961",
          "1962",
          "1963",
          "1964",
          "1965",
          "1966",
          "1967",
          "1968",
          "1969",
          "1970",
          "1971",
          "1972",
          "1973",
          "1974",
          "1975",
          "1976",
          "1977",
          "1978",
          "1979",
          "1980",
          "1981",
          "1982",
          "1983",
          "1984",
          "1985",
          "1986",
          "1987",
          "1988",
          "1989",
          "1990",
          "1991",
          "1992",
          "1993",
          "1994",
          "1995",
          "1996",
          "1997",
          "1998",
          "1999",
          "2000",
          "2001",
          "2002",
          "2003",
          "2004",
          "2005",
          "2006",
          "2007",
          "2008",
          "2009",
          "2010",
          "2011",
          "2012",
          "2013"
         ],
         "xaxis": "x",
         "y": [
          5.57275,
          10.4465,
          1.6029999999999998,
          9.499166666666666,
          8.11,
          8.30475,
          5.361999999999999,
          -0.7136666666666663,
          6.25325,
          7.606428571428571,
          12.231,
          6.356833333333333,
          8.0434,
          7.012666666666667,
          9.918888888888889,
          3.784333333333334,
          7.501333333333334,
          4.396625,
          7.229916666666667,
          6.2747,
          -2.7746666666666666,
          7.563833333333332,
          8.004083333333334,
          8.386833333333334,
          7.9110000000000005,
          8.50225,
          8.9665,
          8.578999999999999,
          9.102,
          8.8485,
          8.38925,
          9.215083333333334,
          7.72075,
          8.247416666666668,
          8.811916666666667,
          8.829583333333334,
          7.53925,
          7.5639166666666675,
          7.984416666666667,
          7.548666666666666,
          8.522166666666665,
          8.2515,
          8.14925,
          8.358333333333334,
          7.783666666666668,
          8.082833333333333,
          8.408916666666666,
          9.136333333333333,
          7.907083333333333,
          8.016833333333333,
          8.129166666666666,
          8.248333333333333,
          8.6575,
          8.183083333333334,
          8.459916666666667,
          8.821250000000001,
          8.459416666666668,
          7.94325,
          8.140333333333333,
          8.412833333333333,
          8.016833333333333,
          8.580916666666667,
          8.6505,
          8.214,
          8.446250000000001,
          8.381083333333335,
          8.495666666666667,
          8.334333333333333,
          8.509,
          8.207416666666667,
          8.31125,
          8.8295,
          8.70675,
          8.00075,
          8.063083333333333,
          8.768,
          7.849666666666667,
          8.099,
          8.696583333333335,
          9.017166666666666,
          8.68325,
          8.110333333333333,
          8.6435,
          8.369916666666667,
          7.9422500000000005,
          7.957999999999999,
          8.158416666666666,
          8.181833333333334,
          8.143583333333334,
          8.172833333333333,
          8.798083333333333,
          8.559166666666668,
          8.31675,
          8.177999999999999,
          8.171,
          8.46675,
          7.847333333333332,
          8.483583333333334,
          8.473166666666666,
          8.427916666666667,
          8.166833333333333,
          9.021583333333334,
          8.494916666666667,
          8.453999999999999,
          7.977250000000001,
          8.200666666666665,
          8.402333333333333,
          8.560083333333333,
          8.394,
          8.755583333333334,
          8.221833333333334,
          8.757916666666667,
          8.737916666666667,
          8.140916666666667,
          8.552166666666666,
          8.8765,
          8.648249999999999,
          8.180083333333334,
          7.669499999999999,
          8.50125,
          8.538,
          8.1845,
          9.595666666666666,
          8.768166666666668,
          8.760333333333334,
          8.052333333333333,
          9.016416666666666,
          9.14025,
          8.719333333333333,
          8.876,
          8.4395,
          8.737666666666668,
          9.56075,
          8.5395,
          9.030583333333334,
          9.826583333333334,
          8.7425,
          8.92225,
          8.73075,
          9.471833333333334,
          9.3075,
          9.097166666666668,
          9.266083333333333,
          8.919333333333332,
          9.0035,
          8.898166666666667,
          8.671249999999999,
          9.179583333333333,
          8.836083333333333,
          8.481666666666667,
          8.888083333333332,
          8.656416666666667,
          8.416583333333334,
          8.979416666666667,
          9.530416666666666,
          9.410583333333333,
          8.517166666666666,
          8.699916666666667,
          9.126333333333333,
          8.970166666666668,
          8.825333333333333,
          8.69225,
          8.642000000000001,
          8.9565,
          9.08,
          8.491666666666667,
          8.647666666666668,
          8.483,
          8.902,
          8.55325,
          8.770833333333334,
          8.673,
          8.4425,
          8.428083333333333,
          8.934666666666667,
          8.815916666666666,
          8.431,
          8.65125,
          9.269833333333333,
          8.751416666666666,
          8.571583333333333,
          9.1355,
          9.7215,
          8.5395,
          8.912333333333333,
          8.811166666666667,
          8.587000000000002,
          9.5595,
          9.628166666666667,
          9.275333333333334,
          8.873083333333334,
          9.521583333333334,
          9.493666666666666,
          9.056333333333333,
          8.86725,
          9.270333333333333,
          9.331000000000001,
          8.754333333333333,
          9.172916666666667,
          10.141166666666667,
          9.567,
          9.64975,
          9.785583333333333,
          9.816166666666666,
          9.755083333333333,
          9.6675,
          9.892666666666667,
          9.9745,
          9.8375,
          8.951416666666667,
          9.137083333333333,
          9.505583333333334,
          9.549916666666666,
          10.261083333333334,
          11.297111111111112
         ],
         "yaxis": "y"
        },
        {
         "hovertemplate": "Country=China<br>year=%{x}<br>AverageTemperature=%{y}<extra></extra>",
         "legendgroup": "China",
         "line": {
          "color": "#00cc96",
          "dash": "solid"
         },
         "marker": {
          "symbol": "circle"
         },
         "mode": "lines",
         "name": "China",
         "orientation": "v",
         "showlegend": true,
         "type": "scatter",
         "x": [
          "1820",
          "1821",
          "1822",
          "1823",
          "1833",
          "1834",
          "1835",
          "1836",
          "1837",
          "1838",
          "1839",
          "1840",
          "1841",
          "1842",
          "1843",
          "1844",
          "1845",
          "1846",
          "1847",
          "1848",
          "1849",
          "1850",
          "1851",
          "1852",
          "1853",
          "1854",
          "1855",
          "1856",
          "1857",
          "1858",
          "1859",
          "1860",
          "1861",
          "1862",
          "1863",
          "1864",
          "1865",
          "1866",
          "1867",
          "1868",
          "1869",
          "1870",
          "1871",
          "1872",
          "1873",
          "1874",
          "1875",
          "1876",
          "1877",
          "1878",
          "1879",
          "1880",
          "1881",
          "1882",
          "1883",
          "1884",
          "1885",
          "1886",
          "1887",
          "1888",
          "1889",
          "1890",
          "1891",
          "1892",
          "1893",
          "1894",
          "1895",
          "1896",
          "1897",
          "1898",
          "1899",
          "1900",
          "1901",
          "1902",
          "1903",
          "1904",
          "1905",
          "1906",
          "1907",
          "1908",
          "1909",
          "1910",
          "1911",
          "1912",
          "1913",
          "1914",
          "1915",
          "1916",
          "1917",
          "1918",
          "1919",
          "1920",
          "1921",
          "1922",
          "1923",
          "1924",
          "1925",
          "1926",
          "1927",
          "1928",
          "1929",
          "1930",
          "1931",
          "1932",
          "1933",
          "1934",
          "1935",
          "1936",
          "1937",
          "1938",
          "1939",
          "1940",
          "1941",
          "1942",
          "1943",
          "1944",
          "1945",
          "1946",
          "1947",
          "1948",
          "1949",
          "1950",
          "1951",
          "1952",
          "1953",
          "1954",
          "1955",
          "1956",
          "1957",
          "1958",
          "1959",
          "1960",
          "1961",
          "1962",
          "1963",
          "1964",
          "1965",
          "1966",
          "1967",
          "1968",
          "1969",
          "1970",
          "1971",
          "1972",
          "1973",
          "1974",
          "1975",
          "1976",
          "1977",
          "1978",
          "1979",
          "1980",
          "1981",
          "1982",
          "1983",
          "1984",
          "1985",
          "1986",
          "1987",
          "1988",
          "1989",
          "1990",
          "1991",
          "1992",
          "1993",
          "1994",
          "1995",
          "1996",
          "1997",
          "1998",
          "1999",
          "2000",
          "2001",
          "2002",
          "2003",
          "2004",
          "2005",
          "2006",
          "2007",
          "2008",
          "2009",
          "2010",
          "2011",
          "2012",
          "2013"
         ],
         "xaxis": "x",
         "y": [
          5.013599999999999,
          6.284166666666667,
          6.341416666666667,
          7.024363636363637,
          6.039333333333334,
          6.268166666666667,
          5.43425,
          5.364727272727273,
          8.136833333333334,
          5.715,
          5.519083333333334,
          6.018583333333333,
          5.512416666666667,
          6.2785,
          6.413916666666666,
          6.0515,
          6.023000000000001,
          6.5874999999999995,
          6.257083333333333,
          5.93975,
          6.1048333333333344,
          5.907166666666666,
          5.7828333333333335,
          5.857500000000001,
          5.997583333333334,
          6.473083333333332,
          6.515583333333333,
          6.095583333333334,
          5.959666666666667,
          6.414083333333333,
          6.535166666666666,
          5.609333333333333,
          5.865166666666667,
          5.448083333333333,
          6.444583333333333,
          5.8015,
          6.244,
          6.410416666666666,
          6.759166666666666,
          6.415500000000001,
          6.465833333333333,
          6.158999999999999,
          6.371583333333334,
          6.286333333333334,
          6.588166666666667,
          6.6451666666666656,
          6.505,
          6.347416666666667,
          6.181583333333333,
          6.414416666666667,
          6.667416666666667,
          6.383500000000001,
          6.352833333333333,
          6.39825,
          6.026916666666666,
          5.804833333333334,
          5.9645,
          6.114750000000001,
          6.197166666666668,
          6.336416666666666,
          6.31175,
          6.464333333333333,
          6.359333333333333,
          6.060833333333334,
          6.108333333333333,
          6.57825,
          6.035833333333334,
          6.38625,
          6.228083333333334,
          6.562666666666666,
          6.603416666666667,
          6.444166666666667,
          6.5375000000000005,
          6.744666666666666,
          6.1745833333333335,
          6.350833333333334,
          5.7555000000000005,
          6.2218333333333335,
          6.308666666666666,
          6.286583333333333,
          6.3812500000000005,
          6.0715,
          6.297000000000001,
          6.076083333333333,
          6.138416666666667,
          6.8187500000000005,
          6.49275,
          6.349833333333333,
          6.161416666666667,
          6.196833333333333,
          6.607,
          6.590333333333334,
          6.50075,
          6.677333333333333,
          6.563666666666666,
          6.704250000000001,
          6.555666666666667,
          6.754083333333334,
          6.667749999999999,
          6.7746666666666675,
          6.424083333333333,
          6.468666666666667,
          6.3775,
          6.9055833333333325,
          6.6299166666666665,
          6.362833333333334,
          6.636166666666667,
          6.111583333333333,
          6.511083333333333,
          6.87175,
          7.0264999999999995,
          6.961666666666666,
          7.3455,
          7.096,
          7.050916666666667,
          6.5305,
          6.8388333333333335,
          7.354083333333333,
          6.773833333333333,
          7.1003333333333325,
          6.9755,
          6.641166666666667,
          6.8694999999999995,
          6.640916666666667,
          7.022333333333333,
          6.3709999999999996,
          6.701666666666667,
          6.299333333333333,
          6.388000000000001,
          7.033583333333333,
          7.039666666666666,
          6.890916666666667,
          7.050583333333333,
          6.703666666666667,
          7.052499999999999,
          6.746083333333334,
          6.799916666666667,
          6.962,
          6.402583333333333,
          6.727,
          6.4559999999999995,
          6.5681666666666665,
          6.84625,
          6.814416666666667,
          7.209583333333334,
          6.659416666666666,
          7.1009166666666665,
          6.471166666666666,
          6.851333333333334,
          7.048166666666667,
          7.074083333333333,
          6.950083333333333,
          6.926416666666667,
          7.14975,
          6.925083333333334,
          6.5179166666666655,
          6.7402500000000005,
          6.870166666666666,
          7.249,
          7.220833333333332,
          7.23975,
          7.636,
          7.097166666666666,
          6.858416666666667,
          6.919416666666667,
          7.4959999999999996,
          7.2115833333333335,
          6.962666666666667,
          7.367333333333334,
          8.051833333333333,
          7.84025,
          7.238083333333333,
          7.596416666666666,
          7.7956666666666665,
          7.521999999999999,
          7.71275,
          7.4135,
          7.948,
          8.12675,
          7.566083333333334,
          7.8095,
          7.548416666666667,
          7.357083333333333,
          7.077083333333333,
          9.295
         ],
         "yaxis": "y"
        },
        {
         "hovertemplate": "Country=Trinidad And Tobago<br>year=%{x}<br>AverageTemperature=%{y}<extra></extra>",
         "legendgroup": "Trinidad And Tobago",
         "line": {
          "color": "#ab63fa",
          "dash": "solid"
         },
         "marker": {
          "symbol": "circle"
         },
         "mode": "lines",
         "name": "Trinidad And Tobago",
         "orientation": "v",
         "showlegend": true,
         "type": "scatter",
         "x": [
          "1824",
          "1825",
          "1826",
          "1827",
          "1828",
          "1829",
          "1845",
          "1846",
          "1847",
          "1848",
          "1849",
          "1850",
          "1851",
          "1852",
          "1853",
          "1854",
          "1855",
          "1856",
          "1857",
          "1858",
          "1859",
          "1860",
          "1861",
          "1862",
          "1863",
          "1864",
          "1865",
          "1866",
          "1867",
          "1868",
          "1869",
          "1870",
          "1871",
          "1872",
          "1873",
          "1874",
          "1875",
          "1876",
          "1877",
          "1878",
          "1879",
          "1880",
          "1881",
          "1882",
          "1883",
          "1884",
          "1885",
          "1886",
          "1887",
          "1888",
          "1889",
          "1890",
          "1891",
          "1892",
          "1893",
          "1894",
          "1895",
          "1896",
          "1897",
          "1898",
          "1899",
          "1900",
          "1901",
          "1902",
          "1903",
          "1904",
          "1905",
          "1906",
          "1907",
          "1908",
          "1909",
          "1910",
          "1911",
          "1912",
          "1913",
          "1914",
          "1915",
          "1916",
          "1917",
          "1918",
          "1919",
          "1920",
          "1921",
          "1922",
          "1923",
          "1924",
          "1925",
          "1926",
          "1927",
          "1928",
          "1929",
          "1930",
          "1931",
          "1932",
          "1933",
          "1934",
          "1935",
          "1936",
          "1937",
          "1938",
          "1939",
          "1940",
          "1941",
          "1942",
          "1943",
          "1944",
          "1945",
          "1946",
          "1947",
          "1948",
          "1949",
          "1950",
          "1951",
          "1952",
          "1953",
          "1954",
          "1955",
          "1956",
          "1957",
          "1958",
          "1959",
          "1960",
          "1961",
          "1962",
          "1963",
          "1964",
          "1965",
          "1966",
          "1967",
          "1968",
          "1969",
          "1970",
          "1971",
          "1972",
          "1973",
          "1974",
          "1975",
          "1976",
          "1977",
          "1978",
          "1979",
          "1980",
          "1981",
          "1982",
          "1983",
          "1984",
          "1985",
          "1986",
          "1987",
          "1988",
          "1989",
          "1990",
          "1991",
          "1992",
          "1993",
          "1994",
          "1995",
          "1996",
          "1997",
          "1998",
          "1999",
          "2000",
          "2001",
          "2002",
          "2003",
          "2004",
          "2005",
          "2006",
          "2007",
          "2008",
          "2009",
          "2010",
          "2011",
          "2012",
          "2013"
         ],
         "xaxis": "x",
         "y": [
          25.833000000000002,
          26.252166666666668,
          25.8709,
          26.062545454545454,
          25.87036363636364,
          25.788400000000003,
          25.64,
          26.13416666666667,
          25.547583333333336,
          25.582583333333332,
          25.568166666666666,
          25.67775,
          25.66175,
          25.617333333333335,
          25.7775,
          25.6435,
          25.811666666666667,
          25.784916666666664,
          25.269833333333334,
          25.43675,
          25.430000000000003,
          25.632833333333334,
          25.639,
          25.486416666666667,
          25.39675,
          25.631666666666664,
          25.72491666666667,
          25.78425,
          25.903166666666667,
          25.830916666666667,
          26.145166666666668,
          25.584500000000002,
          25.884416666666667,
          25.949166666666667,
          25.855083333333337,
          25.736500000000003,
          25.54716666666667,
          25.830583333333333,
          26.457666666666668,
          26.629083333333337,
          25.73391666666667,
          25.192916666666665,
          25.830083333333334,
          25.488833333333332,
          25.47066666666667,
          25.352999999999998,
          25.769333333333336,
          25.348333333333333,
          25.411666666666665,
          25.953166666666664,
          26.323999999999998,
          25.079083333333333,
          26.05258333333333,
          25.63308333333333,
          25.5535,
          25.43025,
          25.721416666666666,
          25.826166666666666,
          25.91016666666667,
          25.580416666666668,
          26.012416666666667,
          26.0475,
          26.070333333333334,
          26.1075,
          26.110583333333334,
          25.474249999999998,
          25.85666666666667,
          25.750083333333333,
          25.619333333333334,
          25.585833333333337,
          25.62,
          25.651833333333332,
          25.772916666666664,
          25.86991666666667,
          25.59358333333333,
          25.96858333333333,
          26.101250000000004,
          25.69125,
          25.376583333333333,
          25.676000000000002,
          26.084999999999997,
          25.800250000000002,
          25.75883333333333,
          25.647666666666666,
          25.614333333333335,
          26.064666666666668,
          25.769416666666668,
          26.186333333333334,
          26.29225,
          26.171000000000003,
          25.904,
          26.13116666666667,
          26.463916666666666,
          26.259666666666664,
          25.900166666666667,
          25.926416666666668,
          25.897833333333335,
          26.056833333333334,
          26.231333333333335,
          26.070583333333335,
          26.00375,
          26.669750000000004,
          26.705916666666667,
          26.65116666666667,
          26.203500000000002,
          26.243750000000002,
          25.990166666666667,
          26.07975,
          26.178583333333336,
          26.13875,
          26.09991666666667,
          25.967916666666667,
          26.259833333333333,
          26.5545,
          26.404083333333332,
          26.080250000000003,
          26.21783333333333,
          26.132166666666667,
          26.353083333333334,
          26.879333333333335,
          26.578666666666667,
          26.556416666666667,
          26.58758333333333,
          26.52175,
          26.587833333333336,
          26.25191666666667,
          26.322583333333338,
          26.512,
          26.12425,
          26.084083333333336,
          26.83375,
          26.459666666666667,
          25.965500000000002,
          26.278333333333336,
          26.43433333333333,
          26.0775,
          26.06375,
          26.10891666666667,
          26.567333333333334,
          26.645416666666666,
          26.678,
          26.678833333333333,
          26.789,
          26.468999999999998,
          26.811666666666667,
          26.256249999999998,
          26.08741666666667,
          26.255416666666665,
          27.052000000000003,
          26.7325,
          26.32875,
          26.6615,
          26.529,
          26.49866666666667,
          26.737083333333334,
          26.6075,
          27.00791666666667,
          26.573416666666663,
          26.681250000000002,
          27.32641666666667,
          26.867666666666665,
          26.62708333333333,
          26.9485,
          26.854249999999997,
          27.126083333333337,
          26.800916666666666,
          27.20325,
          27.069833333333335,
          26.898,
          26.826666666666668,
          27.04025,
          27.546333333333333,
          27.017666666666667,
          27.02775,
          27.086625
         ],
         "yaxis": "y"
        }
       ],
       "layout": {
        "legend": {
         "title": {
          "text": "Country"
         },
         "tracegroupgap": 0
        },
        "template": {
         "data": {
          "bar": [
           {
            "error_x": {
             "color": "#f2f5fa"
            },
            "error_y": {
             "color": "#f2f5fa"
            },
            "marker": {
             "line": {
              "color": "rgb(17,17,17)",
              "width": 0.5
             },
             "pattern": {
              "fillmode": "overlay",
              "size": 10,
              "solidity": 0.2
             }
            },
            "type": "bar"
           }
          ],
          "barpolar": [
           {
            "marker": {
             "line": {
              "color": "rgb(17,17,17)",
              "width": 0.5
             },
             "pattern": {
              "fillmode": "overlay",
              "size": 10,
              "solidity": 0.2
             }
            },
            "type": "barpolar"
           }
          ],
          "carpet": [
           {
            "aaxis": {
             "endlinecolor": "#A2B1C6",
             "gridcolor": "#506784",
             "linecolor": "#506784",
             "minorgridcolor": "#506784",
             "startlinecolor": "#A2B1C6"
            },
            "baxis": {
             "endlinecolor": "#A2B1C6",
             "gridcolor": "#506784",
             "linecolor": "#506784",
             "minorgridcolor": "#506784",
             "startlinecolor": "#A2B1C6"
            },
            "type": "carpet"
           }
          ],
          "choropleth": [
           {
            "colorbar": {
             "outlinewidth": 0,
             "ticks": ""
            },
            "type": "choropleth"
           }
          ],
          "contour": [
           {
            "colorbar": {
             "outlinewidth": 0,
             "ticks": ""
            },
            "colorscale": [
             [
              0,
              "#0d0887"
             ],
             [
              0.1111111111111111,
              "#46039f"
             ],
             [
              0.2222222222222222,
              "#7201a8"
             ],
             [
              0.3333333333333333,
              "#9c179e"
             ],
             [
              0.4444444444444444,
              "#bd3786"
             ],
             [
              0.5555555555555556,
              "#d8576b"
             ],
             [
              0.6666666666666666,
              "#ed7953"
             ],
             [
              0.7777777777777778,
              "#fb9f3a"
             ],
             [
              0.8888888888888888,
              "#fdca26"
             ],
             [
              1,
              "#f0f921"
             ]
            ],
            "type": "contour"
           }
          ],
          "contourcarpet": [
           {
            "colorbar": {
             "outlinewidth": 0,
             "ticks": ""
            },
            "type": "contourcarpet"
           }
          ],
          "heatmap": [
           {
            "colorbar": {
             "outlinewidth": 0,
             "ticks": ""
            },
            "colorscale": [
             [
              0,
              "#0d0887"
             ],
             [
              0.1111111111111111,
              "#46039f"
             ],
             [
              0.2222222222222222,
              "#7201a8"
             ],
             [
              0.3333333333333333,
              "#9c179e"
             ],
             [
              0.4444444444444444,
              "#bd3786"
             ],
             [
              0.5555555555555556,
              "#d8576b"
             ],
             [
              0.6666666666666666,
              "#ed7953"
             ],
             [
              0.7777777777777778,
              "#fb9f3a"
             ],
             [
              0.8888888888888888,
              "#fdca26"
             ],
             [
              1,
              "#f0f921"
             ]
            ],
            "type": "heatmap"
           }
          ],
          "heatmapgl": [
           {
            "colorbar": {
             "outlinewidth": 0,
             "ticks": ""
            },
            "colorscale": [
             [
              0,
              "#0d0887"
             ],
             [
              0.1111111111111111,
              "#46039f"
             ],
             [
              0.2222222222222222,
              "#7201a8"
             ],
             [
              0.3333333333333333,
              "#9c179e"
             ],
             [
              0.4444444444444444,
              "#bd3786"
             ],
             [
              0.5555555555555556,
              "#d8576b"
             ],
             [
              0.6666666666666666,
              "#ed7953"
             ],
             [
              0.7777777777777778,
              "#fb9f3a"
             ],
             [
              0.8888888888888888,
              "#fdca26"
             ],
             [
              1,
              "#f0f921"
             ]
            ],
            "type": "heatmapgl"
           }
          ],
          "histogram": [
           {
            "marker": {
             "pattern": {
              "fillmode": "overlay",
              "size": 10,
              "solidity": 0.2
             }
            },
            "type": "histogram"
           }
          ],
          "histogram2d": [
           {
            "colorbar": {
             "outlinewidth": 0,
             "ticks": ""
            },
            "colorscale": [
             [
              0,
              "#0d0887"
             ],
             [
              0.1111111111111111,
              "#46039f"
             ],
             [
              0.2222222222222222,
              "#7201a8"
             ],
             [
              0.3333333333333333,
              "#9c179e"
             ],
             [
              0.4444444444444444,
              "#bd3786"
             ],
             [
              0.5555555555555556,
              "#d8576b"
             ],
             [
              0.6666666666666666,
              "#ed7953"
             ],
             [
              0.7777777777777778,
              "#fb9f3a"
             ],
             [
              0.8888888888888888,
              "#fdca26"
             ],
             [
              1,
              "#f0f921"
             ]
            ],
            "type": "histogram2d"
           }
          ],
          "histogram2dcontour": [
           {
            "colorbar": {
             "outlinewidth": 0,
             "ticks": ""
            },
            "colorscale": [
             [
              0,
              "#0d0887"
             ],
             [
              0.1111111111111111,
              "#46039f"
             ],
             [
              0.2222222222222222,
              "#7201a8"
             ],
             [
              0.3333333333333333,
              "#9c179e"
             ],
             [
              0.4444444444444444,
              "#bd3786"
             ],
             [
              0.5555555555555556,
              "#d8576b"
             ],
             [
              0.6666666666666666,
              "#ed7953"
             ],
             [
              0.7777777777777778,
              "#fb9f3a"
             ],
             [
              0.8888888888888888,
              "#fdca26"
             ],
             [
              1,
              "#f0f921"
             ]
            ],
            "type": "histogram2dcontour"
           }
          ],
          "mesh3d": [
           {
            "colorbar": {
             "outlinewidth": 0,
             "ticks": ""
            },
            "type": "mesh3d"
           }
          ],
          "parcoords": [
           {
            "line": {
             "colorbar": {
              "outlinewidth": 0,
              "ticks": ""
             }
            },
            "type": "parcoords"
           }
          ],
          "pie": [
           {
            "automargin": true,
            "type": "pie"
           }
          ],
          "scatter": [
           {
            "marker": {
             "line": {
              "color": "#283442"
             }
            },
            "type": "scatter"
           }
          ],
          "scatter3d": [
           {
            "line": {
             "colorbar": {
              "outlinewidth": 0,
              "ticks": ""
             }
            },
            "marker": {
             "colorbar": {
              "outlinewidth": 0,
              "ticks": ""
             }
            },
            "type": "scatter3d"
           }
          ],
          "scattercarpet": [
           {
            "marker": {
             "colorbar": {
              "outlinewidth": 0,
              "ticks": ""
             }
            },
            "type": "scattercarpet"
           }
          ],
          "scattergeo": [
           {
            "marker": {
             "colorbar": {
              "outlinewidth": 0,
              "ticks": ""
             }
            },
            "type": "scattergeo"
           }
          ],
          "scattergl": [
           {
            "marker": {
             "line": {
              "color": "#283442"
             }
            },
            "type": "scattergl"
           }
          ],
          "scattermapbox": [
           {
            "marker": {
             "colorbar": {
              "outlinewidth": 0,
              "ticks": ""
             }
            },
            "type": "scattermapbox"
           }
          ],
          "scatterpolar": [
           {
            "marker": {
             "colorbar": {
              "outlinewidth": 0,
              "ticks": ""
             }
            },
            "type": "scatterpolar"
           }
          ],
          "scatterpolargl": [
           {
            "marker": {
             "colorbar": {
              "outlinewidth": 0,
              "ticks": ""
             }
            },
            "type": "scatterpolargl"
           }
          ],
          "scatterternary": [
           {
            "marker": {
             "colorbar": {
              "outlinewidth": 0,
              "ticks": ""
             }
            },
            "type": "scatterternary"
           }
          ],
          "surface": [
           {
            "colorbar": {
             "outlinewidth": 0,
             "ticks": ""
            },
            "colorscale": [
             [
              0,
              "#0d0887"
             ],
             [
              0.1111111111111111,
              "#46039f"
             ],
             [
              0.2222222222222222,
              "#7201a8"
             ],
             [
              0.3333333333333333,
              "#9c179e"
             ],
             [
              0.4444444444444444,
              "#bd3786"
             ],
             [
              0.5555555555555556,
              "#d8576b"
             ],
             [
              0.6666666666666666,
              "#ed7953"
             ],
             [
              0.7777777777777778,
              "#fb9f3a"
             ],
             [
              0.8888888888888888,
              "#fdca26"
             ],
             [
              1,
              "#f0f921"
             ]
            ],
            "type": "surface"
           }
          ],
          "table": [
           {
            "cells": {
             "fill": {
              "color": "#506784"
             },
             "line": {
              "color": "rgb(17,17,17)"
             }
            },
            "header": {
             "fill": {
              "color": "#2a3f5f"
             },
             "line": {
              "color": "rgb(17,17,17)"
             }
            },
            "type": "table"
           }
          ]
         },
         "layout": {
          "annotationdefaults": {
           "arrowcolor": "#f2f5fa",
           "arrowhead": 0,
           "arrowwidth": 1
          },
          "autotypenumbers": "strict",
          "coloraxis": {
           "colorbar": {
            "outlinewidth": 0,
            "ticks": ""
           }
          },
          "colorscale": {
           "diverging": [
            [
             0,
             "#8e0152"
            ],
            [
             0.1,
             "#c51b7d"
            ],
            [
             0.2,
             "#de77ae"
            ],
            [
             0.3,
             "#f1b6da"
            ],
            [
             0.4,
             "#fde0ef"
            ],
            [
             0.5,
             "#f7f7f7"
            ],
            [
             0.6,
             "#e6f5d0"
            ],
            [
             0.7,
             "#b8e186"
            ],
            [
             0.8,
             "#7fbc41"
            ],
            [
             0.9,
             "#4d9221"
            ],
            [
             1,
             "#276419"
            ]
           ],
           "sequential": [
            [
             0,
             "#0d0887"
            ],
            [
             0.1111111111111111,
             "#46039f"
            ],
            [
             0.2222222222222222,
             "#7201a8"
            ],
            [
             0.3333333333333333,
             "#9c179e"
            ],
            [
             0.4444444444444444,
             "#bd3786"
            ],
            [
             0.5555555555555556,
             "#d8576b"
            ],
            [
             0.6666666666666666,
             "#ed7953"
            ],
            [
             0.7777777777777778,
             "#fb9f3a"
            ],
            [
             0.8888888888888888,
             "#fdca26"
            ],
            [
             1,
             "#f0f921"
            ]
           ],
           "sequentialminus": [
            [
             0,
             "#0d0887"
            ],
            [
             0.1111111111111111,
             "#46039f"
            ],
            [
             0.2222222222222222,
             "#7201a8"
            ],
            [
             0.3333333333333333,
             "#9c179e"
            ],
            [
             0.4444444444444444,
             "#bd3786"
            ],
            [
             0.5555555555555556,
             "#d8576b"
            ],
            [
             0.6666666666666666,
             "#ed7953"
            ],
            [
             0.7777777777777778,
             "#fb9f3a"
            ],
            [
             0.8888888888888888,
             "#fdca26"
            ],
            [
             1,
             "#f0f921"
            ]
           ]
          },
          "colorway": [
           "#636efa",
           "#EF553B",
           "#00cc96",
           "#ab63fa",
           "#FFA15A",
           "#19d3f3",
           "#FF6692",
           "#B6E880",
           "#FF97FF",
           "#FECB52"
          ],
          "font": {
           "color": "#f2f5fa"
          },
          "geo": {
           "bgcolor": "rgb(17,17,17)",
           "lakecolor": "rgb(17,17,17)",
           "landcolor": "rgb(17,17,17)",
           "showlakes": true,
           "showland": true,
           "subunitcolor": "#506784"
          },
          "hoverlabel": {
           "align": "left"
          },
          "hovermode": "closest",
          "mapbox": {
           "style": "dark"
          },
          "paper_bgcolor": "rgb(17,17,17)",
          "plot_bgcolor": "rgb(17,17,17)",
          "polar": {
           "angularaxis": {
            "gridcolor": "#506784",
            "linecolor": "#506784",
            "ticks": ""
           },
           "bgcolor": "rgb(17,17,17)",
           "radialaxis": {
            "gridcolor": "#506784",
            "linecolor": "#506784",
            "ticks": ""
           }
          },
          "scene": {
           "xaxis": {
            "backgroundcolor": "rgb(17,17,17)",
            "gridcolor": "#506784",
            "gridwidth": 2,
            "linecolor": "#506784",
            "showbackground": true,
            "ticks": "",
            "zerolinecolor": "#C8D4E3"
           },
           "yaxis": {
            "backgroundcolor": "rgb(17,17,17)",
            "gridcolor": "#506784",
            "gridwidth": 2,
            "linecolor": "#506784",
            "showbackground": true,
            "ticks": "",
            "zerolinecolor": "#C8D4E3"
           },
           "zaxis": {
            "backgroundcolor": "rgb(17,17,17)",
            "gridcolor": "#506784",
            "gridwidth": 2,
            "linecolor": "#506784",
            "showbackground": true,
            "ticks": "",
            "zerolinecolor": "#C8D4E3"
           }
          },
          "shapedefaults": {
           "line": {
            "color": "#f2f5fa"
           }
          },
          "sliderdefaults": {
           "bgcolor": "#C8D4E3",
           "bordercolor": "rgb(17,17,17)",
           "borderwidth": 1,
           "tickwidth": 0
          },
          "ternary": {
           "aaxis": {
            "gridcolor": "#506784",
            "linecolor": "#506784",
            "ticks": ""
           },
           "baxis": {
            "gridcolor": "#506784",
            "linecolor": "#506784",
            "ticks": ""
           },
           "bgcolor": "rgb(17,17,17)",
           "caxis": {
            "gridcolor": "#506784",
            "linecolor": "#506784",
            "ticks": ""
           }
          },
          "title": {
           "x": 0.05
          },
          "updatemenudefaults": {
           "bgcolor": "#506784",
           "borderwidth": 0
          },
          "xaxis": {
           "automargin": true,
           "gridcolor": "#283442",
           "linecolor": "#506784",
           "ticks": "",
           "title": {
            "standoff": 15
           },
           "zerolinecolor": "#283442",
           "zerolinewidth": 2
          },
          "yaxis": {
           "automargin": true,
           "gridcolor": "#283442",
           "linecolor": "#506784",
           "ticks": "",
           "title": {
            "standoff": 15
           },
           "zerolinecolor": "#283442",
           "zerolinewidth": 2
          }
         }
        },
        "title": {
         "text": "Random Countries"
        },
        "xaxis": {
         "anchor": "y",
         "domain": [
          0,
          1
         ],
         "title": {
          "text": "year"
         }
        },
        "yaxis": {
         "anchor": "x",
         "domain": [
          0,
          1
         ],
         "title": {
          "text": "AverageTemperature"
         }
        }
       }
      },
      "text/html": [
       "<div>                            <div id=\"b417fc06-a7f5-4815-b4ab-eee0d5c9ee3f\" class=\"plotly-graph-div\" style=\"height:525px; width:100%;\"></div>            <script type=\"text/javascript\">                require([\"plotly\"], function(Plotly) {                    window.PLOTLYENV=window.PLOTLYENV || {};                                    if (document.getElementById(\"b417fc06-a7f5-4815-b4ab-eee0d5c9ee3f\")) {                    Plotly.newPlot(                        \"b417fc06-a7f5-4815-b4ab-eee0d5c9ee3f\",                        [{\"hovertemplate\":\"Country=Croatia<br>year=%{x}<br>AverageTemperature=%{y}<extra></extra>\",\"legendgroup\":\"Croatia\",\"line\":{\"color\":\"#636efa\",\"dash\":\"solid\"},\"marker\":{\"symbol\":\"circle\"},\"mode\":\"lines\",\"name\":\"Croatia\",\"orientation\":\"v\",\"showlegend\":true,\"x\":[\"1743\",\"1744\",\"1745\",\"1750\",\"1751\",\"1752\",\"1753\",\"1754\",\"1755\",\"1756\",\"1757\",\"1758\",\"1759\",\"1760\",\"1761\",\"1762\",\"1763\",\"1764\",\"1765\",\"1766\",\"1767\",\"1768\",\"1769\",\"1770\",\"1771\",\"1772\",\"1773\",\"1774\",\"1775\",\"1776\",\"1777\",\"1778\",\"1779\",\"1780\",\"1781\",\"1782\",\"1783\",\"1784\",\"1785\",\"1786\",\"1787\",\"1788\",\"1789\",\"1790\",\"1791\",\"1792\",\"1793\",\"1794\",\"1795\",\"1796\",\"1797\",\"1798\",\"1799\",\"1800\",\"1801\",\"1802\",\"1803\",\"1804\",\"1805\",\"1806\",\"1807\",\"1808\",\"1809\",\"1810\",\"1811\",\"1812\",\"1813\",\"1814\",\"1815\",\"1816\",\"1817\",\"1818\",\"1819\",\"1820\",\"1821\",\"1822\",\"1823\",\"1824\",\"1825\",\"1826\",\"1827\",\"1828\",\"1829\",\"1830\",\"1831\",\"1832\",\"1833\",\"1834\",\"1835\",\"1836\",\"1837\",\"1838\",\"1839\",\"1840\",\"1841\",\"1842\",\"1843\",\"1844\",\"1845\",\"1846\",\"1847\",\"1848\",\"1849\",\"1850\",\"1851\",\"1852\",\"1853\",\"1854\",\"1855\",\"1856\",\"1857\",\"1858\",\"1859\",\"1860\",\"1861\",\"1862\",\"1863\",\"1864\",\"1865\",\"1866\",\"1867\",\"1868\",\"1869\",\"1870\",\"1871\",\"1872\",\"1873\",\"1874\",\"1875\",\"1876\",\"1877\",\"1878\",\"1879\",\"1880\",\"1881\",\"1882\",\"1883\",\"1884\",\"1885\",\"1886\",\"1887\",\"1888\",\"1889\",\"1890\",\"1891\",\"1892\",\"1893\",\"1894\",\"1895\",\"1896\",\"1897\",\"1898\",\"1899\",\"1900\",\"1901\",\"1902\",\"1903\",\"1904\",\"1905\",\"1906\",\"1907\",\"1908\",\"1909\",\"1910\",\"1911\",\"1912\",\"1913\",\"1914\",\"1915\",\"1916\",\"1917\",\"1918\",\"1919\",\"1920\",\"1921\",\"1922\",\"1923\",\"1924\",\"1925\",\"1926\",\"1927\",\"1928\",\"1929\",\"1930\",\"1931\",\"1932\",\"1933\",\"1934\",\"1935\",\"1936\",\"1937\",\"1938\",\"1939\",\"1940\",\"1941\",\"1942\",\"1943\",\"1944\",\"1945\",\"1946\",\"1947\",\"1948\",\"1949\",\"1950\",\"1951\",\"1952\",\"1953\",\"1954\",\"1955\",\"1956\",\"1957\",\"1958\",\"1959\",\"1960\",\"1961\",\"1962\",\"1963\",\"1964\",\"1965\",\"1966\",\"1967\",\"1968\",\"1969\",\"1970\",\"1971\",\"1972\",\"1973\",\"1974\",\"1975\",\"1976\",\"1977\",\"1978\",\"1979\",\"1980\",\"1981\",\"1982\",\"1983\",\"1984\",\"1985\",\"1986\",\"1987\",\"1988\",\"1989\",\"1990\",\"1991\",\"1992\",\"1993\",\"1994\",\"1995\",\"1996\",\"1997\",\"1998\",\"1999\",\"2000\",\"2001\",\"2002\",\"2003\",\"2004\",\"2005\",\"2006\",\"2007\",\"2008\",\"2009\",\"2010\",\"2011\",\"2012\",\"2013\"],\"xaxis\":\"x\",\"y\":[7.225,12.95025,4.04,12.01290909090909,12.386625,6.759833333333333,11.2875,11.130250000000002,10.914499999999999,11.650916666666667,11.30675,10.380333333333333,11.418416666666666,11.276499999999999,11.65725,11.324750000000002,10.873916666666666,11.576833333333333,11.3635,11.204,10.671333333333335,10.171583333333333,11.099416666666668,11.085166666666666,10.876583333333334,12.552583333333333,11.46625,11.376,11.875333333333332,10.82275,10.945416666666667,12.076083333333335,12.148166666666667,11.352416666666665,11.994416666666666,10.871166666666667,11.7175,10.777000000000001,10.342,10.58075,11.517333333333333,11.443833333333332,11.26925,11.631166666666667,11.988083333333334,11.358583333333334,11.301166666666667,12.135333333333334,11.219583333333333,11.494333333333335,12.424333333333335,11.734250000000001,10.411416666666666,11.714999999999998,12.188166666666667,12.151833333333334,10.832166666666666,11.268166666666666,9.980666666666666,11.815833333333332,11.862249999999998,10.250666666666667,10.98475,11.389416666666667,12.105833333333335,10.367833333333333,10.737,10.333333333333334,10.679583333333333,10.133583333333334,11.084249999999999,11.390333333333333,11.410166666666667,11.129916666666666,11.144416666666666,12.366249999999999,11.043833333333334,11.703166666666666,11.488,11.250666666666667,11.401916666666667,11.351583333333332,9.888333333333334,11.005083333333333,11.272,10.658583333333334,11.041666666666666,12.201666666666668,10.577416666666666,11.195666666666668,10.23075,10.116666666666667,11.15875,10.307833333333333,11.980583333333334,10.7035,11.268083333333331,10.782499999999999,10.921166666666666,12.276166666666667,10.686,11.415416666666667,10.887416666666667,10.555666666666665,10.793,11.41275,10.99225,10.818249999999999,10.738166666666666,10.919166666666667,11.088499999999998,10.238166666666666,11.598916666666666,10.691916666666666,11.32025,11.694,12.302083333333334,9.966083333333334,11.292666666666667,11.584083333333334,11.369166666666667,11.976666666666667,11.393,10.277,10.131583333333333,12.22475,11.637500000000001,10.746416666666667,10.199166666666667,11.058750000000002,11.152000000000001,11.122416666666666,10.550166666666668,11.20375,10.55475,11.761166666666668,10.700583333333334,10.928166666666664,11.433,11.423333333333332,10.752,10.280583333333333,10.554666666666666,10.736833333333335,10.518583333333334,11.000166666666667,10.54125,11.183666666666667,10.72225,10.661,11.181833333333332,11.934333333333333,11.19625,11.826916666666667,10.83475,10.875333333333332,11.364333333333335,11.640083333333335,10.95875,10.936833333333333,11.052,10.531166666666666,10.825083333333334,11.5045,11.573916666666667,10.6545,11.072833333333334,10.554333333333334,11.120833333333335,12.062666666666665,10.943083333333334,11.281666666666666,10.78,11.81575,11.634583333333333,10.847166666666666,11.899166666666666,10.892000000000001,11.332499999999998,12.005166666666668,12.078833333333334,11.771666666666667,10.652666666666667,12.143,11.135916666666667,11.081916666666666,10.521583333333334,12.354583333333332,11.3815,11.90375,11.848916666666668,11.321166666666665,11.648166666666667,9.799666666666667,10.449666666666667,10.870416666666666,12.066916666666666,11.169916666666666,11.883249999999999,12.124083333333333,11.941333333333333,11.776416666666668,11.808583333333333,12.430083333333334,12.481,11.887583333333332,11.615166666666667,10.823333333333332,11.307833333333333,10.419333333333332,11.697583333333334,11.91675,11.656999999999998,11.842999999999998,12.191666666666668,10.838083333333332,11.05025,11.072416666666667,10.923083333333333,11.952166666666665,11.737916666666665,11.577333333333334,11.095083333333333,11.310666666666668,11.393333333333333,11.494166666666667,11.248333333333333,11.745166666666668,11.948583333333334,11.041583333333334,11.926416666666666,10.766666666666667,11.777666666666667,10.685250000000002,11.5085,11.921916666666666,11.934833333333335,11.194,11.151833333333334,11.404000000000002,11.398666666666665,11.989916666666666,12.096083333333333,12.434416666666666,11.33325,12.549083333333334,11.931583333333334,13.11,11.881749999999998,11.125750000000002,11.827416666666666,12.100916666666668,12.3165,13.226416666666665,12.411,12.898916666666667,12.567000000000002,11.919416666666665,11.376249999999999,12.241666666666667,13.0665,12.977083333333333,12.875083333333334,11.960833333333333,12.755166666666668,12.9735,13.588999999999999],\"yaxis\":\"y\",\"type\":\"scatter\"},{\"hovertemplate\":\"Country=United States<br>year=%{x}<br>AverageTemperature=%{y}<extra></extra>\",\"legendgroup\":\"United States\",\"line\":{\"color\":\"#EF553B\",\"dash\":\"solid\"},\"marker\":{\"symbol\":\"circle\"},\"mode\":\"lines\",\"name\":\"United States\",\"orientation\":\"v\",\"showlegend\":true,\"x\":[\"1768\",\"1769\",\"1774\",\"1775\",\"1776\",\"1777\",\"1778\",\"1779\",\"1781\",\"1782\",\"1796\",\"1797\",\"1811\",\"1812\",\"1813\",\"1814\",\"1815\",\"1816\",\"1817\",\"1818\",\"1819\",\"1820\",\"1821\",\"1822\",\"1823\",\"1824\",\"1825\",\"1826\",\"1827\",\"1828\",\"1829\",\"1830\",\"1831\",\"1832\",\"1833\",\"1834\",\"1835\",\"1836\",\"1837\",\"1838\",\"1839\",\"1840\",\"1841\",\"1842\",\"1843\",\"1844\",\"1845\",\"1846\",\"1847\",\"1848\",\"1849\",\"1850\",\"1851\",\"1852\",\"1853\",\"1854\",\"1855\",\"1856\",\"1857\",\"1858\",\"1859\",\"1860\",\"1861\",\"1862\",\"1863\",\"1864\",\"1865\",\"1866\",\"1867\",\"1868\",\"1869\",\"1870\",\"1871\",\"1872\",\"1873\",\"1874\",\"1875\",\"1876\",\"1877\",\"1878\",\"1879\",\"1880\",\"1881\",\"1882\",\"1883\",\"1884\",\"1885\",\"1886\",\"1887\",\"1888\",\"1889\",\"1890\",\"1891\",\"1892\",\"1893\",\"1894\",\"1895\",\"1896\",\"1897\",\"1898\",\"1899\",\"1900\",\"1901\",\"1902\",\"1903\",\"1904\",\"1905\",\"1906\",\"1907\",\"1908\",\"1909\",\"1910\",\"1911\",\"1912\",\"1913\",\"1914\",\"1915\",\"1916\",\"1917\",\"1918\",\"1919\",\"1920\",\"1921\",\"1922\",\"1923\",\"1924\",\"1925\",\"1926\",\"1927\",\"1928\",\"1929\",\"1930\",\"1931\",\"1932\",\"1933\",\"1934\",\"1935\",\"1936\",\"1937\",\"1938\",\"1939\",\"1940\",\"1941\",\"1942\",\"1943\",\"1944\",\"1945\",\"1946\",\"1947\",\"1948\",\"1949\",\"1950\",\"1951\",\"1952\",\"1953\",\"1954\",\"1955\",\"1956\",\"1957\",\"1958\",\"1959\",\"1960\",\"1961\",\"1962\",\"1963\",\"1964\",\"1965\",\"1966\",\"1967\",\"1968\",\"1969\",\"1970\",\"1971\",\"1972\",\"1973\",\"1974\",\"1975\",\"1976\",\"1977\",\"1978\",\"1979\",\"1980\",\"1981\",\"1982\",\"1983\",\"1984\",\"1985\",\"1986\",\"1987\",\"1988\",\"1989\",\"1990\",\"1991\",\"1992\",\"1993\",\"1994\",\"1995\",\"1996\",\"1997\",\"1998\",\"1999\",\"2000\",\"2001\",\"2002\",\"2003\",\"2004\",\"2005\",\"2006\",\"2007\",\"2008\",\"2009\",\"2010\",\"2011\",\"2012\",\"2013\"],\"xaxis\":\"x\",\"y\":[5.57275,10.4465,1.6029999999999998,9.499166666666666,8.11,8.30475,5.361999999999999,-0.7136666666666663,6.25325,7.606428571428571,12.231,6.356833333333333,8.0434,7.012666666666667,9.918888888888889,3.784333333333334,7.501333333333334,4.396625,7.229916666666667,6.2747,-2.7746666666666666,7.563833333333332,8.004083333333334,8.386833333333334,7.9110000000000005,8.50225,8.9665,8.578999999999999,9.102,8.8485,8.38925,9.215083333333334,7.72075,8.247416666666668,8.811916666666667,8.829583333333334,7.53925,7.5639166666666675,7.984416666666667,7.548666666666666,8.522166666666665,8.2515,8.14925,8.358333333333334,7.783666666666668,8.082833333333333,8.408916666666666,9.136333333333333,7.907083333333333,8.016833333333333,8.129166666666666,8.248333333333333,8.6575,8.183083333333334,8.459916666666667,8.821250000000001,8.459416666666668,7.94325,8.140333333333333,8.412833333333333,8.016833333333333,8.580916666666667,8.6505,8.214,8.446250000000001,8.381083333333335,8.495666666666667,8.334333333333333,8.509,8.207416666666667,8.31125,8.8295,8.70675,8.00075,8.063083333333333,8.768,7.849666666666667,8.099,8.696583333333335,9.017166666666666,8.68325,8.110333333333333,8.6435,8.369916666666667,7.9422500000000005,7.957999999999999,8.158416666666666,8.181833333333334,8.143583333333334,8.172833333333333,8.798083333333333,8.559166666666668,8.31675,8.177999999999999,8.171,8.46675,7.847333333333332,8.483583333333334,8.473166666666666,8.427916666666667,8.166833333333333,9.021583333333334,8.494916666666667,8.453999999999999,7.977250000000001,8.200666666666665,8.402333333333333,8.560083333333333,8.394,8.755583333333334,8.221833333333334,8.757916666666667,8.737916666666667,8.140916666666667,8.552166666666666,8.8765,8.648249999999999,8.180083333333334,7.669499999999999,8.50125,8.538,8.1845,9.595666666666666,8.768166666666668,8.760333333333334,8.052333333333333,9.016416666666666,9.14025,8.719333333333333,8.876,8.4395,8.737666666666668,9.56075,8.5395,9.030583333333334,9.826583333333334,8.7425,8.92225,8.73075,9.471833333333334,9.3075,9.097166666666668,9.266083333333333,8.919333333333332,9.0035,8.898166666666667,8.671249999999999,9.179583333333333,8.836083333333333,8.481666666666667,8.888083333333332,8.656416666666667,8.416583333333334,8.979416666666667,9.530416666666666,9.410583333333333,8.517166666666666,8.699916666666667,9.126333333333333,8.970166666666668,8.825333333333333,8.69225,8.642000000000001,8.9565,9.08,8.491666666666667,8.647666666666668,8.483,8.902,8.55325,8.770833333333334,8.673,8.4425,8.428083333333333,8.934666666666667,8.815916666666666,8.431,8.65125,9.269833333333333,8.751416666666666,8.571583333333333,9.1355,9.7215,8.5395,8.912333333333333,8.811166666666667,8.587000000000002,9.5595,9.628166666666667,9.275333333333334,8.873083333333334,9.521583333333334,9.493666666666666,9.056333333333333,8.86725,9.270333333333333,9.331000000000001,8.754333333333333,9.172916666666667,10.141166666666667,9.567,9.64975,9.785583333333333,9.816166666666666,9.755083333333333,9.6675,9.892666666666667,9.9745,9.8375,8.951416666666667,9.137083333333333,9.505583333333334,9.549916666666666,10.261083333333334,11.297111111111112],\"yaxis\":\"y\",\"type\":\"scatter\"},{\"hovertemplate\":\"Country=China<br>year=%{x}<br>AverageTemperature=%{y}<extra></extra>\",\"legendgroup\":\"China\",\"line\":{\"color\":\"#00cc96\",\"dash\":\"solid\"},\"marker\":{\"symbol\":\"circle\"},\"mode\":\"lines\",\"name\":\"China\",\"orientation\":\"v\",\"showlegend\":true,\"x\":[\"1820\",\"1821\",\"1822\",\"1823\",\"1833\",\"1834\",\"1835\",\"1836\",\"1837\",\"1838\",\"1839\",\"1840\",\"1841\",\"1842\",\"1843\",\"1844\",\"1845\",\"1846\",\"1847\",\"1848\",\"1849\",\"1850\",\"1851\",\"1852\",\"1853\",\"1854\",\"1855\",\"1856\",\"1857\",\"1858\",\"1859\",\"1860\",\"1861\",\"1862\",\"1863\",\"1864\",\"1865\",\"1866\",\"1867\",\"1868\",\"1869\",\"1870\",\"1871\",\"1872\",\"1873\",\"1874\",\"1875\",\"1876\",\"1877\",\"1878\",\"1879\",\"1880\",\"1881\",\"1882\",\"1883\",\"1884\",\"1885\",\"1886\",\"1887\",\"1888\",\"1889\",\"1890\",\"1891\",\"1892\",\"1893\",\"1894\",\"1895\",\"1896\",\"1897\",\"1898\",\"1899\",\"1900\",\"1901\",\"1902\",\"1903\",\"1904\",\"1905\",\"1906\",\"1907\",\"1908\",\"1909\",\"1910\",\"1911\",\"1912\",\"1913\",\"1914\",\"1915\",\"1916\",\"1917\",\"1918\",\"1919\",\"1920\",\"1921\",\"1922\",\"1923\",\"1924\",\"1925\",\"1926\",\"1927\",\"1928\",\"1929\",\"1930\",\"1931\",\"1932\",\"1933\",\"1934\",\"1935\",\"1936\",\"1937\",\"1938\",\"1939\",\"1940\",\"1941\",\"1942\",\"1943\",\"1944\",\"1945\",\"1946\",\"1947\",\"1948\",\"1949\",\"1950\",\"1951\",\"1952\",\"1953\",\"1954\",\"1955\",\"1956\",\"1957\",\"1958\",\"1959\",\"1960\",\"1961\",\"1962\",\"1963\",\"1964\",\"1965\",\"1966\",\"1967\",\"1968\",\"1969\",\"1970\",\"1971\",\"1972\",\"1973\",\"1974\",\"1975\",\"1976\",\"1977\",\"1978\",\"1979\",\"1980\",\"1981\",\"1982\",\"1983\",\"1984\",\"1985\",\"1986\",\"1987\",\"1988\",\"1989\",\"1990\",\"1991\",\"1992\",\"1993\",\"1994\",\"1995\",\"1996\",\"1997\",\"1998\",\"1999\",\"2000\",\"2001\",\"2002\",\"2003\",\"2004\",\"2005\",\"2006\",\"2007\",\"2008\",\"2009\",\"2010\",\"2011\",\"2012\",\"2013\"],\"xaxis\":\"x\",\"y\":[5.013599999999999,6.284166666666667,6.341416666666667,7.024363636363637,6.039333333333334,6.268166666666667,5.43425,5.364727272727273,8.136833333333334,5.715,5.519083333333334,6.018583333333333,5.512416666666667,6.2785,6.413916666666666,6.0515,6.023000000000001,6.5874999999999995,6.257083333333333,5.93975,6.1048333333333344,5.907166666666666,5.7828333333333335,5.857500000000001,5.997583333333334,6.473083333333332,6.515583333333333,6.095583333333334,5.959666666666667,6.414083333333333,6.535166666666666,5.609333333333333,5.865166666666667,5.448083333333333,6.444583333333333,5.8015,6.244,6.410416666666666,6.759166666666666,6.415500000000001,6.465833333333333,6.158999999999999,6.371583333333334,6.286333333333334,6.588166666666667,6.6451666666666656,6.505,6.347416666666667,6.181583333333333,6.414416666666667,6.667416666666667,6.383500000000001,6.352833333333333,6.39825,6.026916666666666,5.804833333333334,5.9645,6.114750000000001,6.197166666666668,6.336416666666666,6.31175,6.464333333333333,6.359333333333333,6.060833333333334,6.108333333333333,6.57825,6.035833333333334,6.38625,6.228083333333334,6.562666666666666,6.603416666666667,6.444166666666667,6.5375000000000005,6.744666666666666,6.1745833333333335,6.350833333333334,5.7555000000000005,6.2218333333333335,6.308666666666666,6.286583333333333,6.3812500000000005,6.0715,6.297000000000001,6.076083333333333,6.138416666666667,6.8187500000000005,6.49275,6.349833333333333,6.161416666666667,6.196833333333333,6.607,6.590333333333334,6.50075,6.677333333333333,6.563666666666666,6.704250000000001,6.555666666666667,6.754083333333334,6.667749999999999,6.7746666666666675,6.424083333333333,6.468666666666667,6.3775,6.9055833333333325,6.6299166666666665,6.362833333333334,6.636166666666667,6.111583333333333,6.511083333333333,6.87175,7.0264999999999995,6.961666666666666,7.3455,7.096,7.050916666666667,6.5305,6.8388333333333335,7.354083333333333,6.773833333333333,7.1003333333333325,6.9755,6.641166666666667,6.8694999999999995,6.640916666666667,7.022333333333333,6.3709999999999996,6.701666666666667,6.299333333333333,6.388000000000001,7.033583333333333,7.039666666666666,6.890916666666667,7.050583333333333,6.703666666666667,7.052499999999999,6.746083333333334,6.799916666666667,6.962,6.402583333333333,6.727,6.4559999999999995,6.5681666666666665,6.84625,6.814416666666667,7.209583333333334,6.659416666666666,7.1009166666666665,6.471166666666666,6.851333333333334,7.048166666666667,7.074083333333333,6.950083333333333,6.926416666666667,7.14975,6.925083333333334,6.5179166666666655,6.7402500000000005,6.870166666666666,7.249,7.220833333333332,7.23975,7.636,7.097166666666666,6.858416666666667,6.919416666666667,7.4959999999999996,7.2115833333333335,6.962666666666667,7.367333333333334,8.051833333333333,7.84025,7.238083333333333,7.596416666666666,7.7956666666666665,7.521999999999999,7.71275,7.4135,7.948,8.12675,7.566083333333334,7.8095,7.548416666666667,7.357083333333333,7.077083333333333,9.295],\"yaxis\":\"y\",\"type\":\"scatter\"},{\"hovertemplate\":\"Country=Trinidad And Tobago<br>year=%{x}<br>AverageTemperature=%{y}<extra></extra>\",\"legendgroup\":\"Trinidad And Tobago\",\"line\":{\"color\":\"#ab63fa\",\"dash\":\"solid\"},\"marker\":{\"symbol\":\"circle\"},\"mode\":\"lines\",\"name\":\"Trinidad And Tobago\",\"orientation\":\"v\",\"showlegend\":true,\"x\":[\"1824\",\"1825\",\"1826\",\"1827\",\"1828\",\"1829\",\"1845\",\"1846\",\"1847\",\"1848\",\"1849\",\"1850\",\"1851\",\"1852\",\"1853\",\"1854\",\"1855\",\"1856\",\"1857\",\"1858\",\"1859\",\"1860\",\"1861\",\"1862\",\"1863\",\"1864\",\"1865\",\"1866\",\"1867\",\"1868\",\"1869\",\"1870\",\"1871\",\"1872\",\"1873\",\"1874\",\"1875\",\"1876\",\"1877\",\"1878\",\"1879\",\"1880\",\"1881\",\"1882\",\"1883\",\"1884\",\"1885\",\"1886\",\"1887\",\"1888\",\"1889\",\"1890\",\"1891\",\"1892\",\"1893\",\"1894\",\"1895\",\"1896\",\"1897\",\"1898\",\"1899\",\"1900\",\"1901\",\"1902\",\"1903\",\"1904\",\"1905\",\"1906\",\"1907\",\"1908\",\"1909\",\"1910\",\"1911\",\"1912\",\"1913\",\"1914\",\"1915\",\"1916\",\"1917\",\"1918\",\"1919\",\"1920\",\"1921\",\"1922\",\"1923\",\"1924\",\"1925\",\"1926\",\"1927\",\"1928\",\"1929\",\"1930\",\"1931\",\"1932\",\"1933\",\"1934\",\"1935\",\"1936\",\"1937\",\"1938\",\"1939\",\"1940\",\"1941\",\"1942\",\"1943\",\"1944\",\"1945\",\"1946\",\"1947\",\"1948\",\"1949\",\"1950\",\"1951\",\"1952\",\"1953\",\"1954\",\"1955\",\"1956\",\"1957\",\"1958\",\"1959\",\"1960\",\"1961\",\"1962\",\"1963\",\"1964\",\"1965\",\"1966\",\"1967\",\"1968\",\"1969\",\"1970\",\"1971\",\"1972\",\"1973\",\"1974\",\"1975\",\"1976\",\"1977\",\"1978\",\"1979\",\"1980\",\"1981\",\"1982\",\"1983\",\"1984\",\"1985\",\"1986\",\"1987\",\"1988\",\"1989\",\"1990\",\"1991\",\"1992\",\"1993\",\"1994\",\"1995\",\"1996\",\"1997\",\"1998\",\"1999\",\"2000\",\"2001\",\"2002\",\"2003\",\"2004\",\"2005\",\"2006\",\"2007\",\"2008\",\"2009\",\"2010\",\"2011\",\"2012\",\"2013\"],\"xaxis\":\"x\",\"y\":[25.833000000000002,26.252166666666668,25.8709,26.062545454545454,25.87036363636364,25.788400000000003,25.64,26.13416666666667,25.547583333333336,25.582583333333332,25.568166666666666,25.67775,25.66175,25.617333333333335,25.7775,25.6435,25.811666666666667,25.784916666666664,25.269833333333334,25.43675,25.430000000000003,25.632833333333334,25.639,25.486416666666667,25.39675,25.631666666666664,25.72491666666667,25.78425,25.903166666666667,25.830916666666667,26.145166666666668,25.584500000000002,25.884416666666667,25.949166666666667,25.855083333333337,25.736500000000003,25.54716666666667,25.830583333333333,26.457666666666668,26.629083333333337,25.73391666666667,25.192916666666665,25.830083333333334,25.488833333333332,25.47066666666667,25.352999999999998,25.769333333333336,25.348333333333333,25.411666666666665,25.953166666666664,26.323999999999998,25.079083333333333,26.05258333333333,25.63308333333333,25.5535,25.43025,25.721416666666666,25.826166666666666,25.91016666666667,25.580416666666668,26.012416666666667,26.0475,26.070333333333334,26.1075,26.110583333333334,25.474249999999998,25.85666666666667,25.750083333333333,25.619333333333334,25.585833333333337,25.62,25.651833333333332,25.772916666666664,25.86991666666667,25.59358333333333,25.96858333333333,26.101250000000004,25.69125,25.376583333333333,25.676000000000002,26.084999999999997,25.800250000000002,25.75883333333333,25.647666666666666,25.614333333333335,26.064666666666668,25.769416666666668,26.186333333333334,26.29225,26.171000000000003,25.904,26.13116666666667,26.463916666666666,26.259666666666664,25.900166666666667,25.926416666666668,25.897833333333335,26.056833333333334,26.231333333333335,26.070583333333335,26.00375,26.669750000000004,26.705916666666667,26.65116666666667,26.203500000000002,26.243750000000002,25.990166666666667,26.07975,26.178583333333336,26.13875,26.09991666666667,25.967916666666667,26.259833333333333,26.5545,26.404083333333332,26.080250000000003,26.21783333333333,26.132166666666667,26.353083333333334,26.879333333333335,26.578666666666667,26.556416666666667,26.58758333333333,26.52175,26.587833333333336,26.25191666666667,26.322583333333338,26.512,26.12425,26.084083333333336,26.83375,26.459666666666667,25.965500000000002,26.278333333333336,26.43433333333333,26.0775,26.06375,26.10891666666667,26.567333333333334,26.645416666666666,26.678,26.678833333333333,26.789,26.468999999999998,26.811666666666667,26.256249999999998,26.08741666666667,26.255416666666665,27.052000000000003,26.7325,26.32875,26.6615,26.529,26.49866666666667,26.737083333333334,26.6075,27.00791666666667,26.573416666666663,26.681250000000002,27.32641666666667,26.867666666666665,26.62708333333333,26.9485,26.854249999999997,27.126083333333337,26.800916666666666,27.20325,27.069833333333335,26.898,26.826666666666668,27.04025,27.546333333333333,27.017666666666667,27.02775,27.086625],\"yaxis\":\"y\",\"type\":\"scatter\"}],                        {\"template\":{\"data\":{\"barpolar\":[{\"marker\":{\"line\":{\"color\":\"rgb(17,17,17)\",\"width\":0.5},\"pattern\":{\"fillmode\":\"overlay\",\"size\":10,\"solidity\":0.2}},\"type\":\"barpolar\"}],\"bar\":[{\"error_x\":{\"color\":\"#f2f5fa\"},\"error_y\":{\"color\":\"#f2f5fa\"},\"marker\":{\"line\":{\"color\":\"rgb(17,17,17)\",\"width\":0.5},\"pattern\":{\"fillmode\":\"overlay\",\"size\":10,\"solidity\":0.2}},\"type\":\"bar\"}],\"carpet\":[{\"aaxis\":{\"endlinecolor\":\"#A2B1C6\",\"gridcolor\":\"#506784\",\"linecolor\":\"#506784\",\"minorgridcolor\":\"#506784\",\"startlinecolor\":\"#A2B1C6\"},\"baxis\":{\"endlinecolor\":\"#A2B1C6\",\"gridcolor\":\"#506784\",\"linecolor\":\"#506784\",\"minorgridcolor\":\"#506784\",\"startlinecolor\":\"#A2B1C6\"},\"type\":\"carpet\"}],\"choropleth\":[{\"colorbar\":{\"outlinewidth\":0,\"ticks\":\"\"},\"type\":\"choropleth\"}],\"contourcarpet\":[{\"colorbar\":{\"outlinewidth\":0,\"ticks\":\"\"},\"type\":\"contourcarpet\"}],\"contour\":[{\"colorbar\":{\"outlinewidth\":0,\"ticks\":\"\"},\"colorscale\":[[0.0,\"#0d0887\"],[0.1111111111111111,\"#46039f\"],[0.2222222222222222,\"#7201a8\"],[0.3333333333333333,\"#9c179e\"],[0.4444444444444444,\"#bd3786\"],[0.5555555555555556,\"#d8576b\"],[0.6666666666666666,\"#ed7953\"],[0.7777777777777778,\"#fb9f3a\"],[0.8888888888888888,\"#fdca26\"],[1.0,\"#f0f921\"]],\"type\":\"contour\"}],\"heatmapgl\":[{\"colorbar\":{\"outlinewidth\":0,\"ticks\":\"\"},\"colorscale\":[[0.0,\"#0d0887\"],[0.1111111111111111,\"#46039f\"],[0.2222222222222222,\"#7201a8\"],[0.3333333333333333,\"#9c179e\"],[0.4444444444444444,\"#bd3786\"],[0.5555555555555556,\"#d8576b\"],[0.6666666666666666,\"#ed7953\"],[0.7777777777777778,\"#fb9f3a\"],[0.8888888888888888,\"#fdca26\"],[1.0,\"#f0f921\"]],\"type\":\"heatmapgl\"}],\"heatmap\":[{\"colorbar\":{\"outlinewidth\":0,\"ticks\":\"\"},\"colorscale\":[[0.0,\"#0d0887\"],[0.1111111111111111,\"#46039f\"],[0.2222222222222222,\"#7201a8\"],[0.3333333333333333,\"#9c179e\"],[0.4444444444444444,\"#bd3786\"],[0.5555555555555556,\"#d8576b\"],[0.6666666666666666,\"#ed7953\"],[0.7777777777777778,\"#fb9f3a\"],[0.8888888888888888,\"#fdca26\"],[1.0,\"#f0f921\"]],\"type\":\"heatmap\"}],\"histogram2dcontour\":[{\"colorbar\":{\"outlinewidth\":0,\"ticks\":\"\"},\"colorscale\":[[0.0,\"#0d0887\"],[0.1111111111111111,\"#46039f\"],[0.2222222222222222,\"#7201a8\"],[0.3333333333333333,\"#9c179e\"],[0.4444444444444444,\"#bd3786\"],[0.5555555555555556,\"#d8576b\"],[0.6666666666666666,\"#ed7953\"],[0.7777777777777778,\"#fb9f3a\"],[0.8888888888888888,\"#fdca26\"],[1.0,\"#f0f921\"]],\"type\":\"histogram2dcontour\"}],\"histogram2d\":[{\"colorbar\":{\"outlinewidth\":0,\"ticks\":\"\"},\"colorscale\":[[0.0,\"#0d0887\"],[0.1111111111111111,\"#46039f\"],[0.2222222222222222,\"#7201a8\"],[0.3333333333333333,\"#9c179e\"],[0.4444444444444444,\"#bd3786\"],[0.5555555555555556,\"#d8576b\"],[0.6666666666666666,\"#ed7953\"],[0.7777777777777778,\"#fb9f3a\"],[0.8888888888888888,\"#fdca26\"],[1.0,\"#f0f921\"]],\"type\":\"histogram2d\"}],\"histogram\":[{\"marker\":{\"pattern\":{\"fillmode\":\"overlay\",\"size\":10,\"solidity\":0.2}},\"type\":\"histogram\"}],\"mesh3d\":[{\"colorbar\":{\"outlinewidth\":0,\"ticks\":\"\"},\"type\":\"mesh3d\"}],\"parcoords\":[{\"line\":{\"colorbar\":{\"outlinewidth\":0,\"ticks\":\"\"}},\"type\":\"parcoords\"}],\"pie\":[{\"automargin\":true,\"type\":\"pie\"}],\"scatter3d\":[{\"line\":{\"colorbar\":{\"outlinewidth\":0,\"ticks\":\"\"}},\"marker\":{\"colorbar\":{\"outlinewidth\":0,\"ticks\":\"\"}},\"type\":\"scatter3d\"}],\"scattercarpet\":[{\"marker\":{\"colorbar\":{\"outlinewidth\":0,\"ticks\":\"\"}},\"type\":\"scattercarpet\"}],\"scattergeo\":[{\"marker\":{\"colorbar\":{\"outlinewidth\":0,\"ticks\":\"\"}},\"type\":\"scattergeo\"}],\"scattergl\":[{\"marker\":{\"line\":{\"color\":\"#283442\"}},\"type\":\"scattergl\"}],\"scattermapbox\":[{\"marker\":{\"colorbar\":{\"outlinewidth\":0,\"ticks\":\"\"}},\"type\":\"scattermapbox\"}],\"scatterpolargl\":[{\"marker\":{\"colorbar\":{\"outlinewidth\":0,\"ticks\":\"\"}},\"type\":\"scatterpolargl\"}],\"scatterpolar\":[{\"marker\":{\"colorbar\":{\"outlinewidth\":0,\"ticks\":\"\"}},\"type\":\"scatterpolar\"}],\"scatter\":[{\"marker\":{\"line\":{\"color\":\"#283442\"}},\"type\":\"scatter\"}],\"scatterternary\":[{\"marker\":{\"colorbar\":{\"outlinewidth\":0,\"ticks\":\"\"}},\"type\":\"scatterternary\"}],\"surface\":[{\"colorbar\":{\"outlinewidth\":0,\"ticks\":\"\"},\"colorscale\":[[0.0,\"#0d0887\"],[0.1111111111111111,\"#46039f\"],[0.2222222222222222,\"#7201a8\"],[0.3333333333333333,\"#9c179e\"],[0.4444444444444444,\"#bd3786\"],[0.5555555555555556,\"#d8576b\"],[0.6666666666666666,\"#ed7953\"],[0.7777777777777778,\"#fb9f3a\"],[0.8888888888888888,\"#fdca26\"],[1.0,\"#f0f921\"]],\"type\":\"surface\"}],\"table\":[{\"cells\":{\"fill\":{\"color\":\"#506784\"},\"line\":{\"color\":\"rgb(17,17,17)\"}},\"header\":{\"fill\":{\"color\":\"#2a3f5f\"},\"line\":{\"color\":\"rgb(17,17,17)\"}},\"type\":\"table\"}]},\"layout\":{\"annotationdefaults\":{\"arrowcolor\":\"#f2f5fa\",\"arrowhead\":0,\"arrowwidth\":1},\"autotypenumbers\":\"strict\",\"coloraxis\":{\"colorbar\":{\"outlinewidth\":0,\"ticks\":\"\"}},\"colorscale\":{\"diverging\":[[0,\"#8e0152\"],[0.1,\"#c51b7d\"],[0.2,\"#de77ae\"],[0.3,\"#f1b6da\"],[0.4,\"#fde0ef\"],[0.5,\"#f7f7f7\"],[0.6,\"#e6f5d0\"],[0.7,\"#b8e186\"],[0.8,\"#7fbc41\"],[0.9,\"#4d9221\"],[1,\"#276419\"]],\"sequential\":[[0.0,\"#0d0887\"],[0.1111111111111111,\"#46039f\"],[0.2222222222222222,\"#7201a8\"],[0.3333333333333333,\"#9c179e\"],[0.4444444444444444,\"#bd3786\"],[0.5555555555555556,\"#d8576b\"],[0.6666666666666666,\"#ed7953\"],[0.7777777777777778,\"#fb9f3a\"],[0.8888888888888888,\"#fdca26\"],[1.0,\"#f0f921\"]],\"sequentialminus\":[[0.0,\"#0d0887\"],[0.1111111111111111,\"#46039f\"],[0.2222222222222222,\"#7201a8\"],[0.3333333333333333,\"#9c179e\"],[0.4444444444444444,\"#bd3786\"],[0.5555555555555556,\"#d8576b\"],[0.6666666666666666,\"#ed7953\"],[0.7777777777777778,\"#fb9f3a\"],[0.8888888888888888,\"#fdca26\"],[1.0,\"#f0f921\"]]},\"colorway\":[\"#636efa\",\"#EF553B\",\"#00cc96\",\"#ab63fa\",\"#FFA15A\",\"#19d3f3\",\"#FF6692\",\"#B6E880\",\"#FF97FF\",\"#FECB52\"],\"font\":{\"color\":\"#f2f5fa\"},\"geo\":{\"bgcolor\":\"rgb(17,17,17)\",\"lakecolor\":\"rgb(17,17,17)\",\"landcolor\":\"rgb(17,17,17)\",\"showlakes\":true,\"showland\":true,\"subunitcolor\":\"#506784\"},\"hoverlabel\":{\"align\":\"left\"},\"hovermode\":\"closest\",\"mapbox\":{\"style\":\"dark\"},\"paper_bgcolor\":\"rgb(17,17,17)\",\"plot_bgcolor\":\"rgb(17,17,17)\",\"polar\":{\"angularaxis\":{\"gridcolor\":\"#506784\",\"linecolor\":\"#506784\",\"ticks\":\"\"},\"bgcolor\":\"rgb(17,17,17)\",\"radialaxis\":{\"gridcolor\":\"#506784\",\"linecolor\":\"#506784\",\"ticks\":\"\"}},\"scene\":{\"xaxis\":{\"backgroundcolor\":\"rgb(17,17,17)\",\"gridcolor\":\"#506784\",\"gridwidth\":2,\"linecolor\":\"#506784\",\"showbackground\":true,\"ticks\":\"\",\"zerolinecolor\":\"#C8D4E3\"},\"yaxis\":{\"backgroundcolor\":\"rgb(17,17,17)\",\"gridcolor\":\"#506784\",\"gridwidth\":2,\"linecolor\":\"#506784\",\"showbackground\":true,\"ticks\":\"\",\"zerolinecolor\":\"#C8D4E3\"},\"zaxis\":{\"backgroundcolor\":\"rgb(17,17,17)\",\"gridcolor\":\"#506784\",\"gridwidth\":2,\"linecolor\":\"#506784\",\"showbackground\":true,\"ticks\":\"\",\"zerolinecolor\":\"#C8D4E3\"}},\"shapedefaults\":{\"line\":{\"color\":\"#f2f5fa\"}},\"sliderdefaults\":{\"bgcolor\":\"#C8D4E3\",\"bordercolor\":\"rgb(17,17,17)\",\"borderwidth\":1,\"tickwidth\":0},\"ternary\":{\"aaxis\":{\"gridcolor\":\"#506784\",\"linecolor\":\"#506784\",\"ticks\":\"\"},\"baxis\":{\"gridcolor\":\"#506784\",\"linecolor\":\"#506784\",\"ticks\":\"\"},\"bgcolor\":\"rgb(17,17,17)\",\"caxis\":{\"gridcolor\":\"#506784\",\"linecolor\":\"#506784\",\"ticks\":\"\"}},\"title\":{\"x\":0.05},\"updatemenudefaults\":{\"bgcolor\":\"#506784\",\"borderwidth\":0},\"xaxis\":{\"automargin\":true,\"gridcolor\":\"#283442\",\"linecolor\":\"#506784\",\"ticks\":\"\",\"title\":{\"standoff\":15},\"zerolinecolor\":\"#283442\",\"zerolinewidth\":2},\"yaxis\":{\"automargin\":true,\"gridcolor\":\"#283442\",\"linecolor\":\"#506784\",\"ticks\":\"\",\"title\":{\"standoff\":15},\"zerolinecolor\":\"#283442\",\"zerolinewidth\":2}}},\"xaxis\":{\"anchor\":\"y\",\"domain\":[0.0,1.0],\"title\":{\"text\":\"year\"}},\"yaxis\":{\"anchor\":\"x\",\"domain\":[0.0,1.0],\"title\":{\"text\":\"AverageTemperature\"}},\"legend\":{\"title\":{\"text\":\"Country\"},\"tracegroupgap\":0},\"title\":{\"text\":\"Random Countries\"}},                        {\"responsive\": true}                    ).then(function(){\n",
       "                            \n",
       "var gd = document.getElementById('b417fc06-a7f5-4815-b4ab-eee0d5c9ee3f');\n",
       "var x = new MutationObserver(function (mutations, observer) {{\n",
       "        var display = window.getComputedStyle(gd).display;\n",
       "        if (!display || display === 'none') {{\n",
       "            console.log([gd, 'removed!']);\n",
       "            Plotly.purge(gd);\n",
       "            observer.disconnect();\n",
       "        }}\n",
       "}});\n",
       "\n",
       "// Listen for the removal of the full notebook cells\n",
       "var notebookContainer = gd.closest('#notebook-container');\n",
       "if (notebookContainer) {{\n",
       "    x.observe(notebookContainer, {childList: true});\n",
       "}}\n",
       "\n",
       "// Listen for the clearing of the current output cell\n",
       "var outputEl = gd.closest('.output');\n",
       "if (outputEl) {{\n",
       "    x.observe(outputEl, {childList: true});\n",
       "}}\n",
       "\n",
       "                        })                };                });            </script>        </div>"
      ]
     },
     "metadata": {},
     "output_type": "display_data"
    }
   ],
   "source": [
    "fig_4 = px.line(european_data, x = \"year\", y = \"AverageTemperature\", color = \"Country\", template = \"plotly_dark\", title= \"Random Countries\")\n",
    "fig_4.show()"
   ]
  },
  {
   "attachments": {},
   "cell_type": "markdown",
   "metadata": {},
   "source": [
    "### USA Map for State temperatures"
   ]
  },
  {
   "cell_type": "code",
   "execution_count": 35,
   "metadata": {},
   "outputs": [],
   "source": [
    "global_temp_state = pd.read_csv(\"GlobalLandTemperaturesByState.csv\")"
   ]
  },
  {
   "cell_type": "code",
   "execution_count": 36,
   "metadata": {},
   "outputs": [],
   "source": [
    "USA_data = global_temp_state[global_temp_state[\"Country\"] == \"United States\"]"
   ]
  },
  {
   "cell_type": "code",
   "execution_count": 37,
   "metadata": {},
   "outputs": [],
   "source": [
    "USA_data.dropna(inplace = True)"
   ]
  },
  {
   "cell_type": "code",
   "execution_count": 38,
   "metadata": {},
   "outputs": [
    {
     "data": {
      "text/plain": [
       "array(['Alabama', 'Alaska', 'Arizona', 'Arkansas', 'California',\n",
       "       'Colorado', 'Connecticut', 'Delaware', 'District Of Columbia',\n",
       "       'Florida', 'Georgia (State)', 'Hawaii', 'Idaho', 'Illinois',\n",
       "       'Indiana', 'Iowa', 'Kansas', 'Kentucky', 'Louisiana', 'Maine',\n",
       "       'Maryland', 'Massachusetts', 'Michigan', 'Minnesota',\n",
       "       'Mississippi', 'Missouri', 'Montana', 'Nebraska', 'Nevada',\n",
       "       'New Hampshire', 'New Jersey', 'New Mexico', 'New York',\n",
       "       'North Carolina', 'North Dakota', 'Ohio', 'Oklahoma', 'Oregon',\n",
       "       'Pennsylvania', 'Rhode Island', 'South Carolina', 'South Dakota',\n",
       "       'Tennessee', 'Texas', 'Utah', 'Vermont', 'Virginia', 'Washington',\n",
       "       'West Virginia', 'Wisconsin', 'Wyoming'], dtype=object)"
      ]
     },
     "execution_count": 38,
     "metadata": {},
     "output_type": "execute_result"
    }
   ],
   "source": [
    "USA_data[\"State\"].unique()"
   ]
  },
  {
   "cell_type": "code",
   "execution_count": 39,
   "metadata": {},
   "outputs": [
    {
     "data": {
      "text/html": [
       "<div>\n",
       "<style scoped>\n",
       "    .dataframe tbody tr th:only-of-type {\n",
       "        vertical-align: middle;\n",
       "    }\n",
       "\n",
       "    .dataframe tbody tr th {\n",
       "        vertical-align: top;\n",
       "    }\n",
       "\n",
       "    .dataframe thead th {\n",
       "        text-align: right;\n",
       "    }\n",
       "</style>\n",
       "<table border=\"1\" class=\"dataframe\">\n",
       "  <thead>\n",
       "    <tr style=\"text-align: right;\">\n",
       "      <th></th>\n",
       "      <th>dt</th>\n",
       "      <th>AverageTemperature</th>\n",
       "      <th>AverageTemperatureUncertainty</th>\n",
       "      <th>State</th>\n",
       "      <th>Country</th>\n",
       "    </tr>\n",
       "  </thead>\n",
       "  <tbody>\n",
       "    <tr>\n",
       "      <th>7458</th>\n",
       "      <td>1743-11-01</td>\n",
       "      <td>10.722</td>\n",
       "      <td>2.898</td>\n",
       "      <td>Alabama</td>\n",
       "      <td>United States</td>\n",
       "    </tr>\n",
       "    <tr>\n",
       "      <th>7463</th>\n",
       "      <td>1744-04-01</td>\n",
       "      <td>19.075</td>\n",
       "      <td>2.902</td>\n",
       "      <td>Alabama</td>\n",
       "      <td>United States</td>\n",
       "    </tr>\n",
       "    <tr>\n",
       "      <th>7464</th>\n",
       "      <td>1744-05-01</td>\n",
       "      <td>21.197</td>\n",
       "      <td>2.844</td>\n",
       "      <td>Alabama</td>\n",
       "      <td>United States</td>\n",
       "    </tr>\n",
       "    <tr>\n",
       "      <th>7465</th>\n",
       "      <td>1744-06-01</td>\n",
       "      <td>25.290</td>\n",
       "      <td>2.879</td>\n",
       "      <td>Alabama</td>\n",
       "      <td>United States</td>\n",
       "    </tr>\n",
       "    <tr>\n",
       "      <th>7466</th>\n",
       "      <td>1744-07-01</td>\n",
       "      <td>26.420</td>\n",
       "      <td>2.841</td>\n",
       "      <td>Alabama</td>\n",
       "      <td>United States</td>\n",
       "    </tr>\n",
       "    <tr>\n",
       "      <th>...</th>\n",
       "      <td>...</td>\n",
       "      <td>...</td>\n",
       "      <td>...</td>\n",
       "      <td>...</td>\n",
       "      <td>...</td>\n",
       "    </tr>\n",
       "    <tr>\n",
       "      <th>626435</th>\n",
       "      <td>2013-05-01</td>\n",
       "      <td>10.607</td>\n",
       "      <td>0.208</td>\n",
       "      <td>Wyoming</td>\n",
       "      <td>United States</td>\n",
       "    </tr>\n",
       "    <tr>\n",
       "      <th>626436</th>\n",
       "      <td>2013-06-01</td>\n",
       "      <td>16.267</td>\n",
       "      <td>0.276</td>\n",
       "      <td>Wyoming</td>\n",
       "      <td>United States</td>\n",
       "    </tr>\n",
       "    <tr>\n",
       "      <th>626437</th>\n",
       "      <td>2013-07-01</td>\n",
       "      <td>20.222</td>\n",
       "      <td>0.133</td>\n",
       "      <td>Wyoming</td>\n",
       "      <td>United States</td>\n",
       "    </tr>\n",
       "    <tr>\n",
       "      <th>626438</th>\n",
       "      <td>2013-08-01</td>\n",
       "      <td>19.621</td>\n",
       "      <td>0.217</td>\n",
       "      <td>Wyoming</td>\n",
       "      <td>United States</td>\n",
       "    </tr>\n",
       "    <tr>\n",
       "      <th>626439</th>\n",
       "      <td>2013-09-01</td>\n",
       "      <td>15.811</td>\n",
       "      <td>1.101</td>\n",
       "      <td>Wyoming</td>\n",
       "      <td>United States</td>\n",
       "    </tr>\n",
       "  </tbody>\n",
       "</table>\n",
       "<p>141930 rows × 5 columns</p>\n",
       "</div>"
      ],
      "text/plain": [
       "                dt  AverageTemperature  AverageTemperatureUncertainty  \\\n",
       "7458    1743-11-01              10.722                          2.898   \n",
       "7463    1744-04-01              19.075                          2.902   \n",
       "7464    1744-05-01              21.197                          2.844   \n",
       "7465    1744-06-01              25.290                          2.879   \n",
       "7466    1744-07-01              26.420                          2.841   \n",
       "...            ...                 ...                            ...   \n",
       "626435  2013-05-01              10.607                          0.208   \n",
       "626436  2013-06-01              16.267                          0.276   \n",
       "626437  2013-07-01              20.222                          0.133   \n",
       "626438  2013-08-01              19.621                          0.217   \n",
       "626439  2013-09-01              15.811                          1.101   \n",
       "\n",
       "          State        Country  \n",
       "7458    Alabama  United States  \n",
       "7463    Alabama  United States  \n",
       "7464    Alabama  United States  \n",
       "7465    Alabama  United States  \n",
       "7466    Alabama  United States  \n",
       "...         ...            ...  \n",
       "626435  Wyoming  United States  \n",
       "626436  Wyoming  United States  \n",
       "626437  Wyoming  United States  \n",
       "626438  Wyoming  United States  \n",
       "626439  Wyoming  United States  \n",
       "\n",
       "[141930 rows x 5 columns]"
      ]
     },
     "execution_count": 39,
     "metadata": {},
     "output_type": "execute_result"
    }
   ],
   "source": [
    "USA_data[\"State\"].replace({'Georgia (State)': 'Georgia', 'District Of Columbia': 'Columbia'}, inplace= True)\n",
    "USA_data"
   ]
  },
  {
   "cell_type": "code",
   "execution_count": 40,
   "metadata": {},
   "outputs": [],
   "source": [
    "USA_data = USA_data[[\"AverageTemperature\", \"State\"]]"
   ]
  },
  {
   "cell_type": "code",
   "execution_count": 41,
   "metadata": {},
   "outputs": [
    {
     "name": "stdout",
     "output_type": "stream",
     "text": [
      "        State  AverageTemperature\n",
      "0     Alabama           17.066138\n",
      "1      Alaska           -4.890738\n",
      "2     Arizona           15.381526\n",
      "3    Arkansas           15.573963\n",
      "4  California           14.327677 (51, 2)\n"
     ]
    }
   ],
   "source": [
    "USA_temp = USA_data.groupby('State')['AverageTemperature'].mean().reset_index()\n",
    "print(USA_temp.head(), USA_temp.shape)\n"
   ]
  },
  {
   "cell_type": "code",
   "execution_count": 42,
   "metadata": {},
   "outputs": [
    {
     "name": "stdout",
     "output_type": "stream",
     "text": [
      "Requirement already satisfied: opencage in d:\\anaconda\\lib\\site-packages (2.1.0)\n",
      "Requirement already satisfied: backoff>=1.10.0 in d:\\anaconda\\lib\\site-packages (from opencage) (2.2.1)\n",
      "Requirement already satisfied: pyopenssl>=0.15.1 in d:\\anaconda\\lib\\site-packages (from opencage) (22.0.0)\n",
      "Requirement already satisfied: Requests>=2.2.0 in d:\\anaconda\\lib\\site-packages (from opencage) (2.28.1)\n",
      "Requirement already satisfied: cryptography>=35.0 in d:\\anaconda\\lib\\site-packages (from pyopenssl>=0.15.1->opencage) (37.0.1)\n",
      "Requirement already satisfied: idna<4,>=2.5 in d:\\anaconda\\lib\\site-packages (from Requests>=2.2.0->opencage) (3.3)\n",
      "Requirement already satisfied: certifi>=2017.4.17 in d:\\anaconda\\lib\\site-packages (from Requests>=2.2.0->opencage) (2022.12.7)\n",
      "Requirement already satisfied: urllib3<1.27,>=1.21.1 in d:\\anaconda\\lib\\site-packages (from Requests>=2.2.0->opencage) (1.26.11)\n",
      "Requirement already satisfied: charset-normalizer<3,>=2 in d:\\anaconda\\lib\\site-packages (from Requests>=2.2.0->opencage) (2.0.4)\n",
      "Requirement already satisfied: cffi>=1.12 in d:\\anaconda\\lib\\site-packages (from cryptography>=35.0->pyopenssl>=0.15.1->opencage) (1.15.1)\n",
      "Requirement already satisfied: pycparser in d:\\anaconda\\lib\\site-packages (from cffi>=1.12->cryptography>=35.0->pyopenssl>=0.15.1->opencage) (2.21)\n"
     ]
    }
   ],
   "source": [
    "!pip install opencage"
   ]
  },
  {
   "cell_type": "code",
   "execution_count": 43,
   "metadata": {},
   "outputs": [],
   "source": [
    "from opencage.geocoder import OpenCageGeocode"
   ]
  },
  {
   "cell_type": "code",
   "execution_count": 44,
   "metadata": {},
   "outputs": [
    {
     "name": "stdout",
     "output_type": "stream",
     "text": [
      "[{'annotations': {'DMS': {'lat': \"45° 50' 33.50904'' N\", 'lng': \"15° 57' 44.03340'' E\"}, 'MGRS': '33TWL7471877014', 'Maidenhead': 'JN75xu52lf', 'Mercator': {'x': 1776907.48, 'y': 5724500.33}, 'NUTS': {'NUTS0': {'code': 'HR'}, 'NUTS1': {'code': 'HR0'}, 'NUTS2': {'code': 'HR05'}, 'NUTS3': {'code': 'HR050'}}, 'OSM': {'edit_url': 'https://www.openstreetmap.org/edit?relation=3168167#map=16/45.84264/15.96223', 'note_url': 'https://www.openstreetmap.org/note/new#map=16/45.84264/15.96223&layers=N', 'url': 'https://www.openstreetmap.org/?mlat=45.84264&mlon=15.96223#map=16/45.84264/15.96223'}, 'UN_M49': {'regions': {'EUROPE': '150', 'HR': '191', 'SOUTHERN_EUROPE': '039', 'WORLD': '001'}, 'statistical_groupings': ['MEDC']}, 'callingcode': 385, 'currency': {'alternate_symbols': [], 'decimal_mark': ',', 'html_entity': '€', 'iso_code': 'EUR', 'iso_numeric': '978', 'name': 'Euro', 'smallest_denomination': 1, 'subunit': 'Cent', 'subunit_to_unit': 100, 'symbol': '€', 'symbol_first': 0, 'thousands_separator': '.'}, 'flag': '🇭🇷', 'geohash': 'u25kg1rkdzwrqwjzudek', 'qibla': 133.41, 'roadinfo': {'drive_on': 'right', 'speed_in': 'km/h'}, 'sun': {'rise': {'apparent': 1674369000, 'astronomical': 1674362700, 'civil': 1674367020, 'nautical': 1674364860}, 'set': {'apparent': 1674402360, 'astronomical': 1674408600, 'civil': 1674404340, 'nautical': 1674406500}}, 'timezone': {'name': 'Europe/Belgrade', 'now_in_dst': 0, 'offset_sec': 3600, 'offset_string': '+0100', 'short_name': 'CET'}, 'what3words': {'words': 'weekends.accusing.power'}, 'wikidata': 'Q1435'}, 'bounds': {'northeast': {'lat': 45.9392954, 'lng': 16.1070083}, 'southwest': {'lat': 45.7460028, 'lng': 15.821712}}, 'components': {'ISO_3166-1_alpha-2': 'HR', 'ISO_3166-1_alpha-3': 'HRV', '_category': 'place', '_type': 'city', 'city': 'Zagreb', 'continent': 'Europe', 'country': 'Croatia', 'country_code': 'hr', 'political_union': 'European Union'}, 'confidence': 4, 'formatted': 'Zagreb, Croatia', 'geometry': {'lat': 45.8426414, 'lng': 15.9622315}}, {'annotations': {'DMS': {'lat': \"45° 48' 47.46492'' N\", 'lng': \"15° 58' 37.83864'' E\"}, 'MGRS': '33TWL7591973755', 'Maidenhead': 'JN75xt75gd', 'Mercator': {'x': 1778571.252, 'y': 5719809.845}, 'NUTS': {'NUTS0': {'code': 'HR'}, 'NUTS1': {'code': 'HR0'}, 'NUTS2': {'code': 'HR05'}, 'NUTS3': {'code': 'HR050'}}, 'OSM': {'edit_url': 'https://www.openstreetmap.org/edit?relation=226224#map=16/45.81318/15.97718', 'note_url': 'https://www.openstreetmap.org/note/new#map=16/45.81318/15.97718&layers=N', 'url': 'https://www.openstreetmap.org/?mlat=45.81318&mlon=15.97718#map=16/45.81318/15.97718'}, 'UN_M49': {'regions': {'EUROPE': '150', 'HR': '191', 'SOUTHERN_EUROPE': '039', 'WORLD': '001'}, 'statistical_groupings': ['MEDC']}, 'callingcode': 385, 'currency': {'alternate_symbols': [], 'decimal_mark': ',', 'html_entity': '€', 'iso_code': 'EUR', 'iso_numeric': '978', 'name': 'Euro', 'smallest_denomination': 1, 'subunit': 'Cent', 'subunit_to_unit': 100, 'symbol': '€', 'symbol_first': 0, 'thousands_separator': '.'}, 'flag': '🇭🇷', 'geohash': 'u25kes41phwgwmcggh77', 'qibla': 133.4, 'roadinfo': {'drive_on': 'right', 'speed_in': 'km/h'}, 'sun': {'rise': {'apparent': 1674368940, 'astronomical': 1674362700, 'civil': 1674367020, 'nautical': 1674364800}, 'set': {'apparent': 1674402360, 'astronomical': 1674408600, 'civil': 1674404340, 'nautical': 1674406500}}, 'timezone': {'name': 'Europe/Belgrade', 'now_in_dst': 0, 'offset_sec': 3600, 'offset_string': '+0100', 'short_name': 'CET'}, 'what3words': {'words': 'promoted.lime.silence'}, 'wikidata': 'Q1435'}, 'bounds': {'northeast': {'lat': 45.9691466, 'lng': 16.2395548}, 'southwest': {'lat': 45.6139532, 'lng': 15.7732052}}, 'components': {'ISO_3166-1_alpha-2': 'HR', 'ISO_3166-1_alpha-3': 'HRV', 'ISO_3166-2': ['HR-21'], '_category': 'place', '_type': 'city', 'city': 'City of Zagreb', 'continent': 'Europe', 'country': 'Croatia', 'country_code': 'hr', 'political_union': 'European Union'}, 'confidence': 3, 'formatted': 'City of Zagreb, Croatia', 'geometry': {'lat': 45.8131847, 'lng': 15.9771774}}, {'annotations': {'DMS': {'lat': \"44° 28' 49.14372'' N\", 'lng': \"15° 59' 2.86044'' E\"}, 'MGRS': '33TWK7826225693', 'Maidenhead': 'JN74xl85cg', 'Mercator': {'x': 1779344.979, 'y': 5510126.267}, 'NUTS': {'NUTS0': {'code': 'HR'}, 'NUTS1': {'code': 'HR0'}, 'NUTS2': {'code': 'HR03'}, 'NUTS3': {'code': 'HR033'}}, 'OSM': {'edit_url': 'https://www.openstreetmap.org/edit?node=2796008952#map=16/44.48032/15.98413', 'note_url': 'https://www.openstreetmap.org/note/new#map=16/44.48032/15.98413&layers=N', 'url': 'https://www.openstreetmap.org/?mlat=44.48032&mlon=15.98413#map=16/44.48032/15.98413'}, 'UN_M49': {'regions': {'EUROPE': '150', 'HR': '191', 'SOUTHERN_EUROPE': '039', 'WORLD': '001'}, 'statistical_groupings': ['MEDC']}, 'callingcode': 385, 'currency': {'alternate_symbols': [], 'decimal_mark': ',', 'html_entity': '€', 'iso_code': 'EUR', 'iso_numeric': '978', 'name': 'Euro', 'smallest_denomination': 1, 'subunit': 'Cent', 'subunit_to_unit': 100, 'symbol': '€', 'symbol_first': 0, 'thousands_separator': '.'}, 'flag': '🇭🇷', 'geohash': 'srgm59rk9hjw7dw366v2', 'qibla': 131.76, 'roadinfo': {'drive_on': 'right', 'speed_in': 'km/h'}, 'sun': {'rise': {'apparent': 1674368700, 'astronomical': 1674362640, 'civil': 1674366840, 'nautical': 1674364680}, 'set': {'apparent': 1674402600, 'astronomical': 1674408720, 'civil': 1674404520, 'nautical': 1674406620}}, 'timezone': {'name': 'Europe/Belgrade', 'now_in_dst': 0, 'offset_sec': 3600, 'offset_string': '+0100', 'short_name': 'CET'}, 'what3words': {'words': 'dosed.erasable.marvel'}}, 'bounds': {'northeast': {'lat': 44.4903177, 'lng': 15.9941279}, 'southwest': {'lat': 44.4703177, 'lng': 15.9741279}}, 'components': {'ISO_3166-1_alpha-2': 'HR', 'ISO_3166-1_alpha-3': 'HRV', 'ISO_3166-2': ['HR-13'], '_category': 'place', '_type': 'hamlet', 'continent': 'Europe', 'country': 'Croatia', 'country_code': 'hr', 'county': 'Zadar County', 'locality': 'Mazinsko brdo', 'political_union': 'European Union', 'village': 'Općina Gračac'}, 'confidence': 8, 'formatted': 'Općina Gračac, Zadar County, Croatia', 'geometry': {'lat': 44.4803177, 'lng': 15.9841279}}, {'annotations': {'DMS': {'lat': \"45° 50' 54.44304'' N\", 'lng': \"15° 59' 46.09680'' E\"}, 'MGRS': '33TWL7734377692', 'Maidenhead': 'JN75xu93mp', 'Mercator': {'x': 1780681.937, 'y': 5725426.576}, 'NUTS': {'NUTS0': {'code': 'HR'}, 'NUTS1': {'code': 'HR0'}, 'NUTS2': {'code': 'HR05'}, 'NUTS3': {'code': 'HR050'}}, 'OSM': {'edit_url': 'https://www.openstreetmap.org/edit?node=5981116185#map=16/45.84846/15.99614', 'note_url': 'https://www.openstreetmap.org/note/new#map=16/45.84846/15.99614&layers=N', 'url': 'https://www.openstreetmap.org/?mlat=45.84846&mlon=15.99614#map=16/45.84846/15.99614'}, 'UN_M49': {'regions': {'EUROPE': '150', 'HR': '191', 'SOUTHERN_EUROPE': '039', 'WORLD': '001'}, 'statistical_groupings': ['MEDC']}, 'callingcode': 385, 'currency': {'alternate_symbols': [], 'decimal_mark': ',', 'html_entity': '€', 'iso_code': 'EUR', 'iso_numeric': '978', 'name': 'Euro', 'smallest_denomination': 1, 'subunit': 'Cent', 'subunit_to_unit': 100, 'symbol': '€', 'symbol_first': 0, 'thousands_separator': '.'}, 'flag': '🇭🇷', 'geohash': 'u25ku42n958zxf5p4rmc', 'qibla': 133.47, 'roadinfo': {'drive_on': 'right', 'road': 'Bukovačka cesta', 'speed_in': 'km/h'}, 'sun': {'rise': {'apparent': 1674368940, 'astronomical': 1674362700, 'civil': 1674367020, 'nautical': 1674364800}, 'set': {'apparent': 1674402360, 'astronomical': 1674408600, 'civil': 1674404340, 'nautical': 1674406500}}, 'timezone': {'name': 'Europe/Belgrade', 'now_in_dst': 0, 'offset_sec': 3600, 'offset_string': '+0100', 'short_name': 'CET'}, 'what3words': {'words': 'leafing.hoot.charging'}}, 'bounds': {'northeast': {'lat': 45.8485064, 'lng': 15.996188}, 'southwest': {'lat': 45.8484064, 'lng': 15.996088}}, 'components': {'ISO_3166-1_alpha-2': 'HR', 'ISO_3166-1_alpha-3': 'HRV', '_category': 'commerce', '_type': 'cafe', 'cafe': 'Zagreb', 'city': 'Zagreb', 'continent': 'Europe', 'country': 'Croatia', 'country_code': 'hr', 'house_number': '335', 'neighbourhood': 'Gornji Bukovac', 'political_union': 'European Union', 'postcode': '10000', 'road': 'Bukovačka cesta', 'suburb': 'Gradska četvrt Maksimir'}, 'confidence': 9, 'formatted': 'Zagreb, Bukovačka cesta 335, 10000 Zagreb, Croatia', 'geometry': {'lat': 45.8484564, 'lng': 15.996138}}, {'annotations': {'DMS': {'lat': \"45° 47' 47.12748'' N\", 'lng': \"15° 54' 43.48044'' E\"}, 'MGRS': '33TWL7088271833', 'Maidenhead': 'JN75wt91kd', 'Mercator': {'x': 1771324.409, 'y': 5717142.142}, 'NUTS': {'NUTS0': {'code': 'HR'}, 'NUTS1': {'code': 'HR0'}, 'NUTS2': {'code': 'HR05'}, 'NUTS3': {'code': 'HR050'}}, 'OSM': {'edit_url': 'https://www.openstreetmap.org/edit?node=2810819207#map=16/45.79642/15.91208', 'note_url': 'https://www.openstreetmap.org/note/new#map=16/45.79642/15.91208&layers=N', 'url': 'https://www.openstreetmap.org/?mlat=45.79642&mlon=15.91208#map=16/45.79642/15.91208'}, 'UN_M49': {'regions': {'EUROPE': '150', 'HR': '191', 'SOUTHERN_EUROPE': '039', 'WORLD': '001'}, 'statistical_groupings': ['MEDC']}, 'callingcode': 385, 'currency': {'alternate_symbols': [], 'decimal_mark': ',', 'html_entity': '€', 'iso_code': 'EUR', 'iso_numeric': '978', 'name': 'Euro', 'smallest_denomination': 1, 'subunit': 'Cent', 'subunit_to_unit': 100, 'symbol': '€', 'symbol_first': 0, 'thousands_separator': '.'}, 'flag': '🇭🇷', 'geohash': 'u25kd0fzd230p8p7nmum', 'qibla': 133.28, 'roadinfo': {'drive_on': 'right', 'road': 'Ulica Roberta Frangeša Mihanovića', 'speed_in': 'km/h'}, 'sun': {'rise': {'apparent': 1674369000, 'astronomical': 1674362700, 'civil': 1674367020, 'nautical': 1674364860}, 'set': {'apparent': 1674402360, 'astronomical': 1674408660, 'civil': 1674404340, 'nautical': 1674406500}}, 'timezone': {'name': 'Europe/Belgrade', 'now_in_dst': 0, 'offset_sec': 3600, 'offset_string': '+0100', 'short_name': 'CET'}, 'what3words': {'words': 'investor.begun.orchids'}}, 'bounds': {'northeast': {'lat': 45.7964743, 'lng': 15.9121279}, 'southwest': {'lat': 45.7963743, 'lng': 15.9120279}}, 'components': {'ISO_3166-1_alpha-2': 'HR', 'ISO_3166-1_alpha-3': 'HRV', '_category': 'building', '_type': 'building', 'city': 'Zagreb', 'continent': 'Europe', 'country': 'Croatia', 'country_code': 'hr', 'house_number': '9', 'neighbourhood': 'Rudeš', 'office': 'T-Centar Sky Office, Zagreb', 'political_union': 'European Union', 'postcode': '10110', 'road': 'Ulica Roberta Frangeša Mihanovića', 'suburb': 'Gradska četvrt Trešnjevka - sjever'}, 'confidence': 10, 'formatted': 'T-Centar Sky Office, Zagreb, Ulica Roberta Frangeša Mihanovića 9, 10110 Zagreb, Croatia', 'geometry': {'lat': 45.7964243, 'lng': 15.9120779}}, {'annotations': {'DMS': {'lat': \"45° 48' 4.52988'' N\", 'lng': \"15° 53' 51.52164'' E\"}, 'MGRS': '33TWL6975572358', 'Maidenhead': 'JN75wt72rh', 'Mercator': {'x': 1769717.735, 'y': 5717911.473}, 'NUTS': {'NUTS0': {'code': 'HR'}, 'NUTS1': {'code': 'HR0'}, 'NUTS2': {'code': 'HR05'}, 'NUTS3': {'code': 'HR050'}}, 'OSM': {'edit_url': 'https://www.openstreetmap.org/edit?node=1702561901#map=16/45.80126/15.89764', 'note_url': 'https://www.openstreetmap.org/note/new#map=16/45.80126/15.89764&layers=N', 'url': 'https://www.openstreetmap.org/?mlat=45.80126&mlon=15.89764#map=16/45.80126/15.89764'}, 'UN_M49': {'regions': {'EUROPE': '150', 'HR': '191', 'SOUTHERN_EUROPE': '039', 'WORLD': '001'}, 'statistical_groupings': ['MEDC']}, 'callingcode': 385, 'currency': {'alternate_symbols': [], 'decimal_mark': ',', 'html_entity': '€', 'iso_code': 'EUR', 'iso_numeric': '978', 'name': 'Euro', 'smallest_denomination': 1, 'subunit': 'Cent', 'subunit_to_unit': 100, 'symbol': '€', 'symbol_first': 0, 'thousands_separator': '.'}, 'flag': '🇭🇷', 'geohash': 'u25k9cb79vr5yvynbcr0', 'qibla': 133.27, 'roadinfo': {'drive_on': 'right', 'road': 'Ulica Slavka Batušića', 'speed_in': 'km/h'}, 'sun': {'rise': {'apparent': 1674369000, 'astronomical': 1674362700, 'civil': 1674367020, 'nautical': 1674364860}, 'set': {'apparent': 1674402360, 'astronomical': 1674408660, 'civil': 1674404340, 'nautical': 1674406560}}, 'timezone': {'name': 'Europe/Belgrade', 'now_in_dst': 0, 'offset_sec': 3600, 'offset_string': '+0100', 'short_name': 'CET'}, 'what3words': {'words': 'perform.bumps.cupcake'}}, 'bounds': {'northeast': {'lat': 45.8013083, 'lng': 15.8976949}, 'southwest': {'lat': 45.8012083, 'lng': 15.8975949}}, 'components': {'ISO_3166-1_alpha-2': 'HR', 'ISO_3166-1_alpha-3': 'HRV', '_category': 'commerce', '_type': 'shop', 'city': 'Zagreb', 'continent': 'Europe', 'country': 'Croatia', 'country_code': 'hr', 'neighbourhood': 'Špansko', 'political_union': 'European Union', 'postcode': '10090', 'road': 'Ulica Slavka Batušića', 'shop': 'Croatia', 'suburb': 'Gradska četvrt Stenjevec'}, 'confidence': 9, 'formatted': 'Croatia, Ulica Slavka Batušića, 10090 Zagreb', 'geometry': {'lat': 45.8012583, 'lng': 15.8976449}}, {'annotations': {'DMS': {'lat': \"45° 48' 3.98988'' N\", 'lng': \"15° 56' 19.79448'' E\"}, 'MGRS': '33TWL7295572378', 'Maidenhead': 'JN75xt22pg', 'Mercator': {'x': 1774302.64, 'y': 5717887.599}, 'NUTS': {'NUTS0': {'code': 'HR'}, 'NUTS1': {'code': 'HR0'}, 'NUTS2': {'code': 'HR05'}, 'NUTS3': {'code': 'HR050'}}, 'OSM': {'edit_url': 'https://www.openstreetmap.org/edit?node=338794896#map=16/45.80111/15.93883', 'note_url': 'https://www.openstreetmap.org/note/new#map=16/45.80111/15.93883&layers=N', 'url': 'https://www.openstreetmap.org/?mlat=45.80111&mlon=15.93883#map=16/45.80111/15.93883'}, 'UN_M49': {'regions': {'EUROPE': '150', 'HR': '191', 'SOUTHERN_EUROPE': '039', 'WORLD': '001'}, 'statistical_groupings': ['MEDC']}, 'callingcode': 385, 'currency': {'alternate_symbols': [], 'decimal_mark': ',', 'html_entity': '€', 'iso_code': 'EUR', 'iso_numeric': '978', 'name': 'Euro', 'smallest_denomination': 1, 'subunit': 'Cent', 'subunit_to_unit': 100, 'symbol': '€', 'symbol_first': 0, 'thousands_separator': '.'}, 'flag': '🇭🇷', 'geohash': 'u25kd9y6c9qmhsugh5hj', 'qibla': 133.33, 'roadinfo': {'drive_on': 'right', 'road': 'Ulica Matka Baštijana', 'speed_in': 'km/h'}, 'sun': {'rise': {'apparent': 1674369000, 'astronomical': 1674362700, 'civil': 1674367020, 'nautical': 1674364860}, 'set': {'apparent': 1674402360, 'astronomical': 1674408660, 'civil': 1674404340, 'nautical': 1674406500}}, 'timezone': {'name': 'Europe/Belgrade', 'now_in_dst': 0, 'offset_sec': 3600, 'offset_string': '+0100', 'short_name': 'CET'}, 'what3words': {'words': 'avocado.events.deflect'}}, 'bounds': {'northeast': {'lat': 45.8011583, 'lng': 15.9388818}, 'southwest': {'lat': 45.8010583, 'lng': 15.9387818}}, 'components': {'ISO_3166-1_alpha-2': 'HR', 'ISO_3166-1_alpha-3': 'HRV', '_category': 'commerce', '_type': 'shop', 'city': 'Zagreb', 'continent': 'Europe', 'country': 'Croatia', 'country_code': 'hr', 'house_number': '20', 'neighbourhood': 'Vurovčica', 'political_union': 'European Union', 'postcode': '10000', 'road': 'Ulica Matka Baštijana', 'shop': 'Croatia', 'suburb': 'Gradska četvrt Trešnjevka - sjever'}, 'confidence': 9, 'formatted': 'Croatia, Ulica Matka Baštijana 20, 10000 Zagreb', 'geometry': {'lat': 45.8011083, 'lng': 15.9388318}}]\n"
     ]
    }
   ],
   "source": [
    "key = '5ca89e8267cb476a88cd247f5d0dc35d'  # get api key from:  https://opencagedata.com/api\n",
    "geocoder = OpenCageGeocode(key)\n",
    "query = 'Zagreb, Croatia'  \n",
    "results = geocoder.geocode(query)\n",
    "print(results)"
   ]
  },
  {
   "cell_type": "code",
   "execution_count": 45,
   "metadata": {},
   "outputs": [
    {
     "name": "stdout",
     "output_type": "stream",
     "text": [
      "45.8426414 15.9622315\n"
     ]
    }
   ],
   "source": [
    "lat = results[0]['geometry']['lat']\n",
    "lon = results[0]['geometry']['lng']\n",
    "print(lat, lon)"
   ]
  },
  {
   "cell_type": "code",
   "execution_count": 46,
   "metadata": {},
   "outputs": [],
   "source": [
    "# Making list of all lat and lon for every state\n",
    "\n",
    "list_lat = []\n",
    "list_lon = []\n",
    "for state in USA_temp[\"State\"]:\n",
    "    results = geocoder.geocode(state)\n",
    "    lat = results[0]['geometry']['lat']\n",
    "    lon = results[0]['geometry']['lng']\n",
    "    list_lat.append(lat)\n",
    "    list_lon.append(lon)\n",
    "\n"
   ]
  },
  {
   "cell_type": "code",
   "execution_count": 47,
   "metadata": {},
   "outputs": [],
   "source": [
    "# Creating new column from list \n",
    "\n",
    "USA_temp[\"lat\"] = list_lat\n",
    "USA_temp[\"lon\"] = list_lon"
   ]
  },
  {
   "cell_type": "code",
   "execution_count": 48,
   "metadata": {},
   "outputs": [
    {
     "data": {
      "text/html": [
       "<div>\n",
       "<style scoped>\n",
       "    .dataframe tbody tr th:only-of-type {\n",
       "        vertical-align: middle;\n",
       "    }\n",
       "\n",
       "    .dataframe tbody tr th {\n",
       "        vertical-align: top;\n",
       "    }\n",
       "\n",
       "    .dataframe thead th {\n",
       "        text-align: right;\n",
       "    }\n",
       "</style>\n",
       "<table border=\"1\" class=\"dataframe\">\n",
       "  <thead>\n",
       "    <tr style=\"text-align: right;\">\n",
       "      <th></th>\n",
       "      <th>State</th>\n",
       "      <th>AverageTemperature</th>\n",
       "      <th>lat</th>\n",
       "      <th>lon</th>\n",
       "    </tr>\n",
       "  </thead>\n",
       "  <tbody>\n",
       "    <tr>\n",
       "      <th>0</th>\n",
       "      <td>Alabama</td>\n",
       "      <td>17.066138</td>\n",
       "      <td>33.258882</td>\n",
       "      <td>-86.829534</td>\n",
       "    </tr>\n",
       "    <tr>\n",
       "      <th>1</th>\n",
       "      <td>Alaska</td>\n",
       "      <td>-4.890738</td>\n",
       "      <td>64.445961</td>\n",
       "      <td>-149.680909</td>\n",
       "    </tr>\n",
       "    <tr>\n",
       "      <th>2</th>\n",
       "      <td>Arizona</td>\n",
       "      <td>15.381526</td>\n",
       "      <td>34.395342</td>\n",
       "      <td>-111.763275</td>\n",
       "    </tr>\n",
       "    <tr>\n",
       "      <th>3</th>\n",
       "      <td>Arkansas</td>\n",
       "      <td>15.573963</td>\n",
       "      <td>35.204888</td>\n",
       "      <td>-92.447911</td>\n",
       "    </tr>\n",
       "    <tr>\n",
       "      <th>4</th>\n",
       "      <td>California</td>\n",
       "      <td>14.327677</td>\n",
       "      <td>36.701463</td>\n",
       "      <td>-118.755997</td>\n",
       "    </tr>\n",
       "  </tbody>\n",
       "</table>\n",
       "</div>"
      ],
      "text/plain": [
       "        State  AverageTemperature        lat         lon\n",
       "0     Alabama           17.066138  33.258882  -86.829534\n",
       "1      Alaska           -4.890738  64.445961 -149.680909\n",
       "2     Arizona           15.381526  34.395342 -111.763275\n",
       "3    Arkansas           15.573963  35.204888  -92.447911\n",
       "4  California           14.327677  36.701463 -118.755997"
      ]
     },
     "execution_count": 48,
     "metadata": {},
     "output_type": "execute_result"
    }
   ],
   "source": [
    "USA_temp.head()"
   ]
  },
  {
   "cell_type": "code",
   "execution_count": 49,
   "metadata": {},
   "outputs": [],
   "source": [
    "import folium\n",
    "from folium.plugins import HeatMap\n",
    "basemap_1 = folium.Map()"
   ]
  },
  {
   "cell_type": "code",
   "execution_count": 50,
   "metadata": {},
   "outputs": [
    {
     "data": {
      "text/html": [
       "<div style=\"width:100%;\"><div style=\"position:relative;width:100%;height:0;padding-bottom:60%;\"><span style=\"color:#565656\">Make this Notebook Trusted to load map: File -> Trust Notebook</span><iframe srcdoc=\"&lt;!DOCTYPE html&gt;\n",
       "&lt;html&gt;\n",
       "&lt;head&gt;\n",
       "    \n",
       "    &lt;meta http-equiv=&quot;content-type&quot; content=&quot;text/html; charset=UTF-8&quot; /&gt;\n",
       "    \n",
       "        &lt;script&gt;\n",
       "            L_NO_TOUCH = false;\n",
       "            L_DISABLE_3D = false;\n",
       "        &lt;/script&gt;\n",
       "    \n",
       "    &lt;style&gt;html, body {width: 100%;height: 100%;margin: 0;padding: 0;}&lt;/style&gt;\n",
       "    &lt;style&gt;#map {position:absolute;top:0;bottom:0;right:0;left:0;}&lt;/style&gt;\n",
       "    &lt;script src=&quot;https://cdn.jsdelivr.net/npm/leaflet@1.9.3/dist/leaflet.js&quot;&gt;&lt;/script&gt;\n",
       "    &lt;script src=&quot;https://code.jquery.com/jquery-1.12.4.min.js&quot;&gt;&lt;/script&gt;\n",
       "    &lt;script src=&quot;https://cdn.jsdelivr.net/npm/bootstrap@5.2.2/dist/js/bootstrap.bundle.min.js&quot;&gt;&lt;/script&gt;\n",
       "    &lt;script src=&quot;https://cdnjs.cloudflare.com/ajax/libs/Leaflet.awesome-markers/2.0.2/leaflet.awesome-markers.js&quot;&gt;&lt;/script&gt;\n",
       "    &lt;link rel=&quot;stylesheet&quot; href=&quot;https://cdn.jsdelivr.net/npm/leaflet@1.9.3/dist/leaflet.css&quot;/&gt;\n",
       "    &lt;link rel=&quot;stylesheet&quot; href=&quot;https://cdn.jsdelivr.net/npm/bootstrap@5.2.2/dist/css/bootstrap.min.css&quot;/&gt;\n",
       "    &lt;link rel=&quot;stylesheet&quot; href=&quot;https://netdna.bootstrapcdn.com/bootstrap/3.0.0/css/bootstrap.min.css&quot;/&gt;\n",
       "    &lt;link rel=&quot;stylesheet&quot; href=&quot;https://cdn.jsdelivr.net/npm/@fortawesome/fontawesome-free@6.2.0/css/all.min.css&quot;/&gt;\n",
       "    &lt;link rel=&quot;stylesheet&quot; href=&quot;https://cdnjs.cloudflare.com/ajax/libs/Leaflet.awesome-markers/2.0.2/leaflet.awesome-markers.css&quot;/&gt;\n",
       "    &lt;link rel=&quot;stylesheet&quot; href=&quot;https://cdn.jsdelivr.net/gh/python-visualization/folium/folium/templates/leaflet.awesome.rotate.min.css&quot;/&gt;\n",
       "    \n",
       "            &lt;meta name=&quot;viewport&quot; content=&quot;width=device-width,\n",
       "                initial-scale=1.0, maximum-scale=1.0, user-scalable=no&quot; /&gt;\n",
       "            &lt;style&gt;\n",
       "                #map_3722f588ef67d354e21f196ee34ab032 {\n",
       "                    position: relative;\n",
       "                    width: 100.0%;\n",
       "                    height: 100.0%;\n",
       "                    left: 0.0%;\n",
       "                    top: 0.0%;\n",
       "                }\n",
       "                .leaflet-container { font-size: 1rem; }\n",
       "            &lt;/style&gt;\n",
       "        \n",
       "    &lt;script src=&quot;https://cdn.jsdelivr.net/gh/python-visualization/folium@main/folium/templates/leaflet_heat.min.js&quot;&gt;&lt;/script&gt;\n",
       "&lt;/head&gt;\n",
       "&lt;body&gt;\n",
       "    \n",
       "    \n",
       "            &lt;div class=&quot;folium-map&quot; id=&quot;map_3722f588ef67d354e21f196ee34ab032&quot; &gt;&lt;/div&gt;\n",
       "        \n",
       "&lt;/body&gt;\n",
       "&lt;script&gt;\n",
       "    \n",
       "    \n",
       "            var map_3722f588ef67d354e21f196ee34ab032 = L.map(\n",
       "                &quot;map_3722f588ef67d354e21f196ee34ab032&quot;,\n",
       "                {\n",
       "                    center: [0, 0],\n",
       "                    crs: L.CRS.EPSG3857,\n",
       "                    zoom: 1,\n",
       "                    zoomControl: true,\n",
       "                    preferCanvas: false,\n",
       "                }\n",
       "            );\n",
       "\n",
       "            \n",
       "\n",
       "        \n",
       "    \n",
       "            var tile_layer_a6a63ea4a036e5ef6a0188189a31db21 = L.tileLayer(\n",
       "                &quot;https://{s}.tile.openstreetmap.org/{z}/{x}/{y}.png&quot;,\n",
       "                {&quot;attribution&quot;: &quot;Data by \\u0026copy; \\u003ca target=\\&quot;_blank\\&quot; href=\\&quot;http://openstreetmap.org\\&quot;\\u003eOpenStreetMap\\u003c/a\\u003e, under \\u003ca target=\\&quot;_blank\\&quot; href=\\&quot;http://www.openstreetmap.org/copyright\\&quot;\\u003eODbL\\u003c/a\\u003e.&quot;, &quot;detectRetina&quot;: false, &quot;maxNativeZoom&quot;: 18, &quot;maxZoom&quot;: 18, &quot;minZoom&quot;: 0, &quot;noWrap&quot;: false, &quot;opacity&quot;: 1, &quot;subdomains&quot;: &quot;abc&quot;, &quot;tms&quot;: false}\n",
       "            ).addTo(map_3722f588ef67d354e21f196ee34ab032);\n",
       "        \n",
       "    \n",
       "            var heat_map_44e61fef6b91dab6e527029291b831a0 = L.heatLayer(\n",
       "                [[33.2588817, -86.8295337, 17.066137864700224], [64.4459613, -149.680909, -4.89073757547608], [34.395342, -111.763275, 15.381526119402984], [35.2048883, -92.4479108, 15.573962530079065], [36.7014631, -118.755997, 14.327677288821446], [38.7251776, -105.607716, 6.931333907056799], [4.099917, -72.9088133, 11.918474511061238], [41.6500201, -72.7342163, 9.020079512664315], [38.6920451, -75.4013315, 11.8952375761462], [27.7567667, -81.4639835, 21.501561590688652], [32.3293809, -83.1137366, 17.52708207758897], [19.5938015, -155.4283701, 22.439282705807276], [43.6447642, -114.015407, 5.3342550482879725], [40.0796606, -89.4337288, 10.866111747851004], [40.3270127, -86.1746933, 10.874955755049696], [41.9216734, -93.3122705, 8.64780770455269], [38.27312, -98.5821872, 12.165647864625303], [37.5726028, -85.1551411, 12.95079448541199], [30.8703881, -92.007126, 19.128862385321103], [45.709097, -68.8590201, 4.349941968579673], [39.5162401, -76.9382069, 12.137859249759538], [42.3788774, -72.032366, 7.6252263546008345], [43.6211955, -84.6824346, 6.555493155046164], [45.9896587, -94.6113288, 4.4728124801018785], [32.9715285, -89.7348497, 17.53740701271915], [38.7604815, -92.5617875, 12.301072779737096], [47.3752671, -109.638757, 4.9864820287539935], [41.7370229, -99.5873816, 9.016576677316294], [39.5158825, -116.8537227, 9.814444803695151], [43.4849133, -71.6553992, 5.612321898044245], [40.0757384, -74.4041622, 10.625895479320294], [34.5708167, -105.993007, 11.857086825053996], [40.7127281, -74.0060152, 7.183618467457519], [35.6729639, -79.0392919, 14.780251683231807], [47.6201461, -100.540737, 4.169714856230032], [40.2253569, -82.6881395, 10.320151651170248], [34.9550817, -97.2684063, 15.381547314578006], [43.9792797, -120.737257, 8.165825389550871], [40.9699889, -77.7278831, 9.110052260339852], [41.7962409, -71.5992372, 8.973099070214813], [33.6874388, -80.4363743, 17.034756973388905], [44.6471761, -100.348761, 6.947362619808307], [35.7730076, -86.2820081, 14.056290157101635], [31.2638905, -98.5456116, 18.107233978494627], [39.4225192, -111.714358, 8.478840671811167], [44.5990718, -72.5002608, 5.398153895479321], [37.1232245, -78.4927721, 12.804781660788715], [38.8950368, -77.0365427, 7.643112282309808], [38.4758406, -80.8408415, 10.950278294325104], [44.4308975, -89.6884637, 5.946672397325693], [43.1700264, -107.568534, 5.09900165906263]],\n",
       "                {&quot;blur&quot;: 15, &quot;maxZoom&quot;: 18, &quot;minOpacity&quot;: 0.5, &quot;radius&quot;: 15, &quot;zoom&quot;: 20}\n",
       "            ).addTo(map_3722f588ef67d354e21f196ee34ab032);\n",
       "        \n",
       "&lt;/script&gt;\n",
       "&lt;/html&gt;\" style=\"position:absolute;width:100%;height:100%;left:0;top:0;border:none !important;\" allowfullscreen webkitallowfullscreen mozallowfullscreen></iframe></div></div>"
      ],
      "text/plain": [
       "<folium.folium.Map at 0x1dfcb207fa0>"
      ]
     },
     "execution_count": 50,
     "metadata": {},
     "output_type": "execute_result"
    }
   ],
   "source": [
    "HeatMap(USA_temp[[\"lat\", \"lon\", \"AverageTemperature\"]], zoom = 20, radius = 15).add_to(basemap_1)\n",
    "basemap_1"
   ]
  },
  {
   "attachments": {},
   "cell_type": "markdown",
   "metadata": {},
   "source": [
    "### Analyse average temperature of Croatia major cities by month"
   ]
  },
  {
   "cell_type": "code",
   "execution_count": 60,
   "metadata": {},
   "outputs": [
    {
     "data": {
      "text/plain": [
       "<bound method NDFrame.head of                  dt  AverageTemperature  AverageTemperatureUncertainty  \\\n",
       "0        1743-11-01               6.068                          1.737   \n",
       "1        1743-12-01                 NaN                            NaN   \n",
       "2        1744-01-01                 NaN                            NaN   \n",
       "3        1744-02-01                 NaN                            NaN   \n",
       "4        1744-03-01                 NaN                            NaN   \n",
       "...             ...                 ...                            ...   \n",
       "8599207  2013-05-01              11.464                          0.236   \n",
       "8599208  2013-06-01              15.043                          0.261   \n",
       "8599209  2013-07-01              18.775                          0.193   \n",
       "8599210  2013-08-01              18.025                          0.298   \n",
       "8599211  2013-09-01                 NaN                            NaN   \n",
       "\n",
       "           City      Country Latitude Longitude  \n",
       "0         Århus      Denmark   57.05N    10.33E  \n",
       "1         Århus      Denmark   57.05N    10.33E  \n",
       "2         Århus      Denmark   57.05N    10.33E  \n",
       "3         Århus      Denmark   57.05N    10.33E  \n",
       "4         Århus      Denmark   57.05N    10.33E  \n",
       "...         ...          ...      ...       ...  \n",
       "8599207  Zwolle  Netherlands   52.24N     5.26E  \n",
       "8599208  Zwolle  Netherlands   52.24N     5.26E  \n",
       "8599209  Zwolle  Netherlands   52.24N     5.26E  \n",
       "8599210  Zwolle  Netherlands   52.24N     5.26E  \n",
       "8599211  Zwolle  Netherlands   52.24N     5.26E  \n",
       "\n",
       "[8599212 rows x 7 columns]>"
      ]
     },
     "execution_count": 60,
     "metadata": {},
     "output_type": "execute_result"
    }
   ],
   "source": [
    "data_cities = pd.read_csv(\"GlobalLandTemperaturesByCity.csv\")\n",
    "data_cities.head"
   ]
  },
  {
   "cell_type": "code",
   "execution_count": 53,
   "metadata": {},
   "outputs": [
    {
     "data": {
      "text/plain": [
       "(8599212, 7)"
      ]
     },
     "execution_count": 53,
     "metadata": {},
     "output_type": "execute_result"
    }
   ],
   "source": [
    "data_cities.shape"
   ]
  },
  {
   "cell_type": "code",
   "execution_count": 57,
   "metadata": {},
   "outputs": [
    {
     "data": {
      "text/html": [
       "<div>\n",
       "<style scoped>\n",
       "    .dataframe tbody tr th:only-of-type {\n",
       "        vertical-align: middle;\n",
       "    }\n",
       "\n",
       "    .dataframe tbody tr th {\n",
       "        vertical-align: top;\n",
       "    }\n",
       "\n",
       "    .dataframe thead th {\n",
       "        text-align: right;\n",
       "    }\n",
       "</style>\n",
       "<table border=\"1\" class=\"dataframe\">\n",
       "  <thead>\n",
       "    <tr style=\"text-align: right;\">\n",
       "      <th></th>\n",
       "      <th>dt</th>\n",
       "      <th>AverageTemperature</th>\n",
       "      <th>AverageTemperatureUncertainty</th>\n",
       "      <th>City</th>\n",
       "      <th>Country</th>\n",
       "      <th>Latitude</th>\n",
       "      <th>Longitude</th>\n",
       "    </tr>\n",
       "  </thead>\n",
       "  <tbody>\n",
       "    <tr>\n",
       "      <th>6357537</th>\n",
       "      <td>1743-11-01</td>\n",
       "      <td>5.486</td>\n",
       "      <td>1.899</td>\n",
       "      <td>Rijeka</td>\n",
       "      <td>Croatia</td>\n",
       "      <td>45.81N</td>\n",
       "      <td>15.00E</td>\n",
       "    </tr>\n",
       "    <tr>\n",
       "      <th>6357538</th>\n",
       "      <td>1743-12-01</td>\n",
       "      <td>NaN</td>\n",
       "      <td>NaN</td>\n",
       "      <td>Rijeka</td>\n",
       "      <td>Croatia</td>\n",
       "      <td>45.81N</td>\n",
       "      <td>15.00E</td>\n",
       "    </tr>\n",
       "    <tr>\n",
       "      <th>6357539</th>\n",
       "      <td>1744-01-01</td>\n",
       "      <td>NaN</td>\n",
       "      <td>NaN</td>\n",
       "      <td>Rijeka</td>\n",
       "      <td>Croatia</td>\n",
       "      <td>45.81N</td>\n",
       "      <td>15.00E</td>\n",
       "    </tr>\n",
       "    <tr>\n",
       "      <th>6357540</th>\n",
       "      <td>1744-02-01</td>\n",
       "      <td>NaN</td>\n",
       "      <td>NaN</td>\n",
       "      <td>Rijeka</td>\n",
       "      <td>Croatia</td>\n",
       "      <td>45.81N</td>\n",
       "      <td>15.00E</td>\n",
       "    </tr>\n",
       "    <tr>\n",
       "      <th>6357541</th>\n",
       "      <td>1744-03-01</td>\n",
       "      <td>NaN</td>\n",
       "      <td>NaN</td>\n",
       "      <td>Rijeka</td>\n",
       "      <td>Croatia</td>\n",
       "      <td>45.81N</td>\n",
       "      <td>15.00E</td>\n",
       "    </tr>\n",
       "    <tr>\n",
       "      <th>...</th>\n",
       "      <td>...</td>\n",
       "      <td>...</td>\n",
       "      <td>...</td>\n",
       "      <td>...</td>\n",
       "      <td>...</td>\n",
       "      <td>...</td>\n",
       "      <td>...</td>\n",
       "    </tr>\n",
       "    <tr>\n",
       "      <th>8475704</th>\n",
       "      <td>2013-05-01</td>\n",
       "      <td>14.422</td>\n",
       "      <td>0.312</td>\n",
       "      <td>Zagreb</td>\n",
       "      <td>Croatia</td>\n",
       "      <td>45.81N</td>\n",
       "      <td>15.00E</td>\n",
       "    </tr>\n",
       "    <tr>\n",
       "      <th>8475705</th>\n",
       "      <td>2013-06-01</td>\n",
       "      <td>18.672</td>\n",
       "      <td>0.273</td>\n",
       "      <td>Zagreb</td>\n",
       "      <td>Croatia</td>\n",
       "      <td>45.81N</td>\n",
       "      <td>15.00E</td>\n",
       "    </tr>\n",
       "    <tr>\n",
       "      <th>8475706</th>\n",
       "      <td>2013-07-01</td>\n",
       "      <td>22.233</td>\n",
       "      <td>0.330</td>\n",
       "      <td>Zagreb</td>\n",
       "      <td>Croatia</td>\n",
       "      <td>45.81N</td>\n",
       "      <td>15.00E</td>\n",
       "    </tr>\n",
       "    <tr>\n",
       "      <th>8475707</th>\n",
       "      <td>2013-08-01</td>\n",
       "      <td>21.368</td>\n",
       "      <td>0.438</td>\n",
       "      <td>Zagreb</td>\n",
       "      <td>Croatia</td>\n",
       "      <td>45.81N</td>\n",
       "      <td>15.00E</td>\n",
       "    </tr>\n",
       "    <tr>\n",
       "      <th>8475708</th>\n",
       "      <td>2013-09-01</td>\n",
       "      <td>NaN</td>\n",
       "      <td>NaN</td>\n",
       "      <td>Zagreb</td>\n",
       "      <td>Croatia</td>\n",
       "      <td>45.81N</td>\n",
       "      <td>15.00E</td>\n",
       "    </tr>\n",
       "  </tbody>\n",
       "</table>\n",
       "<p>9717 rows × 7 columns</p>\n",
       "</div>"
      ],
      "text/plain": [
       "                 dt  AverageTemperature  AverageTemperatureUncertainty  \\\n",
       "6357537  1743-11-01               5.486                          1.899   \n",
       "6357538  1743-12-01                 NaN                            NaN   \n",
       "6357539  1744-01-01                 NaN                            NaN   \n",
       "6357540  1744-02-01                 NaN                            NaN   \n",
       "6357541  1744-03-01                 NaN                            NaN   \n",
       "...             ...                 ...                            ...   \n",
       "8475704  2013-05-01              14.422                          0.312   \n",
       "8475705  2013-06-01              18.672                          0.273   \n",
       "8475706  2013-07-01              22.233                          0.330   \n",
       "8475707  2013-08-01              21.368                          0.438   \n",
       "8475708  2013-09-01                 NaN                            NaN   \n",
       "\n",
       "           City  Country Latitude Longitude  \n",
       "6357537  Rijeka  Croatia   45.81N    15.00E  \n",
       "6357538  Rijeka  Croatia   45.81N    15.00E  \n",
       "6357539  Rijeka  Croatia   45.81N    15.00E  \n",
       "6357540  Rijeka  Croatia   45.81N    15.00E  \n",
       "6357541  Rijeka  Croatia   45.81N    15.00E  \n",
       "...         ...      ...      ...       ...  \n",
       "8475704  Zagreb  Croatia   45.81N    15.00E  \n",
       "8475705  Zagreb  Croatia   45.81N    15.00E  \n",
       "8475706  Zagreb  Croatia   45.81N    15.00E  \n",
       "8475707  Zagreb  Croatia   45.81N    15.00E  \n",
       "8475708  Zagreb  Croatia   45.81N    15.00E  \n",
       "\n",
       "[9717 rows x 7 columns]"
      ]
     },
     "execution_count": 57,
     "metadata": {},
     "output_type": "execute_result"
    }
   ],
   "source": [
    "croatia_cities = data_cities[data_cities['Country']=='Croatia']\n",
    "croatia_cities\n"
   ]
  },
  {
   "cell_type": "code",
   "execution_count": 59,
   "metadata": {},
   "outputs": [
    {
     "data": {
      "text/plain": [
       "array(['Rijeka', 'Split', 'Zagreb'], dtype=object)"
      ]
     },
     "execution_count": 59,
     "metadata": {},
     "output_type": "execute_result"
    }
   ],
   "source": [
    "croatia_cities[\"City\"].unique()"
   ]
  },
  {
   "cell_type": "code",
   "execution_count": 70,
   "metadata": {},
   "outputs": [],
   "source": [
    "# Remove N and E from Latitude and Longitude \n",
    "croatia_cities['Latitude'] = croatia_cities['Latitude'].str.strip('N')\n",
    "croatia_cities['Longitude'] = croatia_cities['Longitude'].str.strip('E')"
   ]
  },
  {
   "cell_type": "code",
   "execution_count": 71,
   "metadata": {},
   "outputs": [
    {
     "data": {
      "text/html": [
       "<div>\n",
       "<style scoped>\n",
       "    .dataframe tbody tr th:only-of-type {\n",
       "        vertical-align: middle;\n",
       "    }\n",
       "\n",
       "    .dataframe tbody tr th {\n",
       "        vertical-align: top;\n",
       "    }\n",
       "\n",
       "    .dataframe thead th {\n",
       "        text-align: right;\n",
       "    }\n",
       "</style>\n",
       "<table border=\"1\" class=\"dataframe\">\n",
       "  <thead>\n",
       "    <tr style=\"text-align: right;\">\n",
       "      <th></th>\n",
       "      <th>dt</th>\n",
       "      <th>AverageTemperature</th>\n",
       "      <th>AverageTemperatureUncertainty</th>\n",
       "      <th>City</th>\n",
       "      <th>Country</th>\n",
       "      <th>Latitude</th>\n",
       "      <th>Longitude</th>\n",
       "    </tr>\n",
       "  </thead>\n",
       "  <tbody>\n",
       "    <tr>\n",
       "      <th>6357537</th>\n",
       "      <td>1743-11-01</td>\n",
       "      <td>5.486</td>\n",
       "      <td>1.899</td>\n",
       "      <td>Rijeka</td>\n",
       "      <td>Croatia</td>\n",
       "      <td>45.81</td>\n",
       "      <td>15.00</td>\n",
       "    </tr>\n",
       "    <tr>\n",
       "      <th>6357542</th>\n",
       "      <td>1744-04-01</td>\n",
       "      <td>10.961</td>\n",
       "      <td>2.179</td>\n",
       "      <td>Rijeka</td>\n",
       "      <td>Croatia</td>\n",
       "      <td>45.81</td>\n",
       "      <td>15.00</td>\n",
       "    </tr>\n",
       "    <tr>\n",
       "      <th>6357543</th>\n",
       "      <td>1744-05-01</td>\n",
       "      <td>12.993</td>\n",
       "      <td>1.708</td>\n",
       "      <td>Rijeka</td>\n",
       "      <td>Croatia</td>\n",
       "      <td>45.81</td>\n",
       "      <td>15.00</td>\n",
       "    </tr>\n",
       "    <tr>\n",
       "      <th>6357544</th>\n",
       "      <td>1744-06-01</td>\n",
       "      <td>16.498</td>\n",
       "      <td>1.618</td>\n",
       "      <td>Rijeka</td>\n",
       "      <td>Croatia</td>\n",
       "      <td>45.81</td>\n",
       "      <td>15.00</td>\n",
       "    </tr>\n",
       "    <tr>\n",
       "      <th>6357545</th>\n",
       "      <td>1744-07-01</td>\n",
       "      <td>18.712</td>\n",
       "      <td>1.635</td>\n",
       "      <td>Rijeka</td>\n",
       "      <td>Croatia</td>\n",
       "      <td>45.81</td>\n",
       "      <td>15.00</td>\n",
       "    </tr>\n",
       "  </tbody>\n",
       "</table>\n",
       "</div>"
      ],
      "text/plain": [
       "                 dt  AverageTemperature  AverageTemperatureUncertainty  \\\n",
       "6357537  1743-11-01               5.486                          1.899   \n",
       "6357542  1744-04-01              10.961                          2.179   \n",
       "6357543  1744-05-01              12.993                          1.708   \n",
       "6357544  1744-06-01              16.498                          1.618   \n",
       "6357545  1744-07-01              18.712                          1.635   \n",
       "\n",
       "           City  Country Latitude Longitude  \n",
       "6357537  Rijeka  Croatia    45.81     15.00  \n",
       "6357542  Rijeka  Croatia    45.81     15.00  \n",
       "6357543  Rijeka  Croatia    45.81     15.00  \n",
       "6357544  Rijeka  Croatia    45.81     15.00  \n",
       "6357545  Rijeka  Croatia    45.81     15.00  "
      ]
     },
     "execution_count": 71,
     "metadata": {},
     "output_type": "execute_result"
    }
   ],
   "source": [
    "# Remove NaN values \n",
    "croatia_cities.dropna(axis = 0, subset = ['AverageTemperature'], inplace = True)\n",
    "croatia_cities.head()"
   ]
  },
  {
   "cell_type": "code",
   "execution_count": 73,
   "metadata": {},
   "outputs": [
    {
     "data": {
      "text/html": [
       "<div>\n",
       "<style scoped>\n",
       "    .dataframe tbody tr th:only-of-type {\n",
       "        vertical-align: middle;\n",
       "    }\n",
       "\n",
       "    .dataframe tbody tr th {\n",
       "        vertical-align: top;\n",
       "    }\n",
       "\n",
       "    .dataframe thead th {\n",
       "        text-align: right;\n",
       "    }\n",
       "</style>\n",
       "<table border=\"1\" class=\"dataframe\">\n",
       "  <thead>\n",
       "    <tr style=\"text-align: right;\">\n",
       "      <th></th>\n",
       "      <th>AverageTemperature</th>\n",
       "      <th>AverageTemperatureUncertainty</th>\n",
       "      <th>City</th>\n",
       "      <th>Country</th>\n",
       "      <th>Latitude</th>\n",
       "      <th>Longitude</th>\n",
       "      <th>Month</th>\n",
       "    </tr>\n",
       "  </thead>\n",
       "  <tbody>\n",
       "    <tr>\n",
       "      <th>6357537</th>\n",
       "      <td>5.486</td>\n",
       "      <td>1.899</td>\n",
       "      <td>Rijeka</td>\n",
       "      <td>Croatia</td>\n",
       "      <td>45.81</td>\n",
       "      <td>15.00</td>\n",
       "      <td>11</td>\n",
       "    </tr>\n",
       "    <tr>\n",
       "      <th>6357542</th>\n",
       "      <td>10.961</td>\n",
       "      <td>2.179</td>\n",
       "      <td>Rijeka</td>\n",
       "      <td>Croatia</td>\n",
       "      <td>45.81</td>\n",
       "      <td>15.00</td>\n",
       "      <td>4</td>\n",
       "    </tr>\n",
       "    <tr>\n",
       "      <th>6357543</th>\n",
       "      <td>12.993</td>\n",
       "      <td>1.708</td>\n",
       "      <td>Rijeka</td>\n",
       "      <td>Croatia</td>\n",
       "      <td>45.81</td>\n",
       "      <td>15.00</td>\n",
       "      <td>5</td>\n",
       "    </tr>\n",
       "    <tr>\n",
       "      <th>6357544</th>\n",
       "      <td>16.498</td>\n",
       "      <td>1.618</td>\n",
       "      <td>Rijeka</td>\n",
       "      <td>Croatia</td>\n",
       "      <td>45.81</td>\n",
       "      <td>15.00</td>\n",
       "      <td>6</td>\n",
       "    </tr>\n",
       "    <tr>\n",
       "      <th>6357545</th>\n",
       "      <td>18.712</td>\n",
       "      <td>1.635</td>\n",
       "      <td>Rijeka</td>\n",
       "      <td>Croatia</td>\n",
       "      <td>45.81</td>\n",
       "      <td>15.00</td>\n",
       "      <td>7</td>\n",
       "    </tr>\n",
       "    <tr>\n",
       "      <th>...</th>\n",
       "      <td>...</td>\n",
       "      <td>...</td>\n",
       "      <td>...</td>\n",
       "      <td>...</td>\n",
       "      <td>...</td>\n",
       "      <td>...</td>\n",
       "      <td>...</td>\n",
       "    </tr>\n",
       "    <tr>\n",
       "      <th>8475703</th>\n",
       "      <td>11.068</td>\n",
       "      <td>0.321</td>\n",
       "      <td>Zagreb</td>\n",
       "      <td>Croatia</td>\n",
       "      <td>45.81</td>\n",
       "      <td>15.00</td>\n",
       "      <td>4</td>\n",
       "    </tr>\n",
       "    <tr>\n",
       "      <th>8475704</th>\n",
       "      <td>14.422</td>\n",
       "      <td>0.312</td>\n",
       "      <td>Zagreb</td>\n",
       "      <td>Croatia</td>\n",
       "      <td>45.81</td>\n",
       "      <td>15.00</td>\n",
       "      <td>5</td>\n",
       "    </tr>\n",
       "    <tr>\n",
       "      <th>8475705</th>\n",
       "      <td>18.672</td>\n",
       "      <td>0.273</td>\n",
       "      <td>Zagreb</td>\n",
       "      <td>Croatia</td>\n",
       "      <td>45.81</td>\n",
       "      <td>15.00</td>\n",
       "      <td>6</td>\n",
       "    </tr>\n",
       "    <tr>\n",
       "      <th>8475706</th>\n",
       "      <td>22.233</td>\n",
       "      <td>0.330</td>\n",
       "      <td>Zagreb</td>\n",
       "      <td>Croatia</td>\n",
       "      <td>45.81</td>\n",
       "      <td>15.00</td>\n",
       "      <td>7</td>\n",
       "    </tr>\n",
       "    <tr>\n",
       "      <th>8475707</th>\n",
       "      <td>21.368</td>\n",
       "      <td>0.438</td>\n",
       "      <td>Zagreb</td>\n",
       "      <td>Croatia</td>\n",
       "      <td>45.81</td>\n",
       "      <td>15.00</td>\n",
       "      <td>8</td>\n",
       "    </tr>\n",
       "  </tbody>\n",
       "</table>\n",
       "<p>9498 rows × 7 columns</p>\n",
       "</div>"
      ],
      "text/plain": [
       "         AverageTemperature  AverageTemperatureUncertainty    City  Country  \\\n",
       "6357537               5.486                          1.899  Rijeka  Croatia   \n",
       "6357542              10.961                          2.179  Rijeka  Croatia   \n",
       "6357543              12.993                          1.708  Rijeka  Croatia   \n",
       "6357544              16.498                          1.618  Rijeka  Croatia   \n",
       "6357545              18.712                          1.635  Rijeka  Croatia   \n",
       "...                     ...                            ...     ...      ...   \n",
       "8475703              11.068                          0.321  Zagreb  Croatia   \n",
       "8475704              14.422                          0.312  Zagreb  Croatia   \n",
       "8475705              18.672                          0.273  Zagreb  Croatia   \n",
       "8475706              22.233                          0.330  Zagreb  Croatia   \n",
       "8475707              21.368                          0.438  Zagreb  Croatia   \n",
       "\n",
       "        Latitude Longitude  Month  \n",
       "6357537    45.81     15.00     11  \n",
       "6357542    45.81     15.00      4  \n",
       "6357543    45.81     15.00      5  \n",
       "6357544    45.81     15.00      6  \n",
       "6357545    45.81     15.00      7  \n",
       "...          ...       ...    ...  \n",
       "8475703    45.81     15.00      4  \n",
       "8475704    45.81     15.00      5  \n",
       "8475705    45.81     15.00      6  \n",
       "8475706    45.81     15.00      7  \n",
       "8475707    45.81     15.00      8  \n",
       "\n",
       "[9498 rows x 7 columns]"
      ]
     },
     "execution_count": 73,
     "metadata": {},
     "output_type": "execute_result"
    }
   ],
   "source": [
    "# Making months column\n",
    "\n",
    "croatia_cities[\"dt\"] = pd.to_datetime(croatia_cities[\"dt\"])\n",
    "\n",
    "croatia_cities['Month'] = croatia_cities['dt'].dt.month\n",
    "croatia_cities.drop('dt', axis = 1, inplace = True)\n",
    "croatia_cities"
   ]
  },
  {
   "cell_type": "code",
   "execution_count": 74,
   "metadata": {},
   "outputs": [
    {
     "data": {
      "text/html": [
       "<div>\n",
       "<style scoped>\n",
       "    .dataframe tbody tr th:only-of-type {\n",
       "        vertical-align: middle;\n",
       "    }\n",
       "\n",
       "    .dataframe tbody tr th {\n",
       "        vertical-align: top;\n",
       "    }\n",
       "\n",
       "    .dataframe thead th {\n",
       "        text-align: right;\n",
       "    }\n",
       "</style>\n",
       "<table border=\"1\" class=\"dataframe\">\n",
       "  <thead>\n",
       "    <tr style=\"text-align: right;\">\n",
       "      <th></th>\n",
       "      <th></th>\n",
       "      <th>AverageTemperature</th>\n",
       "    </tr>\n",
       "    <tr>\n",
       "      <th>Month</th>\n",
       "      <th>City</th>\n",
       "      <th></th>\n",
       "    </tr>\n",
       "  </thead>\n",
       "  <tbody>\n",
       "    <tr>\n",
       "      <th rowspan=\"3\" valign=\"top\">1</th>\n",
       "      <th>Rijeka</th>\n",
       "      <td>-1.254528</td>\n",
       "    </tr>\n",
       "    <tr>\n",
       "      <th>Split</th>\n",
       "      <td>2.623075</td>\n",
       "    </tr>\n",
       "    <tr>\n",
       "      <th>Zagreb</th>\n",
       "      <td>-1.254528</td>\n",
       "    </tr>\n",
       "    <tr>\n",
       "      <th rowspan=\"3\" valign=\"top\">2</th>\n",
       "      <th>Rijeka</th>\n",
       "      <td>0.739864</td>\n",
       "    </tr>\n",
       "    <tr>\n",
       "      <th>Split</th>\n",
       "      <td>4.166530</td>\n",
       "    </tr>\n",
       "    <tr>\n",
       "      <th>Zagreb</th>\n",
       "      <td>0.739864</td>\n",
       "    </tr>\n",
       "    <tr>\n",
       "      <th rowspan=\"3\" valign=\"top\">3</th>\n",
       "      <th>Rijeka</th>\n",
       "      <td>4.601445</td>\n",
       "    </tr>\n",
       "    <tr>\n",
       "      <th>Split</th>\n",
       "      <td>7.481581</td>\n",
       "    </tr>\n",
       "    <tr>\n",
       "      <th>Zagreb</th>\n",
       "      <td>4.601445</td>\n",
       "    </tr>\n",
       "    <tr>\n",
       "      <th rowspan=\"3\" valign=\"top\">4</th>\n",
       "      <th>Rijeka</th>\n",
       "      <td>9.179695</td>\n",
       "    </tr>\n",
       "    <tr>\n",
       "      <th>Split</th>\n",
       "      <td>11.588124</td>\n",
       "    </tr>\n",
       "    <tr>\n",
       "      <th>Zagreb</th>\n",
       "      <td>9.179695</td>\n",
       "    </tr>\n",
       "    <tr>\n",
       "      <th rowspan=\"3\" valign=\"top\">5</th>\n",
       "      <th>Rijeka</th>\n",
       "      <td>14.176095</td>\n",
       "    </tr>\n",
       "    <tr>\n",
       "      <th>Split</th>\n",
       "      <td>16.623468</td>\n",
       "    </tr>\n",
       "    <tr>\n",
       "      <th>Zagreb</th>\n",
       "      <td>14.176095</td>\n",
       "    </tr>\n",
       "    <tr>\n",
       "      <th rowspan=\"3\" valign=\"top\">6</th>\n",
       "      <th>Rijeka</th>\n",
       "      <td>17.759708</td>\n",
       "    </tr>\n",
       "    <tr>\n",
       "      <th>Split</th>\n",
       "      <td>20.715303</td>\n",
       "    </tr>\n",
       "    <tr>\n",
       "      <th>Zagreb</th>\n",
       "      <td>17.759708</td>\n",
       "    </tr>\n",
       "    <tr>\n",
       "      <th rowspan=\"3\" valign=\"top\">7</th>\n",
       "      <th>Rijeka</th>\n",
       "      <td>19.726947</td>\n",
       "    </tr>\n",
       "    <tr>\n",
       "      <th>Split</th>\n",
       "      <td>23.181386</td>\n",
       "    </tr>\n",
       "    <tr>\n",
       "      <th>Zagreb</th>\n",
       "      <td>19.726947</td>\n",
       "    </tr>\n",
       "    <tr>\n",
       "      <th rowspan=\"3\" valign=\"top\">8</th>\n",
       "      <th>Rijeka</th>\n",
       "      <td>19.020308</td>\n",
       "    </tr>\n",
       "    <tr>\n",
       "      <th>Split</th>\n",
       "      <td>22.498068</td>\n",
       "    </tr>\n",
       "    <tr>\n",
       "      <th>Zagreb</th>\n",
       "      <td>19.020308</td>\n",
       "    </tr>\n",
       "    <tr>\n",
       "      <th rowspan=\"3\" valign=\"top\">9</th>\n",
       "      <th>Rijeka</th>\n",
       "      <td>15.173027</td>\n",
       "    </tr>\n",
       "    <tr>\n",
       "      <th>Split</th>\n",
       "      <td>18.412517</td>\n",
       "    </tr>\n",
       "    <tr>\n",
       "      <th>Zagreb</th>\n",
       "      <td>15.173027</td>\n",
       "    </tr>\n",
       "    <tr>\n",
       "      <th rowspan=\"3\" valign=\"top\">10</th>\n",
       "      <th>Rijeka</th>\n",
       "      <td>9.944452</td>\n",
       "    </tr>\n",
       "    <tr>\n",
       "      <th>Split</th>\n",
       "      <td>13.286445</td>\n",
       "    </tr>\n",
       "    <tr>\n",
       "      <th>Zagreb</th>\n",
       "      <td>9.944452</td>\n",
       "    </tr>\n",
       "    <tr>\n",
       "      <th rowspan=\"3\" valign=\"top\">11</th>\n",
       "      <th>Rijeka</th>\n",
       "      <td>4.585821</td>\n",
       "    </tr>\n",
       "    <tr>\n",
       "      <th>Split</th>\n",
       "      <td>8.285441</td>\n",
       "    </tr>\n",
       "    <tr>\n",
       "      <th>Zagreb</th>\n",
       "      <td>4.585821</td>\n",
       "    </tr>\n",
       "    <tr>\n",
       "      <th rowspan=\"3\" valign=\"top\">12</th>\n",
       "      <th>Rijeka</th>\n",
       "      <td>0.267433</td>\n",
       "    </tr>\n",
       "    <tr>\n",
       "      <th>Split</th>\n",
       "      <td>4.205635</td>\n",
       "    </tr>\n",
       "    <tr>\n",
       "      <th>Zagreb</th>\n",
       "      <td>0.267433</td>\n",
       "    </tr>\n",
       "  </tbody>\n",
       "</table>\n",
       "</div>"
      ],
      "text/plain": [
       "              AverageTemperature\n",
       "Month City                      \n",
       "1     Rijeka           -1.254528\n",
       "      Split             2.623075\n",
       "      Zagreb           -1.254528\n",
       "2     Rijeka            0.739864\n",
       "      Split             4.166530\n",
       "      Zagreb            0.739864\n",
       "3     Rijeka            4.601445\n",
       "      Split             7.481581\n",
       "      Zagreb            4.601445\n",
       "4     Rijeka            9.179695\n",
       "      Split            11.588124\n",
       "      Zagreb            9.179695\n",
       "5     Rijeka           14.176095\n",
       "      Split            16.623468\n",
       "      Zagreb           14.176095\n",
       "6     Rijeka           17.759708\n",
       "      Split            20.715303\n",
       "      Zagreb           17.759708\n",
       "7     Rijeka           19.726947\n",
       "      Split            23.181386\n",
       "      Zagreb           19.726947\n",
       "8     Rijeka           19.020308\n",
       "      Split            22.498068\n",
       "      Zagreb           19.020308\n",
       "9     Rijeka           15.173027\n",
       "      Split            18.412517\n",
       "      Zagreb           15.173027\n",
       "10    Rijeka            9.944452\n",
       "      Split            13.286445\n",
       "      Zagreb            9.944452\n",
       "11    Rijeka            4.585821\n",
       "      Split             8.285441\n",
       "      Zagreb            4.585821\n",
       "12    Rijeka            0.267433\n",
       "      Split             4.205635\n",
       "      Zagreb            0.267433"
      ]
     },
     "execution_count": 74,
     "metadata": {},
     "output_type": "execute_result"
    }
   ],
   "source": [
    "croatia_cities.groupby(['Month','City'])['AverageTemperature'].mean().to_frame()"
   ]
  },
  {
   "cell_type": "code",
   "execution_count": 77,
   "metadata": {},
   "outputs": [
    {
     "data": {
      "text/html": [
       "<div>\n",
       "<style scoped>\n",
       "    .dataframe tbody tr th:only-of-type {\n",
       "        vertical-align: middle;\n",
       "    }\n",
       "\n",
       "    .dataframe tbody tr th {\n",
       "        vertical-align: top;\n",
       "    }\n",
       "\n",
       "    .dataframe thead th {\n",
       "        text-align: right;\n",
       "    }\n",
       "</style>\n",
       "<table border=\"1\" class=\"dataframe\">\n",
       "  <thead>\n",
       "    <tr style=\"text-align: right;\">\n",
       "      <th></th>\n",
       "      <th>Month</th>\n",
       "      <th>City</th>\n",
       "      <th>Mean_temp</th>\n",
       "    </tr>\n",
       "  </thead>\n",
       "  <tbody>\n",
       "    <tr>\n",
       "      <th>0</th>\n",
       "      <td>1</td>\n",
       "      <td>Rijeka</td>\n",
       "      <td>-1.254528</td>\n",
       "    </tr>\n",
       "    <tr>\n",
       "      <th>1</th>\n",
       "      <td>1</td>\n",
       "      <td>Split</td>\n",
       "      <td>2.623075</td>\n",
       "    </tr>\n",
       "    <tr>\n",
       "      <th>2</th>\n",
       "      <td>1</td>\n",
       "      <td>Zagreb</td>\n",
       "      <td>-1.254528</td>\n",
       "    </tr>\n",
       "    <tr>\n",
       "      <th>3</th>\n",
       "      <td>2</td>\n",
       "      <td>Rijeka</td>\n",
       "      <td>0.739864</td>\n",
       "    </tr>\n",
       "    <tr>\n",
       "      <th>4</th>\n",
       "      <td>2</td>\n",
       "      <td>Split</td>\n",
       "      <td>4.166530</td>\n",
       "    </tr>\n",
       "    <tr>\n",
       "      <th>5</th>\n",
       "      <td>2</td>\n",
       "      <td>Zagreb</td>\n",
       "      <td>0.739864</td>\n",
       "    </tr>\n",
       "    <tr>\n",
       "      <th>6</th>\n",
       "      <td>3</td>\n",
       "      <td>Rijeka</td>\n",
       "      <td>4.601445</td>\n",
       "    </tr>\n",
       "    <tr>\n",
       "      <th>7</th>\n",
       "      <td>3</td>\n",
       "      <td>Split</td>\n",
       "      <td>7.481581</td>\n",
       "    </tr>\n",
       "    <tr>\n",
       "      <th>8</th>\n",
       "      <td>3</td>\n",
       "      <td>Zagreb</td>\n",
       "      <td>4.601445</td>\n",
       "    </tr>\n",
       "    <tr>\n",
       "      <th>9</th>\n",
       "      <td>4</td>\n",
       "      <td>Rijeka</td>\n",
       "      <td>9.179695</td>\n",
       "    </tr>\n",
       "    <tr>\n",
       "      <th>10</th>\n",
       "      <td>4</td>\n",
       "      <td>Split</td>\n",
       "      <td>11.588124</td>\n",
       "    </tr>\n",
       "    <tr>\n",
       "      <th>11</th>\n",
       "      <td>4</td>\n",
       "      <td>Zagreb</td>\n",
       "      <td>9.179695</td>\n",
       "    </tr>\n",
       "    <tr>\n",
       "      <th>12</th>\n",
       "      <td>5</td>\n",
       "      <td>Rijeka</td>\n",
       "      <td>14.176095</td>\n",
       "    </tr>\n",
       "    <tr>\n",
       "      <th>13</th>\n",
       "      <td>5</td>\n",
       "      <td>Split</td>\n",
       "      <td>16.623468</td>\n",
       "    </tr>\n",
       "    <tr>\n",
       "      <th>14</th>\n",
       "      <td>5</td>\n",
       "      <td>Zagreb</td>\n",
       "      <td>14.176095</td>\n",
       "    </tr>\n",
       "    <tr>\n",
       "      <th>15</th>\n",
       "      <td>6</td>\n",
       "      <td>Rijeka</td>\n",
       "      <td>17.759708</td>\n",
       "    </tr>\n",
       "    <tr>\n",
       "      <th>16</th>\n",
       "      <td>6</td>\n",
       "      <td>Split</td>\n",
       "      <td>20.715303</td>\n",
       "    </tr>\n",
       "    <tr>\n",
       "      <th>17</th>\n",
       "      <td>6</td>\n",
       "      <td>Zagreb</td>\n",
       "      <td>17.759708</td>\n",
       "    </tr>\n",
       "    <tr>\n",
       "      <th>18</th>\n",
       "      <td>7</td>\n",
       "      <td>Rijeka</td>\n",
       "      <td>19.726947</td>\n",
       "    </tr>\n",
       "    <tr>\n",
       "      <th>19</th>\n",
       "      <td>7</td>\n",
       "      <td>Split</td>\n",
       "      <td>23.181386</td>\n",
       "    </tr>\n",
       "    <tr>\n",
       "      <th>20</th>\n",
       "      <td>7</td>\n",
       "      <td>Zagreb</td>\n",
       "      <td>19.726947</td>\n",
       "    </tr>\n",
       "    <tr>\n",
       "      <th>21</th>\n",
       "      <td>8</td>\n",
       "      <td>Rijeka</td>\n",
       "      <td>19.020308</td>\n",
       "    </tr>\n",
       "    <tr>\n",
       "      <th>22</th>\n",
       "      <td>8</td>\n",
       "      <td>Split</td>\n",
       "      <td>22.498068</td>\n",
       "    </tr>\n",
       "    <tr>\n",
       "      <th>23</th>\n",
       "      <td>8</td>\n",
       "      <td>Zagreb</td>\n",
       "      <td>19.020308</td>\n",
       "    </tr>\n",
       "    <tr>\n",
       "      <th>24</th>\n",
       "      <td>9</td>\n",
       "      <td>Rijeka</td>\n",
       "      <td>15.173027</td>\n",
       "    </tr>\n",
       "    <tr>\n",
       "      <th>25</th>\n",
       "      <td>9</td>\n",
       "      <td>Split</td>\n",
       "      <td>18.412517</td>\n",
       "    </tr>\n",
       "    <tr>\n",
       "      <th>26</th>\n",
       "      <td>9</td>\n",
       "      <td>Zagreb</td>\n",
       "      <td>15.173027</td>\n",
       "    </tr>\n",
       "    <tr>\n",
       "      <th>27</th>\n",
       "      <td>10</td>\n",
       "      <td>Rijeka</td>\n",
       "      <td>9.944452</td>\n",
       "    </tr>\n",
       "    <tr>\n",
       "      <th>28</th>\n",
       "      <td>10</td>\n",
       "      <td>Split</td>\n",
       "      <td>13.286445</td>\n",
       "    </tr>\n",
       "    <tr>\n",
       "      <th>29</th>\n",
       "      <td>10</td>\n",
       "      <td>Zagreb</td>\n",
       "      <td>9.944452</td>\n",
       "    </tr>\n",
       "    <tr>\n",
       "      <th>30</th>\n",
       "      <td>11</td>\n",
       "      <td>Rijeka</td>\n",
       "      <td>4.585821</td>\n",
       "    </tr>\n",
       "    <tr>\n",
       "      <th>31</th>\n",
       "      <td>11</td>\n",
       "      <td>Split</td>\n",
       "      <td>8.285441</td>\n",
       "    </tr>\n",
       "    <tr>\n",
       "      <th>32</th>\n",
       "      <td>11</td>\n",
       "      <td>Zagreb</td>\n",
       "      <td>4.585821</td>\n",
       "    </tr>\n",
       "    <tr>\n",
       "      <th>33</th>\n",
       "      <td>12</td>\n",
       "      <td>Rijeka</td>\n",
       "      <td>0.267433</td>\n",
       "    </tr>\n",
       "    <tr>\n",
       "      <th>34</th>\n",
       "      <td>12</td>\n",
       "      <td>Split</td>\n",
       "      <td>4.205635</td>\n",
       "    </tr>\n",
       "    <tr>\n",
       "      <th>35</th>\n",
       "      <td>12</td>\n",
       "      <td>Zagreb</td>\n",
       "      <td>0.267433</td>\n",
       "    </tr>\n",
       "  </tbody>\n",
       "</table>\n",
       "</div>"
      ],
      "text/plain": [
       "    Month    City  Mean_temp\n",
       "0       1  Rijeka  -1.254528\n",
       "1       1   Split   2.623075\n",
       "2       1  Zagreb  -1.254528\n",
       "3       2  Rijeka   0.739864\n",
       "4       2   Split   4.166530\n",
       "5       2  Zagreb   0.739864\n",
       "6       3  Rijeka   4.601445\n",
       "7       3   Split   7.481581\n",
       "8       3  Zagreb   4.601445\n",
       "9       4  Rijeka   9.179695\n",
       "10      4   Split  11.588124\n",
       "11      4  Zagreb   9.179695\n",
       "12      5  Rijeka  14.176095\n",
       "13      5   Split  16.623468\n",
       "14      5  Zagreb  14.176095\n",
       "15      6  Rijeka  17.759708\n",
       "16      6   Split  20.715303\n",
       "17      6  Zagreb  17.759708\n",
       "18      7  Rijeka  19.726947\n",
       "19      7   Split  23.181386\n",
       "20      7  Zagreb  19.726947\n",
       "21      8  Rijeka  19.020308\n",
       "22      8   Split  22.498068\n",
       "23      8  Zagreb  19.020308\n",
       "24      9  Rijeka  15.173027\n",
       "25      9   Split  18.412517\n",
       "26      9  Zagreb  15.173027\n",
       "27     10  Rijeka   9.944452\n",
       "28     10   Split  13.286445\n",
       "29     10  Zagreb   9.944452\n",
       "30     11  Rijeka   4.585821\n",
       "31     11   Split   8.285441\n",
       "32     11  Zagreb   4.585821\n",
       "33     12  Rijeka   0.267433\n",
       "34     12   Split   4.205635\n",
       "35     12  Zagreb   0.267433"
      ]
     },
     "execution_count": 77,
     "metadata": {},
     "output_type": "execute_result"
    }
   ],
   "source": [
    "cities_temp = croatia_cities.groupby(['Month','City'])['AverageTemperature'].mean().to_frame().reset_index()\n",
    "cities_temp.columns = ['Month','City','Mean_temp']\n",
    "cities_temp"
   ]
  },
  {
   "cell_type": "code",
   "execution_count": 78,
   "metadata": {},
   "outputs": [
    {
     "data": {
      "application/vnd.plotly.v1+json": {
       "config": {
        "plotlyServerURL": "https://plot.ly"
       },
       "data": [
        {
         "colorscale": [
          [
           0,
           "#440154"
          ],
          [
           0.1111111111111111,
           "#482878"
          ],
          [
           0.2222222222222222,
           "#3e4989"
          ],
          [
           0.3333333333333333,
           "#31688e"
          ],
          [
           0.4444444444444444,
           "#26828e"
          ],
          [
           0.5555555555555556,
           "#1f9e89"
          ],
          [
           0.6666666666666666,
           "#35b779"
          ],
          [
           0.7777777777777778,
           "#6ece58"
          ],
          [
           0.8888888888888888,
           "#b5de2b"
          ],
          [
           1,
           "#fde725"
          ]
         ],
         "type": "heatmap",
         "x": [
          1,
          1,
          1,
          2,
          2,
          2,
          3,
          3,
          3,
          4,
          4,
          4,
          5,
          5,
          5,
          6,
          6,
          6,
          7,
          7,
          7,
          8,
          8,
          8,
          9,
          9,
          9,
          10,
          10,
          10,
          11,
          11,
          11,
          12,
          12,
          12
         ],
         "y": [
          "Rijeka",
          "Split",
          "Zagreb",
          "Rijeka",
          "Split",
          "Zagreb",
          "Rijeka",
          "Split",
          "Zagreb",
          "Rijeka",
          "Split",
          "Zagreb",
          "Rijeka",
          "Split",
          "Zagreb",
          "Rijeka",
          "Split",
          "Zagreb",
          "Rijeka",
          "Split",
          "Zagreb",
          "Rijeka",
          "Split",
          "Zagreb",
          "Rijeka",
          "Split",
          "Zagreb",
          "Rijeka",
          "Split",
          "Zagreb",
          "Rijeka",
          "Split",
          "Zagreb",
          "Rijeka",
          "Split",
          "Zagreb"
         ],
         "z": [
          -1.2545283018867923,
          2.623075471698113,
          -1.2545283018867923,
          0.7398636363636364,
          4.166530303030303,
          0.7398636363636364,
          4.601445283018868,
          7.481581132075472,
          4.601445283018868,
          9.179695488721805,
          11.588124060150378,
          9.179695488721805,
          14.176095057034221,
          16.623467680608364,
          14.176095057034221,
          17.759708333333332,
          20.71530303030303,
          17.759708333333332,
          19.72694696969697,
          23.181386363636364,
          19.72694696969697,
          19.020307984790875,
          22.49806844106464,
          19.020307984790875,
          15.173026615969581,
          18.412517110266162,
          15.173026615969581,
          9.94445247148289,
          13.286444866920153,
          9.94445247148289,
          4.585821292775665,
          8.285441064638785,
          4.585821292775665,
          0.2674334600760457,
          4.2056349809885925,
          0.2674334600760457
         ]
        }
       ],
       "layout": {
        "template": {
         "data": {
          "bar": [
           {
            "error_x": {
             "color": "#2a3f5f"
            },
            "error_y": {
             "color": "#2a3f5f"
            },
            "marker": {
             "line": {
              "color": "#E5ECF6",
              "width": 0.5
             },
             "pattern": {
              "fillmode": "overlay",
              "size": 10,
              "solidity": 0.2
             }
            },
            "type": "bar"
           }
          ],
          "barpolar": [
           {
            "marker": {
             "line": {
              "color": "#E5ECF6",
              "width": 0.5
             },
             "pattern": {
              "fillmode": "overlay",
              "size": 10,
              "solidity": 0.2
             }
            },
            "type": "barpolar"
           }
          ],
          "carpet": [
           {
            "aaxis": {
             "endlinecolor": "#2a3f5f",
             "gridcolor": "white",
             "linecolor": "white",
             "minorgridcolor": "white",
             "startlinecolor": "#2a3f5f"
            },
            "baxis": {
             "endlinecolor": "#2a3f5f",
             "gridcolor": "white",
             "linecolor": "white",
             "minorgridcolor": "white",
             "startlinecolor": "#2a3f5f"
            },
            "type": "carpet"
           }
          ],
          "choropleth": [
           {
            "colorbar": {
             "outlinewidth": 0,
             "ticks": ""
            },
            "type": "choropleth"
           }
          ],
          "contour": [
           {
            "colorbar": {
             "outlinewidth": 0,
             "ticks": ""
            },
            "colorscale": [
             [
              0,
              "#0d0887"
             ],
             [
              0.1111111111111111,
              "#46039f"
             ],
             [
              0.2222222222222222,
              "#7201a8"
             ],
             [
              0.3333333333333333,
              "#9c179e"
             ],
             [
              0.4444444444444444,
              "#bd3786"
             ],
             [
              0.5555555555555556,
              "#d8576b"
             ],
             [
              0.6666666666666666,
              "#ed7953"
             ],
             [
              0.7777777777777778,
              "#fb9f3a"
             ],
             [
              0.8888888888888888,
              "#fdca26"
             ],
             [
              1,
              "#f0f921"
             ]
            ],
            "type": "contour"
           }
          ],
          "contourcarpet": [
           {
            "colorbar": {
             "outlinewidth": 0,
             "ticks": ""
            },
            "type": "contourcarpet"
           }
          ],
          "heatmap": [
           {
            "colorbar": {
             "outlinewidth": 0,
             "ticks": ""
            },
            "colorscale": [
             [
              0,
              "#0d0887"
             ],
             [
              0.1111111111111111,
              "#46039f"
             ],
             [
              0.2222222222222222,
              "#7201a8"
             ],
             [
              0.3333333333333333,
              "#9c179e"
             ],
             [
              0.4444444444444444,
              "#bd3786"
             ],
             [
              0.5555555555555556,
              "#d8576b"
             ],
             [
              0.6666666666666666,
              "#ed7953"
             ],
             [
              0.7777777777777778,
              "#fb9f3a"
             ],
             [
              0.8888888888888888,
              "#fdca26"
             ],
             [
              1,
              "#f0f921"
             ]
            ],
            "type": "heatmap"
           }
          ],
          "heatmapgl": [
           {
            "colorbar": {
             "outlinewidth": 0,
             "ticks": ""
            },
            "colorscale": [
             [
              0,
              "#0d0887"
             ],
             [
              0.1111111111111111,
              "#46039f"
             ],
             [
              0.2222222222222222,
              "#7201a8"
             ],
             [
              0.3333333333333333,
              "#9c179e"
             ],
             [
              0.4444444444444444,
              "#bd3786"
             ],
             [
              0.5555555555555556,
              "#d8576b"
             ],
             [
              0.6666666666666666,
              "#ed7953"
             ],
             [
              0.7777777777777778,
              "#fb9f3a"
             ],
             [
              0.8888888888888888,
              "#fdca26"
             ],
             [
              1,
              "#f0f921"
             ]
            ],
            "type": "heatmapgl"
           }
          ],
          "histogram": [
           {
            "marker": {
             "pattern": {
              "fillmode": "overlay",
              "size": 10,
              "solidity": 0.2
             }
            },
            "type": "histogram"
           }
          ],
          "histogram2d": [
           {
            "colorbar": {
             "outlinewidth": 0,
             "ticks": ""
            },
            "colorscale": [
             [
              0,
              "#0d0887"
             ],
             [
              0.1111111111111111,
              "#46039f"
             ],
             [
              0.2222222222222222,
              "#7201a8"
             ],
             [
              0.3333333333333333,
              "#9c179e"
             ],
             [
              0.4444444444444444,
              "#bd3786"
             ],
             [
              0.5555555555555556,
              "#d8576b"
             ],
             [
              0.6666666666666666,
              "#ed7953"
             ],
             [
              0.7777777777777778,
              "#fb9f3a"
             ],
             [
              0.8888888888888888,
              "#fdca26"
             ],
             [
              1,
              "#f0f921"
             ]
            ],
            "type": "histogram2d"
           }
          ],
          "histogram2dcontour": [
           {
            "colorbar": {
             "outlinewidth": 0,
             "ticks": ""
            },
            "colorscale": [
             [
              0,
              "#0d0887"
             ],
             [
              0.1111111111111111,
              "#46039f"
             ],
             [
              0.2222222222222222,
              "#7201a8"
             ],
             [
              0.3333333333333333,
              "#9c179e"
             ],
             [
              0.4444444444444444,
              "#bd3786"
             ],
             [
              0.5555555555555556,
              "#d8576b"
             ],
             [
              0.6666666666666666,
              "#ed7953"
             ],
             [
              0.7777777777777778,
              "#fb9f3a"
             ],
             [
              0.8888888888888888,
              "#fdca26"
             ],
             [
              1,
              "#f0f921"
             ]
            ],
            "type": "histogram2dcontour"
           }
          ],
          "mesh3d": [
           {
            "colorbar": {
             "outlinewidth": 0,
             "ticks": ""
            },
            "type": "mesh3d"
           }
          ],
          "parcoords": [
           {
            "line": {
             "colorbar": {
              "outlinewidth": 0,
              "ticks": ""
             }
            },
            "type": "parcoords"
           }
          ],
          "pie": [
           {
            "automargin": true,
            "type": "pie"
           }
          ],
          "scatter": [
           {
            "fillpattern": {
             "fillmode": "overlay",
             "size": 10,
             "solidity": 0.2
            },
            "type": "scatter"
           }
          ],
          "scatter3d": [
           {
            "line": {
             "colorbar": {
              "outlinewidth": 0,
              "ticks": ""
             }
            },
            "marker": {
             "colorbar": {
              "outlinewidth": 0,
              "ticks": ""
             }
            },
            "type": "scatter3d"
           }
          ],
          "scattercarpet": [
           {
            "marker": {
             "colorbar": {
              "outlinewidth": 0,
              "ticks": ""
             }
            },
            "type": "scattercarpet"
           }
          ],
          "scattergeo": [
           {
            "marker": {
             "colorbar": {
              "outlinewidth": 0,
              "ticks": ""
             }
            },
            "type": "scattergeo"
           }
          ],
          "scattergl": [
           {
            "marker": {
             "colorbar": {
              "outlinewidth": 0,
              "ticks": ""
             }
            },
            "type": "scattergl"
           }
          ],
          "scattermapbox": [
           {
            "marker": {
             "colorbar": {
              "outlinewidth": 0,
              "ticks": ""
             }
            },
            "type": "scattermapbox"
           }
          ],
          "scatterpolar": [
           {
            "marker": {
             "colorbar": {
              "outlinewidth": 0,
              "ticks": ""
             }
            },
            "type": "scatterpolar"
           }
          ],
          "scatterpolargl": [
           {
            "marker": {
             "colorbar": {
              "outlinewidth": 0,
              "ticks": ""
             }
            },
            "type": "scatterpolargl"
           }
          ],
          "scatterternary": [
           {
            "marker": {
             "colorbar": {
              "outlinewidth": 0,
              "ticks": ""
             }
            },
            "type": "scatterternary"
           }
          ],
          "surface": [
           {
            "colorbar": {
             "outlinewidth": 0,
             "ticks": ""
            },
            "colorscale": [
             [
              0,
              "#0d0887"
             ],
             [
              0.1111111111111111,
              "#46039f"
             ],
             [
              0.2222222222222222,
              "#7201a8"
             ],
             [
              0.3333333333333333,
              "#9c179e"
             ],
             [
              0.4444444444444444,
              "#bd3786"
             ],
             [
              0.5555555555555556,
              "#d8576b"
             ],
             [
              0.6666666666666666,
              "#ed7953"
             ],
             [
              0.7777777777777778,
              "#fb9f3a"
             ],
             [
              0.8888888888888888,
              "#fdca26"
             ],
             [
              1,
              "#f0f921"
             ]
            ],
            "type": "surface"
           }
          ],
          "table": [
           {
            "cells": {
             "fill": {
              "color": "#EBF0F8"
             },
             "line": {
              "color": "white"
             }
            },
            "header": {
             "fill": {
              "color": "#C8D4E3"
             },
             "line": {
              "color": "white"
             }
            },
            "type": "table"
           }
          ]
         },
         "layout": {
          "annotationdefaults": {
           "arrowcolor": "#2a3f5f",
           "arrowhead": 0,
           "arrowwidth": 1
          },
          "autotypenumbers": "strict",
          "coloraxis": {
           "colorbar": {
            "outlinewidth": 0,
            "ticks": ""
           }
          },
          "colorscale": {
           "diverging": [
            [
             0,
             "#8e0152"
            ],
            [
             0.1,
             "#c51b7d"
            ],
            [
             0.2,
             "#de77ae"
            ],
            [
             0.3,
             "#f1b6da"
            ],
            [
             0.4,
             "#fde0ef"
            ],
            [
             0.5,
             "#f7f7f7"
            ],
            [
             0.6,
             "#e6f5d0"
            ],
            [
             0.7,
             "#b8e186"
            ],
            [
             0.8,
             "#7fbc41"
            ],
            [
             0.9,
             "#4d9221"
            ],
            [
             1,
             "#276419"
            ]
           ],
           "sequential": [
            [
             0,
             "#0d0887"
            ],
            [
             0.1111111111111111,
             "#46039f"
            ],
            [
             0.2222222222222222,
             "#7201a8"
            ],
            [
             0.3333333333333333,
             "#9c179e"
            ],
            [
             0.4444444444444444,
             "#bd3786"
            ],
            [
             0.5555555555555556,
             "#d8576b"
            ],
            [
             0.6666666666666666,
             "#ed7953"
            ],
            [
             0.7777777777777778,
             "#fb9f3a"
            ],
            [
             0.8888888888888888,
             "#fdca26"
            ],
            [
             1,
             "#f0f921"
            ]
           ],
           "sequentialminus": [
            [
             0,
             "#0d0887"
            ],
            [
             0.1111111111111111,
             "#46039f"
            ],
            [
             0.2222222222222222,
             "#7201a8"
            ],
            [
             0.3333333333333333,
             "#9c179e"
            ],
            [
             0.4444444444444444,
             "#bd3786"
            ],
            [
             0.5555555555555556,
             "#d8576b"
            ],
            [
             0.6666666666666666,
             "#ed7953"
            ],
            [
             0.7777777777777778,
             "#fb9f3a"
            ],
            [
             0.8888888888888888,
             "#fdca26"
            ],
            [
             1,
             "#f0f921"
            ]
           ]
          },
          "colorway": [
           "#636efa",
           "#EF553B",
           "#00cc96",
           "#ab63fa",
           "#FFA15A",
           "#19d3f3",
           "#FF6692",
           "#B6E880",
           "#FF97FF",
           "#FECB52"
          ],
          "font": {
           "color": "#2a3f5f"
          },
          "geo": {
           "bgcolor": "white",
           "lakecolor": "white",
           "landcolor": "#E5ECF6",
           "showlakes": true,
           "showland": true,
           "subunitcolor": "white"
          },
          "hoverlabel": {
           "align": "left"
          },
          "hovermode": "closest",
          "mapbox": {
           "style": "light"
          },
          "paper_bgcolor": "white",
          "plot_bgcolor": "#E5ECF6",
          "polar": {
           "angularaxis": {
            "gridcolor": "white",
            "linecolor": "white",
            "ticks": ""
           },
           "bgcolor": "#E5ECF6",
           "radialaxis": {
            "gridcolor": "white",
            "linecolor": "white",
            "ticks": ""
           }
          },
          "scene": {
           "xaxis": {
            "backgroundcolor": "#E5ECF6",
            "gridcolor": "white",
            "gridwidth": 2,
            "linecolor": "white",
            "showbackground": true,
            "ticks": "",
            "zerolinecolor": "white"
           },
           "yaxis": {
            "backgroundcolor": "#E5ECF6",
            "gridcolor": "white",
            "gridwidth": 2,
            "linecolor": "white",
            "showbackground": true,
            "ticks": "",
            "zerolinecolor": "white"
           },
           "zaxis": {
            "backgroundcolor": "#E5ECF6",
            "gridcolor": "white",
            "gridwidth": 2,
            "linecolor": "white",
            "showbackground": true,
            "ticks": "",
            "zerolinecolor": "white"
           }
          },
          "shapedefaults": {
           "line": {
            "color": "#2a3f5f"
           }
          },
          "ternary": {
           "aaxis": {
            "gridcolor": "white",
            "linecolor": "white",
            "ticks": ""
           },
           "baxis": {
            "gridcolor": "white",
            "linecolor": "white",
            "ticks": ""
           },
           "bgcolor": "#E5ECF6",
           "caxis": {
            "gridcolor": "white",
            "linecolor": "white",
            "ticks": ""
           }
          },
          "title": {
           "x": 0.05
          },
          "xaxis": {
           "automargin": true,
           "gridcolor": "white",
           "linecolor": "white",
           "ticks": "",
           "title": {
            "standoff": 15
           },
           "zerolinecolor": "white",
           "zerolinewidth": 2
          },
          "yaxis": {
           "automargin": true,
           "gridcolor": "white",
           "linecolor": "white",
           "ticks": "",
           "title": {
            "standoff": 15
           },
           "zerolinecolor": "white",
           "zerolinewidth": 2
          }
         }
        },
        "title": {
         "text": "Average Temperature Of Major Cities By Month"
        }
       }
      },
      "text/html": [
       "<div>                            <div id=\"a943cc6a-e1ee-4602-aa23-0f855ef81b43\" class=\"plotly-graph-div\" style=\"height:525px; width:100%;\"></div>            <script type=\"text/javascript\">                require([\"plotly\"], function(Plotly) {                    window.PLOTLYENV=window.PLOTLYENV || {};                                    if (document.getElementById(\"a943cc6a-e1ee-4602-aa23-0f855ef81b43\")) {                    Plotly.newPlot(                        \"a943cc6a-e1ee-4602-aa23-0f855ef81b43\",                        [{\"colorscale\":[[0.0,\"#440154\"],[0.1111111111111111,\"#482878\"],[0.2222222222222222,\"#3e4989\"],[0.3333333333333333,\"#31688e\"],[0.4444444444444444,\"#26828e\"],[0.5555555555555556,\"#1f9e89\"],[0.6666666666666666,\"#35b779\"],[0.7777777777777778,\"#6ece58\"],[0.8888888888888888,\"#b5de2b\"],[1.0,\"#fde725\"]],\"x\":[1,1,1,2,2,2,3,3,3,4,4,4,5,5,5,6,6,6,7,7,7,8,8,8,9,9,9,10,10,10,11,11,11,12,12,12],\"y\":[\"Rijeka\",\"Split\",\"Zagreb\",\"Rijeka\",\"Split\",\"Zagreb\",\"Rijeka\",\"Split\",\"Zagreb\",\"Rijeka\",\"Split\",\"Zagreb\",\"Rijeka\",\"Split\",\"Zagreb\",\"Rijeka\",\"Split\",\"Zagreb\",\"Rijeka\",\"Split\",\"Zagreb\",\"Rijeka\",\"Split\",\"Zagreb\",\"Rijeka\",\"Split\",\"Zagreb\",\"Rijeka\",\"Split\",\"Zagreb\",\"Rijeka\",\"Split\",\"Zagreb\",\"Rijeka\",\"Split\",\"Zagreb\"],\"z\":[-1.2545283018867923,2.623075471698113,-1.2545283018867923,0.7398636363636364,4.166530303030303,0.7398636363636364,4.601445283018868,7.481581132075472,4.601445283018868,9.179695488721805,11.588124060150378,9.179695488721805,14.176095057034221,16.623467680608364,14.176095057034221,17.759708333333332,20.71530303030303,17.759708333333332,19.72694696969697,23.181386363636364,19.72694696969697,19.020307984790875,22.49806844106464,19.020307984790875,15.173026615969581,18.412517110266162,15.173026615969581,9.94445247148289,13.286444866920153,9.94445247148289,4.585821292775665,8.285441064638785,4.585821292775665,0.2674334600760457,4.2056349809885925,0.2674334600760457],\"type\":\"heatmap\"}],                        {\"title\":{\"text\":\"Average Temperature Of Major Cities By Month\"},\"template\":{\"data\":{\"histogram2dcontour\":[{\"type\":\"histogram2dcontour\",\"colorbar\":{\"outlinewidth\":0,\"ticks\":\"\"},\"colorscale\":[[0.0,\"#0d0887\"],[0.1111111111111111,\"#46039f\"],[0.2222222222222222,\"#7201a8\"],[0.3333333333333333,\"#9c179e\"],[0.4444444444444444,\"#bd3786\"],[0.5555555555555556,\"#d8576b\"],[0.6666666666666666,\"#ed7953\"],[0.7777777777777778,\"#fb9f3a\"],[0.8888888888888888,\"#fdca26\"],[1.0,\"#f0f921\"]]}],\"choropleth\":[{\"type\":\"choropleth\",\"colorbar\":{\"outlinewidth\":0,\"ticks\":\"\"}}],\"histogram2d\":[{\"type\":\"histogram2d\",\"colorbar\":{\"outlinewidth\":0,\"ticks\":\"\"},\"colorscale\":[[0.0,\"#0d0887\"],[0.1111111111111111,\"#46039f\"],[0.2222222222222222,\"#7201a8\"],[0.3333333333333333,\"#9c179e\"],[0.4444444444444444,\"#bd3786\"],[0.5555555555555556,\"#d8576b\"],[0.6666666666666666,\"#ed7953\"],[0.7777777777777778,\"#fb9f3a\"],[0.8888888888888888,\"#fdca26\"],[1.0,\"#f0f921\"]]}],\"heatmap\":[{\"type\":\"heatmap\",\"colorbar\":{\"outlinewidth\":0,\"ticks\":\"\"},\"colorscale\":[[0.0,\"#0d0887\"],[0.1111111111111111,\"#46039f\"],[0.2222222222222222,\"#7201a8\"],[0.3333333333333333,\"#9c179e\"],[0.4444444444444444,\"#bd3786\"],[0.5555555555555556,\"#d8576b\"],[0.6666666666666666,\"#ed7953\"],[0.7777777777777778,\"#fb9f3a\"],[0.8888888888888888,\"#fdca26\"],[1.0,\"#f0f921\"]]}],\"heatmapgl\":[{\"type\":\"heatmapgl\",\"colorbar\":{\"outlinewidth\":0,\"ticks\":\"\"},\"colorscale\":[[0.0,\"#0d0887\"],[0.1111111111111111,\"#46039f\"],[0.2222222222222222,\"#7201a8\"],[0.3333333333333333,\"#9c179e\"],[0.4444444444444444,\"#bd3786\"],[0.5555555555555556,\"#d8576b\"],[0.6666666666666666,\"#ed7953\"],[0.7777777777777778,\"#fb9f3a\"],[0.8888888888888888,\"#fdca26\"],[1.0,\"#f0f921\"]]}],\"contourcarpet\":[{\"type\":\"contourcarpet\",\"colorbar\":{\"outlinewidth\":0,\"ticks\":\"\"}}],\"contour\":[{\"type\":\"contour\",\"colorbar\":{\"outlinewidth\":0,\"ticks\":\"\"},\"colorscale\":[[0.0,\"#0d0887\"],[0.1111111111111111,\"#46039f\"],[0.2222222222222222,\"#7201a8\"],[0.3333333333333333,\"#9c179e\"],[0.4444444444444444,\"#bd3786\"],[0.5555555555555556,\"#d8576b\"],[0.6666666666666666,\"#ed7953\"],[0.7777777777777778,\"#fb9f3a\"],[0.8888888888888888,\"#fdca26\"],[1.0,\"#f0f921\"]]}],\"surface\":[{\"type\":\"surface\",\"colorbar\":{\"outlinewidth\":0,\"ticks\":\"\"},\"colorscale\":[[0.0,\"#0d0887\"],[0.1111111111111111,\"#46039f\"],[0.2222222222222222,\"#7201a8\"],[0.3333333333333333,\"#9c179e\"],[0.4444444444444444,\"#bd3786\"],[0.5555555555555556,\"#d8576b\"],[0.6666666666666666,\"#ed7953\"],[0.7777777777777778,\"#fb9f3a\"],[0.8888888888888888,\"#fdca26\"],[1.0,\"#f0f921\"]]}],\"mesh3d\":[{\"type\":\"mesh3d\",\"colorbar\":{\"outlinewidth\":0,\"ticks\":\"\"}}],\"scatter\":[{\"fillpattern\":{\"fillmode\":\"overlay\",\"size\":10,\"solidity\":0.2},\"type\":\"scatter\"}],\"parcoords\":[{\"type\":\"parcoords\",\"line\":{\"colorbar\":{\"outlinewidth\":0,\"ticks\":\"\"}}}],\"scatterpolargl\":[{\"type\":\"scatterpolargl\",\"marker\":{\"colorbar\":{\"outlinewidth\":0,\"ticks\":\"\"}}}],\"bar\":[{\"error_x\":{\"color\":\"#2a3f5f\"},\"error_y\":{\"color\":\"#2a3f5f\"},\"marker\":{\"line\":{\"color\":\"#E5ECF6\",\"width\":0.5},\"pattern\":{\"fillmode\":\"overlay\",\"size\":10,\"solidity\":0.2}},\"type\":\"bar\"}],\"scattergeo\":[{\"type\":\"scattergeo\",\"marker\":{\"colorbar\":{\"outlinewidth\":0,\"ticks\":\"\"}}}],\"scatterpolar\":[{\"type\":\"scatterpolar\",\"marker\":{\"colorbar\":{\"outlinewidth\":0,\"ticks\":\"\"}}}],\"histogram\":[{\"marker\":{\"pattern\":{\"fillmode\":\"overlay\",\"size\":10,\"solidity\":0.2}},\"type\":\"histogram\"}],\"scattergl\":[{\"type\":\"scattergl\",\"marker\":{\"colorbar\":{\"outlinewidth\":0,\"ticks\":\"\"}}}],\"scatter3d\":[{\"type\":\"scatter3d\",\"line\":{\"colorbar\":{\"outlinewidth\":0,\"ticks\":\"\"}},\"marker\":{\"colorbar\":{\"outlinewidth\":0,\"ticks\":\"\"}}}],\"scattermapbox\":[{\"type\":\"scattermapbox\",\"marker\":{\"colorbar\":{\"outlinewidth\":0,\"ticks\":\"\"}}}],\"scatterternary\":[{\"type\":\"scatterternary\",\"marker\":{\"colorbar\":{\"outlinewidth\":0,\"ticks\":\"\"}}}],\"scattercarpet\":[{\"type\":\"scattercarpet\",\"marker\":{\"colorbar\":{\"outlinewidth\":0,\"ticks\":\"\"}}}],\"carpet\":[{\"aaxis\":{\"endlinecolor\":\"#2a3f5f\",\"gridcolor\":\"white\",\"linecolor\":\"white\",\"minorgridcolor\":\"white\",\"startlinecolor\":\"#2a3f5f\"},\"baxis\":{\"endlinecolor\":\"#2a3f5f\",\"gridcolor\":\"white\",\"linecolor\":\"white\",\"minorgridcolor\":\"white\",\"startlinecolor\":\"#2a3f5f\"},\"type\":\"carpet\"}],\"table\":[{\"cells\":{\"fill\":{\"color\":\"#EBF0F8\"},\"line\":{\"color\":\"white\"}},\"header\":{\"fill\":{\"color\":\"#C8D4E3\"},\"line\":{\"color\":\"white\"}},\"type\":\"table\"}],\"barpolar\":[{\"marker\":{\"line\":{\"color\":\"#E5ECF6\",\"width\":0.5},\"pattern\":{\"fillmode\":\"overlay\",\"size\":10,\"solidity\":0.2}},\"type\":\"barpolar\"}],\"pie\":[{\"automargin\":true,\"type\":\"pie\"}]},\"layout\":{\"autotypenumbers\":\"strict\",\"colorway\":[\"#636efa\",\"#EF553B\",\"#00cc96\",\"#ab63fa\",\"#FFA15A\",\"#19d3f3\",\"#FF6692\",\"#B6E880\",\"#FF97FF\",\"#FECB52\"],\"font\":{\"color\":\"#2a3f5f\"},\"hovermode\":\"closest\",\"hoverlabel\":{\"align\":\"left\"},\"paper_bgcolor\":\"white\",\"plot_bgcolor\":\"#E5ECF6\",\"polar\":{\"bgcolor\":\"#E5ECF6\",\"angularaxis\":{\"gridcolor\":\"white\",\"linecolor\":\"white\",\"ticks\":\"\"},\"radialaxis\":{\"gridcolor\":\"white\",\"linecolor\":\"white\",\"ticks\":\"\"}},\"ternary\":{\"bgcolor\":\"#E5ECF6\",\"aaxis\":{\"gridcolor\":\"white\",\"linecolor\":\"white\",\"ticks\":\"\"},\"baxis\":{\"gridcolor\":\"white\",\"linecolor\":\"white\",\"ticks\":\"\"},\"caxis\":{\"gridcolor\":\"white\",\"linecolor\":\"white\",\"ticks\":\"\"}},\"coloraxis\":{\"colorbar\":{\"outlinewidth\":0,\"ticks\":\"\"}},\"colorscale\":{\"sequential\":[[0.0,\"#0d0887\"],[0.1111111111111111,\"#46039f\"],[0.2222222222222222,\"#7201a8\"],[0.3333333333333333,\"#9c179e\"],[0.4444444444444444,\"#bd3786\"],[0.5555555555555556,\"#d8576b\"],[0.6666666666666666,\"#ed7953\"],[0.7777777777777778,\"#fb9f3a\"],[0.8888888888888888,\"#fdca26\"],[1.0,\"#f0f921\"]],\"sequentialminus\":[[0.0,\"#0d0887\"],[0.1111111111111111,\"#46039f\"],[0.2222222222222222,\"#7201a8\"],[0.3333333333333333,\"#9c179e\"],[0.4444444444444444,\"#bd3786\"],[0.5555555555555556,\"#d8576b\"],[0.6666666666666666,\"#ed7953\"],[0.7777777777777778,\"#fb9f3a\"],[0.8888888888888888,\"#fdca26\"],[1.0,\"#f0f921\"]],\"diverging\":[[0,\"#8e0152\"],[0.1,\"#c51b7d\"],[0.2,\"#de77ae\"],[0.3,\"#f1b6da\"],[0.4,\"#fde0ef\"],[0.5,\"#f7f7f7\"],[0.6,\"#e6f5d0\"],[0.7,\"#b8e186\"],[0.8,\"#7fbc41\"],[0.9,\"#4d9221\"],[1,\"#276419\"]]},\"xaxis\":{\"gridcolor\":\"white\",\"linecolor\":\"white\",\"ticks\":\"\",\"title\":{\"standoff\":15},\"zerolinecolor\":\"white\",\"automargin\":true,\"zerolinewidth\":2},\"yaxis\":{\"gridcolor\":\"white\",\"linecolor\":\"white\",\"ticks\":\"\",\"title\":{\"standoff\":15},\"zerolinecolor\":\"white\",\"automargin\":true,\"zerolinewidth\":2},\"scene\":{\"xaxis\":{\"backgroundcolor\":\"#E5ECF6\",\"gridcolor\":\"white\",\"linecolor\":\"white\",\"showbackground\":true,\"ticks\":\"\",\"zerolinecolor\":\"white\",\"gridwidth\":2},\"yaxis\":{\"backgroundcolor\":\"#E5ECF6\",\"gridcolor\":\"white\",\"linecolor\":\"white\",\"showbackground\":true,\"ticks\":\"\",\"zerolinecolor\":\"white\",\"gridwidth\":2},\"zaxis\":{\"backgroundcolor\":\"#E5ECF6\",\"gridcolor\":\"white\",\"linecolor\":\"white\",\"showbackground\":true,\"ticks\":\"\",\"zerolinecolor\":\"white\",\"gridwidth\":2}},\"shapedefaults\":{\"line\":{\"color\":\"#2a3f5f\"}},\"annotationdefaults\":{\"arrowcolor\":\"#2a3f5f\",\"arrowhead\":0,\"arrowwidth\":1},\"geo\":{\"bgcolor\":\"white\",\"landcolor\":\"#E5ECF6\",\"subunitcolor\":\"white\",\"showland\":true,\"showlakes\":true,\"lakecolor\":\"white\"},\"title\":{\"x\":0.05},\"mapbox\":{\"style\":\"light\"}}}},                        {\"responsive\": true}                    ).then(function(){\n",
       "                            \n",
       "var gd = document.getElementById('a943cc6a-e1ee-4602-aa23-0f855ef81b43');\n",
       "var x = new MutationObserver(function (mutations, observer) {{\n",
       "        var display = window.getComputedStyle(gd).display;\n",
       "        if (!display || display === 'none') {{\n",
       "            console.log([gd, 'removed!']);\n",
       "            Plotly.purge(gd);\n",
       "            observer.disconnect();\n",
       "        }}\n",
       "}});\n",
       "\n",
       "// Listen for the removal of the full notebook cells\n",
       "var notebookContainer = gd.closest('#notebook-container');\n",
       "if (notebookContainer) {{\n",
       "    x.observe(notebookContainer, {childList: true});\n",
       "}}\n",
       "\n",
       "// Listen for the clearing of the current output cell\n",
       "var outputEl = gd.closest('.output');\n",
       "if (outputEl) {{\n",
       "    x.observe(outputEl, {childList: true});\n",
       "}}\n",
       "\n",
       "                        })                };                });            </script>        </div>"
      ]
     },
     "metadata": {},
     "output_type": "display_data"
    }
   ],
   "source": [
    "# making HeatMap\n",
    "\n",
    "trace = go.Heatmap(z = cities_temp['Mean_temp'],\n",
    "                   x = cities_temp['Month'],\n",
    "                   y = cities_temp['City'],\n",
    "                  colorscale = 'Viridis')\n",
    "\n",
    "data_hm =[trace]\n",
    "\n",
    "layout = go.Layout(\n",
    "    title='Average Temperature Of Major Cities By Month',\n",
    ")\n",
    "\n",
    "fig = go.Figure(data = data_hm, layout = layout)\n",
    "fig.show()"
   ]
  }
 ],
 "metadata": {
  "kernelspec": {
   "display_name": "base",
   "language": "python",
   "name": "python3"
  },
  "language_info": {
   "codemirror_mode": {
    "name": "ipython",
    "version": 3
   },
   "file_extension": ".py",
   "mimetype": "text/x-python",
   "name": "python",
   "nbconvert_exporter": "python",
   "pygments_lexer": "ipython3",
   "version": "3.9.13"
  },
  "orig_nbformat": 4,
  "vscode": {
   "interpreter": {
    "hash": "88279d2366fe020547cde40dd65aa0e3aa662a6ec1f3ca12d88834876c85e1a6"
   }
  }
 },
 "nbformat": 4,
 "nbformat_minor": 2
}
